{
 "cells": [
  {
   "cell_type": "code",
   "execution_count": 1,
   "id": "9686ebd7-e338-4d63-8104-3513423f42cd",
   "metadata": {},
   "outputs": [],
   "source": [
    "import pykoda\n",
    "import pandas as pd\n",
    "import numpy as np\n",
    "import requests"
   ]
  },
  {
   "cell_type": "code",
   "execution_count": 2,
   "id": "eeb3e760-fe38-4757-b05d-965d2876fb70",
   "metadata": {
    "scrolled": true
   },
   "outputs": [],
   "source": [
    "# 定义公司、日期和时间范围\n",
    "company = 'sl'  # 公司代码，例如 'sl' 表示 Stockholm\n",
    "start_date = '2022-12-02'  # 日期，格式为 YYYY-MM-DD\n",
    "end_date = '2022-12-16'\n",
    "start_hour = 0\n",
    "end_hour = 23\n",
    "feed = 'TripUpdates'  # 选项包括 'VehiclePositions', 'TripUpdates', 'ServiceAlerts'"
   ]
  },
  {
   "cell_type": "code",
   "execution_count": 3,
   "id": "97aac286-c825-44f1-9d25-2799a7d4b0e2",
   "metadata": {
    "scrolled": true
   },
   "outputs": [
    {
     "name": "stderr",
     "output_type": "stream",
     "text": [
      "Loading data:   0%|                                                                            | 0/360 [00:00<?, ?it/s]C:\\Users\\asus\\AppData\\Local\\Programs\\Python\\Python312\\Lib\\site-packages\\pykoda\\data\\datautils.py:90: RuntimeWarning: The API did not return data for 2022-12-02 00:00:00\n",
      "  warnings.warn(RuntimeWarning(f'The API did not return data for {date_hour}'))\n",
      "C:\\Users\\asus\\AppData\\Local\\Programs\\Python\\Python312\\Lib\\site-packages\\pykoda\\data\\datautils.py:90: RuntimeWarning: The API did not return data for 2022-12-02 01:00:00\n",
      "  warnings.warn(RuntimeWarning(f'The API did not return data for {date_hour}'))\n",
      "Loading data:   1%|▍                                                                   | 2/360 [00:00<00:24, 14.44it/s]"
     ]
    },
    {
     "name": "stdout",
     "output_type": "stream",
     "text": [
      "Getting C:/Users/asus/AppData/Local/pykoda/pykoda/cache/sl_TripUpdates_2022_12_02_0.feather\n",
      "File or folder already exists, so skipping task: data (datafolder)\n",
      "File or folder already exists, so skipping task: C:/Users/asus/AppData/Local/pykoda/pykoda/cache/sl-tripupdates-2022-12-02.bz2 (file)\n",
      "System tool failed: Command '['7z', 'e', '-oC:/Users/asus/AppData/Local/pykoda/pykoda/cache/sl-tripupdates-2022-12-02', 'C:/Users/asus/AppData/Local/pykoda/pykoda/cache/sl-tripupdates-2022-12-02.bz2']' returned non-zero exit status 255.\n",
      "None\n",
      "Executing python function, producing output(s): C:/Users/asus/AppData/Local/pykoda/pykoda/cache/sl_TripUpdates_2022_12_02_0.feather.tmp\n",
      "Getting C:/Users/asus/AppData/Local/pykoda/pykoda/cache/sl_TripUpdates_2022_12_02_1.feather\n",
      "File or folder already exists, so skipping task: data (datafolder)\n",
      "File or folder already exists, so skipping task: C:/Users/asus/AppData/Local/pykoda/pykoda/cache/sl-tripupdates-2022-12-02.bz2 (file)\n",
      "System tool failed: Command '['7z', 'e', '-oC:/Users/asus/AppData/Local/pykoda/pykoda/cache/sl-tripupdates-2022-12-02', 'C:/Users/asus/AppData/Local/pykoda/pykoda/cache/sl-tripupdates-2022-12-02.bz2']' returned non-zero exit status 255.\n",
      "None\n",
      "Executing python function, producing output(s): C:/Users/asus/AppData/Local/pykoda/pykoda/cache/sl_TripUpdates_2022_12_02_1.feather.tmp\n",
      "Getting C:/Users/asus/AppData/Local/pykoda/pykoda/cache/sl_TripUpdates_2022_12_02_2.feather\n",
      "File or folder already exists, so skipping task: data (datafolder)\n",
      "File or folder already exists, so skipping task: C:/Users/asus/AppData/Local/pykoda/pykoda/cache/sl-tripupdates-2022-12-02.bz2 (file)\n"
     ]
    },
    {
     "name": "stderr",
     "output_type": "stream",
     "text": [
      "C:\\Users\\asus\\AppData\\Local\\Programs\\Python\\Python312\\Lib\\site-packages\\pykoda\\data\\datautils.py:90: RuntimeWarning: The API did not return data for 2022-12-02 02:00:00\n",
      "  warnings.warn(RuntimeWarning(f'The API did not return data for {date_hour}'))\n",
      "C:\\Users\\asus\\AppData\\Local\\Programs\\Python\\Python312\\Lib\\site-packages\\pykoda\\data\\datautils.py:90: RuntimeWarning: The API did not return data for 2022-12-02 03:00:00\n",
      "  warnings.warn(RuntimeWarning(f'The API did not return data for {date_hour}'))\n",
      "Loading data:   1%|▊                                                                   | 4/360 [00:00<00:24, 14.38it/s]"
     ]
    },
    {
     "name": "stdout",
     "output_type": "stream",
     "text": [
      "System tool failed: Command '['7z', 'e', '-oC:/Users/asus/AppData/Local/pykoda/pykoda/cache/sl-tripupdates-2022-12-02', 'C:/Users/asus/AppData/Local/pykoda/pykoda/cache/sl-tripupdates-2022-12-02.bz2']' returned non-zero exit status 255.\n",
      "None\n",
      "Executing python function, producing output(s): C:/Users/asus/AppData/Local/pykoda/pykoda/cache/sl_TripUpdates_2022_12_02_2.feather.tmp\n",
      "Getting C:/Users/asus/AppData/Local/pykoda/pykoda/cache/sl_TripUpdates_2022_12_02_3.feather\n",
      "File or folder already exists, so skipping task: data (datafolder)\n",
      "File or folder already exists, so skipping task: C:/Users/asus/AppData/Local/pykoda/pykoda/cache/sl-tripupdates-2022-12-02.bz2 (file)\n",
      "System tool failed: Command '['7z', 'e', '-oC:/Users/asus/AppData/Local/pykoda/pykoda/cache/sl-tripupdates-2022-12-02', 'C:/Users/asus/AppData/Local/pykoda/pykoda/cache/sl-tripupdates-2022-12-02.bz2']' returned non-zero exit status 255.\n",
      "None\n",
      "Executing python function, producing output(s): C:/Users/asus/AppData/Local/pykoda/pykoda/cache/sl_TripUpdates_2022_12_02_3.feather.tmp\n",
      "Getting C:/Users/asus/AppData/Local/pykoda/pykoda/cache/sl_TripUpdates_2022_12_02_4.feather\n",
      "File or folder already exists, so skipping task: data (datafolder)\n",
      "File or folder already exists, so skipping task: C:/Users/asus/AppData/Local/pykoda/pykoda/cache/sl-tripupdates-2022-12-02.bz2 (file)\n",
      "System tool failed: Command '['7z', 'e', '-oC:/Users/asus/AppData/Local/pykoda/pykoda/cache/sl-tripupdates-2022-12-02', 'C:/Users/asus/AppData/Local/pykoda/pykoda/cache/sl-tripupdates-2022-12-02.bz2']' returned non-zero exit status 255.\n",
      "None\n",
      "Executing python function, producing output(s): C:/Users/asus/AppData/Local/pykoda/pykoda/cache/sl_TripUpdates_2022_12_02_4.feather.tmp\n",
      "Getting C:/Users/asus/AppData/Local/pykoda/pykoda/cache/sl_TripUpdates_2022_12_02_5.feather\n",
      "File or folder already exists, so skipping task: data (datafolder)\n",
      "File or folder already exists, so skipping task: C:/Users/asus/AppData/Local/pykoda/pykoda/cache/sl-tripupdates-2022-12-02.bz2 (file)\n"
     ]
    },
    {
     "name": "stderr",
     "output_type": "stream",
     "text": [
      "C:\\Users\\asus\\AppData\\Local\\Programs\\Python\\Python312\\Lib\\site-packages\\pykoda\\data\\datautils.py:90: RuntimeWarning: The API did not return data for 2022-12-02 04:00:00\n",
      "  warnings.warn(RuntimeWarning(f'The API did not return data for {date_hour}'))\n",
      "C:\\Users\\asus\\AppData\\Local\\Programs\\Python\\Python312\\Lib\\site-packages\\pykoda\\data\\datautils.py:90: RuntimeWarning: The API did not return data for 2022-12-02 05:00:00\n",
      "  warnings.warn(RuntimeWarning(f'The API did not return data for {date_hour}'))\n",
      "Loading data:   2%|█▏                                                                  | 6/360 [00:00<00:26, 13.31it/s]C:\\Users\\asus\\AppData\\Local\\Programs\\Python\\Python312\\Lib\\site-packages\\pykoda\\data\\datautils.py:90: RuntimeWarning: The API did not return data for 2022-12-02 06:00:00\n",
      "  warnings.warn(RuntimeWarning(f'The API did not return data for {date_hour}'))\n",
      "C:\\Users\\asus\\AppData\\Local\\Programs\\Python\\Python312\\Lib\\site-packages\\pykoda\\data\\datautils.py:90: RuntimeWarning: The API did not return data for 2022-12-02 07:00:00\n",
      "  warnings.warn(RuntimeWarning(f'The API did not return data for {date_hour}'))\n",
      "Loading data:   2%|█▌                                                                  | 8/360 [00:00<00:25, 13.54it/s]"
     ]
    },
    {
     "name": "stdout",
     "output_type": "stream",
     "text": [
      "System tool failed: Command '['7z', 'e', '-oC:/Users/asus/AppData/Local/pykoda/pykoda/cache/sl-tripupdates-2022-12-02', 'C:/Users/asus/AppData/Local/pykoda/pykoda/cache/sl-tripupdates-2022-12-02.bz2']' returned non-zero exit status 255.\n",
      "None\n",
      "Executing python function, producing output(s): C:/Users/asus/AppData/Local/pykoda/pykoda/cache/sl_TripUpdates_2022_12_02_5.feather.tmp\n",
      "Getting C:/Users/asus/AppData/Local/pykoda/pykoda/cache/sl_TripUpdates_2022_12_02_6.feather\n",
      "File or folder already exists, so skipping task: data (datafolder)\n",
      "File or folder already exists, so skipping task: C:/Users/asus/AppData/Local/pykoda/pykoda/cache/sl-tripupdates-2022-12-02.bz2 (file)\n",
      "System tool failed: Command '['7z', 'e', '-oC:/Users/asus/AppData/Local/pykoda/pykoda/cache/sl-tripupdates-2022-12-02', 'C:/Users/asus/AppData/Local/pykoda/pykoda/cache/sl-tripupdates-2022-12-02.bz2']' returned non-zero exit status 255.\n",
      "None\n",
      "Executing python function, producing output(s): C:/Users/asus/AppData/Local/pykoda/pykoda/cache/sl_TripUpdates_2022_12_02_6.feather.tmp\n",
      "Getting C:/Users/asus/AppData/Local/pykoda/pykoda/cache/sl_TripUpdates_2022_12_02_7.feather\n",
      "File or folder already exists, so skipping task: data (datafolder)\n",
      "File or folder already exists, so skipping task: C:/Users/asus/AppData/Local/pykoda/pykoda/cache/sl-tripupdates-2022-12-02.bz2 (file)\n",
      "System tool failed: Command '['7z', 'e', '-oC:/Users/asus/AppData/Local/pykoda/pykoda/cache/sl-tripupdates-2022-12-02', 'C:/Users/asus/AppData/Local/pykoda/pykoda/cache/sl-tripupdates-2022-12-02.bz2']' returned non-zero exit status 255.\n",
      "None\n",
      "Executing python function, producing output(s): C:/Users/asus/AppData/Local/pykoda/pykoda/cache/sl_TripUpdates_2022_12_02_7.feather.tmp\n",
      "Getting C:/Users/asus/AppData/Local/pykoda/pykoda/cache/sl_TripUpdates_2022_12_02_8.feather\n",
      "File or folder already exists, so skipping task: data (datafolder)\n",
      "File or folder already exists, so skipping task: C:/Users/asus/AppData/Local/pykoda/pykoda/cache/sl-tripupdates-2022-12-02.bz2 (file)\n"
     ]
    },
    {
     "name": "stderr",
     "output_type": "stream",
     "text": [
      "C:\\Users\\asus\\AppData\\Local\\Programs\\Python\\Python312\\Lib\\site-packages\\pykoda\\data\\datautils.py:90: RuntimeWarning: The API did not return data for 2022-12-02 08:00:00\n",
      "  warnings.warn(RuntimeWarning(f'The API did not return data for {date_hour}'))\n",
      "C:\\Users\\asus\\AppData\\Local\\Programs\\Python\\Python312\\Lib\\site-packages\\pykoda\\data\\datautils.py:90: RuntimeWarning: The API did not return data for 2022-12-02 09:00:00\n",
      "  warnings.warn(RuntimeWarning(f'The API did not return data for {date_hour}'))\n",
      "Loading data:   3%|█▊                                                                 | 10/360 [00:00<00:25, 13.85it/s]"
     ]
    },
    {
     "name": "stdout",
     "output_type": "stream",
     "text": [
      "System tool failed: Command '['7z', 'e', '-oC:/Users/asus/AppData/Local/pykoda/pykoda/cache/sl-tripupdates-2022-12-02', 'C:/Users/asus/AppData/Local/pykoda/pykoda/cache/sl-tripupdates-2022-12-02.bz2']' returned non-zero exit status 255.\n",
      "None\n",
      "Executing python function, producing output(s): C:/Users/asus/AppData/Local/pykoda/pykoda/cache/sl_TripUpdates_2022_12_02_8.feather.tmp\n",
      "Getting C:/Users/asus/AppData/Local/pykoda/pykoda/cache/sl_TripUpdates_2022_12_02_9.feather\n",
      "File or folder already exists, so skipping task: data (datafolder)\n",
      "File or folder already exists, so skipping task: C:/Users/asus/AppData/Local/pykoda/pykoda/cache/sl-tripupdates-2022-12-02.bz2 (file)\n",
      "System tool failed: Command '['7z', 'e', '-oC:/Users/asus/AppData/Local/pykoda/pykoda/cache/sl-tripupdates-2022-12-02', 'C:/Users/asus/AppData/Local/pykoda/pykoda/cache/sl-tripupdates-2022-12-02.bz2']' returned non-zero exit status 255.\n",
      "None\n",
      "Executing python function, producing output(s): C:/Users/asus/AppData/Local/pykoda/pykoda/cache/sl_TripUpdates_2022_12_02_9.feather.tmp\n",
      "Getting C:/Users/asus/AppData/Local/pykoda/pykoda/cache/sl_TripUpdates_2022_12_02_10.feather\n",
      "File or folder already exists, so skipping task: data (datafolder)\n",
      "File or folder already exists, so skipping task: C:/Users/asus/AppData/Local/pykoda/pykoda/cache/sl-tripupdates-2022-12-02.bz2 (file)\n",
      "System tool failed: Command '['7z', 'e', '-oC:/Users/asus/AppData/Local/pykoda/pykoda/cache/sl-tripupdates-2022-12-02', 'C:/Users/asus/AppData/Local/pykoda/pykoda/cache/sl-tripupdates-2022-12-02.bz2']' returned non-zero exit status 255.\n",
      "None\n",
      "Executing python function, producing output(s): C:/Users/asus/AppData/Local/pykoda/pykoda/cache/sl_TripUpdates_2022_12_02_10.feather.tmp\n"
     ]
    },
    {
     "name": "stderr",
     "output_type": "stream",
     "text": [
      "C:\\Users\\asus\\AppData\\Local\\Programs\\Python\\Python312\\Lib\\site-packages\\pykoda\\data\\datautils.py:90: RuntimeWarning: The API did not return data for 2022-12-02 10:00:00\n",
      "  warnings.warn(RuntimeWarning(f'The API did not return data for {date_hour}'))\n",
      "C:\\Users\\asus\\AppData\\Local\\Programs\\Python\\Python312\\Lib\\site-packages\\pykoda\\data\\datautils.py:90: RuntimeWarning: The API did not return data for 2022-12-02 11:00:00\n",
      "  warnings.warn(RuntimeWarning(f'The API did not return data for {date_hour}'))\n",
      "Loading data:   3%|██▏                                                                | 12/360 [00:00<00:28, 12.14it/s]C:\\Users\\asus\\AppData\\Local\\Programs\\Python\\Python312\\Lib\\site-packages\\pykoda\\data\\datautils.py:90: RuntimeWarning: The API did not return data for 2022-12-02 12:00:00\n",
      "  warnings.warn(RuntimeWarning(f'The API did not return data for {date_hour}'))\n"
     ]
    },
    {
     "name": "stdout",
     "output_type": "stream",
     "text": [
      "Getting C:/Users/asus/AppData/Local/pykoda/pykoda/cache/sl_TripUpdates_2022_12_02_11.feather\n",
      "File or folder already exists, so skipping task: data (datafolder)\n",
      "File or folder already exists, so skipping task: C:/Users/asus/AppData/Local/pykoda/pykoda/cache/sl-tripupdates-2022-12-02.bz2 (file)\n",
      "System tool failed: Command '['7z', 'e', '-oC:/Users/asus/AppData/Local/pykoda/pykoda/cache/sl-tripupdates-2022-12-02', 'C:/Users/asus/AppData/Local/pykoda/pykoda/cache/sl-tripupdates-2022-12-02.bz2']' returned non-zero exit status 255.\n",
      "None\n",
      "Executing python function, producing output(s): C:/Users/asus/AppData/Local/pykoda/pykoda/cache/sl_TripUpdates_2022_12_02_11.feather.tmp\n",
      "Getting C:/Users/asus/AppData/Local/pykoda/pykoda/cache/sl_TripUpdates_2022_12_02_12.feather\n",
      "File or folder already exists, so skipping task: data (datafolder)\n",
      "File or folder already exists, so skipping task: C:/Users/asus/AppData/Local/pykoda/pykoda/cache/sl-tripupdates-2022-12-02.bz2 (file)\n",
      "System tool failed: Command '['7z', 'e', '-oC:/Users/asus/AppData/Local/pykoda/pykoda/cache/sl-tripupdates-2022-12-02', 'C:/Users/asus/AppData/Local/pykoda/pykoda/cache/sl-tripupdates-2022-12-02.bz2']' returned non-zero exit status 255.\n",
      "None\n",
      "Executing python function, producing output(s): C:/Users/asus/AppData/Local/pykoda/pykoda/cache/sl_TripUpdates_2022_12_02_12.feather.tmp\n",
      "Getting C:/Users/asus/AppData/Local/pykoda/pykoda/cache/sl_TripUpdates_2022_12_02_13.feather\n",
      "File or folder already exists, so skipping task: data (datafolder)\n",
      "File or folder already exists, so skipping task: C:/Users/asus/AppData/Local/pykoda/pykoda/cache/sl-tripupdates-2022-12-02.bz2 (file)\n"
     ]
    },
    {
     "name": "stderr",
     "output_type": "stream",
     "text": [
      "C:\\Users\\asus\\AppData\\Local\\Programs\\Python\\Python312\\Lib\\site-packages\\pykoda\\data\\datautils.py:90: RuntimeWarning: The API did not return data for 2022-12-02 13:00:00\n",
      "  warnings.warn(RuntimeWarning(f'The API did not return data for {date_hour}'))\n",
      "Loading data:   4%|██▌                                                                | 14/360 [00:01<00:27, 12.79it/s]C:\\Users\\asus\\AppData\\Local\\Programs\\Python\\Python312\\Lib\\site-packages\\pykoda\\data\\datautils.py:90: RuntimeWarning: The API did not return data for 2022-12-02 14:00:00\n",
      "  warnings.warn(RuntimeWarning(f'The API did not return data for {date_hour}'))\n",
      "C:\\Users\\asus\\AppData\\Local\\Programs\\Python\\Python312\\Lib\\site-packages\\pykoda\\data\\datautils.py:90: RuntimeWarning: The API did not return data for 2022-12-02 15:00:00\n",
      "  warnings.warn(RuntimeWarning(f'The API did not return data for {date_hour}'))\n",
      "Loading data:   4%|██▉                                                                | 16/360 [00:01<00:26, 12.89it/s]"
     ]
    },
    {
     "name": "stdout",
     "output_type": "stream",
     "text": [
      "System tool failed: Command '['7z', 'e', '-oC:/Users/asus/AppData/Local/pykoda/pykoda/cache/sl-tripupdates-2022-12-02', 'C:/Users/asus/AppData/Local/pykoda/pykoda/cache/sl-tripupdates-2022-12-02.bz2']' returned non-zero exit status 255.\n",
      "None\n",
      "Executing python function, producing output(s): C:/Users/asus/AppData/Local/pykoda/pykoda/cache/sl_TripUpdates_2022_12_02_13.feather.tmp\n",
      "Getting C:/Users/asus/AppData/Local/pykoda/pykoda/cache/sl_TripUpdates_2022_12_02_14.feather\n",
      "File or folder already exists, so skipping task: data (datafolder)\n",
      "File or folder already exists, so skipping task: C:/Users/asus/AppData/Local/pykoda/pykoda/cache/sl-tripupdates-2022-12-02.bz2 (file)\n",
      "System tool failed: Command '['7z', 'e', '-oC:/Users/asus/AppData/Local/pykoda/pykoda/cache/sl-tripupdates-2022-12-02', 'C:/Users/asus/AppData/Local/pykoda/pykoda/cache/sl-tripupdates-2022-12-02.bz2']' returned non-zero exit status 255.\n",
      "None\n",
      "Executing python function, producing output(s): C:/Users/asus/AppData/Local/pykoda/pykoda/cache/sl_TripUpdates_2022_12_02_14.feather.tmp\n",
      "Getting C:/Users/asus/AppData/Local/pykoda/pykoda/cache/sl_TripUpdates_2022_12_02_15.feather\n",
      "File or folder already exists, so skipping task: data (datafolder)\n",
      "File or folder already exists, so skipping task: C:/Users/asus/AppData/Local/pykoda/pykoda/cache/sl-tripupdates-2022-12-02.bz2 (file)\n",
      "System tool failed: Command '['7z', 'e', '-oC:/Users/asus/AppData/Local/pykoda/pykoda/cache/sl-tripupdates-2022-12-02', 'C:/Users/asus/AppData/Local/pykoda/pykoda/cache/sl-tripupdates-2022-12-02.bz2']' returned non-zero exit status 255.\n",
      "None\n",
      "Executing python function, producing output(s): C:/Users/asus/AppData/Local/pykoda/pykoda/cache/sl_TripUpdates_2022_12_02_15.feather.tmp\n",
      "Getting C:/Users/asus/AppData/Local/pykoda/pykoda/cache/sl_TripUpdates_2022_12_02_16.feather\n",
      "File or folder already exists, so skipping task: data (datafolder)\n",
      "File or folder already exists, so skipping task: C:/Users/asus/AppData/Local/pykoda/pykoda/cache/sl-tripupdates-2022-12-02.bz2 (file)\n"
     ]
    },
    {
     "name": "stderr",
     "output_type": "stream",
     "text": [
      "C:\\Users\\asus\\AppData\\Local\\Programs\\Python\\Python312\\Lib\\site-packages\\pykoda\\data\\datautils.py:90: RuntimeWarning: The API did not return data for 2022-12-02 16:00:00\n",
      "  warnings.warn(RuntimeWarning(f'The API did not return data for {date_hour}'))\n",
      "C:\\Users\\asus\\AppData\\Local\\Programs\\Python\\Python312\\Lib\\site-packages\\pykoda\\data\\datautils.py:90: RuntimeWarning: The API did not return data for 2022-12-02 17:00:00\n",
      "  warnings.warn(RuntimeWarning(f'The API did not return data for {date_hour}'))\n",
      "Loading data:   5%|███▎                                                               | 18/360 [00:01<00:25, 13.64it/s]C:\\Users\\asus\\AppData\\Local\\Programs\\Python\\Python312\\Lib\\site-packages\\pykoda\\data\\datautils.py:90: RuntimeWarning: The API did not return data for 2022-12-02 18:00:00\n",
      "  warnings.warn(RuntimeWarning(f'The API did not return data for {date_hour}'))\n",
      "C:\\Users\\asus\\AppData\\Local\\Programs\\Python\\Python312\\Lib\\site-packages\\pykoda\\data\\datautils.py:90: RuntimeWarning: The API did not return data for 2022-12-02 19:00:00\n",
      "  warnings.warn(RuntimeWarning(f'The API did not return data for {date_hour}'))\n",
      "Loading data:   6%|███▋                                                               | 20/360 [00:01<00:24, 13.76it/s]"
     ]
    },
    {
     "name": "stdout",
     "output_type": "stream",
     "text": [
      "System tool failed: Command '['7z', 'e', '-oC:/Users/asus/AppData/Local/pykoda/pykoda/cache/sl-tripupdates-2022-12-02', 'C:/Users/asus/AppData/Local/pykoda/pykoda/cache/sl-tripupdates-2022-12-02.bz2']' returned non-zero exit status 255.\n",
      "None\n",
      "Executing python function, producing output(s): C:/Users/asus/AppData/Local/pykoda/pykoda/cache/sl_TripUpdates_2022_12_02_16.feather.tmp\n",
      "Getting C:/Users/asus/AppData/Local/pykoda/pykoda/cache/sl_TripUpdates_2022_12_02_17.feather\n",
      "File or folder already exists, so skipping task: data (datafolder)\n",
      "File or folder already exists, so skipping task: C:/Users/asus/AppData/Local/pykoda/pykoda/cache/sl-tripupdates-2022-12-02.bz2 (file)\n",
      "System tool failed: Command '['7z', 'e', '-oC:/Users/asus/AppData/Local/pykoda/pykoda/cache/sl-tripupdates-2022-12-02', 'C:/Users/asus/AppData/Local/pykoda/pykoda/cache/sl-tripupdates-2022-12-02.bz2']' returned non-zero exit status 255.\n",
      "None\n",
      "Executing python function, producing output(s): C:/Users/asus/AppData/Local/pykoda/pykoda/cache/sl_TripUpdates_2022_12_02_17.feather.tmp\n",
      "Getting C:/Users/asus/AppData/Local/pykoda/pykoda/cache/sl_TripUpdates_2022_12_02_18.feather\n",
      "File or folder already exists, so skipping task: data (datafolder)\n",
      "File or folder already exists, so skipping task: C:/Users/asus/AppData/Local/pykoda/pykoda/cache/sl-tripupdates-2022-12-02.bz2 (file)\n",
      "System tool failed: Command '['7z', 'e', '-oC:/Users/asus/AppData/Local/pykoda/pykoda/cache/sl-tripupdates-2022-12-02', 'C:/Users/asus/AppData/Local/pykoda/pykoda/cache/sl-tripupdates-2022-12-02.bz2']' returned non-zero exit status 255.\n",
      "None\n",
      "Executing python function, producing output(s): C:/Users/asus/AppData/Local/pykoda/pykoda/cache/sl_TripUpdates_2022_12_02_18.feather.tmp\n",
      "Getting C:/Users/asus/AppData/Local/pykoda/pykoda/cache/sl_TripUpdates_2022_12_02_19.feather\n",
      "File or folder already exists, so skipping task: data (datafolder)\n",
      "File or folder already exists, so skipping task: C:/Users/asus/AppData/Local/pykoda/pykoda/cache/sl-tripupdates-2022-12-02.bz2 (file)\n",
      "System tool failed: Command '['7z', 'e', '-oC:/Users/asus/AppData/Local/pykoda/pykoda/cache/sl-tripupdates-2022-12-02', 'C:/Users/asus/AppData/Local/pykoda/pykoda/cache/sl-tripupdates-2022-12-02.bz2']' returned non-zero exit status 255.\n",
      "None\n",
      "Executing python function, producing output(s): C:/Users/asus/AppData/Local/pykoda/pykoda/cache/sl_TripUpdates_2022_12_02_19.feather.tmp\n"
     ]
    },
    {
     "name": "stderr",
     "output_type": "stream",
     "text": [
      "C:\\Users\\asus\\AppData\\Local\\Programs\\Python\\Python312\\Lib\\site-packages\\pykoda\\data\\datautils.py:90: RuntimeWarning: The API did not return data for 2022-12-02 20:00:00\n",
      "  warnings.warn(RuntimeWarning(f'The API did not return data for {date_hour}'))\n",
      "C:\\Users\\asus\\AppData\\Local\\Programs\\Python\\Python312\\Lib\\site-packages\\pykoda\\data\\datautils.py:90: RuntimeWarning: The API did not return data for 2022-12-02 21:00:00\n",
      "  warnings.warn(RuntimeWarning(f'The API did not return data for {date_hour}'))\n",
      "Loading data:   6%|████                                                               | 22/360 [00:01<00:24, 13.62it/s]"
     ]
    },
    {
     "name": "stdout",
     "output_type": "stream",
     "text": [
      "Getting C:/Users/asus/AppData/Local/pykoda/pykoda/cache/sl_TripUpdates_2022_12_02_20.feather\n",
      "File or folder already exists, so skipping task: data (datafolder)\n",
      "File or folder already exists, so skipping task: C:/Users/asus/AppData/Local/pykoda/pykoda/cache/sl-tripupdates-2022-12-02.bz2 (file)\n",
      "System tool failed: Command '['7z', 'e', '-oC:/Users/asus/AppData/Local/pykoda/pykoda/cache/sl-tripupdates-2022-12-02', 'C:/Users/asus/AppData/Local/pykoda/pykoda/cache/sl-tripupdates-2022-12-02.bz2']' returned non-zero exit status 255.\n",
      "None\n",
      "Executing python function, producing output(s): C:/Users/asus/AppData/Local/pykoda/pykoda/cache/sl_TripUpdates_2022_12_02_20.feather.tmp\n",
      "Getting C:/Users/asus/AppData/Local/pykoda/pykoda/cache/sl_TripUpdates_2022_12_02_21.feather\n",
      "File or folder already exists, so skipping task: data (datafolder)\n",
      "File or folder already exists, so skipping task: C:/Users/asus/AppData/Local/pykoda/pykoda/cache/sl-tripupdates-2022-12-02.bz2 (file)\n",
      "System tool failed: Command '['7z', 'e', '-oC:/Users/asus/AppData/Local/pykoda/pykoda/cache/sl-tripupdates-2022-12-02', 'C:/Users/asus/AppData/Local/pykoda/pykoda/cache/sl-tripupdates-2022-12-02.bz2']' returned non-zero exit status 255.\n",
      "None\n",
      "Executing python function, producing output(s): C:/Users/asus/AppData/Local/pykoda/pykoda/cache/sl_TripUpdates_2022_12_02_21.feather.tmp\n",
      "Getting C:/Users/asus/AppData/Local/pykoda/pykoda/cache/sl_TripUpdates_2022_12_02_22.feather\n",
      "File or folder already exists, so skipping task: data (datafolder)\n",
      "File or folder already exists, so skipping task: C:/Users/asus/AppData/Local/pykoda/pykoda/cache/sl-tripupdates-2022-12-02.bz2 (file)\n"
     ]
    },
    {
     "name": "stderr",
     "output_type": "stream",
     "text": [
      "C:\\Users\\asus\\AppData\\Local\\Programs\\Python\\Python312\\Lib\\site-packages\\pykoda\\data\\datautils.py:90: RuntimeWarning: The API did not return data for 2022-12-02 22:00:00\n",
      "  warnings.warn(RuntimeWarning(f'The API did not return data for {date_hour}'))\n",
      "C:\\Users\\asus\\AppData\\Local\\Programs\\Python\\Python312\\Lib\\site-packages\\pykoda\\data\\datautils.py:90: RuntimeWarning: The API did not return data for 2022-12-02 23:00:00\n",
      "  warnings.warn(RuntimeWarning(f'The API did not return data for {date_hour}'))\n",
      "Loading data:   7%|████▍                                                              | 24/360 [00:01<00:24, 13.75it/s]"
     ]
    },
    {
     "name": "stdout",
     "output_type": "stream",
     "text": [
      "System tool failed: Command '['7z', 'e', '-oC:/Users/asus/AppData/Local/pykoda/pykoda/cache/sl-tripupdates-2022-12-02', 'C:/Users/asus/AppData/Local/pykoda/pykoda/cache/sl-tripupdates-2022-12-02.bz2']' returned non-zero exit status 255.\n",
      "None\n",
      "Executing python function, producing output(s): C:/Users/asus/AppData/Local/pykoda/pykoda/cache/sl_TripUpdates_2022_12_02_22.feather.tmp\n",
      "Getting C:/Users/asus/AppData/Local/pykoda/pykoda/cache/sl_TripUpdates_2022_12_02_23.feather\n",
      "File or folder already exists, so skipping task: data (datafolder)\n",
      "File or folder already exists, so skipping task: C:/Users/asus/AppData/Local/pykoda/pykoda/cache/sl-tripupdates-2022-12-02.bz2 (file)\n",
      "System tool failed: Command '['7z', 'e', '-oC:/Users/asus/AppData/Local/pykoda/pykoda/cache/sl-tripupdates-2022-12-02', 'C:/Users/asus/AppData/Local/pykoda/pykoda/cache/sl-tripupdates-2022-12-02.bz2']' returned non-zero exit status 255.\n",
      "None\n",
      "Executing python function, producing output(s): C:/Users/asus/AppData/Local/pykoda/pykoda/cache/sl_TripUpdates_2022_12_02_23.feather.tmp\n"
     ]
    },
    {
     "name": "stderr",
     "output_type": "stream",
     "text": [
      "C:\\Users\\asus\\AppData\\Local\\Programs\\Python\\Python312\\Lib\\site-packages\\pykoda\\data\\datautils.py:90: RuntimeWarning: The API did not return data for 2022-12-03 01:00:00\n",
      "  warnings.warn(RuntimeWarning(f'The API did not return data for {date_hour}'))\n",
      "Loading data:   7%|████▊                                                              | 26/360 [00:02<00:33,  9.95it/s]"
     ]
    },
    {
     "name": "stdout",
     "output_type": "stream",
     "text": [
      "Getting C:/Users/asus/AppData/Local/pykoda/pykoda/cache/sl_TripUpdates_2022_12_03_1.feather\n",
      "File or folder already exists, so skipping task: data (datafolder)\n",
      "File or folder already exists, so skipping task: C:/Users/asus/AppData/Local/pykoda/pykoda/cache/sl-tripupdates-2022-12-03.bz2 (file)\n",
      "System tool failed: Command '['7z', 'e', '-oC:/Users/asus/AppData/Local/pykoda/pykoda/cache/sl-tripupdates-2022-12-03', 'C:/Users/asus/AppData/Local/pykoda/pykoda/cache/sl-tripupdates-2022-12-03.bz2']' returned non-zero exit status 255.\n",
      "None\n",
      "Executing python function, producing output(s): C:/Users/asus/AppData/Local/pykoda/pykoda/cache/sl_TripUpdates_2022_12_03_1.feather.tmp\n",
      "Getting C:/Users/asus/AppData/Local/pykoda/pykoda/cache/sl_TripUpdates_2022_12_03_2.feather\n",
      "File or folder already exists, so skipping task: data (datafolder)\n",
      "File or folder already exists, so skipping task: C:/Users/asus/AppData/Local/pykoda/pykoda/cache/sl-tripupdates-2022-12-03.bz2 (file)\n",
      "System tool failed: Command '['7z', 'e', '-oC:/Users/asus/AppData/Local/pykoda/pykoda/cache/sl-tripupdates-2022-12-03', 'C:/Users/asus/AppData/Local/pykoda/pykoda/cache/sl-tripupdates-2022-12-03.bz2']' returned non-zero exit status 255.\n",
      "None\n",
      "Executing python function, producing output(s): C:/Users/asus/AppData/Local/pykoda/pykoda/cache/sl_TripUpdates_2022_12_03_2.feather.tmp\n",
      "Getting C:/Users/asus/AppData/Local/pykoda/pykoda/cache/sl_TripUpdates_2022_12_03_3.feather\n",
      "File or folder already exists, so skipping task: data (datafolder)\n",
      "File or folder already exists, so skipping task: C:/Users/asus/AppData/Local/pykoda/pykoda/cache/sl-tripupdates-2022-12-03.bz2 (file)\n"
     ]
    },
    {
     "name": "stderr",
     "output_type": "stream",
     "text": [
      "C:\\Users\\asus\\AppData\\Local\\Programs\\Python\\Python312\\Lib\\site-packages\\pykoda\\data\\datautils.py:90: RuntimeWarning: The API did not return data for 2022-12-03 02:00:00\n",
      "  warnings.warn(RuntimeWarning(f'The API did not return data for {date_hour}'))\n",
      "C:\\Users\\asus\\AppData\\Local\\Programs\\Python\\Python312\\Lib\\site-packages\\pykoda\\data\\datautils.py:90: RuntimeWarning: The API did not return data for 2022-12-03 03:00:00\n",
      "  warnings.warn(RuntimeWarning(f'The API did not return data for {date_hour}'))\n",
      "Loading data:   8%|█████▏                                                             | 28/360 [00:02<00:30, 11.00it/s]C:\\Users\\asus\\AppData\\Local\\Programs\\Python\\Python312\\Lib\\site-packages\\pykoda\\data\\datautils.py:90: RuntimeWarning: The API did not return data for 2022-12-03 04:00:00\n",
      "  warnings.warn(RuntimeWarning(f'The API did not return data for {date_hour}'))\n",
      "C:\\Users\\asus\\AppData\\Local\\Programs\\Python\\Python312\\Lib\\site-packages\\pykoda\\data\\datautils.py:90: RuntimeWarning: The API did not return data for 2022-12-03 05:00:00\n",
      "  warnings.warn(RuntimeWarning(f'The API did not return data for {date_hour}'))\n",
      "Loading data:   8%|█████▌                                                             | 30/360 [00:02<00:27, 11.81it/s]"
     ]
    },
    {
     "name": "stdout",
     "output_type": "stream",
     "text": [
      "System tool failed: Command '['7z', 'e', '-oC:/Users/asus/AppData/Local/pykoda/pykoda/cache/sl-tripupdates-2022-12-03', 'C:/Users/asus/AppData/Local/pykoda/pykoda/cache/sl-tripupdates-2022-12-03.bz2']' returned non-zero exit status 255.\n",
      "None\n",
      "Executing python function, producing output(s): C:/Users/asus/AppData/Local/pykoda/pykoda/cache/sl_TripUpdates_2022_12_03_3.feather.tmp\n",
      "Getting C:/Users/asus/AppData/Local/pykoda/pykoda/cache/sl_TripUpdates_2022_12_03_4.feather\n",
      "File or folder already exists, so skipping task: data (datafolder)\n",
      "File or folder already exists, so skipping task: C:/Users/asus/AppData/Local/pykoda/pykoda/cache/sl-tripupdates-2022-12-03.bz2 (file)\n",
      "System tool failed: Command '['7z', 'e', '-oC:/Users/asus/AppData/Local/pykoda/pykoda/cache/sl-tripupdates-2022-12-03', 'C:/Users/asus/AppData/Local/pykoda/pykoda/cache/sl-tripupdates-2022-12-03.bz2']' returned non-zero exit status 255.\n",
      "None\n",
      "Executing python function, producing output(s): C:/Users/asus/AppData/Local/pykoda/pykoda/cache/sl_TripUpdates_2022_12_03_4.feather.tmp\n",
      "Getting C:/Users/asus/AppData/Local/pykoda/pykoda/cache/sl_TripUpdates_2022_12_03_5.feather\n",
      "File or folder already exists, so skipping task: data (datafolder)\n",
      "File or folder already exists, so skipping task: C:/Users/asus/AppData/Local/pykoda/pykoda/cache/sl-tripupdates-2022-12-03.bz2 (file)\n",
      "System tool failed: Command '['7z', 'e', '-oC:/Users/asus/AppData/Local/pykoda/pykoda/cache/sl-tripupdates-2022-12-03', 'C:/Users/asus/AppData/Local/pykoda/pykoda/cache/sl-tripupdates-2022-12-03.bz2']' returned non-zero exit status 255.\n",
      "None\n",
      "Executing python function, producing output(s): C:/Users/asus/AppData/Local/pykoda/pykoda/cache/sl_TripUpdates_2022_12_03_5.feather.tmp\n",
      "Getting C:/Users/asus/AppData/Local/pykoda/pykoda/cache/sl_TripUpdates_2022_12_03_6.feather\n",
      "File or folder already exists, so skipping task: data (datafolder)\n",
      "File or folder already exists, so skipping task: C:/Users/asus/AppData/Local/pykoda/pykoda/cache/sl-tripupdates-2022-12-03.bz2 (file)\n"
     ]
    },
    {
     "name": "stderr",
     "output_type": "stream",
     "text": [
      "C:\\Users\\asus\\AppData\\Local\\Programs\\Python\\Python312\\Lib\\site-packages\\pykoda\\data\\datautils.py:90: RuntimeWarning: The API did not return data for 2022-12-03 06:00:00\n",
      "  warnings.warn(RuntimeWarning(f'The API did not return data for {date_hour}'))\n",
      "C:\\Users\\asus\\AppData\\Local\\Programs\\Python\\Python312\\Lib\\site-packages\\pykoda\\data\\datautils.py:90: RuntimeWarning: The API did not return data for 2022-12-03 07:00:00\n",
      "  warnings.warn(RuntimeWarning(f'The API did not return data for {date_hour}'))\n",
      "Loading data:   9%|█████▉                                                             | 32/360 [00:02<00:27, 12.11it/s]"
     ]
    },
    {
     "name": "stdout",
     "output_type": "stream",
     "text": [
      "System tool failed: Command '['7z', 'e', '-oC:/Users/asus/AppData/Local/pykoda/pykoda/cache/sl-tripupdates-2022-12-03', 'C:/Users/asus/AppData/Local/pykoda/pykoda/cache/sl-tripupdates-2022-12-03.bz2']' returned non-zero exit status 255.\n",
      "None\n",
      "Executing python function, producing output(s): C:/Users/asus/AppData/Local/pykoda/pykoda/cache/sl_TripUpdates_2022_12_03_6.feather.tmp\n",
      "Getting C:/Users/asus/AppData/Local/pykoda/pykoda/cache/sl_TripUpdates_2022_12_03_7.feather\n",
      "File or folder already exists, so skipping task: data (datafolder)\n",
      "File or folder already exists, so skipping task: C:/Users/asus/AppData/Local/pykoda/pykoda/cache/sl-tripupdates-2022-12-03.bz2 (file)\n",
      "System tool failed: Command '['7z', 'e', '-oC:/Users/asus/AppData/Local/pykoda/pykoda/cache/sl-tripupdates-2022-12-03', 'C:/Users/asus/AppData/Local/pykoda/pykoda/cache/sl-tripupdates-2022-12-03.bz2']' returned non-zero exit status 255.\n",
      "None\n",
      "Executing python function, producing output(s): C:/Users/asus/AppData/Local/pykoda/pykoda/cache/sl_TripUpdates_2022_12_03_7.feather.tmp\n",
      "Getting C:/Users/asus/AppData/Local/pykoda/pykoda/cache/sl_TripUpdates_2022_12_03_8.feather\n",
      "File or folder already exists, so skipping task: data (datafolder)\n",
      "File or folder already exists, so skipping task: C:/Users/asus/AppData/Local/pykoda/pykoda/cache/sl-tripupdates-2022-12-03.bz2 (file)\n",
      "System tool failed: Command '['7z', 'e', '-oC:/Users/asus/AppData/Local/pykoda/pykoda/cache/sl-tripupdates-2022-12-03', 'C:/Users/asus/AppData/Local/pykoda/pykoda/cache/sl-tripupdates-2022-12-03.bz2']' returned non-zero exit status 255.\n",
      "None\n",
      "Executing python function, producing output(s): C:/Users/asus/AppData/Local/pykoda/pykoda/cache/sl_TripUpdates_2022_12_03_8.feather.tmp\n",
      "Getting C:/Users/asus/AppData/Local/pykoda/pykoda/cache/sl_TripUpdates_2022_12_03_9.feather\n",
      "File or folder already exists, so skipping task: data (datafolder)\n",
      "File or folder already exists, so skipping task: C:/Users/asus/AppData/Local/pykoda/pykoda/cache/sl-tripupdates-2022-12-03.bz2 (file)\n"
     ]
    },
    {
     "name": "stderr",
     "output_type": "stream",
     "text": [
      "C:\\Users\\asus\\AppData\\Local\\Programs\\Python\\Python312\\Lib\\site-packages\\pykoda\\data\\datautils.py:90: RuntimeWarning: The API did not return data for 2022-12-03 08:00:00\n",
      "  warnings.warn(RuntimeWarning(f'The API did not return data for {date_hour}'))\n",
      "C:\\Users\\asus\\AppData\\Local\\Programs\\Python\\Python312\\Lib\\site-packages\\pykoda\\data\\datautils.py:90: RuntimeWarning: The API did not return data for 2022-12-03 09:00:00\n",
      "  warnings.warn(RuntimeWarning(f'The API did not return data for {date_hour}'))\n",
      "Loading data:   9%|██████▎                                                            | 34/360 [00:02<00:25, 12.60it/s]C:\\Users\\asus\\AppData\\Local\\Programs\\Python\\Python312\\Lib\\site-packages\\pykoda\\data\\datautils.py:90: RuntimeWarning: The API did not return data for 2022-12-03 10:00:00\n",
      "  warnings.warn(RuntimeWarning(f'The API did not return data for {date_hour}'))\n",
      "C:\\Users\\asus\\AppData\\Local\\Programs\\Python\\Python312\\Lib\\site-packages\\pykoda\\data\\datautils.py:90: RuntimeWarning: The API did not return data for 2022-12-03 11:00:00\n",
      "  warnings.warn(RuntimeWarning(f'The API did not return data for {date_hour}'))\n",
      "Loading data:  10%|██████▋                                                            | 36/360 [00:02<00:26, 12.25it/s]"
     ]
    },
    {
     "name": "stdout",
     "output_type": "stream",
     "text": [
      "System tool failed: Command '['7z', 'e', '-oC:/Users/asus/AppData/Local/pykoda/pykoda/cache/sl-tripupdates-2022-12-03', 'C:/Users/asus/AppData/Local/pykoda/pykoda/cache/sl-tripupdates-2022-12-03.bz2']' returned non-zero exit status 255.\n",
      "None\n",
      "Executing python function, producing output(s): C:/Users/asus/AppData/Local/pykoda/pykoda/cache/sl_TripUpdates_2022_12_03_9.feather.tmp\n",
      "Getting C:/Users/asus/AppData/Local/pykoda/pykoda/cache/sl_TripUpdates_2022_12_03_10.feather\n",
      "File or folder already exists, so skipping task: data (datafolder)\n",
      "File or folder already exists, so skipping task: C:/Users/asus/AppData/Local/pykoda/pykoda/cache/sl-tripupdates-2022-12-03.bz2 (file)\n",
      "System tool failed: Command '['7z', 'e', '-oC:/Users/asus/AppData/Local/pykoda/pykoda/cache/sl-tripupdates-2022-12-03', 'C:/Users/asus/AppData/Local/pykoda/pykoda/cache/sl-tripupdates-2022-12-03.bz2']' returned non-zero exit status 255.\n",
      "None\n",
      "Executing python function, producing output(s): C:/Users/asus/AppData/Local/pykoda/pykoda/cache/sl_TripUpdates_2022_12_03_10.feather.tmp\n",
      "Getting C:/Users/asus/AppData/Local/pykoda/pykoda/cache/sl_TripUpdates_2022_12_03_11.feather\n",
      "File or folder already exists, so skipping task: data (datafolder)\n",
      "File or folder already exists, so skipping task: C:/Users/asus/AppData/Local/pykoda/pykoda/cache/sl-tripupdates-2022-12-03.bz2 (file)\n",
      "System tool failed: Command '['7z', 'e', '-oC:/Users/asus/AppData/Local/pykoda/pykoda/cache/sl-tripupdates-2022-12-03', 'C:/Users/asus/AppData/Local/pykoda/pykoda/cache/sl-tripupdates-2022-12-03.bz2']' returned non-zero exit status 255.\n",
      "None\n",
      "Executing python function, producing output(s): C:/Users/asus/AppData/Local/pykoda/pykoda/cache/sl_TripUpdates_2022_12_03_11.feather.tmp\n"
     ]
    },
    {
     "name": "stderr",
     "output_type": "stream",
     "text": [
      "C:\\Users\\asus\\AppData\\Local\\Programs\\Python\\Python312\\Lib\\site-packages\\pykoda\\data\\datautils.py:90: RuntimeWarning: The API did not return data for 2022-12-03 12:00:00\n",
      "  warnings.warn(RuntimeWarning(f'The API did not return data for {date_hour}'))\n",
      "C:\\Users\\asus\\AppData\\Local\\Programs\\Python\\Python312\\Lib\\site-packages\\pykoda\\data\\datautils.py:90: RuntimeWarning: The API did not return data for 2022-12-03 13:00:00\n",
      "  warnings.warn(RuntimeWarning(f'The API did not return data for {date_hour}'))\n",
      "Loading data:  11%|███████                                                            | 38/360 [00:03<00:25, 12.71it/s]"
     ]
    },
    {
     "name": "stdout",
     "output_type": "stream",
     "text": [
      "Getting C:/Users/asus/AppData/Local/pykoda/pykoda/cache/sl_TripUpdates_2022_12_03_12.feather\n",
      "File or folder already exists, so skipping task: data (datafolder)\n",
      "File or folder already exists, so skipping task: C:/Users/asus/AppData/Local/pykoda/pykoda/cache/sl-tripupdates-2022-12-03.bz2 (file)\n",
      "System tool failed: Command '['7z', 'e', '-oC:/Users/asus/AppData/Local/pykoda/pykoda/cache/sl-tripupdates-2022-12-03', 'C:/Users/asus/AppData/Local/pykoda/pykoda/cache/sl-tripupdates-2022-12-03.bz2']' returned non-zero exit status 255.\n",
      "None\n",
      "Executing python function, producing output(s): C:/Users/asus/AppData/Local/pykoda/pykoda/cache/sl_TripUpdates_2022_12_03_12.feather.tmp\n",
      "Getting C:/Users/asus/AppData/Local/pykoda/pykoda/cache/sl_TripUpdates_2022_12_03_13.feather\n",
      "File or folder already exists, so skipping task: data (datafolder)\n",
      "File or folder already exists, so skipping task: C:/Users/asus/AppData/Local/pykoda/pykoda/cache/sl-tripupdates-2022-12-03.bz2 (file)\n",
      "System tool failed: Command '['7z', 'e', '-oC:/Users/asus/AppData/Local/pykoda/pykoda/cache/sl-tripupdates-2022-12-03', 'C:/Users/asus/AppData/Local/pykoda/pykoda/cache/sl-tripupdates-2022-12-03.bz2']' returned non-zero exit status 255.\n",
      "None\n",
      "Executing python function, producing output(s): C:/Users/asus/AppData/Local/pykoda/pykoda/cache/sl_TripUpdates_2022_12_03_13.feather.tmp\n",
      "Getting C:/Users/asus/AppData/Local/pykoda/pykoda/cache/sl_TripUpdates_2022_12_03_14.feather\n",
      "File or folder already exists, so skipping task: data (datafolder)\n",
      "File or folder already exists, so skipping task: C:/Users/asus/AppData/Local/pykoda/pykoda/cache/sl-tripupdates-2022-12-03.bz2 (file)\n"
     ]
    },
    {
     "name": "stderr",
     "output_type": "stream",
     "text": [
      "C:\\Users\\asus\\AppData\\Local\\Programs\\Python\\Python312\\Lib\\site-packages\\pykoda\\data\\datautils.py:90: RuntimeWarning: The API did not return data for 2022-12-03 14:00:00\n",
      "  warnings.warn(RuntimeWarning(f'The API did not return data for {date_hour}'))\n",
      "C:\\Users\\asus\\AppData\\Local\\Programs\\Python\\Python312\\Lib\\site-packages\\pykoda\\data\\datautils.py:90: RuntimeWarning: The API did not return data for 2022-12-03 15:00:00\n",
      "  warnings.warn(RuntimeWarning(f'The API did not return data for {date_hour}'))\n",
      "Loading data:  11%|███████▍                                                           | 40/360 [00:03<00:24, 13.02it/s]C:\\Users\\asus\\AppData\\Local\\Programs\\Python\\Python312\\Lib\\site-packages\\pykoda\\data\\datautils.py:90: RuntimeWarning: The API did not return data for 2022-12-03 16:00:00\n",
      "  warnings.warn(RuntimeWarning(f'The API did not return data for {date_hour}'))\n",
      "C:\\Users\\asus\\AppData\\Local\\Programs\\Python\\Python312\\Lib\\site-packages\\pykoda\\data\\datautils.py:90: RuntimeWarning: The API did not return data for 2022-12-03 17:00:00\n",
      "  warnings.warn(RuntimeWarning(f'The API did not return data for {date_hour}'))\n",
      "Loading data:  12%|███████▊                                                           | 42/360 [00:03<00:23, 13.29it/s]"
     ]
    },
    {
     "name": "stdout",
     "output_type": "stream",
     "text": [
      "System tool failed: Command '['7z', 'e', '-oC:/Users/asus/AppData/Local/pykoda/pykoda/cache/sl-tripupdates-2022-12-03', 'C:/Users/asus/AppData/Local/pykoda/pykoda/cache/sl-tripupdates-2022-12-03.bz2']' returned non-zero exit status 255.\n",
      "None\n",
      "Executing python function, producing output(s): C:/Users/asus/AppData/Local/pykoda/pykoda/cache/sl_TripUpdates_2022_12_03_14.feather.tmp\n",
      "Getting C:/Users/asus/AppData/Local/pykoda/pykoda/cache/sl_TripUpdates_2022_12_03_15.feather\n",
      "File or folder already exists, so skipping task: data (datafolder)\n",
      "File or folder already exists, so skipping task: C:/Users/asus/AppData/Local/pykoda/pykoda/cache/sl-tripupdates-2022-12-03.bz2 (file)\n",
      "System tool failed: Command '['7z', 'e', '-oC:/Users/asus/AppData/Local/pykoda/pykoda/cache/sl-tripupdates-2022-12-03', 'C:/Users/asus/AppData/Local/pykoda/pykoda/cache/sl-tripupdates-2022-12-03.bz2']' returned non-zero exit status 255.\n",
      "None\n",
      "Executing python function, producing output(s): C:/Users/asus/AppData/Local/pykoda/pykoda/cache/sl_TripUpdates_2022_12_03_15.feather.tmp\n",
      "Getting C:/Users/asus/AppData/Local/pykoda/pykoda/cache/sl_TripUpdates_2022_12_03_16.feather\n",
      "File or folder already exists, so skipping task: data (datafolder)\n",
      "File or folder already exists, so skipping task: C:/Users/asus/AppData/Local/pykoda/pykoda/cache/sl-tripupdates-2022-12-03.bz2 (file)\n",
      "System tool failed: Command '['7z', 'e', '-oC:/Users/asus/AppData/Local/pykoda/pykoda/cache/sl-tripupdates-2022-12-03', 'C:/Users/asus/AppData/Local/pykoda/pykoda/cache/sl-tripupdates-2022-12-03.bz2']' returned non-zero exit status 255.\n",
      "None\n",
      "Executing python function, producing output(s): C:/Users/asus/AppData/Local/pykoda/pykoda/cache/sl_TripUpdates_2022_12_03_16.feather.tmp\n",
      "Getting C:/Users/asus/AppData/Local/pykoda/pykoda/cache/sl_TripUpdates_2022_12_03_17.feather\n",
      "File or folder already exists, so skipping task: data (datafolder)\n",
      "File or folder already exists, so skipping task: C:/Users/asus/AppData/Local/pykoda/pykoda/cache/sl-tripupdates-2022-12-03.bz2 (file)\n",
      "System tool failed: Command '['7z', 'e', '-oC:/Users/asus/AppData/Local/pykoda/pykoda/cache/sl-tripupdates-2022-12-03', 'C:/Users/asus/AppData/Local/pykoda/pykoda/cache/sl-tripupdates-2022-12-03.bz2']' returned non-zero exit status 255.\n",
      "None\n",
      "Executing python function, producing output(s): C:/Users/asus/AppData/Local/pykoda/pykoda/cache/sl_TripUpdates_2022_12_03_17.feather.tmp\n"
     ]
    },
    {
     "name": "stderr",
     "output_type": "stream",
     "text": [
      "C:\\Users\\asus\\AppData\\Local\\Programs\\Python\\Python312\\Lib\\site-packages\\pykoda\\data\\datautils.py:90: RuntimeWarning: The API did not return data for 2022-12-03 18:00:00\n",
      "  warnings.warn(RuntimeWarning(f'The API did not return data for {date_hour}'))\n",
      "C:\\Users\\asus\\AppData\\Local\\Programs\\Python\\Python312\\Lib\\site-packages\\pykoda\\data\\datautils.py:90: RuntimeWarning: The API did not return data for 2022-12-03 19:00:00\n",
      "  warnings.warn(RuntimeWarning(f'The API did not return data for {date_hour}'))\n",
      "Loading data:  12%|████████▏                                                          | 44/360 [00:03<00:24, 13.00it/s]"
     ]
    },
    {
     "name": "stdout",
     "output_type": "stream",
     "text": [
      "Getting C:/Users/asus/AppData/Local/pykoda/pykoda/cache/sl_TripUpdates_2022_12_03_18.feather\n",
      "File or folder already exists, so skipping task: data (datafolder)\n",
      "File or folder already exists, so skipping task: C:/Users/asus/AppData/Local/pykoda/pykoda/cache/sl-tripupdates-2022-12-03.bz2 (file)\n",
      "System tool failed: Command '['7z', 'e', '-oC:/Users/asus/AppData/Local/pykoda/pykoda/cache/sl-tripupdates-2022-12-03', 'C:/Users/asus/AppData/Local/pykoda/pykoda/cache/sl-tripupdates-2022-12-03.bz2']' returned non-zero exit status 255.\n",
      "None\n",
      "Executing python function, producing output(s): C:/Users/asus/AppData/Local/pykoda/pykoda/cache/sl_TripUpdates_2022_12_03_18.feather.tmp\n",
      "Getting C:/Users/asus/AppData/Local/pykoda/pykoda/cache/sl_TripUpdates_2022_12_03_19.feather\n",
      "File or folder already exists, so skipping task: data (datafolder)\n",
      "File or folder already exists, so skipping task: C:/Users/asus/AppData/Local/pykoda/pykoda/cache/sl-tripupdates-2022-12-03.bz2 (file)\n",
      "System tool failed: Command '['7z', 'e', '-oC:/Users/asus/AppData/Local/pykoda/pykoda/cache/sl-tripupdates-2022-12-03', 'C:/Users/asus/AppData/Local/pykoda/pykoda/cache/sl-tripupdates-2022-12-03.bz2']' returned non-zero exit status 255.\n",
      "None\n",
      "Executing python function, producing output(s): C:/Users/asus/AppData/Local/pykoda/pykoda/cache/sl_TripUpdates_2022_12_03_19.feather.tmp\n",
      "Getting C:/Users/asus/AppData/Local/pykoda/pykoda/cache/sl_TripUpdates_2022_12_03_20.feather\n",
      "File or folder already exists, so skipping task: data (datafolder)\n",
      "File or folder already exists, so skipping task: C:/Users/asus/AppData/Local/pykoda/pykoda/cache/sl-tripupdates-2022-12-03.bz2 (file)\n"
     ]
    },
    {
     "name": "stderr",
     "output_type": "stream",
     "text": [
      "C:\\Users\\asus\\AppData\\Local\\Programs\\Python\\Python312\\Lib\\site-packages\\pykoda\\data\\datautils.py:90: RuntimeWarning: The API did not return data for 2022-12-03 20:00:00\n",
      "  warnings.warn(RuntimeWarning(f'The API did not return data for {date_hour}'))\n",
      "C:\\Users\\asus\\AppData\\Local\\Programs\\Python\\Python312\\Lib\\site-packages\\pykoda\\data\\datautils.py:90: RuntimeWarning: The API did not return data for 2022-12-03 21:00:00\n",
      "  warnings.warn(RuntimeWarning(f'The API did not return data for {date_hour}'))\n",
      "Loading data:  13%|████████▌                                                          | 46/360 [00:03<00:24, 12.73it/s]"
     ]
    },
    {
     "name": "stdout",
     "output_type": "stream",
     "text": [
      "System tool failed: Command '['7z', 'e', '-oC:/Users/asus/AppData/Local/pykoda/pykoda/cache/sl-tripupdates-2022-12-03', 'C:/Users/asus/AppData/Local/pykoda/pykoda/cache/sl-tripupdates-2022-12-03.bz2']' returned non-zero exit status 255.\n",
      "None\n",
      "Executing python function, producing output(s): C:/Users/asus/AppData/Local/pykoda/pykoda/cache/sl_TripUpdates_2022_12_03_20.feather.tmp\n",
      "Getting C:/Users/asus/AppData/Local/pykoda/pykoda/cache/sl_TripUpdates_2022_12_03_21.feather\n",
      "File or folder already exists, so skipping task: data (datafolder)\n",
      "File or folder already exists, so skipping task: C:/Users/asus/AppData/Local/pykoda/pykoda/cache/sl-tripupdates-2022-12-03.bz2 (file)\n",
      "System tool failed: Command '['7z', 'e', '-oC:/Users/asus/AppData/Local/pykoda/pykoda/cache/sl-tripupdates-2022-12-03', 'C:/Users/asus/AppData/Local/pykoda/pykoda/cache/sl-tripupdates-2022-12-03.bz2']' returned non-zero exit status 255.\n",
      "None\n",
      "Executing python function, producing output(s): C:/Users/asus/AppData/Local/pykoda/pykoda/cache/sl_TripUpdates_2022_12_03_21.feather.tmp\n",
      "Getting C:/Users/asus/AppData/Local/pykoda/pykoda/cache/sl_TripUpdates_2022_12_03_22.feather\n",
      "File or folder already exists, so skipping task: data (datafolder)\n",
      "File or folder already exists, so skipping task: C:/Users/asus/AppData/Local/pykoda/pykoda/cache/sl-tripupdates-2022-12-03.bz2 (file)\n",
      "System tool failed: Command '['7z', 'e', '-oC:/Users/asus/AppData/Local/pykoda/pykoda/cache/sl-tripupdates-2022-12-03', 'C:/Users/asus/AppData/Local/pykoda/pykoda/cache/sl-tripupdates-2022-12-03.bz2']' returned non-zero exit status 255.\n",
      "None\n",
      "Executing python function, producing output(s): C:/Users/asus/AppData/Local/pykoda/pykoda/cache/sl_TripUpdates_2022_12_03_22.feather.tmp\n",
      "Getting C:/Users/asus/AppData/Local/pykoda/pykoda/cache/sl_TripUpdates_2022_12_03_23.feather\n",
      "File or folder already exists, so skipping task: data (datafolder)\n",
      "File or folder already exists, so skipping task: C:/Users/asus/AppData/Local/pykoda/pykoda/cache/sl-tripupdates-2022-12-03.bz2 (file)\n"
     ]
    },
    {
     "name": "stderr",
     "output_type": "stream",
     "text": [
      "C:\\Users\\asus\\AppData\\Local\\Programs\\Python\\Python312\\Lib\\site-packages\\pykoda\\data\\datautils.py:90: RuntimeWarning: The API did not return data for 2022-12-03 22:00:00\n",
      "  warnings.warn(RuntimeWarning(f'The API did not return data for {date_hour}'))\n",
      "C:\\Users\\asus\\AppData\\Local\\Programs\\Python\\Python312\\Lib\\site-packages\\pykoda\\data\\datautils.py:90: RuntimeWarning: The API did not return data for 2022-12-03 23:00:00\n",
      "  warnings.warn(RuntimeWarning(f'The API did not return data for {date_hour}'))\n",
      "Loading data:  13%|████████▉                                                          | 48/360 [00:03<00:24, 12.78it/s]"
     ]
    },
    {
     "name": "stdout",
     "output_type": "stream",
     "text": [
      "System tool failed: Command '['7z', 'e', '-oC:/Users/asus/AppData/Local/pykoda/pykoda/cache/sl-tripupdates-2022-12-03', 'C:/Users/asus/AppData/Local/pykoda/pykoda/cache/sl-tripupdates-2022-12-03.bz2']' returned non-zero exit status 255.\n",
      "None\n",
      "Executing python function, producing output(s): C:/Users/asus/AppData/Local/pykoda/pykoda/cache/sl_TripUpdates_2022_12_03_23.feather.tmp\n",
      "Getting C:/Users/asus/AppData/Local/pykoda/pykoda/cache/sl_TripUpdates_2022_12_04_0.feather\n",
      "File or folder already exists, so skipping task: data (datafolder)\n",
      "Executing python function, producing output(s): C:/Users/asus/AppData/Local/pykoda/pykoda/cache/sl-tripupdates-2022-12-04.bz2.tmp\n",
      "C:/Users/asus/AppData/Local/pykoda/pykoda/cache/sl-tripupdates-2022-12-04.tar\n",
      "Executing python function, producing output(s): C:/Users/asus/AppData/Local/pykoda/pykoda/cache/sl_TripUpdates_2022_12_04_0.feather.tmp\n",
      "sl-tripupdates-2022-12-01T10\n"
     ]
    },
    {
     "name": "stderr",
     "output_type": "stream",
     "text": [
      "Loading data:  14%|████████▊                                                        | 49/360 [02:00<1:47:22, 20.71s/it]C:\\Users\\asus\\AppData\\Local\\Programs\\Python\\Python312\\Lib\\site-packages\\pykoda\\data\\datautils.py:90: RuntimeWarning: The API did not return data for 2022-12-04 01:00:00\n",
      "  warnings.warn(RuntimeWarning(f'The API did not return data for {date_hour}'))\n",
      "C:\\Users\\asus\\AppData\\Local\\Programs\\Python\\Python312\\Lib\\site-packages\\pykoda\\data\\datautils.py:90: RuntimeWarning: The API did not return data for 2022-12-04 02:00:00\n",
      "  warnings.warn(RuntimeWarning(f'The API did not return data for {date_hour}'))\n",
      "Loading data:  14%|█████████▏                                                       | 51/360 [02:00<1:11:04, 13.80s/it]"
     ]
    },
    {
     "name": "stdout",
     "output_type": "stream",
     "text": [
      "Getting C:/Users/asus/AppData/Local/pykoda/pykoda/cache/sl_TripUpdates_2022_12_04_1.feather\n",
      "File or folder already exists, so skipping task: data (datafolder)\n",
      "File or folder already exists, so skipping task: C:/Users/asus/AppData/Local/pykoda/pykoda/cache/sl-tripupdates-2022-12-04.bz2 (file)\n",
      "System tool failed: Command '['7z', 'e', '-oC:/Users/asus/AppData/Local/pykoda/pykoda/cache/sl-tripupdates-2022-12-04', 'C:/Users/asus/AppData/Local/pykoda/pykoda/cache/sl-tripupdates-2022-12-04.bz2']' returned non-zero exit status 255.\n",
      "None\n",
      "Executing python function, producing output(s): C:/Users/asus/AppData/Local/pykoda/pykoda/cache/sl_TripUpdates_2022_12_04_1.feather.tmp\n",
      "Getting C:/Users/asus/AppData/Local/pykoda/pykoda/cache/sl_TripUpdates_2022_12_04_2.feather\n",
      "File or folder already exists, so skipping task: data (datafolder)\n",
      "File or folder already exists, so skipping task: C:/Users/asus/AppData/Local/pykoda/pykoda/cache/sl-tripupdates-2022-12-04.bz2 (file)\n",
      "System tool failed: Command '['7z', 'e', '-oC:/Users/asus/AppData/Local/pykoda/pykoda/cache/sl-tripupdates-2022-12-04', 'C:/Users/asus/AppData/Local/pykoda/pykoda/cache/sl-tripupdates-2022-12-04.bz2']' returned non-zero exit status 255.\n",
      "None\n",
      "Executing python function, producing output(s): C:/Users/asus/AppData/Local/pykoda/pykoda/cache/sl_TripUpdates_2022_12_04_2.feather.tmp\n"
     ]
    },
    {
     "name": "stderr",
     "output_type": "stream",
     "text": [
      "C:\\Users\\asus\\AppData\\Local\\Programs\\Python\\Python312\\Lib\\site-packages\\pykoda\\data\\datautils.py:90: RuntimeWarning: The API did not return data for 2022-12-04 03:00:00\n",
      "  warnings.warn(RuntimeWarning(f'The API did not return data for {date_hour}'))\n",
      "C:\\Users\\asus\\AppData\\Local\\Programs\\Python\\Python312\\Lib\\site-packages\\pykoda\\data\\datautils.py:90: RuntimeWarning: The API did not return data for 2022-12-04 04:00:00\n",
      "  warnings.warn(RuntimeWarning(f'The API did not return data for {date_hour}'))\n",
      "Loading data:  15%|█████████▊                                                         | 53/360 [02:01<47:52,  9.36s/it]"
     ]
    },
    {
     "name": "stdout",
     "output_type": "stream",
     "text": [
      "Getting C:/Users/asus/AppData/Local/pykoda/pykoda/cache/sl_TripUpdates_2022_12_04_3.feather\n",
      "File or folder already exists, so skipping task: data (datafolder)\n",
      "File or folder already exists, so skipping task: C:/Users/asus/AppData/Local/pykoda/pykoda/cache/sl-tripupdates-2022-12-04.bz2 (file)\n",
      "System tool failed: Command '['7z', 'e', '-oC:/Users/asus/AppData/Local/pykoda/pykoda/cache/sl-tripupdates-2022-12-04', 'C:/Users/asus/AppData/Local/pykoda/pykoda/cache/sl-tripupdates-2022-12-04.bz2']' returned non-zero exit status 255.\n",
      "None\n",
      "Executing python function, producing output(s): C:/Users/asus/AppData/Local/pykoda/pykoda/cache/sl_TripUpdates_2022_12_04_3.feather.tmp\n",
      "Getting C:/Users/asus/AppData/Local/pykoda/pykoda/cache/sl_TripUpdates_2022_12_04_4.feather\n",
      "File or folder already exists, so skipping task: data (datafolder)\n",
      "File or folder already exists, so skipping task: C:/Users/asus/AppData/Local/pykoda/pykoda/cache/sl-tripupdates-2022-12-04.bz2 (file)\n",
      "System tool failed: Command '['7z', 'e', '-oC:/Users/asus/AppData/Local/pykoda/pykoda/cache/sl-tripupdates-2022-12-04', 'C:/Users/asus/AppData/Local/pykoda/pykoda/cache/sl-tripupdates-2022-12-04.bz2']' returned non-zero exit status 255.\n",
      "None\n",
      "Executing python function, producing output(s): C:/Users/asus/AppData/Local/pykoda/pykoda/cache/sl_TripUpdates_2022_12_04_4.feather.tmp\n",
      "Getting C:/Users/asus/AppData/Local/pykoda/pykoda/cache/sl_TripUpdates_2022_12_04_5.feather\n",
      "File or folder already exists, so skipping task: data (datafolder)\n",
      "File or folder already exists, so skipping task: C:/Users/asus/AppData/Local/pykoda/pykoda/cache/sl-tripupdates-2022-12-04.bz2 (file)\n"
     ]
    },
    {
     "name": "stderr",
     "output_type": "stream",
     "text": [
      "C:\\Users\\asus\\AppData\\Local\\Programs\\Python\\Python312\\Lib\\site-packages\\pykoda\\data\\datautils.py:90: RuntimeWarning: The API did not return data for 2022-12-04 05:00:00\n",
      "  warnings.warn(RuntimeWarning(f'The API did not return data for {date_hour}'))\n",
      "C:\\Users\\asus\\AppData\\Local\\Programs\\Python\\Python312\\Lib\\site-packages\\pykoda\\data\\datautils.py:90: RuntimeWarning: The API did not return data for 2022-12-04 06:00:00\n",
      "  warnings.warn(RuntimeWarning(f'The API did not return data for {date_hour}'))\n",
      "Loading data:  15%|██████████▏                                                        | 55/360 [02:01<32:38,  6.42s/it]"
     ]
    },
    {
     "name": "stdout",
     "output_type": "stream",
     "text": [
      "System tool failed: Command '['7z', 'e', '-oC:/Users/asus/AppData/Local/pykoda/pykoda/cache/sl-tripupdates-2022-12-04', 'C:/Users/asus/AppData/Local/pykoda/pykoda/cache/sl-tripupdates-2022-12-04.bz2']' returned non-zero exit status 255.\n",
      "None\n",
      "Executing python function, producing output(s): C:/Users/asus/AppData/Local/pykoda/pykoda/cache/sl_TripUpdates_2022_12_04_5.feather.tmp\n",
      "Getting C:/Users/asus/AppData/Local/pykoda/pykoda/cache/sl_TripUpdates_2022_12_04_6.feather\n",
      "File or folder already exists, so skipping task: data (datafolder)\n",
      "File or folder already exists, so skipping task: C:/Users/asus/AppData/Local/pykoda/pykoda/cache/sl-tripupdates-2022-12-04.bz2 (file)\n",
      "System tool failed: Command '['7z', 'e', '-oC:/Users/asus/AppData/Local/pykoda/pykoda/cache/sl-tripupdates-2022-12-04', 'C:/Users/asus/AppData/Local/pykoda/pykoda/cache/sl-tripupdates-2022-12-04.bz2']' returned non-zero exit status 255.\n",
      "None\n",
      "Executing python function, producing output(s): C:/Users/asus/AppData/Local/pykoda/pykoda/cache/sl_TripUpdates_2022_12_04_6.feather.tmp\n",
      "Getting C:/Users/asus/AppData/Local/pykoda/pykoda/cache/sl_TripUpdates_2022_12_04_7.feather\n",
      "File or folder already exists, so skipping task: data (datafolder)\n",
      "File or folder already exists, so skipping task: C:/Users/asus/AppData/Local/pykoda/pykoda/cache/sl-tripupdates-2022-12-04.bz2 (file)\n",
      "System tool failed: Command '['7z', 'e', '-oC:/Users/asus/AppData/Local/pykoda/pykoda/cache/sl-tripupdates-2022-12-04', 'C:/Users/asus/AppData/Local/pykoda/pykoda/cache/sl-tripupdates-2022-12-04.bz2']' returned non-zero exit status 255.\n",
      "None\n",
      "Executing python function, producing output(s): C:/Users/asus/AppData/Local/pykoda/pykoda/cache/sl_TripUpdates_2022_12_04_7.feather.tmp\n",
      "Getting C:/Users/asus/AppData/Local/pykoda/pykoda/cache/sl_TripUpdates_2022_12_04_8.feather\n",
      "File or folder already exists, so skipping task: data (datafolder)\n",
      "File or folder already exists, so skipping task: C:/Users/asus/AppData/Local/pykoda/pykoda/cache/sl-tripupdates-2022-12-04.bz2 (file)\n"
     ]
    },
    {
     "name": "stderr",
     "output_type": "stream",
     "text": [
      "C:\\Users\\asus\\AppData\\Local\\Programs\\Python\\Python312\\Lib\\site-packages\\pykoda\\data\\datautils.py:90: RuntimeWarning: The API did not return data for 2022-12-04 07:00:00\n",
      "  warnings.warn(RuntimeWarning(f'The API did not return data for {date_hour}'))\n",
      "C:\\Users\\asus\\AppData\\Local\\Programs\\Python\\Python312\\Lib\\site-packages\\pykoda\\data\\datautils.py:90: RuntimeWarning: The API did not return data for 2022-12-04 08:00:00\n",
      "  warnings.warn(RuntimeWarning(f'The API did not return data for {date_hour}'))\n",
      "Loading data:  16%|██████████▌                                                        | 57/360 [02:01<22:27,  4.45s/it]C:\\Users\\asus\\AppData\\Local\\Programs\\Python\\Python312\\Lib\\site-packages\\pykoda\\data\\datautils.py:90: RuntimeWarning: The API did not return data for 2022-12-04 09:00:00\n",
      "  warnings.warn(RuntimeWarning(f'The API did not return data for {date_hour}'))\n",
      "C:\\Users\\asus\\AppData\\Local\\Programs\\Python\\Python312\\Lib\\site-packages\\pykoda\\data\\datautils.py:90: RuntimeWarning: The API did not return data for 2022-12-04 10:00:00\n",
      "  warnings.warn(RuntimeWarning(f'The API did not return data for {date_hour}'))\n",
      "Loading data:  16%|██████████▉                                                        | 59/360 [02:01<15:34,  3.11s/it]"
     ]
    },
    {
     "name": "stdout",
     "output_type": "stream",
     "text": [
      "System tool failed: Command '['7z', 'e', '-oC:/Users/asus/AppData/Local/pykoda/pykoda/cache/sl-tripupdates-2022-12-04', 'C:/Users/asus/AppData/Local/pykoda/pykoda/cache/sl-tripupdates-2022-12-04.bz2']' returned non-zero exit status 255.\n",
      "None\n",
      "Executing python function, producing output(s): C:/Users/asus/AppData/Local/pykoda/pykoda/cache/sl_TripUpdates_2022_12_04_8.feather.tmp\n",
      "Getting C:/Users/asus/AppData/Local/pykoda/pykoda/cache/sl_TripUpdates_2022_12_04_9.feather\n",
      "File or folder already exists, so skipping task: data (datafolder)\n",
      "File or folder already exists, so skipping task: C:/Users/asus/AppData/Local/pykoda/pykoda/cache/sl-tripupdates-2022-12-04.bz2 (file)\n",
      "System tool failed: Command '['7z', 'e', '-oC:/Users/asus/AppData/Local/pykoda/pykoda/cache/sl-tripupdates-2022-12-04', 'C:/Users/asus/AppData/Local/pykoda/pykoda/cache/sl-tripupdates-2022-12-04.bz2']' returned non-zero exit status 255.\n",
      "None\n",
      "Executing python function, producing output(s): C:/Users/asus/AppData/Local/pykoda/pykoda/cache/sl_TripUpdates_2022_12_04_9.feather.tmp\n",
      "Getting C:/Users/asus/AppData/Local/pykoda/pykoda/cache/sl_TripUpdates_2022_12_04_10.feather\n",
      "File or folder already exists, so skipping task: data (datafolder)\n",
      "File or folder already exists, so skipping task: C:/Users/asus/AppData/Local/pykoda/pykoda/cache/sl-tripupdates-2022-12-04.bz2 (file)\n",
      "System tool failed: Command '['7z', 'e', '-oC:/Users/asus/AppData/Local/pykoda/pykoda/cache/sl-tripupdates-2022-12-04', 'C:/Users/asus/AppData/Local/pykoda/pykoda/cache/sl-tripupdates-2022-12-04.bz2']' returned non-zero exit status 255.\n",
      "None\n",
      "Executing python function, producing output(s): C:/Users/asus/AppData/Local/pykoda/pykoda/cache/sl_TripUpdates_2022_12_04_10.feather.tmp\n"
     ]
    },
    {
     "name": "stderr",
     "output_type": "stream",
     "text": [
      "C:\\Users\\asus\\AppData\\Local\\Programs\\Python\\Python312\\Lib\\site-packages\\pykoda\\data\\datautils.py:90: RuntimeWarning: The API did not return data for 2022-12-04 11:00:00\n",
      "  warnings.warn(RuntimeWarning(f'The API did not return data for {date_hour}'))\n",
      "C:\\Users\\asus\\AppData\\Local\\Programs\\Python\\Python312\\Lib\\site-packages\\pykoda\\data\\datautils.py:90: RuntimeWarning: The API did not return data for 2022-12-04 12:00:00\n",
      "  warnings.warn(RuntimeWarning(f'The API did not return data for {date_hour}'))\n",
      "Loading data:  17%|███████████▎                                                       | 61/360 [02:01<10:53,  2.18s/it]"
     ]
    },
    {
     "name": "stdout",
     "output_type": "stream",
     "text": [
      "Getting C:/Users/asus/AppData/Local/pykoda/pykoda/cache/sl_TripUpdates_2022_12_04_11.feather\n",
      "File or folder already exists, so skipping task: data (datafolder)\n",
      "File or folder already exists, so skipping task: C:/Users/asus/AppData/Local/pykoda/pykoda/cache/sl-tripupdates-2022-12-04.bz2 (file)\n",
      "System tool failed: Command '['7z', 'e', '-oC:/Users/asus/AppData/Local/pykoda/pykoda/cache/sl-tripupdates-2022-12-04', 'C:/Users/asus/AppData/Local/pykoda/pykoda/cache/sl-tripupdates-2022-12-04.bz2']' returned non-zero exit status 255.\n",
      "None\n",
      "Executing python function, producing output(s): C:/Users/asus/AppData/Local/pykoda/pykoda/cache/sl_TripUpdates_2022_12_04_11.feather.tmp\n",
      "Getting C:/Users/asus/AppData/Local/pykoda/pykoda/cache/sl_TripUpdates_2022_12_04_12.feather\n",
      "File or folder already exists, so skipping task: data (datafolder)\n",
      "File or folder already exists, so skipping task: C:/Users/asus/AppData/Local/pykoda/pykoda/cache/sl-tripupdates-2022-12-04.bz2 (file)\n",
      "System tool failed: Command '['7z', 'e', '-oC:/Users/asus/AppData/Local/pykoda/pykoda/cache/sl-tripupdates-2022-12-04', 'C:/Users/asus/AppData/Local/pykoda/pykoda/cache/sl-tripupdates-2022-12-04.bz2']' returned non-zero exit status 255.\n",
      "None\n",
      "Executing python function, producing output(s): C:/Users/asus/AppData/Local/pykoda/pykoda/cache/sl_TripUpdates_2022_12_04_12.feather.tmp\n",
      "Getting C:/Users/asus/AppData/Local/pykoda/pykoda/cache/sl_TripUpdates_2022_12_04_13.feather\n",
      "File or folder already exists, so skipping task: data (datafolder)\n",
      "File or folder already exists, so skipping task: C:/Users/asus/AppData/Local/pykoda/pykoda/cache/sl-tripupdates-2022-12-04.bz2 (file)\n"
     ]
    },
    {
     "name": "stderr",
     "output_type": "stream",
     "text": [
      "C:\\Users\\asus\\AppData\\Local\\Programs\\Python\\Python312\\Lib\\site-packages\\pykoda\\data\\datautils.py:90: RuntimeWarning: The API did not return data for 2022-12-04 13:00:00\n",
      "  warnings.warn(RuntimeWarning(f'The API did not return data for {date_hour}'))\n",
      "C:\\Users\\asus\\AppData\\Local\\Programs\\Python\\Python312\\Lib\\site-packages\\pykoda\\data\\datautils.py:90: RuntimeWarning: The API did not return data for 2022-12-04 14:00:00\n",
      "  warnings.warn(RuntimeWarning(f'The API did not return data for {date_hour}'))\n",
      "Loading data:  18%|███████████▋                                                       | 63/360 [02:01<07:38,  1.55s/it]"
     ]
    },
    {
     "name": "stdout",
     "output_type": "stream",
     "text": [
      "System tool failed: Command '['7z', 'e', '-oC:/Users/asus/AppData/Local/pykoda/pykoda/cache/sl-tripupdates-2022-12-04', 'C:/Users/asus/AppData/Local/pykoda/pykoda/cache/sl-tripupdates-2022-12-04.bz2']' returned non-zero exit status 255.\n",
      "None\n",
      "Executing python function, producing output(s): C:/Users/asus/AppData/Local/pykoda/pykoda/cache/sl_TripUpdates_2022_12_04_13.feather.tmp\n",
      "Getting C:/Users/asus/AppData/Local/pykoda/pykoda/cache/sl_TripUpdates_2022_12_04_14.feather\n",
      "File or folder already exists, so skipping task: data (datafolder)\n",
      "File or folder already exists, so skipping task: C:/Users/asus/AppData/Local/pykoda/pykoda/cache/sl-tripupdates-2022-12-04.bz2 (file)\n",
      "System tool failed: Command '['7z', 'e', '-oC:/Users/asus/AppData/Local/pykoda/pykoda/cache/sl-tripupdates-2022-12-04', 'C:/Users/asus/AppData/Local/pykoda/pykoda/cache/sl-tripupdates-2022-12-04.bz2']' returned non-zero exit status 255.\n",
      "None\n",
      "Executing python function, producing output(s): C:/Users/asus/AppData/Local/pykoda/pykoda/cache/sl_TripUpdates_2022_12_04_14.feather.tmp\n",
      "Getting C:/Users/asus/AppData/Local/pykoda/pykoda/cache/sl_TripUpdates_2022_12_04_15.feather\n",
      "File or folder already exists, so skipping task: data (datafolder)\n",
      "File or folder already exists, so skipping task: C:/Users/asus/AppData/Local/pykoda/pykoda/cache/sl-tripupdates-2022-12-04.bz2 (file)\n",
      "System tool failed: Command '['7z', 'e', '-oC:/Users/asus/AppData/Local/pykoda/pykoda/cache/sl-tripupdates-2022-12-04', 'C:/Users/asus/AppData/Local/pykoda/pykoda/cache/sl-tripupdates-2022-12-04.bz2']' returned non-zero exit status 255.\n",
      "None\n",
      "Executing python function, producing output(s): C:/Users/asus/AppData/Local/pykoda/pykoda/cache/sl_TripUpdates_2022_12_04_15.feather.tmp\n",
      "Getting C:/Users/asus/AppData/Local/pykoda/pykoda/cache/sl_TripUpdates_2022_12_04_16.feather\n",
      "File or folder already exists, so skipping task: data (datafolder)\n",
      "File or folder already exists, so skipping task: C:/Users/asus/AppData/Local/pykoda/pykoda/cache/sl-tripupdates-2022-12-04.bz2 (file)\n"
     ]
    },
    {
     "name": "stderr",
     "output_type": "stream",
     "text": [
      "C:\\Users\\asus\\AppData\\Local\\Programs\\Python\\Python312\\Lib\\site-packages\\pykoda\\data\\datautils.py:90: RuntimeWarning: The API did not return data for 2022-12-04 15:00:00\n",
      "  warnings.warn(RuntimeWarning(f'The API did not return data for {date_hour}'))\n",
      "C:\\Users\\asus\\AppData\\Local\\Programs\\Python\\Python312\\Lib\\site-packages\\pykoda\\data\\datautils.py:90: RuntimeWarning: The API did not return data for 2022-12-04 16:00:00\n",
      "  warnings.warn(RuntimeWarning(f'The API did not return data for {date_hour}'))\n",
      "Loading data:  18%|████████████                                                       | 65/360 [02:02<05:25,  1.10s/it]C:\\Users\\asus\\AppData\\Local\\Programs\\Python\\Python312\\Lib\\site-packages\\pykoda\\data\\datautils.py:90: RuntimeWarning: The API did not return data for 2022-12-04 17:00:00\n",
      "  warnings.warn(RuntimeWarning(f'The API did not return data for {date_hour}'))\n",
      "C:\\Users\\asus\\AppData\\Local\\Programs\\Python\\Python312\\Lib\\site-packages\\pykoda\\data\\datautils.py:90: RuntimeWarning: The API did not return data for 2022-12-04 18:00:00\n",
      "  warnings.warn(RuntimeWarning(f'The API did not return data for {date_hour}'))\n",
      "Loading data:  19%|████████████▍                                                      | 67/360 [02:02<03:52,  1.26it/s]"
     ]
    },
    {
     "name": "stdout",
     "output_type": "stream",
     "text": [
      "System tool failed: Command '['7z', 'e', '-oC:/Users/asus/AppData/Local/pykoda/pykoda/cache/sl-tripupdates-2022-12-04', 'C:/Users/asus/AppData/Local/pykoda/pykoda/cache/sl-tripupdates-2022-12-04.bz2']' returned non-zero exit status 255.\n",
      "None\n",
      "Executing python function, producing output(s): C:/Users/asus/AppData/Local/pykoda/pykoda/cache/sl_TripUpdates_2022_12_04_16.feather.tmp\n",
      "Getting C:/Users/asus/AppData/Local/pykoda/pykoda/cache/sl_TripUpdates_2022_12_04_17.feather\n",
      "File or folder already exists, so skipping task: data (datafolder)\n",
      "File or folder already exists, so skipping task: C:/Users/asus/AppData/Local/pykoda/pykoda/cache/sl-tripupdates-2022-12-04.bz2 (file)\n",
      "System tool failed: Command '['7z', 'e', '-oC:/Users/asus/AppData/Local/pykoda/pykoda/cache/sl-tripupdates-2022-12-04', 'C:/Users/asus/AppData/Local/pykoda/pykoda/cache/sl-tripupdates-2022-12-04.bz2']' returned non-zero exit status 255.\n",
      "None\n",
      "Executing python function, producing output(s): C:/Users/asus/AppData/Local/pykoda/pykoda/cache/sl_TripUpdates_2022_12_04_17.feather.tmp\n",
      "Getting C:/Users/asus/AppData/Local/pykoda/pykoda/cache/sl_TripUpdates_2022_12_04_18.feather\n",
      "File or folder already exists, so skipping task: data (datafolder)\n",
      "File or folder already exists, so skipping task: C:/Users/asus/AppData/Local/pykoda/pykoda/cache/sl-tripupdates-2022-12-04.bz2 (file)\n",
      "System tool failed: Command '['7z', 'e', '-oC:/Users/asus/AppData/Local/pykoda/pykoda/cache/sl-tripupdates-2022-12-04', 'C:/Users/asus/AppData/Local/pykoda/pykoda/cache/sl-tripupdates-2022-12-04.bz2']' returned non-zero exit status 255.\n",
      "None\n",
      "Executing python function, producing output(s): C:/Users/asus/AppData/Local/pykoda/pykoda/cache/sl_TripUpdates_2022_12_04_18.feather.tmp\n",
      "Getting C:/Users/asus/AppData/Local/pykoda/pykoda/cache/sl_TripUpdates_2022_12_04_19.feather\n",
      "File or folder already exists, so skipping task: data (datafolder)\n",
      "File or folder already exists, so skipping task: C:/Users/asus/AppData/Local/pykoda/pykoda/cache/sl-tripupdates-2022-12-04.bz2 (file)\n"
     ]
    },
    {
     "name": "stderr",
     "output_type": "stream",
     "text": [
      "C:\\Users\\asus\\AppData\\Local\\Programs\\Python\\Python312\\Lib\\site-packages\\pykoda\\data\\datautils.py:90: RuntimeWarning: The API did not return data for 2022-12-04 19:00:00\n",
      "  warnings.warn(RuntimeWarning(f'The API did not return data for {date_hour}'))\n",
      "C:\\Users\\asus\\AppData\\Local\\Programs\\Python\\Python312\\Lib\\site-packages\\pykoda\\data\\datautils.py:90: RuntimeWarning: The API did not return data for 2022-12-04 20:00:00\n",
      "  warnings.warn(RuntimeWarning(f'The API did not return data for {date_hour}'))\n",
      "Loading data:  19%|████████████▊                                                      | 69/360 [02:02<02:48,  1.73it/s]"
     ]
    },
    {
     "name": "stdout",
     "output_type": "stream",
     "text": [
      "System tool failed: Command '['7z', 'e', '-oC:/Users/asus/AppData/Local/pykoda/pykoda/cache/sl-tripupdates-2022-12-04', 'C:/Users/asus/AppData/Local/pykoda/pykoda/cache/sl-tripupdates-2022-12-04.bz2']' returned non-zero exit status 255.\n",
      "None\n",
      "Executing python function, producing output(s): C:/Users/asus/AppData/Local/pykoda/pykoda/cache/sl_TripUpdates_2022_12_04_19.feather.tmp\n",
      "Getting C:/Users/asus/AppData/Local/pykoda/pykoda/cache/sl_TripUpdates_2022_12_04_20.feather\n",
      "File or folder already exists, so skipping task: data (datafolder)\n",
      "File or folder already exists, so skipping task: C:/Users/asus/AppData/Local/pykoda/pykoda/cache/sl-tripupdates-2022-12-04.bz2 (file)\n",
      "System tool failed: Command '['7z', 'e', '-oC:/Users/asus/AppData/Local/pykoda/pykoda/cache/sl-tripupdates-2022-12-04', 'C:/Users/asus/AppData/Local/pykoda/pykoda/cache/sl-tripupdates-2022-12-04.bz2']' returned non-zero exit status 255.\n",
      "None\n",
      "Executing python function, producing output(s): C:/Users/asus/AppData/Local/pykoda/pykoda/cache/sl_TripUpdates_2022_12_04_20.feather.tmp\n",
      "Getting C:/Users/asus/AppData/Local/pykoda/pykoda/cache/sl_TripUpdates_2022_12_04_21.feather\n",
      "File or folder already exists, so skipping task: data (datafolder)\n",
      "File or folder already exists, so skipping task: C:/Users/asus/AppData/Local/pykoda/pykoda/cache/sl-tripupdates-2022-12-04.bz2 (file)\n",
      "System tool failed: Command '['7z', 'e', '-oC:/Users/asus/AppData/Local/pykoda/pykoda/cache/sl-tripupdates-2022-12-04', 'C:/Users/asus/AppData/Local/pykoda/pykoda/cache/sl-tripupdates-2022-12-04.bz2']' returned non-zero exit status 255.\n",
      "None\n",
      "Executing python function, producing output(s): C:/Users/asus/AppData/Local/pykoda/pykoda/cache/sl_TripUpdates_2022_12_04_21.feather.tmp\n",
      "Getting C:/Users/asus/AppData/Local/pykoda/pykoda/cache/sl_TripUpdates_2022_12_04_22.feather\n",
      "File or folder already exists, so skipping task: data (datafolder)\n",
      "File or folder already exists, so skipping task: C:/Users/asus/AppData/Local/pykoda/pykoda/cache/sl-tripupdates-2022-12-04.bz2 (file)\n"
     ]
    },
    {
     "name": "stderr",
     "output_type": "stream",
     "text": [
      "C:\\Users\\asus\\AppData\\Local\\Programs\\Python\\Python312\\Lib\\site-packages\\pykoda\\data\\datautils.py:90: RuntimeWarning: The API did not return data for 2022-12-04 21:00:00\n",
      "  warnings.warn(RuntimeWarning(f'The API did not return data for {date_hour}'))\n",
      "C:\\Users\\asus\\AppData\\Local\\Programs\\Python\\Python312\\Lib\\site-packages\\pykoda\\data\\datautils.py:90: RuntimeWarning: The API did not return data for 2022-12-04 22:00:00\n",
      "  warnings.warn(RuntimeWarning(f'The API did not return data for {date_hour}'))\n",
      "Loading data:  20%|█████████████▏                                                     | 71/360 [02:02<02:03,  2.34it/s]C:\\Users\\asus\\AppData\\Local\\Programs\\Python\\Python312\\Lib\\site-packages\\pykoda\\data\\datautils.py:90: RuntimeWarning: The API did not return data for 2022-12-04 23:00:00\n",
      "  warnings.warn(RuntimeWarning(f'The API did not return data for {date_hour}'))\n"
     ]
    },
    {
     "name": "stdout",
     "output_type": "stream",
     "text": [
      "System tool failed: Command '['7z', 'e', '-oC:/Users/asus/AppData/Local/pykoda/pykoda/cache/sl-tripupdates-2022-12-04', 'C:/Users/asus/AppData/Local/pykoda/pykoda/cache/sl-tripupdates-2022-12-04.bz2']' returned non-zero exit status 255.\n",
      "None\n",
      "Executing python function, producing output(s): C:/Users/asus/AppData/Local/pykoda/pykoda/cache/sl_TripUpdates_2022_12_04_22.feather.tmp\n",
      "Getting C:/Users/asus/AppData/Local/pykoda/pykoda/cache/sl_TripUpdates_2022_12_04_23.feather\n",
      "File or folder already exists, so skipping task: data (datafolder)\n",
      "File or folder already exists, so skipping task: C:/Users/asus/AppData/Local/pykoda/pykoda/cache/sl-tripupdates-2022-12-04.bz2 (file)\n",
      "System tool failed: Command '['7z', 'e', '-oC:/Users/asus/AppData/Local/pykoda/pykoda/cache/sl-tripupdates-2022-12-04', 'C:/Users/asus/AppData/Local/pykoda/pykoda/cache/sl-tripupdates-2022-12-04.bz2']' returned non-zero exit status 255.\n",
      "None\n",
      "Executing python function, producing output(s): C:/Users/asus/AppData/Local/pykoda/pykoda/cache/sl_TripUpdates_2022_12_04_23.feather.tmp\n",
      "Getting C:/Users/asus/AppData/Local/pykoda/pykoda/cache/sl_TripUpdates_2022_12_05_0.feather\n",
      "File or folder already exists, so skipping task: data (datafolder)\n",
      "Executing python function, producing output(s): C:/Users/asus/AppData/Local/pykoda/pykoda/cache/sl-tripupdates-2022-12-05.bz2.tmp\n",
      "C:/Users/asus/AppData/Local/pykoda/pykoda/cache/sl-tripupdates-2022-12-05.tar\n",
      "Executing python function, producing output(s): C:/Users/asus/AppData/Local/pykoda/pykoda/cache/sl_TripUpdates_2022_12_05_0.feather.tmp\n",
      "sl-tripupdates-2022-12-01T10\n"
     ]
    },
    {
     "name": "stderr",
     "output_type": "stream",
     "text": [
      "Loading data:  20%|█████████████▏                                                   | 73/360 [04:10<1:33:33, 19.56s/it]C:\\Users\\asus\\AppData\\Local\\Programs\\Python\\Python312\\Lib\\site-packages\\pykoda\\data\\datautils.py:90: RuntimeWarning: The API did not return data for 2022-12-05 01:00:00\n",
      "  warnings.warn(RuntimeWarning(f'The API did not return data for {date_hour}'))\n",
      "C:\\Users\\asus\\AppData\\Local\\Programs\\Python\\Python312\\Lib\\site-packages\\pykoda\\data\\datautils.py:90: RuntimeWarning: The API did not return data for 2022-12-05 02:00:00\n",
      "  warnings.warn(RuntimeWarning(f'The API did not return data for {date_hour}'))\n",
      "Loading data:  21%|█████████████▌                                                   | 75/360 [04:10<1:05:06, 13.71s/it]"
     ]
    },
    {
     "name": "stdout",
     "output_type": "stream",
     "text": [
      "Getting C:/Users/asus/AppData/Local/pykoda/pykoda/cache/sl_TripUpdates_2022_12_05_1.feather\n",
      "File or folder already exists, so skipping task: data (datafolder)\n",
      "File or folder already exists, so skipping task: C:/Users/asus/AppData/Local/pykoda/pykoda/cache/sl-tripupdates-2022-12-05.bz2 (file)\n",
      "System tool failed: Command '['7z', 'e', '-oC:/Users/asus/AppData/Local/pykoda/pykoda/cache/sl-tripupdates-2022-12-05', 'C:/Users/asus/AppData/Local/pykoda/pykoda/cache/sl-tripupdates-2022-12-05.bz2']' returned non-zero exit status 255.\n",
      "None\n",
      "Executing python function, producing output(s): C:/Users/asus/AppData/Local/pykoda/pykoda/cache/sl_TripUpdates_2022_12_05_1.feather.tmp\n",
      "Getting C:/Users/asus/AppData/Local/pykoda/pykoda/cache/sl_TripUpdates_2022_12_05_2.feather\n",
      "File or folder already exists, so skipping task: data (datafolder)\n",
      "File or folder already exists, so skipping task: C:/Users/asus/AppData/Local/pykoda/pykoda/cache/sl-tripupdates-2022-12-05.bz2 (file)\n",
      "System tool failed: Command '['7z', 'e', '-oC:/Users/asus/AppData/Local/pykoda/pykoda/cache/sl-tripupdates-2022-12-05', 'C:/Users/asus/AppData/Local/pykoda/pykoda/cache/sl-tripupdates-2022-12-05.bz2']' returned non-zero exit status 255.\n",
      "None\n",
      "Executing python function, producing output(s): C:/Users/asus/AppData/Local/pykoda/pykoda/cache/sl_TripUpdates_2022_12_05_2.feather.tmp\n",
      "Getting C:/Users/asus/AppData/Local/pykoda/pykoda/cache/sl_TripUpdates_2022_12_05_3.feather\n",
      "File or folder already exists, so skipping task: data (datafolder)\n",
      "File or folder already exists, so skipping task: C:/Users/asus/AppData/Local/pykoda/pykoda/cache/sl-tripupdates-2022-12-05.bz2 (file)\n"
     ]
    },
    {
     "name": "stderr",
     "output_type": "stream",
     "text": [
      "C:\\Users\\asus\\AppData\\Local\\Programs\\Python\\Python312\\Lib\\site-packages\\pykoda\\data\\datautils.py:90: RuntimeWarning: The API did not return data for 2022-12-05 03:00:00\n",
      "  warnings.warn(RuntimeWarning(f'The API did not return data for {date_hour}'))\n",
      "C:\\Users\\asus\\AppData\\Local\\Programs\\Python\\Python312\\Lib\\site-packages\\pykoda\\data\\datautils.py:90: RuntimeWarning: The API did not return data for 2022-12-05 04:00:00\n",
      "  warnings.warn(RuntimeWarning(f'The API did not return data for {date_hour}'))\n",
      "Loading data:  21%|██████████████▎                                                    | 77/360 [04:11<45:19,  9.61s/it]"
     ]
    },
    {
     "name": "stdout",
     "output_type": "stream",
     "text": [
      "System tool failed: Command '['7z', 'e', '-oC:/Users/asus/AppData/Local/pykoda/pykoda/cache/sl-tripupdates-2022-12-05', 'C:/Users/asus/AppData/Local/pykoda/pykoda/cache/sl-tripupdates-2022-12-05.bz2']' returned non-zero exit status 255.\n",
      "None\n",
      "Executing python function, producing output(s): C:/Users/asus/AppData/Local/pykoda/pykoda/cache/sl_TripUpdates_2022_12_05_3.feather.tmp\n",
      "Getting C:/Users/asus/AppData/Local/pykoda/pykoda/cache/sl_TripUpdates_2022_12_05_4.feather\n",
      "File or folder already exists, so skipping task: data (datafolder)\n",
      "File or folder already exists, so skipping task: C:/Users/asus/AppData/Local/pykoda/pykoda/cache/sl-tripupdates-2022-12-05.bz2 (file)\n",
      "System tool failed: Command '['7z', 'e', '-oC:/Users/asus/AppData/Local/pykoda/pykoda/cache/sl-tripupdates-2022-12-05', 'C:/Users/asus/AppData/Local/pykoda/pykoda/cache/sl-tripupdates-2022-12-05.bz2']' returned non-zero exit status 255.\n",
      "None\n",
      "Executing python function, producing output(s): C:/Users/asus/AppData/Local/pykoda/pykoda/cache/sl_TripUpdates_2022_12_05_4.feather.tmp\n",
      "Getting C:/Users/asus/AppData/Local/pykoda/pykoda/cache/sl_TripUpdates_2022_12_05_5.feather\n",
      "File or folder already exists, so skipping task: data (datafolder)\n",
      "File or folder already exists, so skipping task: C:/Users/asus/AppData/Local/pykoda/pykoda/cache/sl-tripupdates-2022-12-05.bz2 (file)\n",
      "System tool failed: Command '['7z', 'e', '-oC:/Users/asus/AppData/Local/pykoda/pykoda/cache/sl-tripupdates-2022-12-05', 'C:/Users/asus/AppData/Local/pykoda/pykoda/cache/sl-tripupdates-2022-12-05.bz2']' returned non-zero exit status 255.\n",
      "None\n",
      "Executing python function, producing output(s): C:/Users/asus/AppData/Local/pykoda/pykoda/cache/sl_TripUpdates_2022_12_05_5.feather.tmp\n",
      "Getting C:/Users/asus/AppData/Local/pykoda/pykoda/cache/sl_TripUpdates_2022_12_05_6.feather\n",
      "File or folder already exists, so skipping task: data (datafolder)\n",
      "File or folder already exists, so skipping task: C:/Users/asus/AppData/Local/pykoda/pykoda/cache/sl-tripupdates-2022-12-05.bz2 (file)\n"
     ]
    },
    {
     "name": "stderr",
     "output_type": "stream",
     "text": [
      "C:\\Users\\asus\\AppData\\Local\\Programs\\Python\\Python312\\Lib\\site-packages\\pykoda\\data\\datautils.py:90: RuntimeWarning: The API did not return data for 2022-12-05 05:00:00\n",
      "  warnings.warn(RuntimeWarning(f'The API did not return data for {date_hour}'))\n",
      "C:\\Users\\asus\\AppData\\Local\\Programs\\Python\\Python312\\Lib\\site-packages\\pykoda\\data\\datautils.py:90: RuntimeWarning: The API did not return data for 2022-12-05 06:00:00\n",
      "  warnings.warn(RuntimeWarning(f'The API did not return data for {date_hour}'))\n",
      "Loading data:  22%|██████████████▋                                                    | 79/360 [04:11<31:36,  6.75s/it]C:\\Users\\asus\\AppData\\Local\\Programs\\Python\\Python312\\Lib\\site-packages\\pykoda\\data\\datautils.py:90: RuntimeWarning: The API did not return data for 2022-12-05 07:00:00\n",
      "  warnings.warn(RuntimeWarning(f'The API did not return data for {date_hour}'))\n",
      "C:\\Users\\asus\\AppData\\Local\\Programs\\Python\\Python312\\Lib\\site-packages\\pykoda\\data\\datautils.py:90: RuntimeWarning: The API did not return data for 2022-12-05 08:00:00\n",
      "  warnings.warn(RuntimeWarning(f'The API did not return data for {date_hour}'))\n",
      "Loading data:  22%|███████████████                                                    | 81/360 [04:11<22:04,  4.75s/it]"
     ]
    },
    {
     "name": "stdout",
     "output_type": "stream",
     "text": [
      "System tool failed: Command '['7z', 'e', '-oC:/Users/asus/AppData/Local/pykoda/pykoda/cache/sl-tripupdates-2022-12-05', 'C:/Users/asus/AppData/Local/pykoda/pykoda/cache/sl-tripupdates-2022-12-05.bz2']' returned non-zero exit status 255.\n",
      "None\n",
      "Executing python function, producing output(s): C:/Users/asus/AppData/Local/pykoda/pykoda/cache/sl_TripUpdates_2022_12_05_6.feather.tmp\n",
      "Getting C:/Users/asus/AppData/Local/pykoda/pykoda/cache/sl_TripUpdates_2022_12_05_7.feather\n",
      "File or folder already exists, so skipping task: data (datafolder)\n",
      "File or folder already exists, so skipping task: C:/Users/asus/AppData/Local/pykoda/pykoda/cache/sl-tripupdates-2022-12-05.bz2 (file)\n",
      "System tool failed: Command '['7z', 'e', '-oC:/Users/asus/AppData/Local/pykoda/pykoda/cache/sl-tripupdates-2022-12-05', 'C:/Users/asus/AppData/Local/pykoda/pykoda/cache/sl-tripupdates-2022-12-05.bz2']' returned non-zero exit status 255.\n",
      "None\n",
      "Executing python function, producing output(s): C:/Users/asus/AppData/Local/pykoda/pykoda/cache/sl_TripUpdates_2022_12_05_7.feather.tmp\n",
      "Getting C:/Users/asus/AppData/Local/pykoda/pykoda/cache/sl_TripUpdates_2022_12_05_8.feather\n",
      "File or folder already exists, so skipping task: data (datafolder)\n",
      "File or folder already exists, so skipping task: C:/Users/asus/AppData/Local/pykoda/pykoda/cache/sl-tripupdates-2022-12-05.bz2 (file)\n",
      "System tool failed: Command '['7z', 'e', '-oC:/Users/asus/AppData/Local/pykoda/pykoda/cache/sl-tripupdates-2022-12-05', 'C:/Users/asus/AppData/Local/pykoda/pykoda/cache/sl-tripupdates-2022-12-05.bz2']' returned non-zero exit status 255.\n",
      "None\n",
      "Executing python function, producing output(s): C:/Users/asus/AppData/Local/pykoda/pykoda/cache/sl_TripUpdates_2022_12_05_8.feather.tmp\n",
      "Getting C:/Users/asus/AppData/Local/pykoda/pykoda/cache/sl_TripUpdates_2022_12_05_9.feather\n",
      "File or folder already exists, so skipping task: data (datafolder)\n",
      "File or folder already exists, so skipping task: C:/Users/asus/AppData/Local/pykoda/pykoda/cache/sl-tripupdates-2022-12-05.bz2 (file)\n"
     ]
    },
    {
     "name": "stderr",
     "output_type": "stream",
     "text": [
      "C:\\Users\\asus\\AppData\\Local\\Programs\\Python\\Python312\\Lib\\site-packages\\pykoda\\data\\datautils.py:90: RuntimeWarning: The API did not return data for 2022-12-05 09:00:00\n",
      "  warnings.warn(RuntimeWarning(f'The API did not return data for {date_hour}'))\n",
      "C:\\Users\\asus\\AppData\\Local\\Programs\\Python\\Python312\\Lib\\site-packages\\pykoda\\data\\datautils.py:90: RuntimeWarning: The API did not return data for 2022-12-05 10:00:00\n",
      "  warnings.warn(RuntimeWarning(f'The API did not return data for {date_hour}'))\n",
      "Loading data:  23%|███████████████▍                                                   | 83/360 [04:11<15:26,  3.34s/it]C:\\Users\\asus\\AppData\\Local\\Programs\\Python\\Python312\\Lib\\site-packages\\pykoda\\data\\datautils.py:90: RuntimeWarning: The API did not return data for 2022-12-05 11:00:00\n",
      "  warnings.warn(RuntimeWarning(f'The API did not return data for {date_hour}'))\n",
      "C:\\Users\\asus\\AppData\\Local\\Programs\\Python\\Python312\\Lib\\site-packages\\pykoda\\data\\datautils.py:90: RuntimeWarning: The API did not return data for 2022-12-05 12:00:00\n",
      "  warnings.warn(RuntimeWarning(f'The API did not return data for {date_hour}'))\n",
      "Loading data:  24%|███████████████▊                                                   | 85/360 [04:11<10:49,  2.36s/it]"
     ]
    },
    {
     "name": "stdout",
     "output_type": "stream",
     "text": [
      "System tool failed: Command '['7z', 'e', '-oC:/Users/asus/AppData/Local/pykoda/pykoda/cache/sl-tripupdates-2022-12-05', 'C:/Users/asus/AppData/Local/pykoda/pykoda/cache/sl-tripupdates-2022-12-05.bz2']' returned non-zero exit status 255.\n",
      "None\n",
      "Executing python function, producing output(s): C:/Users/asus/AppData/Local/pykoda/pykoda/cache/sl_TripUpdates_2022_12_05_9.feather.tmp\n",
      "Getting C:/Users/asus/AppData/Local/pykoda/pykoda/cache/sl_TripUpdates_2022_12_05_10.feather\n",
      "File or folder already exists, so skipping task: data (datafolder)\n",
      "File or folder already exists, so skipping task: C:/Users/asus/AppData/Local/pykoda/pykoda/cache/sl-tripupdates-2022-12-05.bz2 (file)\n",
      "System tool failed: Command '['7z', 'e', '-oC:/Users/asus/AppData/Local/pykoda/pykoda/cache/sl-tripupdates-2022-12-05', 'C:/Users/asus/AppData/Local/pykoda/pykoda/cache/sl-tripupdates-2022-12-05.bz2']' returned non-zero exit status 255.\n",
      "None\n",
      "Executing python function, producing output(s): C:/Users/asus/AppData/Local/pykoda/pykoda/cache/sl_TripUpdates_2022_12_05_10.feather.tmp\n",
      "Getting C:/Users/asus/AppData/Local/pykoda/pykoda/cache/sl_TripUpdates_2022_12_05_11.feather\n",
      "File or folder already exists, so skipping task: data (datafolder)\n",
      "File or folder already exists, so skipping task: C:/Users/asus/AppData/Local/pykoda/pykoda/cache/sl-tripupdates-2022-12-05.bz2 (file)\n",
      "System tool failed: Command '['7z', 'e', '-oC:/Users/asus/AppData/Local/pykoda/pykoda/cache/sl-tripupdates-2022-12-05', 'C:/Users/asus/AppData/Local/pykoda/pykoda/cache/sl-tripupdates-2022-12-05.bz2']' returned non-zero exit status 255.\n",
      "None\n",
      "Executing python function, producing output(s): C:/Users/asus/AppData/Local/pykoda/pykoda/cache/sl_TripUpdates_2022_12_05_11.feather.tmp\n",
      "Getting C:/Users/asus/AppData/Local/pykoda/pykoda/cache/sl_TripUpdates_2022_12_05_12.feather\n",
      "File or folder already exists, so skipping task: data (datafolder)\n",
      "File or folder already exists, so skipping task: C:/Users/asus/AppData/Local/pykoda/pykoda/cache/sl-tripupdates-2022-12-05.bz2 (file)\n",
      "System tool failed: Command '['7z', 'e', '-oC:/Users/asus/AppData/Local/pykoda/pykoda/cache/sl-tripupdates-2022-12-05', 'C:/Users/asus/AppData/Local/pykoda/pykoda/cache/sl-tripupdates-2022-12-05.bz2']' returned non-zero exit status 255.\n",
      "None\n",
      "Executing python function, producing output(s): C:/Users/asus/AppData/Local/pykoda/pykoda/cache/sl_TripUpdates_2022_12_05_12.feather.tmp\n"
     ]
    },
    {
     "name": "stderr",
     "output_type": "stream",
     "text": [
      "C:\\Users\\asus\\AppData\\Local\\Programs\\Python\\Python312\\Lib\\site-packages\\pykoda\\data\\datautils.py:90: RuntimeWarning: The API did not return data for 2022-12-05 13:00:00\n",
      "  warnings.warn(RuntimeWarning(f'The API did not return data for {date_hour}'))\n"
     ]
    },
    {
     "name": "stdout",
     "output_type": "stream",
     "text": [
      "Getting C:/Users/asus/AppData/Local/pykoda/pykoda/cache/sl_TripUpdates_2022_12_05_13.feather\n",
      "File or folder already exists, so skipping task: data (datafolder)\n",
      "File or folder already exists, so skipping task: C:/Users/asus/AppData/Local/pykoda/pykoda/cache/sl-tripupdates-2022-12-05.bz2 (file)\n",
      "System tool failed: Command '['7z', 'e', '-oC:/Users/asus/AppData/Local/pykoda/pykoda/cache/sl-tripupdates-2022-12-05', 'C:/Users/asus/AppData/Local/pykoda/pykoda/cache/sl-tripupdates-2022-12-05.bz2']' returned non-zero exit status 255.\n",
      "None\n",
      "Executing python function, producing output(s): C:/Users/asus/AppData/Local/pykoda/pykoda/cache/sl_TripUpdates_2022_12_05_13.feather.tmp\n",
      "Getting C:/Users/asus/AppData/Local/pykoda/pykoda/cache/sl_TripUpdates_2022_12_05_14.feather\n",
      "File or folder already exists, so skipping task: data (datafolder)\n",
      "File or folder already exists, so skipping task: C:/Users/asus/AppData/Local/pykoda/pykoda/cache/sl-tripupdates-2022-12-05.bz2 (file)\n"
     ]
    },
    {
     "name": "stderr",
     "output_type": "stream",
     "text": [
      "C:\\Users\\asus\\AppData\\Local\\Programs\\Python\\Python312\\Lib\\site-packages\\pykoda\\data\\datautils.py:90: RuntimeWarning: The API did not return data for 2022-12-05 14:00:00\n",
      "  warnings.warn(RuntimeWarning(f'The API did not return data for {date_hour}'))\n",
      "Loading data:  24%|████████████████▏                                                  | 87/360 [04:11<07:40,  1.69s/it]C:\\Users\\asus\\AppData\\Local\\Programs\\Python\\Python312\\Lib\\site-packages\\pykoda\\data\\datautils.py:90: RuntimeWarning: The API did not return data for 2022-12-05 15:00:00\n",
      "  warnings.warn(RuntimeWarning(f'The API did not return data for {date_hour}'))\n"
     ]
    },
    {
     "name": "stdout",
     "output_type": "stream",
     "text": [
      "System tool failed: Command '['7z', 'e', '-oC:/Users/asus/AppData/Local/pykoda/pykoda/cache/sl-tripupdates-2022-12-05', 'C:/Users/asus/AppData/Local/pykoda/pykoda/cache/sl-tripupdates-2022-12-05.bz2']' returned non-zero exit status 255.\n",
      "None\n",
      "Executing python function, producing output(s): C:/Users/asus/AppData/Local/pykoda/pykoda/cache/sl_TripUpdates_2022_12_05_14.feather.tmp\n",
      "Getting C:/Users/asus/AppData/Local/pykoda/pykoda/cache/sl_TripUpdates_2022_12_05_15.feather\n",
      "File or folder already exists, so skipping task: data (datafolder)\n",
      "File or folder already exists, so skipping task: C:/Users/asus/AppData/Local/pykoda/pykoda/cache/sl-tripupdates-2022-12-05.bz2 (file)\n",
      "System tool failed: Command '['7z', 'e', '-oC:/Users/asus/AppData/Local/pykoda/pykoda/cache/sl-tripupdates-2022-12-05', 'C:/Users/asus/AppData/Local/pykoda/pykoda/cache/sl-tripupdates-2022-12-05.bz2']' returned non-zero exit status 255.\n",
      "None\n",
      "Executing python function, producing output(s): C:/Users/asus/AppData/Local/pykoda/pykoda/cache/sl_TripUpdates_2022_12_05_15.feather.tmp\n",
      "Getting C:/Users/asus/AppData/Local/pykoda/pykoda/cache/sl_TripUpdates_2022_12_05_16.feather\n",
      "File or folder already exists, so skipping task: data (datafolder)\n",
      "File or folder already exists, so skipping task: C:/Users/asus/AppData/Local/pykoda/pykoda/cache/sl-tripupdates-2022-12-05.bz2 (file)\n"
     ]
    },
    {
     "name": "stderr",
     "output_type": "stream",
     "text": [
      "C:\\Users\\asus\\AppData\\Local\\Programs\\Python\\Python312\\Lib\\site-packages\\pykoda\\data\\datautils.py:90: RuntimeWarning: The API did not return data for 2022-12-05 16:00:00\n",
      "  warnings.warn(RuntimeWarning(f'The API did not return data for {date_hour}'))\n",
      "Loading data:  25%|████████████████▌                                                  | 89/360 [04:12<05:28,  1.21s/it]C:\\Users\\asus\\AppData\\Local\\Programs\\Python\\Python312\\Lib\\site-packages\\pykoda\\data\\datautils.py:90: RuntimeWarning: The API did not return data for 2022-12-05 17:00:00\n",
      "  warnings.warn(RuntimeWarning(f'The API did not return data for {date_hour}'))\n",
      "C:\\Users\\asus\\AppData\\Local\\Programs\\Python\\Python312\\Lib\\site-packages\\pykoda\\data\\datautils.py:90: RuntimeWarning: The API did not return data for 2022-12-05 18:00:00\n",
      "  warnings.warn(RuntimeWarning(f'The API did not return data for {date_hour}'))\n",
      "Loading data:  25%|████████████████▉                                                  | 91/360 [04:12<03:54,  1.15it/s]"
     ]
    },
    {
     "name": "stdout",
     "output_type": "stream",
     "text": [
      "System tool failed: Command '['7z', 'e', '-oC:/Users/asus/AppData/Local/pykoda/pykoda/cache/sl-tripupdates-2022-12-05', 'C:/Users/asus/AppData/Local/pykoda/pykoda/cache/sl-tripupdates-2022-12-05.bz2']' returned non-zero exit status 255.\n",
      "None\n",
      "Executing python function, producing output(s): C:/Users/asus/AppData/Local/pykoda/pykoda/cache/sl_TripUpdates_2022_12_05_16.feather.tmp\n",
      "Getting C:/Users/asus/AppData/Local/pykoda/pykoda/cache/sl_TripUpdates_2022_12_05_17.feather\n",
      "File or folder already exists, so skipping task: data (datafolder)\n",
      "File or folder already exists, so skipping task: C:/Users/asus/AppData/Local/pykoda/pykoda/cache/sl-tripupdates-2022-12-05.bz2 (file)\n",
      "System tool failed: Command '['7z', 'e', '-oC:/Users/asus/AppData/Local/pykoda/pykoda/cache/sl-tripupdates-2022-12-05', 'C:/Users/asus/AppData/Local/pykoda/pykoda/cache/sl-tripupdates-2022-12-05.bz2']' returned non-zero exit status 255.\n",
      "None\n",
      "Executing python function, producing output(s): C:/Users/asus/AppData/Local/pykoda/pykoda/cache/sl_TripUpdates_2022_12_05_17.feather.tmp\n",
      "Getting C:/Users/asus/AppData/Local/pykoda/pykoda/cache/sl_TripUpdates_2022_12_05_18.feather\n",
      "File or folder already exists, so skipping task: data (datafolder)\n",
      "File or folder already exists, so skipping task: C:/Users/asus/AppData/Local/pykoda/pykoda/cache/sl-tripupdates-2022-12-05.bz2 (file)\n",
      "System tool failed: Command '['7z', 'e', '-oC:/Users/asus/AppData/Local/pykoda/pykoda/cache/sl-tripupdates-2022-12-05', 'C:/Users/asus/AppData/Local/pykoda/pykoda/cache/sl-tripupdates-2022-12-05.bz2']' returned non-zero exit status 255.\n",
      "None\n",
      "Executing python function, producing output(s): C:/Users/asus/AppData/Local/pykoda/pykoda/cache/sl_TripUpdates_2022_12_05_18.feather.tmp\n",
      "Getting C:/Users/asus/AppData/Local/pykoda/pykoda/cache/sl_TripUpdates_2022_12_05_19.feather\n",
      "File or folder already exists, so skipping task: data (datafolder)\n",
      "File or folder already exists, so skipping task: C:/Users/asus/AppData/Local/pykoda/pykoda/cache/sl-tripupdates-2022-12-05.bz2 (file)\n"
     ]
    },
    {
     "name": "stderr",
     "output_type": "stream",
     "text": [
      "C:\\Users\\asus\\AppData\\Local\\Programs\\Python\\Python312\\Lib\\site-packages\\pykoda\\data\\datautils.py:90: RuntimeWarning: The API did not return data for 2022-12-05 19:00:00\n",
      "  warnings.warn(RuntimeWarning(f'The API did not return data for {date_hour}'))\n",
      "C:\\Users\\asus\\AppData\\Local\\Programs\\Python\\Python312\\Lib\\site-packages\\pykoda\\data\\datautils.py:90: RuntimeWarning: The API did not return data for 2022-12-05 20:00:00\n",
      "  warnings.warn(RuntimeWarning(f'The API did not return data for {date_hour}'))\n",
      "Loading data:  26%|█████████████████▎                                                 | 93/360 [04:12<02:48,  1.58it/s]C:\\Users\\asus\\AppData\\Local\\Programs\\Python\\Python312\\Lib\\site-packages\\pykoda\\data\\datautils.py:90: RuntimeWarning: The API did not return data for 2022-12-05 21:00:00\n",
      "  warnings.warn(RuntimeWarning(f'The API did not return data for {date_hour}'))\n",
      "C:\\Users\\asus\\AppData\\Local\\Programs\\Python\\Python312\\Lib\\site-packages\\pykoda\\data\\datautils.py:90: RuntimeWarning: The API did not return data for 2022-12-05 22:00:00\n",
      "  warnings.warn(RuntimeWarning(f'The API did not return data for {date_hour}'))\n",
      "Loading data:  26%|█████████████████▋                                                 | 95/360 [04:12<02:02,  2.16it/s]"
     ]
    },
    {
     "name": "stdout",
     "output_type": "stream",
     "text": [
      "System tool failed: Command '['7z', 'e', '-oC:/Users/asus/AppData/Local/pykoda/pykoda/cache/sl-tripupdates-2022-12-05', 'C:/Users/asus/AppData/Local/pykoda/pykoda/cache/sl-tripupdates-2022-12-05.bz2']' returned non-zero exit status 255.\n",
      "None\n",
      "Executing python function, producing output(s): C:/Users/asus/AppData/Local/pykoda/pykoda/cache/sl_TripUpdates_2022_12_05_19.feather.tmp\n",
      "Getting C:/Users/asus/AppData/Local/pykoda/pykoda/cache/sl_TripUpdates_2022_12_05_20.feather\n",
      "File or folder already exists, so skipping task: data (datafolder)\n",
      "File or folder already exists, so skipping task: C:/Users/asus/AppData/Local/pykoda/pykoda/cache/sl-tripupdates-2022-12-05.bz2 (file)\n",
      "System tool failed: Command '['7z', 'e', '-oC:/Users/asus/AppData/Local/pykoda/pykoda/cache/sl-tripupdates-2022-12-05', 'C:/Users/asus/AppData/Local/pykoda/pykoda/cache/sl-tripupdates-2022-12-05.bz2']' returned non-zero exit status 255.\n",
      "None\n",
      "Executing python function, producing output(s): C:/Users/asus/AppData/Local/pykoda/pykoda/cache/sl_TripUpdates_2022_12_05_20.feather.tmp\n",
      "Getting C:/Users/asus/AppData/Local/pykoda/pykoda/cache/sl_TripUpdates_2022_12_05_21.feather\n",
      "File or folder already exists, so skipping task: data (datafolder)\n",
      "File or folder already exists, so skipping task: C:/Users/asus/AppData/Local/pykoda/pykoda/cache/sl-tripupdates-2022-12-05.bz2 (file)\n",
      "System tool failed: Command '['7z', 'e', '-oC:/Users/asus/AppData/Local/pykoda/pykoda/cache/sl-tripupdates-2022-12-05', 'C:/Users/asus/AppData/Local/pykoda/pykoda/cache/sl-tripupdates-2022-12-05.bz2']' returned non-zero exit status 255.\n",
      "None\n",
      "Executing python function, producing output(s): C:/Users/asus/AppData/Local/pykoda/pykoda/cache/sl_TripUpdates_2022_12_05_21.feather.tmp\n",
      "Getting C:/Users/asus/AppData/Local/pykoda/pykoda/cache/sl_TripUpdates_2022_12_05_22.feather\n",
      "File or folder already exists, so skipping task: data (datafolder)\n",
      "File or folder already exists, so skipping task: C:/Users/asus/AppData/Local/pykoda/pykoda/cache/sl-tripupdates-2022-12-05.bz2 (file)\n",
      "System tool failed: Command '['7z', 'e', '-oC:/Users/asus/AppData/Local/pykoda/pykoda/cache/sl-tripupdates-2022-12-05', 'C:/Users/asus/AppData/Local/pykoda/pykoda/cache/sl-tripupdates-2022-12-05.bz2']' returned non-zero exit status 255.\n",
      "None\n",
      "Executing python function, producing output(s): C:/Users/asus/AppData/Local/pykoda/pykoda/cache/sl_TripUpdates_2022_12_05_22.feather.tmp\n"
     ]
    },
    {
     "name": "stderr",
     "output_type": "stream",
     "text": [
      "C:\\Users\\asus\\AppData\\Local\\Programs\\Python\\Python312\\Lib\\site-packages\\pykoda\\data\\datautils.py:90: RuntimeWarning: The API did not return data for 2022-12-05 23:00:00\n",
      "  warnings.warn(RuntimeWarning(f'The API did not return data for {date_hour}'))\n"
     ]
    },
    {
     "name": "stdout",
     "output_type": "stream",
     "text": [
      "Getting C:/Users/asus/AppData/Local/pykoda/pykoda/cache/sl_TripUpdates_2022_12_05_23.feather\n",
      "File or folder already exists, so skipping task: data (datafolder)\n",
      "File or folder already exists, so skipping task: C:/Users/asus/AppData/Local/pykoda/pykoda/cache/sl-tripupdates-2022-12-05.bz2 (file)\n",
      "System tool failed: Command '['7z', 'e', '-oC:/Users/asus/AppData/Local/pykoda/pykoda/cache/sl-tripupdates-2022-12-05', 'C:/Users/asus/AppData/Local/pykoda/pykoda/cache/sl-tripupdates-2022-12-05.bz2']' returned non-zero exit status 255.\n",
      "None\n",
      "Executing python function, producing output(s): C:/Users/asus/AppData/Local/pykoda/pykoda/cache/sl_TripUpdates_2022_12_05_23.feather.tmp\n",
      "Getting C:/Users/asus/AppData/Local/pykoda/pykoda/cache/sl_TripUpdates_2022_12_06_0.feather\n",
      "File or folder already exists, so skipping task: data (datafolder)\n",
      "Executing python function, producing output(s): C:/Users/asus/AppData/Local/pykoda/pykoda/cache/sl-tripupdates-2022-12-06.bz2.tmp\n",
      "C:/Users/asus/AppData/Local/pykoda/pykoda/cache/sl-tripupdates-2022-12-06.tar\n",
      "Executing python function, producing output(s): C:/Users/asus/AppData/Local/pykoda/pykoda/cache/sl_TripUpdates_2022_12_06_0.feather.tmp\n",
      "sl-tripupdates-2022-12-01T10\n"
     ]
    },
    {
     "name": "stderr",
     "output_type": "stream",
     "text": [
      "Loading data:  27%|█████████████████▌                                               | 97/360 [06:21<1:26:15, 19.68s/it]C:\\Users\\asus\\AppData\\Local\\Programs\\Python\\Python312\\Lib\\site-packages\\pykoda\\data\\datautils.py:90: RuntimeWarning: The API did not return data for 2022-12-06 01:00:00\n",
      "  warnings.warn(RuntimeWarning(f'The API did not return data for {date_hour}'))\n",
      "C:\\Users\\asus\\AppData\\Local\\Programs\\Python\\Python312\\Lib\\site-packages\\pykoda\\data\\datautils.py:90: RuntimeWarning: The API did not return data for 2022-12-06 02:00:00\n",
      "  warnings.warn(RuntimeWarning(f'The API did not return data for {date_hour}'))\n",
      "Loading data:  28%|█████████████████▉                                               | 99/360 [06:21<1:00:01, 13.80s/it]"
     ]
    },
    {
     "name": "stdout",
     "output_type": "stream",
     "text": [
      "Getting C:/Users/asus/AppData/Local/pykoda/pykoda/cache/sl_TripUpdates_2022_12_06_1.feather\n",
      "File or folder already exists, so skipping task: data (datafolder)\n",
      "File or folder already exists, so skipping task: C:/Users/asus/AppData/Local/pykoda/pykoda/cache/sl-tripupdates-2022-12-06.bz2 (file)\n",
      "System tool failed: Command '['7z', 'e', '-oC:/Users/asus/AppData/Local/pykoda/pykoda/cache/sl-tripupdates-2022-12-06', 'C:/Users/asus/AppData/Local/pykoda/pykoda/cache/sl-tripupdates-2022-12-06.bz2']' returned non-zero exit status 255.\n",
      "None\n",
      "Executing python function, producing output(s): C:/Users/asus/AppData/Local/pykoda/pykoda/cache/sl_TripUpdates_2022_12_06_1.feather.tmp\n",
      "Getting C:/Users/asus/AppData/Local/pykoda/pykoda/cache/sl_TripUpdates_2022_12_06_2.feather\n",
      "File or folder already exists, so skipping task: data (datafolder)\n",
      "File or folder already exists, so skipping task: C:/Users/asus/AppData/Local/pykoda/pykoda/cache/sl-tripupdates-2022-12-06.bz2 (file)\n",
      "System tool failed: Command '['7z', 'e', '-oC:/Users/asus/AppData/Local/pykoda/pykoda/cache/sl-tripupdates-2022-12-06', 'C:/Users/asus/AppData/Local/pykoda/pykoda/cache/sl-tripupdates-2022-12-06.bz2']' returned non-zero exit status 255.\n",
      "None\n",
      "Executing python function, producing output(s): C:/Users/asus/AppData/Local/pykoda/pykoda/cache/sl_TripUpdates_2022_12_06_2.feather.tmp\n",
      "Getting C:/Users/asus/AppData/Local/pykoda/pykoda/cache/sl_TripUpdates_2022_12_06_3.feather\n",
      "File or folder already exists, so skipping task: data (datafolder)\n",
      "File or folder already exists, so skipping task: C:/Users/asus/AppData/Local/pykoda/pykoda/cache/sl-tripupdates-2022-12-06.bz2 (file)\n"
     ]
    },
    {
     "name": "stderr",
     "output_type": "stream",
     "text": [
      "C:\\Users\\asus\\AppData\\Local\\Programs\\Python\\Python312\\Lib\\site-packages\\pykoda\\data\\datautils.py:90: RuntimeWarning: The API did not return data for 2022-12-06 03:00:00\n",
      "  warnings.warn(RuntimeWarning(f'The API did not return data for {date_hour}'))\n",
      "C:\\Users\\asus\\AppData\\Local\\Programs\\Python\\Python312\\Lib\\site-packages\\pykoda\\data\\datautils.py:90: RuntimeWarning: The API did not return data for 2022-12-06 04:00:00\n",
      "  warnings.warn(RuntimeWarning(f'The API did not return data for {date_hour}'))\n",
      "Loading data:  28%|██████████████████▌                                               | 101/360 [06:21<41:50,  9.69s/it]"
     ]
    },
    {
     "name": "stdout",
     "output_type": "stream",
     "text": [
      "System tool failed: Command '['7z', 'e', '-oC:/Users/asus/AppData/Local/pykoda/pykoda/cache/sl-tripupdates-2022-12-06', 'C:/Users/asus/AppData/Local/pykoda/pykoda/cache/sl-tripupdates-2022-12-06.bz2']' returned non-zero exit status 255.\n",
      "None\n",
      "Executing python function, producing output(s): C:/Users/asus/AppData/Local/pykoda/pykoda/cache/sl_TripUpdates_2022_12_06_3.feather.tmp\n",
      "Getting C:/Users/asus/AppData/Local/pykoda/pykoda/cache/sl_TripUpdates_2022_12_06_4.feather\n",
      "File or folder already exists, so skipping task: data (datafolder)\n",
      "File or folder already exists, so skipping task: C:/Users/asus/AppData/Local/pykoda/pykoda/cache/sl-tripupdates-2022-12-06.bz2 (file)\n",
      "System tool failed: Command '['7z', 'e', '-oC:/Users/asus/AppData/Local/pykoda/pykoda/cache/sl-tripupdates-2022-12-06', 'C:/Users/asus/AppData/Local/pykoda/pykoda/cache/sl-tripupdates-2022-12-06.bz2']' returned non-zero exit status 255.\n",
      "None\n",
      "Executing python function, producing output(s): C:/Users/asus/AppData/Local/pykoda/pykoda/cache/sl_TripUpdates_2022_12_06_4.feather.tmp\n",
      "Getting C:/Users/asus/AppData/Local/pykoda/pykoda/cache/sl_TripUpdates_2022_12_06_5.feather\n",
      "File or folder already exists, so skipping task: data (datafolder)\n",
      "File or folder already exists, so skipping task: C:/Users/asus/AppData/Local/pykoda/pykoda/cache/sl-tripupdates-2022-12-06.bz2 (file)\n"
     ]
    },
    {
     "name": "stderr",
     "output_type": "stream",
     "text": [
      "C:\\Users\\asus\\AppData\\Local\\Programs\\Python\\Python312\\Lib\\site-packages\\pykoda\\data\\datautils.py:90: RuntimeWarning: The API did not return data for 2022-12-06 05:00:00\n",
      "  warnings.warn(RuntimeWarning(f'The API did not return data for {date_hour}'))\n",
      "C:\\Users\\asus\\AppData\\Local\\Programs\\Python\\Python312\\Lib\\site-packages\\pykoda\\data\\datautils.py:90: RuntimeWarning: The API did not return data for 2022-12-06 06:00:00\n",
      "  warnings.warn(RuntimeWarning(f'The API did not return data for {date_hour}'))\n",
      "Loading data:  29%|██████████████████▉                                               | 103/360 [06:22<29:09,  6.81s/it]"
     ]
    },
    {
     "name": "stdout",
     "output_type": "stream",
     "text": [
      "System tool failed: Command '['7z', 'e', '-oC:/Users/asus/AppData/Local/pykoda/pykoda/cache/sl-tripupdates-2022-12-06', 'C:/Users/asus/AppData/Local/pykoda/pykoda/cache/sl-tripupdates-2022-12-06.bz2']' returned non-zero exit status 255.\n",
      "None\n",
      "Executing python function, producing output(s): C:/Users/asus/AppData/Local/pykoda/pykoda/cache/sl_TripUpdates_2022_12_06_5.feather.tmp\n",
      "Getting C:/Users/asus/AppData/Local/pykoda/pykoda/cache/sl_TripUpdates_2022_12_06_6.feather\n",
      "File or folder already exists, so skipping task: data (datafolder)\n",
      "File or folder already exists, so skipping task: C:/Users/asus/AppData/Local/pykoda/pykoda/cache/sl-tripupdates-2022-12-06.bz2 (file)\n",
      "System tool failed: Command '['7z', 'e', '-oC:/Users/asus/AppData/Local/pykoda/pykoda/cache/sl-tripupdates-2022-12-06', 'C:/Users/asus/AppData/Local/pykoda/pykoda/cache/sl-tripupdates-2022-12-06.bz2']' returned non-zero exit status 255.\n",
      "None\n",
      "Executing python function, producing output(s): C:/Users/asus/AppData/Local/pykoda/pykoda/cache/sl_TripUpdates_2022_12_06_6.feather.tmp\n",
      "Getting C:/Users/asus/AppData/Local/pykoda/pykoda/cache/sl_TripUpdates_2022_12_06_7.feather\n",
      "File or folder already exists, so skipping task: data (datafolder)\n",
      "File or folder already exists, so skipping task: C:/Users/asus/AppData/Local/pykoda/pykoda/cache/sl-tripupdates-2022-12-06.bz2 (file)\n",
      "System tool failed: Command '['7z', 'e', '-oC:/Users/asus/AppData/Local/pykoda/pykoda/cache/sl-tripupdates-2022-12-06', 'C:/Users/asus/AppData/Local/pykoda/pykoda/cache/sl-tripupdates-2022-12-06.bz2']' returned non-zero exit status 255.\n",
      "None\n",
      "Executing python function, producing output(s): C:/Users/asus/AppData/Local/pykoda/pykoda/cache/sl_TripUpdates_2022_12_06_7.feather.tmp\n",
      "Getting C:/Users/asus/AppData/Local/pykoda/pykoda/cache/sl_TripUpdates_2022_12_06_8.feather\n",
      "File or folder already exists, so skipping task: data (datafolder)\n",
      "File or folder already exists, so skipping task: C:/Users/asus/AppData/Local/pykoda/pykoda/cache/sl-tripupdates-2022-12-06.bz2 (file)\n"
     ]
    },
    {
     "name": "stderr",
     "output_type": "stream",
     "text": [
      "C:\\Users\\asus\\AppData\\Local\\Programs\\Python\\Python312\\Lib\\site-packages\\pykoda\\data\\datautils.py:90: RuntimeWarning: The API did not return data for 2022-12-06 07:00:00\n",
      "  warnings.warn(RuntimeWarning(f'The API did not return data for {date_hour}'))\n",
      "C:\\Users\\asus\\AppData\\Local\\Programs\\Python\\Python312\\Lib\\site-packages\\pykoda\\data\\datautils.py:90: RuntimeWarning: The API did not return data for 2022-12-06 08:00:00\n",
      "  warnings.warn(RuntimeWarning(f'The API did not return data for {date_hour}'))\n",
      "Loading data:  29%|███████████████████▎                                              | 105/360 [06:22<20:21,  4.79s/it]C:\\Users\\asus\\AppData\\Local\\Programs\\Python\\Python312\\Lib\\site-packages\\pykoda\\data\\datautils.py:90: RuntimeWarning: The API did not return data for 2022-12-06 09:00:00\n",
      "  warnings.warn(RuntimeWarning(f'The API did not return data for {date_hour}'))\n",
      "C:\\Users\\asus\\AppData\\Local\\Programs\\Python\\Python312\\Lib\\site-packages\\pykoda\\data\\datautils.py:90: RuntimeWarning: The API did not return data for 2022-12-06 10:00:00\n",
      "  warnings.warn(RuntimeWarning(f'The API did not return data for {date_hour}'))\n",
      "Loading data:  30%|███████████████████▌                                              | 107/360 [06:22<14:14,  3.38s/it]"
     ]
    },
    {
     "name": "stdout",
     "output_type": "stream",
     "text": [
      "System tool failed: Command '['7z', 'e', '-oC:/Users/asus/AppData/Local/pykoda/pykoda/cache/sl-tripupdates-2022-12-06', 'C:/Users/asus/AppData/Local/pykoda/pykoda/cache/sl-tripupdates-2022-12-06.bz2']' returned non-zero exit status 255.\n",
      "None\n",
      "Executing python function, producing output(s): C:/Users/asus/AppData/Local/pykoda/pykoda/cache/sl_TripUpdates_2022_12_06_8.feather.tmp\n",
      "Getting C:/Users/asus/AppData/Local/pykoda/pykoda/cache/sl_TripUpdates_2022_12_06_9.feather\n",
      "File or folder already exists, so skipping task: data (datafolder)\n",
      "File or folder already exists, so skipping task: C:/Users/asus/AppData/Local/pykoda/pykoda/cache/sl-tripupdates-2022-12-06.bz2 (file)\n",
      "System tool failed: Command '['7z', 'e', '-oC:/Users/asus/AppData/Local/pykoda/pykoda/cache/sl-tripupdates-2022-12-06', 'C:/Users/asus/AppData/Local/pykoda/pykoda/cache/sl-tripupdates-2022-12-06.bz2']' returned non-zero exit status 255.\n",
      "None\n",
      "Executing python function, producing output(s): C:/Users/asus/AppData/Local/pykoda/pykoda/cache/sl_TripUpdates_2022_12_06_9.feather.tmp\n",
      "Getting C:/Users/asus/AppData/Local/pykoda/pykoda/cache/sl_TripUpdates_2022_12_06_10.feather\n",
      "File or folder already exists, so skipping task: data (datafolder)\n",
      "File or folder already exists, so skipping task: C:/Users/asus/AppData/Local/pykoda/pykoda/cache/sl-tripupdates-2022-12-06.bz2 (file)\n",
      "System tool failed: Command '['7z', 'e', '-oC:/Users/asus/AppData/Local/pykoda/pykoda/cache/sl-tripupdates-2022-12-06', 'C:/Users/asus/AppData/Local/pykoda/pykoda/cache/sl-tripupdates-2022-12-06.bz2']' returned non-zero exit status 255.\n",
      "None\n",
      "Executing python function, producing output(s): C:/Users/asus/AppData/Local/pykoda/pykoda/cache/sl_TripUpdates_2022_12_06_10.feather.tmp\n",
      "Getting C:/Users/asus/AppData/Local/pykoda/pykoda/cache/sl_TripUpdates_2022_12_06_11.feather\n",
      "File or folder already exists, so skipping task: data (datafolder)\n",
      "File or folder already exists, so skipping task: C:/Users/asus/AppData/Local/pykoda/pykoda/cache/sl-tripupdates-2022-12-06.bz2 (file)\n"
     ]
    },
    {
     "name": "stderr",
     "output_type": "stream",
     "text": [
      "C:\\Users\\asus\\AppData\\Local\\Programs\\Python\\Python312\\Lib\\site-packages\\pykoda\\data\\datautils.py:90: RuntimeWarning: The API did not return data for 2022-12-06 11:00:00\n",
      "  warnings.warn(RuntimeWarning(f'The API did not return data for {date_hour}'))\n",
      "C:\\Users\\asus\\AppData\\Local\\Programs\\Python\\Python312\\Lib\\site-packages\\pykoda\\data\\datautils.py:90: RuntimeWarning: The API did not return data for 2022-12-06 12:00:00\n",
      "  warnings.warn(RuntimeWarning(f'The API did not return data for {date_hour}'))\n",
      "Loading data:  30%|███████████████████▉                                              | 109/360 [06:22<09:58,  2.39s/it]"
     ]
    },
    {
     "name": "stdout",
     "output_type": "stream",
     "text": [
      "System tool failed: Command '['7z', 'e', '-oC:/Users/asus/AppData/Local/pykoda/pykoda/cache/sl-tripupdates-2022-12-06', 'C:/Users/asus/AppData/Local/pykoda/pykoda/cache/sl-tripupdates-2022-12-06.bz2']' returned non-zero exit status 255.\n",
      "None\n",
      "Executing python function, producing output(s): C:/Users/asus/AppData/Local/pykoda/pykoda/cache/sl_TripUpdates_2022_12_06_11.feather.tmp\n",
      "Getting C:/Users/asus/AppData/Local/pykoda/pykoda/cache/sl_TripUpdates_2022_12_06_12.feather\n",
      "File or folder already exists, so skipping task: data (datafolder)\n",
      "File or folder already exists, so skipping task: C:/Users/asus/AppData/Local/pykoda/pykoda/cache/sl-tripupdates-2022-12-06.bz2 (file)\n",
      "System tool failed: Command '['7z', 'e', '-oC:/Users/asus/AppData/Local/pykoda/pykoda/cache/sl-tripupdates-2022-12-06', 'C:/Users/asus/AppData/Local/pykoda/pykoda/cache/sl-tripupdates-2022-12-06.bz2']' returned non-zero exit status 255.\n",
      "None\n",
      "Executing python function, producing output(s): C:/Users/asus/AppData/Local/pykoda/pykoda/cache/sl_TripUpdates_2022_12_06_12.feather.tmp\n",
      "Getting C:/Users/asus/AppData/Local/pykoda/pykoda/cache/sl_TripUpdates_2022_12_06_13.feather\n",
      "File or folder already exists, so skipping task: data (datafolder)\n",
      "File or folder already exists, so skipping task: C:/Users/asus/AppData/Local/pykoda/pykoda/cache/sl-tripupdates-2022-12-06.bz2 (file)\n",
      "System tool failed: Command '['7z', 'e', '-oC:/Users/asus/AppData/Local/pykoda/pykoda/cache/sl-tripupdates-2022-12-06', 'C:/Users/asus/AppData/Local/pykoda/pykoda/cache/sl-tripupdates-2022-12-06.bz2']' returned non-zero exit status 255.\n",
      "None\n",
      "Executing python function, producing output(s): C:/Users/asus/AppData/Local/pykoda/pykoda/cache/sl_TripUpdates_2022_12_06_13.feather.tmp\n",
      "Getting C:/Users/asus/AppData/Local/pykoda/pykoda/cache/sl_TripUpdates_2022_12_06_14.feather\n",
      "File or folder already exists, so skipping task: data (datafolder)\n",
      "File or folder already exists, so skipping task: C:/Users/asus/AppData/Local/pykoda/pykoda/cache/sl-tripupdates-2022-12-06.bz2 (file)\n"
     ]
    },
    {
     "name": "stderr",
     "output_type": "stream",
     "text": [
      "C:\\Users\\asus\\AppData\\Local\\Programs\\Python\\Python312\\Lib\\site-packages\\pykoda\\data\\datautils.py:90: RuntimeWarning: The API did not return data for 2022-12-06 13:00:00\n",
      "  warnings.warn(RuntimeWarning(f'The API did not return data for {date_hour}'))\n",
      "C:\\Users\\asus\\AppData\\Local\\Programs\\Python\\Python312\\Lib\\site-packages\\pykoda\\data\\datautils.py:90: RuntimeWarning: The API did not return data for 2022-12-06 14:00:00\n",
      "  warnings.warn(RuntimeWarning(f'The API did not return data for {date_hour}'))\n",
      "Loading data:  31%|████████████████████▎                                             | 111/360 [06:22<07:01,  1.69s/it]C:\\Users\\asus\\AppData\\Local\\Programs\\Python\\Python312\\Lib\\site-packages\\pykoda\\data\\datautils.py:90: RuntimeWarning: The API did not return data for 2022-12-06 15:00:00\n",
      "  warnings.warn(RuntimeWarning(f'The API did not return data for {date_hour}'))\n",
      "C:\\Users\\asus\\AppData\\Local\\Programs\\Python\\Python312\\Lib\\site-packages\\pykoda\\data\\datautils.py:90: RuntimeWarning: The API did not return data for 2022-12-06 16:00:00\n",
      "  warnings.warn(RuntimeWarning(f'The API did not return data for {date_hour}'))\n",
      "Loading data:  31%|████████████████████▋                                             | 113/360 [06:22<04:58,  1.21s/it]"
     ]
    },
    {
     "name": "stdout",
     "output_type": "stream",
     "text": [
      "System tool failed: Command '['7z', 'e', '-oC:/Users/asus/AppData/Local/pykoda/pykoda/cache/sl-tripupdates-2022-12-06', 'C:/Users/asus/AppData/Local/pykoda/pykoda/cache/sl-tripupdates-2022-12-06.bz2']' returned non-zero exit status 255.\n",
      "None\n",
      "Executing python function, producing output(s): C:/Users/asus/AppData/Local/pykoda/pykoda/cache/sl_TripUpdates_2022_12_06_14.feather.tmp\n",
      "Getting C:/Users/asus/AppData/Local/pykoda/pykoda/cache/sl_TripUpdates_2022_12_06_15.feather\n",
      "File or folder already exists, so skipping task: data (datafolder)\n",
      "File or folder already exists, so skipping task: C:/Users/asus/AppData/Local/pykoda/pykoda/cache/sl-tripupdates-2022-12-06.bz2 (file)\n",
      "System tool failed: Command '['7z', 'e', '-oC:/Users/asus/AppData/Local/pykoda/pykoda/cache/sl-tripupdates-2022-12-06', 'C:/Users/asus/AppData/Local/pykoda/pykoda/cache/sl-tripupdates-2022-12-06.bz2']' returned non-zero exit status 255.\n",
      "None\n",
      "Executing python function, producing output(s): C:/Users/asus/AppData/Local/pykoda/pykoda/cache/sl_TripUpdates_2022_12_06_15.feather.tmp\n",
      "Getting C:/Users/asus/AppData/Local/pykoda/pykoda/cache/sl_TripUpdates_2022_12_06_16.feather\n",
      "File or folder already exists, so skipping task: data (datafolder)\n",
      "File or folder already exists, so skipping task: C:/Users/asus/AppData/Local/pykoda/pykoda/cache/sl-tripupdates-2022-12-06.bz2 (file)\n",
      "System tool failed: Command '['7z', 'e', '-oC:/Users/asus/AppData/Local/pykoda/pykoda/cache/sl-tripupdates-2022-12-06', 'C:/Users/asus/AppData/Local/pykoda/pykoda/cache/sl-tripupdates-2022-12-06.bz2']' returned non-zero exit status 255.\n",
      "None\n",
      "Executing python function, producing output(s): C:/Users/asus/AppData/Local/pykoda/pykoda/cache/sl_TripUpdates_2022_12_06_16.feather.tmp\n",
      "Getting C:/Users/asus/AppData/Local/pykoda/pykoda/cache/sl_TripUpdates_2022_12_06_17.feather\n",
      "File or folder already exists, so skipping task: data (datafolder)\n",
      "File or folder already exists, so skipping task: C:/Users/asus/AppData/Local/pykoda/pykoda/cache/sl-tripupdates-2022-12-06.bz2 (file)\n"
     ]
    },
    {
     "name": "stderr",
     "output_type": "stream",
     "text": [
      "C:\\Users\\asus\\AppData\\Local\\Programs\\Python\\Python312\\Lib\\site-packages\\pykoda\\data\\datautils.py:90: RuntimeWarning: The API did not return data for 2022-12-06 17:00:00\n",
      "  warnings.warn(RuntimeWarning(f'The API did not return data for {date_hour}'))\n",
      "C:\\Users\\asus\\AppData\\Local\\Programs\\Python\\Python312\\Lib\\site-packages\\pykoda\\data\\datautils.py:90: RuntimeWarning: The API did not return data for 2022-12-06 18:00:00\n",
      "  warnings.warn(RuntimeWarning(f'The API did not return data for {date_hour}'))\n",
      "Loading data:  32%|█████████████████████                                             | 115/360 [06:22<03:33,  1.15it/s]"
     ]
    },
    {
     "name": "stdout",
     "output_type": "stream",
     "text": [
      "System tool failed: Command '['7z', 'e', '-oC:/Users/asus/AppData/Local/pykoda/pykoda/cache/sl-tripupdates-2022-12-06', 'C:/Users/asus/AppData/Local/pykoda/pykoda/cache/sl-tripupdates-2022-12-06.bz2']' returned non-zero exit status 255.\n",
      "None\n",
      "Executing python function, producing output(s): C:/Users/asus/AppData/Local/pykoda/pykoda/cache/sl_TripUpdates_2022_12_06_17.feather.tmp\n",
      "Getting C:/Users/asus/AppData/Local/pykoda/pykoda/cache/sl_TripUpdates_2022_12_06_18.feather\n",
      "File or folder already exists, so skipping task: data (datafolder)\n",
      "File or folder already exists, so skipping task: C:/Users/asus/AppData/Local/pykoda/pykoda/cache/sl-tripupdates-2022-12-06.bz2 (file)\n",
      "System tool failed: Command '['7z', 'e', '-oC:/Users/asus/AppData/Local/pykoda/pykoda/cache/sl-tripupdates-2022-12-06', 'C:/Users/asus/AppData/Local/pykoda/pykoda/cache/sl-tripupdates-2022-12-06.bz2']' returned non-zero exit status 255.\n",
      "None\n",
      "Executing python function, producing output(s): C:/Users/asus/AppData/Local/pykoda/pykoda/cache/sl_TripUpdates_2022_12_06_18.feather.tmp\n",
      "Getting C:/Users/asus/AppData/Local/pykoda/pykoda/cache/sl_TripUpdates_2022_12_06_19.feather\n",
      "File or folder already exists, so skipping task: data (datafolder)\n",
      "File or folder already exists, so skipping task: C:/Users/asus/AppData/Local/pykoda/pykoda/cache/sl-tripupdates-2022-12-06.bz2 (file)\n"
     ]
    },
    {
     "name": "stderr",
     "output_type": "stream",
     "text": [
      "C:\\Users\\asus\\AppData\\Local\\Programs\\Python\\Python312\\Lib\\site-packages\\pykoda\\data\\datautils.py:90: RuntimeWarning: The API did not return data for 2022-12-06 19:00:00\n",
      "  warnings.warn(RuntimeWarning(f'The API did not return data for {date_hour}'))\n",
      "C:\\Users\\asus\\AppData\\Local\\Programs\\Python\\Python312\\Lib\\site-packages\\pykoda\\data\\datautils.py:90: RuntimeWarning: The API did not return data for 2022-12-06 20:00:00\n",
      "  warnings.warn(RuntimeWarning(f'The API did not return data for {date_hour}'))\n",
      "Loading data:  32%|█████████████████████▍                                            | 117/360 [06:23<02:36,  1.56it/s]"
     ]
    },
    {
     "name": "stdout",
     "output_type": "stream",
     "text": [
      "System tool failed: Command '['7z', 'e', '-oC:/Users/asus/AppData/Local/pykoda/pykoda/cache/sl-tripupdates-2022-12-06', 'C:/Users/asus/AppData/Local/pykoda/pykoda/cache/sl-tripupdates-2022-12-06.bz2']' returned non-zero exit status 255.\n",
      "None\n",
      "Executing python function, producing output(s): C:/Users/asus/AppData/Local/pykoda/pykoda/cache/sl_TripUpdates_2022_12_06_19.feather.tmp\n",
      "Getting C:/Users/asus/AppData/Local/pykoda/pykoda/cache/sl_TripUpdates_2022_12_06_20.feather\n",
      "File or folder already exists, so skipping task: data (datafolder)\n",
      "File or folder already exists, so skipping task: C:/Users/asus/AppData/Local/pykoda/pykoda/cache/sl-tripupdates-2022-12-06.bz2 (file)\n",
      "System tool failed: Command '['7z', 'e', '-oC:/Users/asus/AppData/Local/pykoda/pykoda/cache/sl-tripupdates-2022-12-06', 'C:/Users/asus/AppData/Local/pykoda/pykoda/cache/sl-tripupdates-2022-12-06.bz2']' returned non-zero exit status 255.\n",
      "None\n",
      "Executing python function, producing output(s): C:/Users/asus/AppData/Local/pykoda/pykoda/cache/sl_TripUpdates_2022_12_06_20.feather.tmp\n",
      "Getting C:/Users/asus/AppData/Local/pykoda/pykoda/cache/sl_TripUpdates_2022_12_06_21.feather\n",
      "File or folder already exists, so skipping task: data (datafolder)\n",
      "File or folder already exists, so skipping task: C:/Users/asus/AppData/Local/pykoda/pykoda/cache/sl-tripupdates-2022-12-06.bz2 (file)\n",
      "System tool failed: Command '['7z', 'e', '-oC:/Users/asus/AppData/Local/pykoda/pykoda/cache/sl-tripupdates-2022-12-06', 'C:/Users/asus/AppData/Local/pykoda/pykoda/cache/sl-tripupdates-2022-12-06.bz2']' returned non-zero exit status 255.\n",
      "None\n",
      "Executing python function, producing output(s): C:/Users/asus/AppData/Local/pykoda/pykoda/cache/sl_TripUpdates_2022_12_06_21.feather.tmp\n",
      "Getting C:/Users/asus/AppData/Local/pykoda/pykoda/cache/sl_TripUpdates_2022_12_06_22.feather\n",
      "File or folder already exists, so skipping task: data (datafolder)\n",
      "File or folder already exists, so skipping task: C:/Users/asus/AppData/Local/pykoda/pykoda/cache/sl-tripupdates-2022-12-06.bz2 (file)\n"
     ]
    },
    {
     "name": "stderr",
     "output_type": "stream",
     "text": [
      "C:\\Users\\asus\\AppData\\Local\\Programs\\Python\\Python312\\Lib\\site-packages\\pykoda\\data\\datautils.py:90: RuntimeWarning: The API did not return data for 2022-12-06 21:00:00\n",
      "  warnings.warn(RuntimeWarning(f'The API did not return data for {date_hour}'))\n",
      "C:\\Users\\asus\\AppData\\Local\\Programs\\Python\\Python312\\Lib\\site-packages\\pykoda\\data\\datautils.py:90: RuntimeWarning: The API did not return data for 2022-12-06 22:00:00\n",
      "  warnings.warn(RuntimeWarning(f'The API did not return data for {date_hour}'))\n",
      "Loading data:  33%|█████████████████████▊                                            | 119/360 [06:23<01:53,  2.12it/s]C:\\Users\\asus\\AppData\\Local\\Programs\\Python\\Python312\\Lib\\site-packages\\pykoda\\data\\datautils.py:90: RuntimeWarning: The API did not return data for 2022-12-06 23:00:00\n",
      "  warnings.warn(RuntimeWarning(f'The API did not return data for {date_hour}'))\n"
     ]
    },
    {
     "name": "stdout",
     "output_type": "stream",
     "text": [
      "System tool failed: Command '['7z', 'e', '-oC:/Users/asus/AppData/Local/pykoda/pykoda/cache/sl-tripupdates-2022-12-06', 'C:/Users/asus/AppData/Local/pykoda/pykoda/cache/sl-tripupdates-2022-12-06.bz2']' returned non-zero exit status 255.\n",
      "None\n",
      "Executing python function, producing output(s): C:/Users/asus/AppData/Local/pykoda/pykoda/cache/sl_TripUpdates_2022_12_06_22.feather.tmp\n",
      "Getting C:/Users/asus/AppData/Local/pykoda/pykoda/cache/sl_TripUpdates_2022_12_06_23.feather\n",
      "File or folder already exists, so skipping task: data (datafolder)\n",
      "File or folder already exists, so skipping task: C:/Users/asus/AppData/Local/pykoda/pykoda/cache/sl-tripupdates-2022-12-06.bz2 (file)\n",
      "System tool failed: Command '['7z', 'e', '-oC:/Users/asus/AppData/Local/pykoda/pykoda/cache/sl-tripupdates-2022-12-06', 'C:/Users/asus/AppData/Local/pykoda/pykoda/cache/sl-tripupdates-2022-12-06.bz2']' returned non-zero exit status 255.\n",
      "None\n",
      "Executing python function, producing output(s): C:/Users/asus/AppData/Local/pykoda/pykoda/cache/sl_TripUpdates_2022_12_06_23.feather.tmp\n",
      "Getting C:/Users/asus/AppData/Local/pykoda/pykoda/cache/sl_TripUpdates_2022_12_07_0.feather\n",
      "File or folder already exists, so skipping task: data (datafolder)\n",
      "Executing python function, producing output(s): C:/Users/asus/AppData/Local/pykoda/pykoda/cache/sl-tripupdates-2022-12-07.bz2.tmp\n",
      "C:/Users/asus/AppData/Local/pykoda/pykoda/cache/sl-tripupdates-2022-12-07.tar\n",
      "Executing python function, producing output(s): C:/Users/asus/AppData/Local/pykoda/pykoda/cache/sl_TripUpdates_2022_12_07_0.feather.tmp\n",
      "sl-tripupdates-2022-12-01T10\n"
     ]
    },
    {
     "name": "stderr",
     "output_type": "stream",
     "text": [
      "Loading data:  34%|█████████████████████▌                                          | 121/360 [08:37<1:21:44, 20.52s/it]C:\\Users\\asus\\AppData\\Local\\Programs\\Python\\Python312\\Lib\\site-packages\\pykoda\\data\\datautils.py:90: RuntimeWarning: The API did not return data for 2022-12-07 01:00:00\n",
      "  warnings.warn(RuntimeWarning(f'The API did not return data for {date_hour}'))\n",
      "C:\\Users\\asus\\AppData\\Local\\Programs\\Python\\Python312\\Lib\\site-packages\\pykoda\\data\\datautils.py:90: RuntimeWarning: The API did not return data for 2022-12-07 02:00:00\n",
      "  warnings.warn(RuntimeWarning(f'The API did not return data for {date_hour}'))\n",
      "Loading data:  34%|██████████████████████▌                                           | 123/360 [08:38<56:50, 14.39s/it]"
     ]
    },
    {
     "name": "stdout",
     "output_type": "stream",
     "text": [
      "Getting C:/Users/asus/AppData/Local/pykoda/pykoda/cache/sl_TripUpdates_2022_12_07_1.feather\n",
      "File or folder already exists, so skipping task: data (datafolder)\n",
      "File or folder already exists, so skipping task: C:/Users/asus/AppData/Local/pykoda/pykoda/cache/sl-tripupdates-2022-12-07.bz2 (file)\n",
      "System tool failed: Command '['7z', 'e', '-oC:/Users/asus/AppData/Local/pykoda/pykoda/cache/sl-tripupdates-2022-12-07', 'C:/Users/asus/AppData/Local/pykoda/pykoda/cache/sl-tripupdates-2022-12-07.bz2']' returned non-zero exit status 255.\n",
      "None\n",
      "Executing python function, producing output(s): C:/Users/asus/AppData/Local/pykoda/pykoda/cache/sl_TripUpdates_2022_12_07_1.feather.tmp\n",
      "Getting C:/Users/asus/AppData/Local/pykoda/pykoda/cache/sl_TripUpdates_2022_12_07_2.feather\n",
      "File or folder already exists, so skipping task: data (datafolder)\n",
      "File or folder already exists, so skipping task: C:/Users/asus/AppData/Local/pykoda/pykoda/cache/sl-tripupdates-2022-12-07.bz2 (file)\n",
      "System tool failed: Command '['7z', 'e', '-oC:/Users/asus/AppData/Local/pykoda/pykoda/cache/sl-tripupdates-2022-12-07', 'C:/Users/asus/AppData/Local/pykoda/pykoda/cache/sl-tripupdates-2022-12-07.bz2']' returned non-zero exit status 255.\n",
      "None\n",
      "Executing python function, producing output(s): C:/Users/asus/AppData/Local/pykoda/pykoda/cache/sl_TripUpdates_2022_12_07_2.feather.tmp\n",
      "Getting C:/Users/asus/AppData/Local/pykoda/pykoda/cache/sl_TripUpdates_2022_12_07_3.feather\n",
      "File or folder already exists, so skipping task: data (datafolder)\n",
      "File or folder already exists, so skipping task: C:/Users/asus/AppData/Local/pykoda/pykoda/cache/sl-tripupdates-2022-12-07.bz2 (file)\n"
     ]
    },
    {
     "name": "stderr",
     "output_type": "stream",
     "text": [
      "C:\\Users\\asus\\AppData\\Local\\Programs\\Python\\Python312\\Lib\\site-packages\\pykoda\\data\\datautils.py:90: RuntimeWarning: The API did not return data for 2022-12-07 03:00:00\n",
      "  warnings.warn(RuntimeWarning(f'The API did not return data for {date_hour}'))\n",
      "C:\\Users\\asus\\AppData\\Local\\Programs\\Python\\Python312\\Lib\\site-packages\\pykoda\\data\\datautils.py:90: RuntimeWarning: The API did not return data for 2022-12-07 04:00:00\n",
      "  warnings.warn(RuntimeWarning(f'The API did not return data for {date_hour}'))\n",
      "Loading data:  35%|██████████████████████▉                                           | 125/360 [08:38<39:32, 10.10s/it]"
     ]
    },
    {
     "name": "stdout",
     "output_type": "stream",
     "text": [
      "System tool failed: Command '['7z', 'e', '-oC:/Users/asus/AppData/Local/pykoda/pykoda/cache/sl-tripupdates-2022-12-07', 'C:/Users/asus/AppData/Local/pykoda/pykoda/cache/sl-tripupdates-2022-12-07.bz2']' returned non-zero exit status 255.\n",
      "None\n",
      "Executing python function, producing output(s): C:/Users/asus/AppData/Local/pykoda/pykoda/cache/sl_TripUpdates_2022_12_07_3.feather.tmp\n",
      "Getting C:/Users/asus/AppData/Local/pykoda/pykoda/cache/sl_TripUpdates_2022_12_07_4.feather\n",
      "File or folder already exists, so skipping task: data (datafolder)\n",
      "File or folder already exists, so skipping task: C:/Users/asus/AppData/Local/pykoda/pykoda/cache/sl-tripupdates-2022-12-07.bz2 (file)\n",
      "System tool failed: Command '['7z', 'e', '-oC:/Users/asus/AppData/Local/pykoda/pykoda/cache/sl-tripupdates-2022-12-07', 'C:/Users/asus/AppData/Local/pykoda/pykoda/cache/sl-tripupdates-2022-12-07.bz2']' returned non-zero exit status 255.\n",
      "None\n",
      "Executing python function, producing output(s): C:/Users/asus/AppData/Local/pykoda/pykoda/cache/sl_TripUpdates_2022_12_07_4.feather.tmp\n",
      "Getting C:/Users/asus/AppData/Local/pykoda/pykoda/cache/sl_TripUpdates_2022_12_07_5.feather\n",
      "File or folder already exists, so skipping task: data (datafolder)\n",
      "File or folder already exists, so skipping task: C:/Users/asus/AppData/Local/pykoda/pykoda/cache/sl-tripupdates-2022-12-07.bz2 (file)\n",
      "System tool failed: Command '['7z', 'e', '-oC:/Users/asus/AppData/Local/pykoda/pykoda/cache/sl-tripupdates-2022-12-07', 'C:/Users/asus/AppData/Local/pykoda/pykoda/cache/sl-tripupdates-2022-12-07.bz2']' returned non-zero exit status 255.\n",
      "None\n",
      "Executing python function, producing output(s): C:/Users/asus/AppData/Local/pykoda/pykoda/cache/sl_TripUpdates_2022_12_07_5.feather.tmp\n",
      "Getting C:/Users/asus/AppData/Local/pykoda/pykoda/cache/sl_TripUpdates_2022_12_07_6.feather\n",
      "File or folder already exists, so skipping task: data (datafolder)\n",
      "File or folder already exists, so skipping task: C:/Users/asus/AppData/Local/pykoda/pykoda/cache/sl-tripupdates-2022-12-07.bz2 (file)\n"
     ]
    },
    {
     "name": "stderr",
     "output_type": "stream",
     "text": [
      "C:\\Users\\asus\\AppData\\Local\\Programs\\Python\\Python312\\Lib\\site-packages\\pykoda\\data\\datautils.py:90: RuntimeWarning: The API did not return data for 2022-12-07 05:00:00\n",
      "  warnings.warn(RuntimeWarning(f'The API did not return data for {date_hour}'))\n",
      "C:\\Users\\asus\\AppData\\Local\\Programs\\Python\\Python312\\Lib\\site-packages\\pykoda\\data\\datautils.py:90: RuntimeWarning: The API did not return data for 2022-12-07 06:00:00\n",
      "  warnings.warn(RuntimeWarning(f'The API did not return data for {date_hour}'))\n",
      "Loading data:  35%|███████████████████████▎                                          | 127/360 [08:38<27:31,  7.09s/it]C:\\Users\\asus\\AppData\\Local\\Programs\\Python\\Python312\\Lib\\site-packages\\pykoda\\data\\datautils.py:90: RuntimeWarning: The API did not return data for 2022-12-07 07:00:00\n",
      "  warnings.warn(RuntimeWarning(f'The API did not return data for {date_hour}'))\n",
      "C:\\Users\\asus\\AppData\\Local\\Programs\\Python\\Python312\\Lib\\site-packages\\pykoda\\data\\datautils.py:90: RuntimeWarning: The API did not return data for 2022-12-07 08:00:00\n",
      "  warnings.warn(RuntimeWarning(f'The API did not return data for {date_hour}'))\n",
      "Loading data:  36%|███████████████████████▋                                          | 129/360 [08:38<19:11,  4.98s/it]"
     ]
    },
    {
     "name": "stdout",
     "output_type": "stream",
     "text": [
      "System tool failed: Command '['7z', 'e', '-oC:/Users/asus/AppData/Local/pykoda/pykoda/cache/sl-tripupdates-2022-12-07', 'C:/Users/asus/AppData/Local/pykoda/pykoda/cache/sl-tripupdates-2022-12-07.bz2']' returned non-zero exit status 255.\n",
      "None\n",
      "Executing python function, producing output(s): C:/Users/asus/AppData/Local/pykoda/pykoda/cache/sl_TripUpdates_2022_12_07_6.feather.tmp\n",
      "Getting C:/Users/asus/AppData/Local/pykoda/pykoda/cache/sl_TripUpdates_2022_12_07_7.feather\n",
      "File or folder already exists, so skipping task: data (datafolder)\n",
      "File or folder already exists, so skipping task: C:/Users/asus/AppData/Local/pykoda/pykoda/cache/sl-tripupdates-2022-12-07.bz2 (file)\n",
      "System tool failed: Command '['7z', 'e', '-oC:/Users/asus/AppData/Local/pykoda/pykoda/cache/sl-tripupdates-2022-12-07', 'C:/Users/asus/AppData/Local/pykoda/pykoda/cache/sl-tripupdates-2022-12-07.bz2']' returned non-zero exit status 255.\n",
      "None\n",
      "Executing python function, producing output(s): C:/Users/asus/AppData/Local/pykoda/pykoda/cache/sl_TripUpdates_2022_12_07_7.feather.tmp\n",
      "Getting C:/Users/asus/AppData/Local/pykoda/pykoda/cache/sl_TripUpdates_2022_12_07_8.feather\n",
      "File or folder already exists, so skipping task: data (datafolder)\n",
      "File or folder already exists, so skipping task: C:/Users/asus/AppData/Local/pykoda/pykoda/cache/sl-tripupdates-2022-12-07.bz2 (file)\n",
      "System tool failed: Command '['7z', 'e', '-oC:/Users/asus/AppData/Local/pykoda/pykoda/cache/sl-tripupdates-2022-12-07', 'C:/Users/asus/AppData/Local/pykoda/pykoda/cache/sl-tripupdates-2022-12-07.bz2']' returned non-zero exit status 255.\n",
      "None\n",
      "Executing python function, producing output(s): C:/Users/asus/AppData/Local/pykoda/pykoda/cache/sl_TripUpdates_2022_12_07_8.feather.tmp\n",
      "Getting C:/Users/asus/AppData/Local/pykoda/pykoda/cache/sl_TripUpdates_2022_12_07_9.feather\n",
      "File or folder already exists, so skipping task: data (datafolder)\n",
      "File or folder already exists, so skipping task: C:/Users/asus/AppData/Local/pykoda/pykoda/cache/sl-tripupdates-2022-12-07.bz2 (file)\n"
     ]
    },
    {
     "name": "stderr",
     "output_type": "stream",
     "text": [
      "C:\\Users\\asus\\AppData\\Local\\Programs\\Python\\Python312\\Lib\\site-packages\\pykoda\\data\\datautils.py:90: RuntimeWarning: The API did not return data for 2022-12-07 09:00:00\n",
      "  warnings.warn(RuntimeWarning(f'The API did not return data for {date_hour}'))\n",
      "C:\\Users\\asus\\AppData\\Local\\Programs\\Python\\Python312\\Lib\\site-packages\\pykoda\\data\\datautils.py:90: RuntimeWarning: The API did not return data for 2022-12-07 10:00:00\n",
      "  warnings.warn(RuntimeWarning(f'The API did not return data for {date_hour}'))\n",
      "Loading data:  36%|████████████████████████                                          | 131/360 [08:38<13:24,  3.51s/it]"
     ]
    },
    {
     "name": "stdout",
     "output_type": "stream",
     "text": [
      "System tool failed: Command '['7z', 'e', '-oC:/Users/asus/AppData/Local/pykoda/pykoda/cache/sl-tripupdates-2022-12-07', 'C:/Users/asus/AppData/Local/pykoda/pykoda/cache/sl-tripupdates-2022-12-07.bz2']' returned non-zero exit status 255.\n",
      "None\n",
      "Executing python function, producing output(s): C:/Users/asus/AppData/Local/pykoda/pykoda/cache/sl_TripUpdates_2022_12_07_9.feather.tmp\n",
      "Getting C:/Users/asus/AppData/Local/pykoda/pykoda/cache/sl_TripUpdates_2022_12_07_10.feather\n",
      "File or folder already exists, so skipping task: data (datafolder)\n",
      "File or folder already exists, so skipping task: C:/Users/asus/AppData/Local/pykoda/pykoda/cache/sl-tripupdates-2022-12-07.bz2 (file)\n",
      "System tool failed: Command '['7z', 'e', '-oC:/Users/asus/AppData/Local/pykoda/pykoda/cache/sl-tripupdates-2022-12-07', 'C:/Users/asus/AppData/Local/pykoda/pykoda/cache/sl-tripupdates-2022-12-07.bz2']' returned non-zero exit status 255.\n",
      "None\n",
      "Executing python function, producing output(s): C:/Users/asus/AppData/Local/pykoda/pykoda/cache/sl_TripUpdates_2022_12_07_10.feather.tmp\n",
      "Getting C:/Users/asus/AppData/Local/pykoda/pykoda/cache/sl_TripUpdates_2022_12_07_11.feather\n",
      "File or folder already exists, so skipping task: data (datafolder)\n",
      "File or folder already exists, so skipping task: C:/Users/asus/AppData/Local/pykoda/pykoda/cache/sl-tripupdates-2022-12-07.bz2 (file)\n",
      "System tool failed: Command '['7z', 'e', '-oC:/Users/asus/AppData/Local/pykoda/pykoda/cache/sl-tripupdates-2022-12-07', 'C:/Users/asus/AppData/Local/pykoda/pykoda/cache/sl-tripupdates-2022-12-07.bz2']' returned non-zero exit status 255.\n",
      "None\n",
      "Executing python function, producing output(s): C:/Users/asus/AppData/Local/pykoda/pykoda/cache/sl_TripUpdates_2022_12_07_11.feather.tmp\n",
      "Getting C:/Users/asus/AppData/Local/pykoda/pykoda/cache/sl_TripUpdates_2022_12_07_12.feather\n",
      "File or folder already exists, so skipping task: data (datafolder)\n",
      "File or folder already exists, so skipping task: C:/Users/asus/AppData/Local/pykoda/pykoda/cache/sl-tripupdates-2022-12-07.bz2 (file)\n"
     ]
    },
    {
     "name": "stderr",
     "output_type": "stream",
     "text": [
      "C:\\Users\\asus\\AppData\\Local\\Programs\\Python\\Python312\\Lib\\site-packages\\pykoda\\data\\datautils.py:90: RuntimeWarning: The API did not return data for 2022-12-07 11:00:00\n",
      "  warnings.warn(RuntimeWarning(f'The API did not return data for {date_hour}'))\n",
      "C:\\Users\\asus\\AppData\\Local\\Programs\\Python\\Python312\\Lib\\site-packages\\pykoda\\data\\datautils.py:90: RuntimeWarning: The API did not return data for 2022-12-07 12:00:00\n",
      "  warnings.warn(RuntimeWarning(f'The API did not return data for {date_hour}'))\n",
      "Loading data:  37%|████████████████████████▍                                         | 133/360 [08:38<09:22,  2.48s/it]C:\\Users\\asus\\AppData\\Local\\Programs\\Python\\Python312\\Lib\\site-packages\\pykoda\\data\\datautils.py:90: RuntimeWarning: The API did not return data for 2022-12-07 13:00:00\n",
      "  warnings.warn(RuntimeWarning(f'The API did not return data for {date_hour}'))\n",
      "C:\\Users\\asus\\AppData\\Local\\Programs\\Python\\Python312\\Lib\\site-packages\\pykoda\\data\\datautils.py:90: RuntimeWarning: The API did not return data for 2022-12-07 14:00:00\n",
      "  warnings.warn(RuntimeWarning(f'The API did not return data for {date_hour}'))\n",
      "Loading data:  38%|████████████████████████▊                                         | 135/360 [08:39<06:36,  1.76s/it]"
     ]
    },
    {
     "name": "stdout",
     "output_type": "stream",
     "text": [
      "System tool failed: Command '['7z', 'e', '-oC:/Users/asus/AppData/Local/pykoda/pykoda/cache/sl-tripupdates-2022-12-07', 'C:/Users/asus/AppData/Local/pykoda/pykoda/cache/sl-tripupdates-2022-12-07.bz2']' returned non-zero exit status 255.\n",
      "None\n",
      "Executing python function, producing output(s): C:/Users/asus/AppData/Local/pykoda/pykoda/cache/sl_TripUpdates_2022_12_07_12.feather.tmp\n",
      "Getting C:/Users/asus/AppData/Local/pykoda/pykoda/cache/sl_TripUpdates_2022_12_07_13.feather\n",
      "File or folder already exists, so skipping task: data (datafolder)\n",
      "File or folder already exists, so skipping task: C:/Users/asus/AppData/Local/pykoda/pykoda/cache/sl-tripupdates-2022-12-07.bz2 (file)\n",
      "System tool failed: Command '['7z', 'e', '-oC:/Users/asus/AppData/Local/pykoda/pykoda/cache/sl-tripupdates-2022-12-07', 'C:/Users/asus/AppData/Local/pykoda/pykoda/cache/sl-tripupdates-2022-12-07.bz2']' returned non-zero exit status 255.\n",
      "None\n",
      "Executing python function, producing output(s): C:/Users/asus/AppData/Local/pykoda/pykoda/cache/sl_TripUpdates_2022_12_07_13.feather.tmp\n",
      "Getting C:/Users/asus/AppData/Local/pykoda/pykoda/cache/sl_TripUpdates_2022_12_07_14.feather\n",
      "File or folder already exists, so skipping task: data (datafolder)\n",
      "File or folder already exists, so skipping task: C:/Users/asus/AppData/Local/pykoda/pykoda/cache/sl-tripupdates-2022-12-07.bz2 (file)\n",
      "System tool failed: Command '['7z', 'e', '-oC:/Users/asus/AppData/Local/pykoda/pykoda/cache/sl-tripupdates-2022-12-07', 'C:/Users/asus/AppData/Local/pykoda/pykoda/cache/sl-tripupdates-2022-12-07.bz2']' returned non-zero exit status 255.\n",
      "None\n",
      "Executing python function, producing output(s): C:/Users/asus/AppData/Local/pykoda/pykoda/cache/sl_TripUpdates_2022_12_07_14.feather.tmp\n",
      "Getting C:/Users/asus/AppData/Local/pykoda/pykoda/cache/sl_TripUpdates_2022_12_07_15.feather\n",
      "File or folder already exists, so skipping task: data (datafolder)\n",
      "File or folder already exists, so skipping task: C:/Users/asus/AppData/Local/pykoda/pykoda/cache/sl-tripupdates-2022-12-07.bz2 (file)\n"
     ]
    },
    {
     "name": "stderr",
     "output_type": "stream",
     "text": [
      "C:\\Users\\asus\\AppData\\Local\\Programs\\Python\\Python312\\Lib\\site-packages\\pykoda\\data\\datautils.py:90: RuntimeWarning: The API did not return data for 2022-12-07 15:00:00\n",
      "  warnings.warn(RuntimeWarning(f'The API did not return data for {date_hour}'))\n",
      "C:\\Users\\asus\\AppData\\Local\\Programs\\Python\\Python312\\Lib\\site-packages\\pykoda\\data\\datautils.py:90: RuntimeWarning: The API did not return data for 2022-12-07 16:00:00\n",
      "  warnings.warn(RuntimeWarning(f'The API did not return data for {date_hour}'))\n",
      "Loading data:  38%|█████████████████████████                                         | 137/360 [08:39<04:39,  1.25s/it]"
     ]
    },
    {
     "name": "stdout",
     "output_type": "stream",
     "text": [
      "System tool failed: Command '['7z', 'e', '-oC:/Users/asus/AppData/Local/pykoda/pykoda/cache/sl-tripupdates-2022-12-07', 'C:/Users/asus/AppData/Local/pykoda/pykoda/cache/sl-tripupdates-2022-12-07.bz2']' returned non-zero exit status 255.\n",
      "None\n",
      "Executing python function, producing output(s): C:/Users/asus/AppData/Local/pykoda/pykoda/cache/sl_TripUpdates_2022_12_07_15.feather.tmp\n",
      "Getting C:/Users/asus/AppData/Local/pykoda/pykoda/cache/sl_TripUpdates_2022_12_07_16.feather\n",
      "File or folder already exists, so skipping task: data (datafolder)\n",
      "File or folder already exists, so skipping task: C:/Users/asus/AppData/Local/pykoda/pykoda/cache/sl-tripupdates-2022-12-07.bz2 (file)\n",
      "System tool failed: Command '['7z', 'e', '-oC:/Users/asus/AppData/Local/pykoda/pykoda/cache/sl-tripupdates-2022-12-07', 'C:/Users/asus/AppData/Local/pykoda/pykoda/cache/sl-tripupdates-2022-12-07.bz2']' returned non-zero exit status 255.\n",
      "None\n",
      "Executing python function, producing output(s): C:/Users/asus/AppData/Local/pykoda/pykoda/cache/sl_TripUpdates_2022_12_07_16.feather.tmp\n",
      "Getting C:/Users/asus/AppData/Local/pykoda/pykoda/cache/sl_TripUpdates_2022_12_07_17.feather\n",
      "File or folder already exists, so skipping task: data (datafolder)\n",
      "File or folder already exists, so skipping task: C:/Users/asus/AppData/Local/pykoda/pykoda/cache/sl-tripupdates-2022-12-07.bz2 (file)\n",
      "System tool failed: Command '['7z', 'e', '-oC:/Users/asus/AppData/Local/pykoda/pykoda/cache/sl-tripupdates-2022-12-07', 'C:/Users/asus/AppData/Local/pykoda/pykoda/cache/sl-tripupdates-2022-12-07.bz2']' returned non-zero exit status 255.\n",
      "None\n",
      "Executing python function, producing output(s): C:/Users/asus/AppData/Local/pykoda/pykoda/cache/sl_TripUpdates_2022_12_07_17.feather.tmp\n",
      "Getting C:/Users/asus/AppData/Local/pykoda/pykoda/cache/sl_TripUpdates_2022_12_07_18.feather\n",
      "File or folder already exists, so skipping task: data (datafolder)\n",
      "File or folder already exists, so skipping task: C:/Users/asus/AppData/Local/pykoda/pykoda/cache/sl-tripupdates-2022-12-07.bz2 (file)\n"
     ]
    },
    {
     "name": "stderr",
     "output_type": "stream",
     "text": [
      "C:\\Users\\asus\\AppData\\Local\\Programs\\Python\\Python312\\Lib\\site-packages\\pykoda\\data\\datautils.py:90: RuntimeWarning: The API did not return data for 2022-12-07 17:00:00\n",
      "  warnings.warn(RuntimeWarning(f'The API did not return data for {date_hour}'))\n",
      "C:\\Users\\asus\\AppData\\Local\\Programs\\Python\\Python312\\Lib\\site-packages\\pykoda\\data\\datautils.py:90: RuntimeWarning: The API did not return data for 2022-12-07 18:00:00\n",
      "  warnings.warn(RuntimeWarning(f'The API did not return data for {date_hour}'))\n",
      "Loading data:  39%|█████████████████████████▍                                        | 139/360 [08:39<03:18,  1.11it/s]C:\\Users\\asus\\AppData\\Local\\Programs\\Python\\Python312\\Lib\\site-packages\\pykoda\\data\\datautils.py:90: RuntimeWarning: The API did not return data for 2022-12-07 19:00:00\n",
      "  warnings.warn(RuntimeWarning(f'The API did not return data for {date_hour}'))\n",
      "C:\\Users\\asus\\AppData\\Local\\Programs\\Python\\Python312\\Lib\\site-packages\\pykoda\\data\\datautils.py:90: RuntimeWarning: The API did not return data for 2022-12-07 20:00:00\n",
      "  warnings.warn(RuntimeWarning(f'The API did not return data for {date_hour}'))\n",
      "Loading data:  39%|█████████████████████████▊                                        | 141/360 [08:39<02:22,  1.53it/s]"
     ]
    },
    {
     "name": "stdout",
     "output_type": "stream",
     "text": [
      "System tool failed: Command '['7z', 'e', '-oC:/Users/asus/AppData/Local/pykoda/pykoda/cache/sl-tripupdates-2022-12-07', 'C:/Users/asus/AppData/Local/pykoda/pykoda/cache/sl-tripupdates-2022-12-07.bz2']' returned non-zero exit status 255.\n",
      "None\n",
      "Executing python function, producing output(s): C:/Users/asus/AppData/Local/pykoda/pykoda/cache/sl_TripUpdates_2022_12_07_18.feather.tmp\n",
      "Getting C:/Users/asus/AppData/Local/pykoda/pykoda/cache/sl_TripUpdates_2022_12_07_19.feather\n",
      "File or folder already exists, so skipping task: data (datafolder)\n",
      "File or folder already exists, so skipping task: C:/Users/asus/AppData/Local/pykoda/pykoda/cache/sl-tripupdates-2022-12-07.bz2 (file)\n",
      "System tool failed: Command '['7z', 'e', '-oC:/Users/asus/AppData/Local/pykoda/pykoda/cache/sl-tripupdates-2022-12-07', 'C:/Users/asus/AppData/Local/pykoda/pykoda/cache/sl-tripupdates-2022-12-07.bz2']' returned non-zero exit status 255.\n",
      "None\n",
      "Executing python function, producing output(s): C:/Users/asus/AppData/Local/pykoda/pykoda/cache/sl_TripUpdates_2022_12_07_19.feather.tmp\n",
      "Getting C:/Users/asus/AppData/Local/pykoda/pykoda/cache/sl_TripUpdates_2022_12_07_20.feather\n",
      "File or folder already exists, so skipping task: data (datafolder)\n",
      "File or folder already exists, so skipping task: C:/Users/asus/AppData/Local/pykoda/pykoda/cache/sl-tripupdates-2022-12-07.bz2 (file)\n",
      "System tool failed: Command '['7z', 'e', '-oC:/Users/asus/AppData/Local/pykoda/pykoda/cache/sl-tripupdates-2022-12-07', 'C:/Users/asus/AppData/Local/pykoda/pykoda/cache/sl-tripupdates-2022-12-07.bz2']' returned non-zero exit status 255.\n",
      "None\n",
      "Executing python function, producing output(s): C:/Users/asus/AppData/Local/pykoda/pykoda/cache/sl_TripUpdates_2022_12_07_20.feather.tmp\n",
      "Getting C:/Users/asus/AppData/Local/pykoda/pykoda/cache/sl_TripUpdates_2022_12_07_21.feather\n",
      "File or folder already exists, so skipping task: data (datafolder)\n",
      "File or folder already exists, so skipping task: C:/Users/asus/AppData/Local/pykoda/pykoda/cache/sl-tripupdates-2022-12-07.bz2 (file)\n"
     ]
    },
    {
     "name": "stderr",
     "output_type": "stream",
     "text": [
      "C:\\Users\\asus\\AppData\\Local\\Programs\\Python\\Python312\\Lib\\site-packages\\pykoda\\data\\datautils.py:90: RuntimeWarning: The API did not return data for 2022-12-07 21:00:00\n",
      "  warnings.warn(RuntimeWarning(f'The API did not return data for {date_hour}'))\n",
      "C:\\Users\\asus\\AppData\\Local\\Programs\\Python\\Python312\\Lib\\site-packages\\pykoda\\data\\datautils.py:90: RuntimeWarning: The API did not return data for 2022-12-07 22:00:00\n",
      "  warnings.warn(RuntimeWarning(f'The API did not return data for {date_hour}'))\n",
      "Loading data:  40%|██████████████████████████▏                                       | 143/360 [08:39<01:44,  2.08it/s]"
     ]
    },
    {
     "name": "stdout",
     "output_type": "stream",
     "text": [
      "System tool failed: Command '['7z', 'e', '-oC:/Users/asus/AppData/Local/pykoda/pykoda/cache/sl-tripupdates-2022-12-07', 'C:/Users/asus/AppData/Local/pykoda/pykoda/cache/sl-tripupdates-2022-12-07.bz2']' returned non-zero exit status 255.\n",
      "None\n",
      "Executing python function, producing output(s): C:/Users/asus/AppData/Local/pykoda/pykoda/cache/sl_TripUpdates_2022_12_07_21.feather.tmp\n",
      "Getting C:/Users/asus/AppData/Local/pykoda/pykoda/cache/sl_TripUpdates_2022_12_07_22.feather\n",
      "File or folder already exists, so skipping task: data (datafolder)\n",
      "File or folder already exists, so skipping task: C:/Users/asus/AppData/Local/pykoda/pykoda/cache/sl-tripupdates-2022-12-07.bz2 (file)\n",
      "System tool failed: Command '['7z', 'e', '-oC:/Users/asus/AppData/Local/pykoda/pykoda/cache/sl-tripupdates-2022-12-07', 'C:/Users/asus/AppData/Local/pykoda/pykoda/cache/sl-tripupdates-2022-12-07.bz2']' returned non-zero exit status 255.\n",
      "None\n",
      "Executing python function, producing output(s): C:/Users/asus/AppData/Local/pykoda/pykoda/cache/sl_TripUpdates_2022_12_07_22.feather.tmp\n",
      "Getting C:/Users/asus/AppData/Local/pykoda/pykoda/cache/sl_TripUpdates_2022_12_07_23.feather\n",
      "File or folder already exists, so skipping task: data (datafolder)\n",
      "File or folder already exists, so skipping task: C:/Users/asus/AppData/Local/pykoda/pykoda/cache/sl-tripupdates-2022-12-07.bz2 (file)\n",
      "System tool failed: Command '['7z', 'e', '-oC:/Users/asus/AppData/Local/pykoda/pykoda/cache/sl-tripupdates-2022-12-07', 'C:/Users/asus/AppData/Local/pykoda/pykoda/cache/sl-tripupdates-2022-12-07.bz2']' returned non-zero exit status 255.\n",
      "None\n",
      "Executing python function, producing output(s): C:/Users/asus/AppData/Local/pykoda/pykoda/cache/sl_TripUpdates_2022_12_07_23.feather.tmp\n",
      "Getting C:/Users/asus/AppData/Local/pykoda/pykoda/cache/sl_TripUpdates_2022_12_08_0.feather\n",
      "File or folder already exists, so skipping task: data (datafolder)\n",
      "Executing python function, producing output(s): C:/Users/asus/AppData/Local/pykoda/pykoda/cache/sl-tripupdates-2022-12-08.bz2.tmp\n"
     ]
    },
    {
     "name": "stderr",
     "output_type": "stream",
     "text": [
      "C:\\Users\\asus\\AppData\\Local\\Programs\\Python\\Python312\\Lib\\site-packages\\pykoda\\data\\datautils.py:90: RuntimeWarning: The API did not return data for 2022-12-07 23:00:00\n",
      "  warnings.warn(RuntimeWarning(f'The API did not return data for {date_hour}'))\n"
     ]
    },
    {
     "name": "stdout",
     "output_type": "stream",
     "text": [
      "C:/Users/asus/AppData/Local/pykoda/pykoda/cache/sl-tripupdates-2022-12-08.tar\n",
      "Executing python function, producing output(s): C:/Users/asus/AppData/Local/pykoda/pykoda/cache/sl_TripUpdates_2022_12_08_0.feather.tmp\n",
      "sl-tripupdates-2022-12-01T10\n"
     ]
    },
    {
     "name": "stderr",
     "output_type": "stream",
     "text": [
      "Loading data:  40%|█████████████████████████▊                                      | 145/360 [10:47<1:09:44, 19.46s/it]C:\\Users\\asus\\AppData\\Local\\Programs\\Python\\Python312\\Lib\\site-packages\\pykoda\\data\\datautils.py:90: RuntimeWarning: The API did not return data for 2022-12-08 01:00:00\n",
      "  warnings.warn(RuntimeWarning(f'The API did not return data for {date_hour}'))\n",
      "C:\\Users\\asus\\AppData\\Local\\Programs\\Python\\Python312\\Lib\\site-packages\\pykoda\\data\\datautils.py:90: RuntimeWarning: The API did not return data for 2022-12-08 02:00:00\n",
      "  warnings.warn(RuntimeWarning(f'The API did not return data for {date_hour}'))\n",
      "Loading data:  41%|██████████████████████████▉                                       | 147/360 [10:47<48:27, 13.65s/it]"
     ]
    },
    {
     "name": "stdout",
     "output_type": "stream",
     "text": [
      "Getting C:/Users/asus/AppData/Local/pykoda/pykoda/cache/sl_TripUpdates_2022_12_08_1.feather\n",
      "File or folder already exists, so skipping task: data (datafolder)\n",
      "File or folder already exists, so skipping task: C:/Users/asus/AppData/Local/pykoda/pykoda/cache/sl-tripupdates-2022-12-08.bz2 (file)\n",
      "System tool failed: Command '['7z', 'e', '-oC:/Users/asus/AppData/Local/pykoda/pykoda/cache/sl-tripupdates-2022-12-08', 'C:/Users/asus/AppData/Local/pykoda/pykoda/cache/sl-tripupdates-2022-12-08.bz2']' returned non-zero exit status 255.\n",
      "None\n",
      "Executing python function, producing output(s): C:/Users/asus/AppData/Local/pykoda/pykoda/cache/sl_TripUpdates_2022_12_08_1.feather.tmp\n",
      "Getting C:/Users/asus/AppData/Local/pykoda/pykoda/cache/sl_TripUpdates_2022_12_08_2.feather\n",
      "File or folder already exists, so skipping task: data (datafolder)\n",
      "File or folder already exists, so skipping task: C:/Users/asus/AppData/Local/pykoda/pykoda/cache/sl-tripupdates-2022-12-08.bz2 (file)\n",
      "System tool failed: Command '['7z', 'e', '-oC:/Users/asus/AppData/Local/pykoda/pykoda/cache/sl-tripupdates-2022-12-08', 'C:/Users/asus/AppData/Local/pykoda/pykoda/cache/sl-tripupdates-2022-12-08.bz2']' returned non-zero exit status 255.\n",
      "None\n",
      "Executing python function, producing output(s): C:/Users/asus/AppData/Local/pykoda/pykoda/cache/sl_TripUpdates_2022_12_08_2.feather.tmp\n",
      "Getting C:/Users/asus/AppData/Local/pykoda/pykoda/cache/sl_TripUpdates_2022_12_08_3.feather\n",
      "File or folder already exists, so skipping task: data (datafolder)\n",
      "File or folder already exists, so skipping task: C:/Users/asus/AppData/Local/pykoda/pykoda/cache/sl-tripupdates-2022-12-08.bz2 (file)\n"
     ]
    },
    {
     "name": "stderr",
     "output_type": "stream",
     "text": [
      "C:\\Users\\asus\\AppData\\Local\\Programs\\Python\\Python312\\Lib\\site-packages\\pykoda\\data\\datautils.py:90: RuntimeWarning: The API did not return data for 2022-12-08 03:00:00\n",
      "  warnings.warn(RuntimeWarning(f'The API did not return data for {date_hour}'))\n",
      "C:\\Users\\asus\\AppData\\Local\\Programs\\Python\\Python312\\Lib\\site-packages\\pykoda\\data\\datautils.py:90: RuntimeWarning: The API did not return data for 2022-12-08 04:00:00\n",
      "  warnings.warn(RuntimeWarning(f'The API did not return data for {date_hour}'))\n",
      "Loading data:  41%|███████████████████████████▎                                      | 149/360 [10:47<33:40,  9.58s/it]"
     ]
    },
    {
     "name": "stdout",
     "output_type": "stream",
     "text": [
      "System tool failed: Command '['7z', 'e', '-oC:/Users/asus/AppData/Local/pykoda/pykoda/cache/sl-tripupdates-2022-12-08', 'C:/Users/asus/AppData/Local/pykoda/pykoda/cache/sl-tripupdates-2022-12-08.bz2']' returned non-zero exit status 255.\n",
      "None\n",
      "Executing python function, producing output(s): C:/Users/asus/AppData/Local/pykoda/pykoda/cache/sl_TripUpdates_2022_12_08_3.feather.tmp\n",
      "Getting C:/Users/asus/AppData/Local/pykoda/pykoda/cache/sl_TripUpdates_2022_12_08_4.feather\n",
      "File or folder already exists, so skipping task: data (datafolder)\n",
      "File or folder already exists, so skipping task: C:/Users/asus/AppData/Local/pykoda/pykoda/cache/sl-tripupdates-2022-12-08.bz2 (file)\n",
      "System tool failed: Command '['7z', 'e', '-oC:/Users/asus/AppData/Local/pykoda/pykoda/cache/sl-tripupdates-2022-12-08', 'C:/Users/asus/AppData/Local/pykoda/pykoda/cache/sl-tripupdates-2022-12-08.bz2']' returned non-zero exit status 255.\n",
      "None\n",
      "Executing python function, producing output(s): C:/Users/asus/AppData/Local/pykoda/pykoda/cache/sl_TripUpdates_2022_12_08_4.feather.tmp\n",
      "Getting C:/Users/asus/AppData/Local/pykoda/pykoda/cache/sl_TripUpdates_2022_12_08_5.feather\n",
      "File or folder already exists, so skipping task: data (datafolder)\n",
      "File or folder already exists, so skipping task: C:/Users/asus/AppData/Local/pykoda/pykoda/cache/sl-tripupdates-2022-12-08.bz2 (file)\n",
      "System tool failed: Command '['7z', 'e', '-oC:/Users/asus/AppData/Local/pykoda/pykoda/cache/sl-tripupdates-2022-12-08', 'C:/Users/asus/AppData/Local/pykoda/pykoda/cache/sl-tripupdates-2022-12-08.bz2']' returned non-zero exit status 255.\n",
      "None\n",
      "Executing python function, producing output(s): C:/Users/asus/AppData/Local/pykoda/pykoda/cache/sl_TripUpdates_2022_12_08_5.feather.tmp\n",
      "Getting C:/Users/asus/AppData/Local/pykoda/pykoda/cache/sl_TripUpdates_2022_12_08_6.feather\n",
      "File or folder already exists, so skipping task: data (datafolder)\n",
      "File or folder already exists, so skipping task: C:/Users/asus/AppData/Local/pykoda/pykoda/cache/sl-tripupdates-2022-12-08.bz2 (file)\n"
     ]
    },
    {
     "name": "stderr",
     "output_type": "stream",
     "text": [
      "C:\\Users\\asus\\AppData\\Local\\Programs\\Python\\Python312\\Lib\\site-packages\\pykoda\\data\\datautils.py:90: RuntimeWarning: The API did not return data for 2022-12-08 05:00:00\n",
      "  warnings.warn(RuntimeWarning(f'The API did not return data for {date_hour}'))\n",
      "C:\\Users\\asus\\AppData\\Local\\Programs\\Python\\Python312\\Lib\\site-packages\\pykoda\\data\\datautils.py:90: RuntimeWarning: The API did not return data for 2022-12-08 06:00:00\n",
      "  warnings.warn(RuntimeWarning(f'The API did not return data for {date_hour}'))\n",
      "Loading data:  42%|███████████████████████████▋                                      | 151/360 [10:47<23:26,  6.73s/it]C:\\Users\\asus\\AppData\\Local\\Programs\\Python\\Python312\\Lib\\site-packages\\pykoda\\data\\datautils.py:90: RuntimeWarning: The API did not return data for 2022-12-08 07:00:00\n",
      "  warnings.warn(RuntimeWarning(f'The API did not return data for {date_hour}'))\n",
      "C:\\Users\\asus\\AppData\\Local\\Programs\\Python\\Python312\\Lib\\site-packages\\pykoda\\data\\datautils.py:90: RuntimeWarning: The API did not return data for 2022-12-08 08:00:00\n",
      "  warnings.warn(RuntimeWarning(f'The API did not return data for {date_hour}'))\n",
      "Loading data:  42%|████████████████████████████                                      | 153/360 [10:47<16:19,  4.73s/it]"
     ]
    },
    {
     "name": "stdout",
     "output_type": "stream",
     "text": [
      "System tool failed: Command '['7z', 'e', '-oC:/Users/asus/AppData/Local/pykoda/pykoda/cache/sl-tripupdates-2022-12-08', 'C:/Users/asus/AppData/Local/pykoda/pykoda/cache/sl-tripupdates-2022-12-08.bz2']' returned non-zero exit status 255.\n",
      "None\n",
      "Executing python function, producing output(s): C:/Users/asus/AppData/Local/pykoda/pykoda/cache/sl_TripUpdates_2022_12_08_6.feather.tmp\n",
      "Getting C:/Users/asus/AppData/Local/pykoda/pykoda/cache/sl_TripUpdates_2022_12_08_7.feather\n",
      "File or folder already exists, so skipping task: data (datafolder)\n",
      "File or folder already exists, so skipping task: C:/Users/asus/AppData/Local/pykoda/pykoda/cache/sl-tripupdates-2022-12-08.bz2 (file)\n",
      "System tool failed: Command '['7z', 'e', '-oC:/Users/asus/AppData/Local/pykoda/pykoda/cache/sl-tripupdates-2022-12-08', 'C:/Users/asus/AppData/Local/pykoda/pykoda/cache/sl-tripupdates-2022-12-08.bz2']' returned non-zero exit status 255.\n",
      "None\n",
      "Executing python function, producing output(s): C:/Users/asus/AppData/Local/pykoda/pykoda/cache/sl_TripUpdates_2022_12_08_7.feather.tmp\n",
      "Getting C:/Users/asus/AppData/Local/pykoda/pykoda/cache/sl_TripUpdates_2022_12_08_8.feather\n",
      "File or folder already exists, so skipping task: data (datafolder)\n",
      "File or folder already exists, so skipping task: C:/Users/asus/AppData/Local/pykoda/pykoda/cache/sl-tripupdates-2022-12-08.bz2 (file)\n",
      "System tool failed: Command '['7z', 'e', '-oC:/Users/asus/AppData/Local/pykoda/pykoda/cache/sl-tripupdates-2022-12-08', 'C:/Users/asus/AppData/Local/pykoda/pykoda/cache/sl-tripupdates-2022-12-08.bz2']' returned non-zero exit status 255.\n",
      "None\n",
      "Executing python function, producing output(s): C:/Users/asus/AppData/Local/pykoda/pykoda/cache/sl_TripUpdates_2022_12_08_8.feather.tmp\n",
      "Getting C:/Users/asus/AppData/Local/pykoda/pykoda/cache/sl_TripUpdates_2022_12_08_9.feather\n",
      "File or folder already exists, so skipping task: data (datafolder)\n",
      "File or folder already exists, so skipping task: C:/Users/asus/AppData/Local/pykoda/pykoda/cache/sl-tripupdates-2022-12-08.bz2 (file)\n"
     ]
    },
    {
     "name": "stderr",
     "output_type": "stream",
     "text": [
      "C:\\Users\\asus\\AppData\\Local\\Programs\\Python\\Python312\\Lib\\site-packages\\pykoda\\data\\datautils.py:90: RuntimeWarning: The API did not return data for 2022-12-08 09:00:00\n",
      "  warnings.warn(RuntimeWarning(f'The API did not return data for {date_hour}'))\n",
      "C:\\Users\\asus\\AppData\\Local\\Programs\\Python\\Python312\\Lib\\site-packages\\pykoda\\data\\datautils.py:90: RuntimeWarning: The API did not return data for 2022-12-08 10:00:00\n",
      "  warnings.warn(RuntimeWarning(f'The API did not return data for {date_hour}'))\n",
      "Loading data:  43%|████████████████████████████▍                                     | 155/360 [10:47<11:24,  3.34s/it]"
     ]
    },
    {
     "name": "stdout",
     "output_type": "stream",
     "text": [
      "System tool failed: Command '['7z', 'e', '-oC:/Users/asus/AppData/Local/pykoda/pykoda/cache/sl-tripupdates-2022-12-08', 'C:/Users/asus/AppData/Local/pykoda/pykoda/cache/sl-tripupdates-2022-12-08.bz2']' returned non-zero exit status 255.\n",
      "None\n",
      "Executing python function, producing output(s): C:/Users/asus/AppData/Local/pykoda/pykoda/cache/sl_TripUpdates_2022_12_08_9.feather.tmp\n",
      "Getting C:/Users/asus/AppData/Local/pykoda/pykoda/cache/sl_TripUpdates_2022_12_08_10.feather\n",
      "File or folder already exists, so skipping task: data (datafolder)\n",
      "File or folder already exists, so skipping task: C:/Users/asus/AppData/Local/pykoda/pykoda/cache/sl-tripupdates-2022-12-08.bz2 (file)\n",
      "System tool failed: Command '['7z', 'e', '-oC:/Users/asus/AppData/Local/pykoda/pykoda/cache/sl-tripupdates-2022-12-08', 'C:/Users/asus/AppData/Local/pykoda/pykoda/cache/sl-tripupdates-2022-12-08.bz2']' returned non-zero exit status 255.\n",
      "None\n",
      "Executing python function, producing output(s): C:/Users/asus/AppData/Local/pykoda/pykoda/cache/sl_TripUpdates_2022_12_08_10.feather.tmp\n",
      "Getting C:/Users/asus/AppData/Local/pykoda/pykoda/cache/sl_TripUpdates_2022_12_08_11.feather\n",
      "File or folder already exists, so skipping task: data (datafolder)\n",
      "File or folder already exists, so skipping task: C:/Users/asus/AppData/Local/pykoda/pykoda/cache/sl-tripupdates-2022-12-08.bz2 (file)\n",
      "System tool failed: Command '['7z', 'e', '-oC:/Users/asus/AppData/Local/pykoda/pykoda/cache/sl-tripupdates-2022-12-08', 'C:/Users/asus/AppData/Local/pykoda/pykoda/cache/sl-tripupdates-2022-12-08.bz2']' returned non-zero exit status 255.\n",
      "None\n",
      "Executing python function, producing output(s): C:/Users/asus/AppData/Local/pykoda/pykoda/cache/sl_TripUpdates_2022_12_08_11.feather.tmp\n",
      "Getting C:/Users/asus/AppData/Local/pykoda/pykoda/cache/sl_TripUpdates_2022_12_08_12.feather\n",
      "File or folder already exists, so skipping task: data (datafolder)\n",
      "File or folder already exists, so skipping task: C:/Users/asus/AppData/Local/pykoda/pykoda/cache/sl-tripupdates-2022-12-08.bz2 (file)\n"
     ]
    },
    {
     "name": "stderr",
     "output_type": "stream",
     "text": [
      "C:\\Users\\asus\\AppData\\Local\\Programs\\Python\\Python312\\Lib\\site-packages\\pykoda\\data\\datautils.py:90: RuntimeWarning: The API did not return data for 2022-12-08 11:00:00\n",
      "  warnings.warn(RuntimeWarning(f'The API did not return data for {date_hour}'))\n",
      "C:\\Users\\asus\\AppData\\Local\\Programs\\Python\\Python312\\Lib\\site-packages\\pykoda\\data\\datautils.py:90: RuntimeWarning: The API did not return data for 2022-12-08 12:00:00\n",
      "  warnings.warn(RuntimeWarning(f'The API did not return data for {date_hour}'))\n",
      "Loading data:  44%|████████████████████████████▊                                     | 157/360 [10:48<07:59,  2.36s/it]C:\\Users\\asus\\AppData\\Local\\Programs\\Python\\Python312\\Lib\\site-packages\\pykoda\\data\\datautils.py:90: RuntimeWarning: The API did not return data for 2022-12-08 13:00:00\n",
      "  warnings.warn(RuntimeWarning(f'The API did not return data for {date_hour}'))\n",
      "C:\\Users\\asus\\AppData\\Local\\Programs\\Python\\Python312\\Lib\\site-packages\\pykoda\\data\\datautils.py:90: RuntimeWarning: The API did not return data for 2022-12-08 14:00:00\n",
      "  warnings.warn(RuntimeWarning(f'The API did not return data for {date_hour}'))\n",
      "Loading data:  44%|█████████████████████████████▏                                    | 159/360 [10:48<05:37,  1.68s/it]"
     ]
    },
    {
     "name": "stdout",
     "output_type": "stream",
     "text": [
      "System tool failed: Command '['7z', 'e', '-oC:/Users/asus/AppData/Local/pykoda/pykoda/cache/sl-tripupdates-2022-12-08', 'C:/Users/asus/AppData/Local/pykoda/pykoda/cache/sl-tripupdates-2022-12-08.bz2']' returned non-zero exit status 255.\n",
      "None\n",
      "Executing python function, producing output(s): C:/Users/asus/AppData/Local/pykoda/pykoda/cache/sl_TripUpdates_2022_12_08_12.feather.tmp\n",
      "Getting C:/Users/asus/AppData/Local/pykoda/pykoda/cache/sl_TripUpdates_2022_12_08_13.feather\n",
      "File or folder already exists, so skipping task: data (datafolder)\n",
      "File or folder already exists, so skipping task: C:/Users/asus/AppData/Local/pykoda/pykoda/cache/sl-tripupdates-2022-12-08.bz2 (file)\n",
      "System tool failed: Command '['7z', 'e', '-oC:/Users/asus/AppData/Local/pykoda/pykoda/cache/sl-tripupdates-2022-12-08', 'C:/Users/asus/AppData/Local/pykoda/pykoda/cache/sl-tripupdates-2022-12-08.bz2']' returned non-zero exit status 255.\n",
      "None\n",
      "Executing python function, producing output(s): C:/Users/asus/AppData/Local/pykoda/pykoda/cache/sl_TripUpdates_2022_12_08_13.feather.tmp\n",
      "Getting C:/Users/asus/AppData/Local/pykoda/pykoda/cache/sl_TripUpdates_2022_12_08_14.feather\n",
      "File or folder already exists, so skipping task: data (datafolder)\n",
      "File or folder already exists, so skipping task: C:/Users/asus/AppData/Local/pykoda/pykoda/cache/sl-tripupdates-2022-12-08.bz2 (file)\n",
      "System tool failed: Command '['7z', 'e', '-oC:/Users/asus/AppData/Local/pykoda/pykoda/cache/sl-tripupdates-2022-12-08', 'C:/Users/asus/AppData/Local/pykoda/pykoda/cache/sl-tripupdates-2022-12-08.bz2']' returned non-zero exit status 255.\n",
      "None\n",
      "Executing python function, producing output(s): C:/Users/asus/AppData/Local/pykoda/pykoda/cache/sl_TripUpdates_2022_12_08_14.feather.tmp\n",
      "Getting C:/Users/asus/AppData/Local/pykoda/pykoda/cache/sl_TripUpdates_2022_12_08_15.feather\n",
      "File or folder already exists, so skipping task: data (datafolder)\n",
      "File or folder already exists, so skipping task: C:/Users/asus/AppData/Local/pykoda/pykoda/cache/sl-tripupdates-2022-12-08.bz2 (file)\n"
     ]
    },
    {
     "name": "stderr",
     "output_type": "stream",
     "text": [
      "C:\\Users\\asus\\AppData\\Local\\Programs\\Python\\Python312\\Lib\\site-packages\\pykoda\\data\\datautils.py:90: RuntimeWarning: The API did not return data for 2022-12-08 15:00:00\n",
      "  warnings.warn(RuntimeWarning(f'The API did not return data for {date_hour}'))\n",
      "C:\\Users\\asus\\AppData\\Local\\Programs\\Python\\Python312\\Lib\\site-packages\\pykoda\\data\\datautils.py:90: RuntimeWarning: The API did not return data for 2022-12-08 16:00:00\n",
      "  warnings.warn(RuntimeWarning(f'The API did not return data for {date_hour}'))\n",
      "Loading data:  45%|█████████████████████████████▌                                    | 161/360 [10:48<03:58,  1.20s/it]"
     ]
    },
    {
     "name": "stdout",
     "output_type": "stream",
     "text": [
      "System tool failed: Command '['7z', 'e', '-oC:/Users/asus/AppData/Local/pykoda/pykoda/cache/sl-tripupdates-2022-12-08', 'C:/Users/asus/AppData/Local/pykoda/pykoda/cache/sl-tripupdates-2022-12-08.bz2']' returned non-zero exit status 255.\n",
      "None\n",
      "Executing python function, producing output(s): C:/Users/asus/AppData/Local/pykoda/pykoda/cache/sl_TripUpdates_2022_12_08_15.feather.tmp\n",
      "Getting C:/Users/asus/AppData/Local/pykoda/pykoda/cache/sl_TripUpdates_2022_12_08_16.feather\n",
      "File or folder already exists, so skipping task: data (datafolder)\n",
      "File or folder already exists, so skipping task: C:/Users/asus/AppData/Local/pykoda/pykoda/cache/sl-tripupdates-2022-12-08.bz2 (file)\n",
      "System tool failed: Command '['7z', 'e', '-oC:/Users/asus/AppData/Local/pykoda/pykoda/cache/sl-tripupdates-2022-12-08', 'C:/Users/asus/AppData/Local/pykoda/pykoda/cache/sl-tripupdates-2022-12-08.bz2']' returned non-zero exit status 255.\n",
      "None\n",
      "Executing python function, producing output(s): C:/Users/asus/AppData/Local/pykoda/pykoda/cache/sl_TripUpdates_2022_12_08_16.feather.tmp\n",
      "Getting C:/Users/asus/AppData/Local/pykoda/pykoda/cache/sl_TripUpdates_2022_12_08_17.feather\n",
      "File or folder already exists, so skipping task: data (datafolder)\n",
      "File or folder already exists, so skipping task: C:/Users/asus/AppData/Local/pykoda/pykoda/cache/sl-tripupdates-2022-12-08.bz2 (file)\n",
      "System tool failed: Command '['7z', 'e', '-oC:/Users/asus/AppData/Local/pykoda/pykoda/cache/sl-tripupdates-2022-12-08', 'C:/Users/asus/AppData/Local/pykoda/pykoda/cache/sl-tripupdates-2022-12-08.bz2']' returned non-zero exit status 255.\n",
      "None\n",
      "Executing python function, producing output(s): C:/Users/asus/AppData/Local/pykoda/pykoda/cache/sl_TripUpdates_2022_12_08_17.feather.tmp\n",
      "Getting C:/Users/asus/AppData/Local/pykoda/pykoda/cache/sl_TripUpdates_2022_12_08_18.feather\n",
      "File or folder already exists, so skipping task: data (datafolder)\n",
      "File or folder already exists, so skipping task: C:/Users/asus/AppData/Local/pykoda/pykoda/cache/sl-tripupdates-2022-12-08.bz2 (file)\n"
     ]
    },
    {
     "name": "stderr",
     "output_type": "stream",
     "text": [
      "C:\\Users\\asus\\AppData\\Local\\Programs\\Python\\Python312\\Lib\\site-packages\\pykoda\\data\\datautils.py:90: RuntimeWarning: The API did not return data for 2022-12-08 17:00:00\n",
      "  warnings.warn(RuntimeWarning(f'The API did not return data for {date_hour}'))\n",
      "C:\\Users\\asus\\AppData\\Local\\Programs\\Python\\Python312\\Lib\\site-packages\\pykoda\\data\\datautils.py:90: RuntimeWarning: The API did not return data for 2022-12-08 18:00:00\n",
      "  warnings.warn(RuntimeWarning(f'The API did not return data for {date_hour}'))\n",
      "Loading data:  45%|█████████████████████████████▉                                    | 163/360 [10:48<02:50,  1.16it/s]C:\\Users\\asus\\AppData\\Local\\Programs\\Python\\Python312\\Lib\\site-packages\\pykoda\\data\\datautils.py:90: RuntimeWarning: The API did not return data for 2022-12-08 19:00:00\n",
      "  warnings.warn(RuntimeWarning(f'The API did not return data for {date_hour}'))\n",
      "C:\\Users\\asus\\AppData\\Local\\Programs\\Python\\Python312\\Lib\\site-packages\\pykoda\\data\\datautils.py:90: RuntimeWarning: The API did not return data for 2022-12-08 20:00:00\n",
      "  warnings.warn(RuntimeWarning(f'The API did not return data for {date_hour}'))\n",
      "Loading data:  46%|██████████████████████████████▎                                   | 165/360 [10:48<02:01,  1.60it/s]"
     ]
    },
    {
     "name": "stdout",
     "output_type": "stream",
     "text": [
      "System tool failed: Command '['7z', 'e', '-oC:/Users/asus/AppData/Local/pykoda/pykoda/cache/sl-tripupdates-2022-12-08', 'C:/Users/asus/AppData/Local/pykoda/pykoda/cache/sl-tripupdates-2022-12-08.bz2']' returned non-zero exit status 255.\n",
      "None\n",
      "Executing python function, producing output(s): C:/Users/asus/AppData/Local/pykoda/pykoda/cache/sl_TripUpdates_2022_12_08_18.feather.tmp\n",
      "Getting C:/Users/asus/AppData/Local/pykoda/pykoda/cache/sl_TripUpdates_2022_12_08_19.feather\n",
      "File or folder already exists, so skipping task: data (datafolder)\n",
      "File or folder already exists, so skipping task: C:/Users/asus/AppData/Local/pykoda/pykoda/cache/sl-tripupdates-2022-12-08.bz2 (file)\n",
      "System tool failed: Command '['7z', 'e', '-oC:/Users/asus/AppData/Local/pykoda/pykoda/cache/sl-tripupdates-2022-12-08', 'C:/Users/asus/AppData/Local/pykoda/pykoda/cache/sl-tripupdates-2022-12-08.bz2']' returned non-zero exit status 255.\n",
      "None\n",
      "Executing python function, producing output(s): C:/Users/asus/AppData/Local/pykoda/pykoda/cache/sl_TripUpdates_2022_12_08_19.feather.tmp\n",
      "Getting C:/Users/asus/AppData/Local/pykoda/pykoda/cache/sl_TripUpdates_2022_12_08_20.feather\n",
      "File or folder already exists, so skipping task: data (datafolder)\n",
      "File or folder already exists, so skipping task: C:/Users/asus/AppData/Local/pykoda/pykoda/cache/sl-tripupdates-2022-12-08.bz2 (file)\n",
      "System tool failed: Command '['7z', 'e', '-oC:/Users/asus/AppData/Local/pykoda/pykoda/cache/sl-tripupdates-2022-12-08', 'C:/Users/asus/AppData/Local/pykoda/pykoda/cache/sl-tripupdates-2022-12-08.bz2']' returned non-zero exit status 255.\n",
      "None\n",
      "Executing python function, producing output(s): C:/Users/asus/AppData/Local/pykoda/pykoda/cache/sl_TripUpdates_2022_12_08_20.feather.tmp\n",
      "Getting C:/Users/asus/AppData/Local/pykoda/pykoda/cache/sl_TripUpdates_2022_12_08_21.feather\n",
      "File or folder already exists, so skipping task: data (datafolder)\n",
      "File or folder already exists, so skipping task: C:/Users/asus/AppData/Local/pykoda/pykoda/cache/sl-tripupdates-2022-12-08.bz2 (file)\n"
     ]
    },
    {
     "name": "stderr",
     "output_type": "stream",
     "text": [
      "C:\\Users\\asus\\AppData\\Local\\Programs\\Python\\Python312\\Lib\\site-packages\\pykoda\\data\\datautils.py:90: RuntimeWarning: The API did not return data for 2022-12-08 21:00:00\n",
      "  warnings.warn(RuntimeWarning(f'The API did not return data for {date_hour}'))\n",
      "C:\\Users\\asus\\AppData\\Local\\Programs\\Python\\Python312\\Lib\\site-packages\\pykoda\\data\\datautils.py:90: RuntimeWarning: The API did not return data for 2022-12-08 22:00:00\n",
      "  warnings.warn(RuntimeWarning(f'The API did not return data for {date_hour}'))\n",
      "Loading data:  46%|██████████████████████████████▌                                   | 167/360 [10:48<01:29,  2.17it/s]"
     ]
    },
    {
     "name": "stdout",
     "output_type": "stream",
     "text": [
      "System tool failed: Command '['7z', 'e', '-oC:/Users/asus/AppData/Local/pykoda/pykoda/cache/sl-tripupdates-2022-12-08', 'C:/Users/asus/AppData/Local/pykoda/pykoda/cache/sl-tripupdates-2022-12-08.bz2']' returned non-zero exit status 255.\n",
      "None\n",
      "Executing python function, producing output(s): C:/Users/asus/AppData/Local/pykoda/pykoda/cache/sl_TripUpdates_2022_12_08_21.feather.tmp\n",
      "Getting C:/Users/asus/AppData/Local/pykoda/pykoda/cache/sl_TripUpdates_2022_12_08_22.feather\n",
      "File or folder already exists, so skipping task: data (datafolder)\n",
      "File or folder already exists, so skipping task: C:/Users/asus/AppData/Local/pykoda/pykoda/cache/sl-tripupdates-2022-12-08.bz2 (file)\n",
      "System tool failed: Command '['7z', 'e', '-oC:/Users/asus/AppData/Local/pykoda/pykoda/cache/sl-tripupdates-2022-12-08', 'C:/Users/asus/AppData/Local/pykoda/pykoda/cache/sl-tripupdates-2022-12-08.bz2']' returned non-zero exit status 255.\n",
      "None\n",
      "Executing python function, producing output(s): C:/Users/asus/AppData/Local/pykoda/pykoda/cache/sl_TripUpdates_2022_12_08_22.feather.tmp\n",
      "Getting C:/Users/asus/AppData/Local/pykoda/pykoda/cache/sl_TripUpdates_2022_12_08_23.feather\n",
      "File or folder already exists, so skipping task: data (datafolder)\n",
      "File or folder already exists, so skipping task: C:/Users/asus/AppData/Local/pykoda/pykoda/cache/sl-tripupdates-2022-12-08.bz2 (file)\n",
      "System tool failed: Command '['7z', 'e', '-oC:/Users/asus/AppData/Local/pykoda/pykoda/cache/sl-tripupdates-2022-12-08', 'C:/Users/asus/AppData/Local/pykoda/pykoda/cache/sl-tripupdates-2022-12-08.bz2']' returned non-zero exit status 255.\n",
      "None\n",
      "Executing python function, producing output(s): C:/Users/asus/AppData/Local/pykoda/pykoda/cache/sl_TripUpdates_2022_12_08_23.feather.tmp\n",
      "Getting C:/Users/asus/AppData/Local/pykoda/pykoda/cache/sl_TripUpdates_2022_12_09_0.feather\n",
      "File or folder already exists, so skipping task: data (datafolder)\n",
      "Executing python function, producing output(s): C:/Users/asus/AppData/Local/pykoda/pykoda/cache/sl-tripupdates-2022-12-09.bz2.tmp\n"
     ]
    },
    {
     "name": "stderr",
     "output_type": "stream",
     "text": [
      "C:\\Users\\asus\\AppData\\Local\\Programs\\Python\\Python312\\Lib\\site-packages\\pykoda\\data\\datautils.py:90: RuntimeWarning: The API did not return data for 2022-12-08 23:00:00\n",
      "  warnings.warn(RuntimeWarning(f'The API did not return data for {date_hour}'))\n"
     ]
    },
    {
     "name": "stdout",
     "output_type": "stream",
     "text": [
      "C:/Users/asus/AppData/Local/pykoda/pykoda/cache/sl-tripupdates-2022-12-09.tar\n",
      "Executing python function, producing output(s): C:/Users/asus/AppData/Local/pykoda/pykoda/cache/sl_TripUpdates_2022_12_09_0.feather.tmp\n",
      "sl-tripupdates-2022-12-01T10\n"
     ]
    },
    {
     "name": "stderr",
     "output_type": "stream",
     "text": [
      "Loading data:  47%|██████████████████████████████                                  | 169/360 [13:01<1:04:30, 20.26s/it]C:\\Users\\asus\\AppData\\Local\\Programs\\Python\\Python312\\Lib\\site-packages\\pykoda\\data\\datautils.py:90: RuntimeWarning: The API did not return data for 2022-12-09 01:00:00\n",
      "  warnings.warn(RuntimeWarning(f'The API did not return data for {date_hour}'))\n",
      "C:\\Users\\asus\\AppData\\Local\\Programs\\Python\\Python312\\Lib\\site-packages\\pykoda\\data\\datautils.py:90: RuntimeWarning: The API did not return data for 2022-12-09 02:00:00\n",
      "  warnings.warn(RuntimeWarning(f'The API did not return data for {date_hour}'))\n",
      "Loading data:  48%|███████████████████████████████▎                                  | 171/360 [13:01<44:45, 14.21s/it]"
     ]
    },
    {
     "name": "stdout",
     "output_type": "stream",
     "text": [
      "Getting C:/Users/asus/AppData/Local/pykoda/pykoda/cache/sl_TripUpdates_2022_12_09_1.feather\n",
      "File or folder already exists, so skipping task: data (datafolder)\n",
      "File or folder already exists, so skipping task: C:/Users/asus/AppData/Local/pykoda/pykoda/cache/sl-tripupdates-2022-12-09.bz2 (file)\n",
      "System tool failed: Command '['7z', 'e', '-oC:/Users/asus/AppData/Local/pykoda/pykoda/cache/sl-tripupdates-2022-12-09', 'C:/Users/asus/AppData/Local/pykoda/pykoda/cache/sl-tripupdates-2022-12-09.bz2']' returned non-zero exit status 255.\n",
      "None\n",
      "Executing python function, producing output(s): C:/Users/asus/AppData/Local/pykoda/pykoda/cache/sl_TripUpdates_2022_12_09_1.feather.tmp\n",
      "Getting C:/Users/asus/AppData/Local/pykoda/pykoda/cache/sl_TripUpdates_2022_12_09_2.feather\n",
      "File or folder already exists, so skipping task: data (datafolder)\n",
      "File or folder already exists, so skipping task: C:/Users/asus/AppData/Local/pykoda/pykoda/cache/sl-tripupdates-2022-12-09.bz2 (file)\n",
      "System tool failed: Command '['7z', 'e', '-oC:/Users/asus/AppData/Local/pykoda/pykoda/cache/sl-tripupdates-2022-12-09', 'C:/Users/asus/AppData/Local/pykoda/pykoda/cache/sl-tripupdates-2022-12-09.bz2']' returned non-zero exit status 255.\n",
      "None\n",
      "Executing python function, producing output(s): C:/Users/asus/AppData/Local/pykoda/pykoda/cache/sl_TripUpdates_2022_12_09_2.feather.tmp\n",
      "Getting C:/Users/asus/AppData/Local/pykoda/pykoda/cache/sl_TripUpdates_2022_12_09_3.feather\n",
      "File or folder already exists, so skipping task: data (datafolder)\n",
      "File or folder already exists, so skipping task: C:/Users/asus/AppData/Local/pykoda/pykoda/cache/sl-tripupdates-2022-12-09.bz2 (file)\n"
     ]
    },
    {
     "name": "stderr",
     "output_type": "stream",
     "text": [
      "C:\\Users\\asus\\AppData\\Local\\Programs\\Python\\Python312\\Lib\\site-packages\\pykoda\\data\\datautils.py:90: RuntimeWarning: The API did not return data for 2022-12-09 03:00:00\n",
      "  warnings.warn(RuntimeWarning(f'The API did not return data for {date_hour}'))\n",
      "C:\\Users\\asus\\AppData\\Local\\Programs\\Python\\Python312\\Lib\\site-packages\\pykoda\\data\\datautils.py:90: RuntimeWarning: The API did not return data for 2022-12-09 04:00:00\n",
      "  warnings.warn(RuntimeWarning(f'The API did not return data for {date_hour}'))\n",
      "Loading data:  48%|███████████████████████████████▋                                  | 173/360 [13:02<31:04,  9.97s/it]"
     ]
    },
    {
     "name": "stdout",
     "output_type": "stream",
     "text": [
      "System tool failed: Command '['7z', 'e', '-oC:/Users/asus/AppData/Local/pykoda/pykoda/cache/sl-tripupdates-2022-12-09', 'C:/Users/asus/AppData/Local/pykoda/pykoda/cache/sl-tripupdates-2022-12-09.bz2']' returned non-zero exit status 255.\n",
      "None\n",
      "Executing python function, producing output(s): C:/Users/asus/AppData/Local/pykoda/pykoda/cache/sl_TripUpdates_2022_12_09_3.feather.tmp\n",
      "Getting C:/Users/asus/AppData/Local/pykoda/pykoda/cache/sl_TripUpdates_2022_12_09_4.feather\n",
      "File or folder already exists, so skipping task: data (datafolder)\n",
      "File or folder already exists, so skipping task: C:/Users/asus/AppData/Local/pykoda/pykoda/cache/sl-tripupdates-2022-12-09.bz2 (file)\n",
      "System tool failed: Command '['7z', 'e', '-oC:/Users/asus/AppData/Local/pykoda/pykoda/cache/sl-tripupdates-2022-12-09', 'C:/Users/asus/AppData/Local/pykoda/pykoda/cache/sl-tripupdates-2022-12-09.bz2']' returned non-zero exit status 255.\n",
      "None\n",
      "Executing python function, producing output(s): C:/Users/asus/AppData/Local/pykoda/pykoda/cache/sl_TripUpdates_2022_12_09_4.feather.tmp\n",
      "Getting C:/Users/asus/AppData/Local/pykoda/pykoda/cache/sl_TripUpdates_2022_12_09_5.feather\n",
      "File or folder already exists, so skipping task: data (datafolder)\n",
      "File or folder already exists, so skipping task: C:/Users/asus/AppData/Local/pykoda/pykoda/cache/sl-tripupdates-2022-12-09.bz2 (file)\n",
      "System tool failed: Command '['7z', 'e', '-oC:/Users/asus/AppData/Local/pykoda/pykoda/cache/sl-tripupdates-2022-12-09', 'C:/Users/asus/AppData/Local/pykoda/pykoda/cache/sl-tripupdates-2022-12-09.bz2']' returned non-zero exit status 255.\n",
      "None\n",
      "Executing python function, producing output(s): C:/Users/asus/AppData/Local/pykoda/pykoda/cache/sl_TripUpdates_2022_12_09_5.feather.tmp\n",
      "Getting C:/Users/asus/AppData/Local/pykoda/pykoda/cache/sl_TripUpdates_2022_12_09_6.feather\n",
      "File or folder already exists, so skipping task: data (datafolder)\n",
      "File or folder already exists, so skipping task: C:/Users/asus/AppData/Local/pykoda/pykoda/cache/sl-tripupdates-2022-12-09.bz2 (file)\n"
     ]
    },
    {
     "name": "stderr",
     "output_type": "stream",
     "text": [
      "C:\\Users\\asus\\AppData\\Local\\Programs\\Python\\Python312\\Lib\\site-packages\\pykoda\\data\\datautils.py:90: RuntimeWarning: The API did not return data for 2022-12-09 05:00:00\n",
      "  warnings.warn(RuntimeWarning(f'The API did not return data for {date_hour}'))\n",
      "C:\\Users\\asus\\AppData\\Local\\Programs\\Python\\Python312\\Lib\\site-packages\\pykoda\\data\\datautils.py:90: RuntimeWarning: The API did not return data for 2022-12-09 06:00:00\n",
      "  warnings.warn(RuntimeWarning(f'The API did not return data for {date_hour}'))\n",
      "Loading data:  49%|████████████████████████████████                                  | 175/360 [13:02<21:34,  7.00s/it]C:\\Users\\asus\\AppData\\Local\\Programs\\Python\\Python312\\Lib\\site-packages\\pykoda\\data\\datautils.py:90: RuntimeWarning: The API did not return data for 2022-12-09 07:00:00\n",
      "  warnings.warn(RuntimeWarning(f'The API did not return data for {date_hour}'))\n",
      "C:\\Users\\asus\\AppData\\Local\\Programs\\Python\\Python312\\Lib\\site-packages\\pykoda\\data\\datautils.py:90: RuntimeWarning: The API did not return data for 2022-12-09 08:00:00\n",
      "  warnings.warn(RuntimeWarning(f'The API did not return data for {date_hour}'))\n",
      "Loading data:  49%|████████████████████████████████▍                                 | 177/360 [13:02<15:00,  4.92s/it]"
     ]
    },
    {
     "name": "stdout",
     "output_type": "stream",
     "text": [
      "System tool failed: Command '['7z', 'e', '-oC:/Users/asus/AppData/Local/pykoda/pykoda/cache/sl-tripupdates-2022-12-09', 'C:/Users/asus/AppData/Local/pykoda/pykoda/cache/sl-tripupdates-2022-12-09.bz2']' returned non-zero exit status 255.\n",
      "None\n",
      "Executing python function, producing output(s): C:/Users/asus/AppData/Local/pykoda/pykoda/cache/sl_TripUpdates_2022_12_09_6.feather.tmp\n",
      "Getting C:/Users/asus/AppData/Local/pykoda/pykoda/cache/sl_TripUpdates_2022_12_09_7.feather\n",
      "File or folder already exists, so skipping task: data (datafolder)\n",
      "File or folder already exists, so skipping task: C:/Users/asus/AppData/Local/pykoda/pykoda/cache/sl-tripupdates-2022-12-09.bz2 (file)\n",
      "System tool failed: Command '['7z', 'e', '-oC:/Users/asus/AppData/Local/pykoda/pykoda/cache/sl-tripupdates-2022-12-09', 'C:/Users/asus/AppData/Local/pykoda/pykoda/cache/sl-tripupdates-2022-12-09.bz2']' returned non-zero exit status 255.\n",
      "None\n",
      "Executing python function, producing output(s): C:/Users/asus/AppData/Local/pykoda/pykoda/cache/sl_TripUpdates_2022_12_09_7.feather.tmp\n",
      "Getting C:/Users/asus/AppData/Local/pykoda/pykoda/cache/sl_TripUpdates_2022_12_09_8.feather\n",
      "File or folder already exists, so skipping task: data (datafolder)\n",
      "File or folder already exists, so skipping task: C:/Users/asus/AppData/Local/pykoda/pykoda/cache/sl-tripupdates-2022-12-09.bz2 (file)\n",
      "System tool failed: Command '['7z', 'e', '-oC:/Users/asus/AppData/Local/pykoda/pykoda/cache/sl-tripupdates-2022-12-09', 'C:/Users/asus/AppData/Local/pykoda/pykoda/cache/sl-tripupdates-2022-12-09.bz2']' returned non-zero exit status 255.\n",
      "None\n",
      "Executing python function, producing output(s): C:/Users/asus/AppData/Local/pykoda/pykoda/cache/sl_TripUpdates_2022_12_09_8.feather.tmp\n",
      "Getting C:/Users/asus/AppData/Local/pykoda/pykoda/cache/sl_TripUpdates_2022_12_09_9.feather\n",
      "File or folder already exists, so skipping task: data (datafolder)\n",
      "File or folder already exists, so skipping task: C:/Users/asus/AppData/Local/pykoda/pykoda/cache/sl-tripupdates-2022-12-09.bz2 (file)\n",
      "System tool failed: Command '['7z', 'e', '-oC:/Users/asus/AppData/Local/pykoda/pykoda/cache/sl-tripupdates-2022-12-09', 'C:/Users/asus/AppData/Local/pykoda/pykoda/cache/sl-tripupdates-2022-12-09.bz2']' returned non-zero exit status 255.\n",
      "None\n",
      "Executing python function, producing output(s): C:/Users/asus/AppData/Local/pykoda/pykoda/cache/sl_TripUpdates_2022_12_09_9.feather.tmp\n"
     ]
    },
    {
     "name": "stderr",
     "output_type": "stream",
     "text": [
      "C:\\Users\\asus\\AppData\\Local\\Programs\\Python\\Python312\\Lib\\site-packages\\pykoda\\data\\datautils.py:90: RuntimeWarning: The API did not return data for 2022-12-09 09:00:00\n",
      "  warnings.warn(RuntimeWarning(f'The API did not return data for {date_hour}'))\n",
      "C:\\Users\\asus\\AppData\\Local\\Programs\\Python\\Python312\\Lib\\site-packages\\pykoda\\data\\datautils.py:90: RuntimeWarning: The API did not return data for 2022-12-09 10:00:00\n",
      "  warnings.warn(RuntimeWarning(f'The API did not return data for {date_hour}'))\n",
      "Loading data:  50%|████████████████████████████████▊                                 | 179/360 [13:02<10:28,  3.47s/it]C:\\Users\\asus\\AppData\\Local\\Programs\\Python\\Python312\\Lib\\site-packages\\pykoda\\data\\datautils.py:90: RuntimeWarning: The API did not return data for 2022-12-09 11:00:00\n",
      "  warnings.warn(RuntimeWarning(f'The API did not return data for {date_hour}'))\n"
     ]
    },
    {
     "name": "stdout",
     "output_type": "stream",
     "text": [
      "Getting C:/Users/asus/AppData/Local/pykoda/pykoda/cache/sl_TripUpdates_2022_12_09_10.feather\n",
      "File or folder already exists, so skipping task: data (datafolder)\n",
      "File or folder already exists, so skipping task: C:/Users/asus/AppData/Local/pykoda/pykoda/cache/sl-tripupdates-2022-12-09.bz2 (file)\n",
      "System tool failed: Command '['7z', 'e', '-oC:/Users/asus/AppData/Local/pykoda/pykoda/cache/sl-tripupdates-2022-12-09', 'C:/Users/asus/AppData/Local/pykoda/pykoda/cache/sl-tripupdates-2022-12-09.bz2']' returned non-zero exit status 255.\n",
      "None\n",
      "Executing python function, producing output(s): C:/Users/asus/AppData/Local/pykoda/pykoda/cache/sl_TripUpdates_2022_12_09_10.feather.tmp\n",
      "Getting C:/Users/asus/AppData/Local/pykoda/pykoda/cache/sl_TripUpdates_2022_12_09_11.feather\n",
      "File or folder already exists, so skipping task: data (datafolder)\n",
      "File or folder already exists, so skipping task: C:/Users/asus/AppData/Local/pykoda/pykoda/cache/sl-tripupdates-2022-12-09.bz2 (file)\n",
      "System tool failed: Command '['7z', 'e', '-oC:/Users/asus/AppData/Local/pykoda/pykoda/cache/sl-tripupdates-2022-12-09', 'C:/Users/asus/AppData/Local/pykoda/pykoda/cache/sl-tripupdates-2022-12-09.bz2']' returned non-zero exit status 255.\n",
      "None\n",
      "Executing python function, producing output(s): C:/Users/asus/AppData/Local/pykoda/pykoda/cache/sl_TripUpdates_2022_12_09_11.feather.tmp\n",
      "Getting C:/Users/asus/AppData/Local/pykoda/pykoda/cache/sl_TripUpdates_2022_12_09_12.feather\n",
      "File or folder already exists, so skipping task: data (datafolder)\n",
      "File or folder already exists, so skipping task: C:/Users/asus/AppData/Local/pykoda/pykoda/cache/sl-tripupdates-2022-12-09.bz2 (file)\n"
     ]
    },
    {
     "name": "stderr",
     "output_type": "stream",
     "text": [
      "C:\\Users\\asus\\AppData\\Local\\Programs\\Python\\Python312\\Lib\\site-packages\\pykoda\\data\\datautils.py:90: RuntimeWarning: The API did not return data for 2022-12-09 12:00:00\n",
      "  warnings.warn(RuntimeWarning(f'The API did not return data for {date_hour}'))\n",
      "Loading data:  50%|█████████████████████████████████▏                                | 181/360 [13:02<07:18,  2.45s/it]C:\\Users\\asus\\AppData\\Local\\Programs\\Python\\Python312\\Lib\\site-packages\\pykoda\\data\\datautils.py:90: RuntimeWarning: The API did not return data for 2022-12-09 13:00:00\n",
      "  warnings.warn(RuntimeWarning(f'The API did not return data for {date_hour}'))\n",
      "C:\\Users\\asus\\AppData\\Local\\Programs\\Python\\Python312\\Lib\\site-packages\\pykoda\\data\\datautils.py:90: RuntimeWarning: The API did not return data for 2022-12-09 14:00:00\n",
      "  warnings.warn(RuntimeWarning(f'The API did not return data for {date_hour}'))\n",
      "Loading data:  51%|█████████████████████████████████▌                                | 183/360 [13:02<05:07,  1.74s/it]"
     ]
    },
    {
     "name": "stdout",
     "output_type": "stream",
     "text": [
      "System tool failed: Command '['7z', 'e', '-oC:/Users/asus/AppData/Local/pykoda/pykoda/cache/sl-tripupdates-2022-12-09', 'C:/Users/asus/AppData/Local/pykoda/pykoda/cache/sl-tripupdates-2022-12-09.bz2']' returned non-zero exit status 255.\n",
      "None\n",
      "Executing python function, producing output(s): C:/Users/asus/AppData/Local/pykoda/pykoda/cache/sl_TripUpdates_2022_12_09_12.feather.tmp\n",
      "Getting C:/Users/asus/AppData/Local/pykoda/pykoda/cache/sl_TripUpdates_2022_12_09_13.feather\n",
      "File or folder already exists, so skipping task: data (datafolder)\n",
      "File or folder already exists, so skipping task: C:/Users/asus/AppData/Local/pykoda/pykoda/cache/sl-tripupdates-2022-12-09.bz2 (file)\n",
      "System tool failed: Command '['7z', 'e', '-oC:/Users/asus/AppData/Local/pykoda/pykoda/cache/sl-tripupdates-2022-12-09', 'C:/Users/asus/AppData/Local/pykoda/pykoda/cache/sl-tripupdates-2022-12-09.bz2']' returned non-zero exit status 255.\n",
      "None\n",
      "Executing python function, producing output(s): C:/Users/asus/AppData/Local/pykoda/pykoda/cache/sl_TripUpdates_2022_12_09_13.feather.tmp\n",
      "Getting C:/Users/asus/AppData/Local/pykoda/pykoda/cache/sl_TripUpdates_2022_12_09_14.feather\n",
      "File or folder already exists, so skipping task: data (datafolder)\n",
      "File or folder already exists, so skipping task: C:/Users/asus/AppData/Local/pykoda/pykoda/cache/sl-tripupdates-2022-12-09.bz2 (file)\n",
      "System tool failed: Command '['7z', 'e', '-oC:/Users/asus/AppData/Local/pykoda/pykoda/cache/sl-tripupdates-2022-12-09', 'C:/Users/asus/AppData/Local/pykoda/pykoda/cache/sl-tripupdates-2022-12-09.bz2']' returned non-zero exit status 255.\n",
      "None\n",
      "Executing python function, producing output(s): C:/Users/asus/AppData/Local/pykoda/pykoda/cache/sl_TripUpdates_2022_12_09_14.feather.tmp\n",
      "Getting C:/Users/asus/AppData/Local/pykoda/pykoda/cache/sl_TripUpdates_2022_12_09_15.feather\n",
      "File or folder already exists, so skipping task: data (datafolder)\n",
      "File or folder already exists, so skipping task: C:/Users/asus/AppData/Local/pykoda/pykoda/cache/sl-tripupdates-2022-12-09.bz2 (file)\n"
     ]
    },
    {
     "name": "stderr",
     "output_type": "stream",
     "text": [
      "C:\\Users\\asus\\AppData\\Local\\Programs\\Python\\Python312\\Lib\\site-packages\\pykoda\\data\\datautils.py:90: RuntimeWarning: The API did not return data for 2022-12-09 15:00:00\n",
      "  warnings.warn(RuntimeWarning(f'The API did not return data for {date_hour}'))\n",
      "C:\\Users\\asus\\AppData\\Local\\Programs\\Python\\Python312\\Lib\\site-packages\\pykoda\\data\\datautils.py:90: RuntimeWarning: The API did not return data for 2022-12-09 16:00:00\n",
      "  warnings.warn(RuntimeWarning(f'The API did not return data for {date_hour}'))\n",
      "Loading data:  51%|█████████████████████████████████▉                                | 185/360 [13:03<03:36,  1.24s/it]"
     ]
    },
    {
     "name": "stdout",
     "output_type": "stream",
     "text": [
      "System tool failed: Command '['7z', 'e', '-oC:/Users/asus/AppData/Local/pykoda/pykoda/cache/sl-tripupdates-2022-12-09', 'C:/Users/asus/AppData/Local/pykoda/pykoda/cache/sl-tripupdates-2022-12-09.bz2']' returned non-zero exit status 255.\n",
      "None\n",
      "Executing python function, producing output(s): C:/Users/asus/AppData/Local/pykoda/pykoda/cache/sl_TripUpdates_2022_12_09_15.feather.tmp\n",
      "Getting C:/Users/asus/AppData/Local/pykoda/pykoda/cache/sl_TripUpdates_2022_12_09_16.feather\n",
      "File or folder already exists, so skipping task: data (datafolder)\n",
      "File or folder already exists, so skipping task: C:/Users/asus/AppData/Local/pykoda/pykoda/cache/sl-tripupdates-2022-12-09.bz2 (file)\n",
      "System tool failed: Command '['7z', 'e', '-oC:/Users/asus/AppData/Local/pykoda/pykoda/cache/sl-tripupdates-2022-12-09', 'C:/Users/asus/AppData/Local/pykoda/pykoda/cache/sl-tripupdates-2022-12-09.bz2']' returned non-zero exit status 255.\n",
      "None\n",
      "Executing python function, producing output(s): C:/Users/asus/AppData/Local/pykoda/pykoda/cache/sl_TripUpdates_2022_12_09_16.feather.tmp\n",
      "Getting C:/Users/asus/AppData/Local/pykoda/pykoda/cache/sl_TripUpdates_2022_12_09_17.feather\n",
      "File or folder already exists, so skipping task: data (datafolder)\n",
      "File or folder already exists, so skipping task: C:/Users/asus/AppData/Local/pykoda/pykoda/cache/sl-tripupdates-2022-12-09.bz2 (file)\n",
      "System tool failed: Command '['7z', 'e', '-oC:/Users/asus/AppData/Local/pykoda/pykoda/cache/sl-tripupdates-2022-12-09', 'C:/Users/asus/AppData/Local/pykoda/pykoda/cache/sl-tripupdates-2022-12-09.bz2']' returned non-zero exit status 255.\n",
      "None\n",
      "Executing python function, producing output(s): C:/Users/asus/AppData/Local/pykoda/pykoda/cache/sl_TripUpdates_2022_12_09_17.feather.tmp\n",
      "Getting C:/Users/asus/AppData/Local/pykoda/pykoda/cache/sl_TripUpdates_2022_12_09_18.feather\n",
      "File or folder already exists, so skipping task: data (datafolder)\n",
      "File or folder already exists, so skipping task: C:/Users/asus/AppData/Local/pykoda/pykoda/cache/sl-tripupdates-2022-12-09.bz2 (file)\n"
     ]
    },
    {
     "name": "stderr",
     "output_type": "stream",
     "text": [
      "C:\\Users\\asus\\AppData\\Local\\Programs\\Python\\Python312\\Lib\\site-packages\\pykoda\\data\\datautils.py:90: RuntimeWarning: The API did not return data for 2022-12-09 17:00:00\n",
      "  warnings.warn(RuntimeWarning(f'The API did not return data for {date_hour}'))\n",
      "C:\\Users\\asus\\AppData\\Local\\Programs\\Python\\Python312\\Lib\\site-packages\\pykoda\\data\\datautils.py:90: RuntimeWarning: The API did not return data for 2022-12-09 18:00:00\n",
      "  warnings.warn(RuntimeWarning(f'The API did not return data for {date_hour}'))\n",
      "Loading data:  52%|██████████████████████████████████▎                               | 187/360 [13:03<02:33,  1.12it/s]C:\\Users\\asus\\AppData\\Local\\Programs\\Python\\Python312\\Lib\\site-packages\\pykoda\\data\\datautils.py:90: RuntimeWarning: The API did not return data for 2022-12-09 19:00:00\n",
      "  warnings.warn(RuntimeWarning(f'The API did not return data for {date_hour}'))\n",
      "C:\\Users\\asus\\AppData\\Local\\Programs\\Python\\Python312\\Lib\\site-packages\\pykoda\\data\\datautils.py:90: RuntimeWarning: The API did not return data for 2022-12-09 20:00:00\n",
      "  warnings.warn(RuntimeWarning(f'The API did not return data for {date_hour}'))\n",
      "Loading data:  52%|██████████████████████████████████▋                               | 189/360 [13:03<01:50,  1.55it/s]"
     ]
    },
    {
     "name": "stdout",
     "output_type": "stream",
     "text": [
      "System tool failed: Command '['7z', 'e', '-oC:/Users/asus/AppData/Local/pykoda/pykoda/cache/sl-tripupdates-2022-12-09', 'C:/Users/asus/AppData/Local/pykoda/pykoda/cache/sl-tripupdates-2022-12-09.bz2']' returned non-zero exit status 255.\n",
      "None\n",
      "Executing python function, producing output(s): C:/Users/asus/AppData/Local/pykoda/pykoda/cache/sl_TripUpdates_2022_12_09_18.feather.tmp\n",
      "Getting C:/Users/asus/AppData/Local/pykoda/pykoda/cache/sl_TripUpdates_2022_12_09_19.feather\n",
      "File or folder already exists, so skipping task: data (datafolder)\n",
      "File or folder already exists, so skipping task: C:/Users/asus/AppData/Local/pykoda/pykoda/cache/sl-tripupdates-2022-12-09.bz2 (file)\n",
      "System tool failed: Command '['7z', 'e', '-oC:/Users/asus/AppData/Local/pykoda/pykoda/cache/sl-tripupdates-2022-12-09', 'C:/Users/asus/AppData/Local/pykoda/pykoda/cache/sl-tripupdates-2022-12-09.bz2']' returned non-zero exit status 255.\n",
      "None\n",
      "Executing python function, producing output(s): C:/Users/asus/AppData/Local/pykoda/pykoda/cache/sl_TripUpdates_2022_12_09_19.feather.tmp\n",
      "Getting C:/Users/asus/AppData/Local/pykoda/pykoda/cache/sl_TripUpdates_2022_12_09_20.feather\n",
      "File or folder already exists, so skipping task: data (datafolder)\n",
      "File or folder already exists, so skipping task: C:/Users/asus/AppData/Local/pykoda/pykoda/cache/sl-tripupdates-2022-12-09.bz2 (file)\n",
      "System tool failed: Command '['7z', 'e', '-oC:/Users/asus/AppData/Local/pykoda/pykoda/cache/sl-tripupdates-2022-12-09', 'C:/Users/asus/AppData/Local/pykoda/pykoda/cache/sl-tripupdates-2022-12-09.bz2']' returned non-zero exit status 255.\n",
      "None\n",
      "Executing python function, producing output(s): C:/Users/asus/AppData/Local/pykoda/pykoda/cache/sl_TripUpdates_2022_12_09_20.feather.tmp\n",
      "Getting C:/Users/asus/AppData/Local/pykoda/pykoda/cache/sl_TripUpdates_2022_12_09_21.feather\n",
      "File or folder already exists, so skipping task: data (datafolder)\n",
      "File or folder already exists, so skipping task: C:/Users/asus/AppData/Local/pykoda/pykoda/cache/sl-tripupdates-2022-12-09.bz2 (file)\n",
      "System tool failed: Command '['7z', 'e', '-oC:/Users/asus/AppData/Local/pykoda/pykoda/cache/sl-tripupdates-2022-12-09', 'C:/Users/asus/AppData/Local/pykoda/pykoda/cache/sl-tripupdates-2022-12-09.bz2']' returned non-zero exit status 255.\n",
      "None\n",
      "Executing python function, producing output(s): C:/Users/asus/AppData/Local/pykoda/pykoda/cache/sl_TripUpdates_2022_12_09_21.feather.tmp\n"
     ]
    },
    {
     "name": "stderr",
     "output_type": "stream",
     "text": [
      "C:\\Users\\asus\\AppData\\Local\\Programs\\Python\\Python312\\Lib\\site-packages\\pykoda\\data\\datautils.py:90: RuntimeWarning: The API did not return data for 2022-12-09 21:00:00\n",
      "  warnings.warn(RuntimeWarning(f'The API did not return data for {date_hour}'))\n",
      "C:\\Users\\asus\\AppData\\Local\\Programs\\Python\\Python312\\Lib\\site-packages\\pykoda\\data\\datautils.py:90: RuntimeWarning: The API did not return data for 2022-12-09 22:00:00\n",
      "  warnings.warn(RuntimeWarning(f'The API did not return data for {date_hour}'))\n",
      "Loading data:  53%|███████████████████████████████████                               | 191/360 [13:03<01:19,  2.11it/s]C:\\Users\\asus\\AppData\\Local\\Programs\\Python\\Python312\\Lib\\site-packages\\pykoda\\data\\datautils.py:90: RuntimeWarning: The API did not return data for 2022-12-09 23:00:00\n",
      "  warnings.warn(RuntimeWarning(f'The API did not return data for {date_hour}'))\n"
     ]
    },
    {
     "name": "stdout",
     "output_type": "stream",
     "text": [
      "Getting C:/Users/asus/AppData/Local/pykoda/pykoda/cache/sl_TripUpdates_2022_12_09_22.feather\n",
      "File or folder already exists, so skipping task: data (datafolder)\n",
      "File or folder already exists, so skipping task: C:/Users/asus/AppData/Local/pykoda/pykoda/cache/sl-tripupdates-2022-12-09.bz2 (file)\n",
      "System tool failed: Command '['7z', 'e', '-oC:/Users/asus/AppData/Local/pykoda/pykoda/cache/sl-tripupdates-2022-12-09', 'C:/Users/asus/AppData/Local/pykoda/pykoda/cache/sl-tripupdates-2022-12-09.bz2']' returned non-zero exit status 255.\n",
      "None\n",
      "Executing python function, producing output(s): C:/Users/asus/AppData/Local/pykoda/pykoda/cache/sl_TripUpdates_2022_12_09_22.feather.tmp\n",
      "Getting C:/Users/asus/AppData/Local/pykoda/pykoda/cache/sl_TripUpdates_2022_12_09_23.feather\n",
      "File or folder already exists, so skipping task: data (datafolder)\n",
      "File or folder already exists, so skipping task: C:/Users/asus/AppData/Local/pykoda/pykoda/cache/sl-tripupdates-2022-12-09.bz2 (file)\n",
      "System tool failed: Command '['7z', 'e', '-oC:/Users/asus/AppData/Local/pykoda/pykoda/cache/sl-tripupdates-2022-12-09', 'C:/Users/asus/AppData/Local/pykoda/pykoda/cache/sl-tripupdates-2022-12-09.bz2']' returned non-zero exit status 255.\n",
      "None\n",
      "Executing python function, producing output(s): C:/Users/asus/AppData/Local/pykoda/pykoda/cache/sl_TripUpdates_2022_12_09_23.feather.tmp\n",
      "Getting C:/Users/asus/AppData/Local/pykoda/pykoda/cache/sl_TripUpdates_2022_12_10_0.feather\n",
      "File or folder already exists, so skipping task: data (datafolder)\n",
      "Executing python function, producing output(s): C:/Users/asus/AppData/Local/pykoda/pykoda/cache/sl-tripupdates-2022-12-10.bz2.tmp\n",
      "C:/Users/asus/AppData/Local/pykoda/pykoda/cache/sl-tripupdates-2022-12-10.tar\n",
      "Executing python function, producing output(s): C:/Users/asus/AppData/Local/pykoda/pykoda/cache/sl_TripUpdates_2022_12_10_0.feather.tmp\n",
      "sl-tripupdates-2022-12-01T10\n"
     ]
    },
    {
     "name": "stderr",
     "output_type": "stream",
     "text": [
      "Loading data:  54%|██████████████████████████████████▎                             | 193/360 [15:33<1:03:43, 22.89s/it]C:\\Users\\asus\\AppData\\Local\\Programs\\Python\\Python312\\Lib\\site-packages\\pykoda\\data\\datautils.py:90: RuntimeWarning: The API did not return data for 2022-12-10 01:00:00\n",
      "  warnings.warn(RuntimeWarning(f'The API did not return data for {date_hour}'))\n",
      "C:\\Users\\asus\\AppData\\Local\\Programs\\Python\\Python312\\Lib\\site-packages\\pykoda\\data\\datautils.py:90: RuntimeWarning: The API did not return data for 2022-12-10 02:00:00\n",
      "  warnings.warn(RuntimeWarning(f'The API did not return data for {date_hour}'))\n",
      "Loading data:  54%|███████████████████████████████████▊                              | 195/360 [15:34<44:08, 16.05s/it]"
     ]
    },
    {
     "name": "stdout",
     "output_type": "stream",
     "text": [
      "Getting C:/Users/asus/AppData/Local/pykoda/pykoda/cache/sl_TripUpdates_2022_12_10_1.feather\n",
      "File or folder already exists, so skipping task: data (datafolder)\n",
      "File or folder already exists, so skipping task: C:/Users/asus/AppData/Local/pykoda/pykoda/cache/sl-tripupdates-2022-12-10.bz2 (file)\n",
      "System tool failed: Command '['7z', 'e', '-oC:/Users/asus/AppData/Local/pykoda/pykoda/cache/sl-tripupdates-2022-12-10', 'C:/Users/asus/AppData/Local/pykoda/pykoda/cache/sl-tripupdates-2022-12-10.bz2']' returned non-zero exit status 255.\n",
      "None\n",
      "Executing python function, producing output(s): C:/Users/asus/AppData/Local/pykoda/pykoda/cache/sl_TripUpdates_2022_12_10_1.feather.tmp\n",
      "Getting C:/Users/asus/AppData/Local/pykoda/pykoda/cache/sl_TripUpdates_2022_12_10_2.feather\n",
      "File or folder already exists, so skipping task: data (datafolder)\n",
      "File or folder already exists, so skipping task: C:/Users/asus/AppData/Local/pykoda/pykoda/cache/sl-tripupdates-2022-12-10.bz2 (file)\n",
      "System tool failed: Command '['7z', 'e', '-oC:/Users/asus/AppData/Local/pykoda/pykoda/cache/sl-tripupdates-2022-12-10', 'C:/Users/asus/AppData/Local/pykoda/pykoda/cache/sl-tripupdates-2022-12-10.bz2']' returned non-zero exit status 255.\n",
      "None\n",
      "Executing python function, producing output(s): C:/Users/asus/AppData/Local/pykoda/pykoda/cache/sl_TripUpdates_2022_12_10_2.feather.tmp\n",
      "Getting C:/Users/asus/AppData/Local/pykoda/pykoda/cache/sl_TripUpdates_2022_12_10_3.feather\n",
      "File or folder already exists, so skipping task: data (datafolder)\n",
      "File or folder already exists, so skipping task: C:/Users/asus/AppData/Local/pykoda/pykoda/cache/sl-tripupdates-2022-12-10.bz2 (file)\n"
     ]
    },
    {
     "name": "stderr",
     "output_type": "stream",
     "text": [
      "C:\\Users\\asus\\AppData\\Local\\Programs\\Python\\Python312\\Lib\\site-packages\\pykoda\\data\\datautils.py:90: RuntimeWarning: The API did not return data for 2022-12-10 03:00:00\n",
      "  warnings.warn(RuntimeWarning(f'The API did not return data for {date_hour}'))\n",
      "C:\\Users\\asus\\AppData\\Local\\Programs\\Python\\Python312\\Lib\\site-packages\\pykoda\\data\\datautils.py:90: RuntimeWarning: The API did not return data for 2022-12-10 04:00:00\n",
      "  warnings.warn(RuntimeWarning(f'The API did not return data for {date_hour}'))\n",
      "Loading data:  55%|████████████████████████████████████                              | 197/360 [15:34<30:35, 11.26s/it]C:\\Users\\asus\\AppData\\Local\\Programs\\Python\\Python312\\Lib\\site-packages\\pykoda\\data\\datautils.py:90: RuntimeWarning: The API did not return data for 2022-12-10 05:00:00\n",
      "  warnings.warn(RuntimeWarning(f'The API did not return data for {date_hour}'))\n",
      "C:\\Users\\asus\\AppData\\Local\\Programs\\Python\\Python312\\Lib\\site-packages\\pykoda\\data\\datautils.py:90: RuntimeWarning: The API did not return data for 2022-12-10 06:00:00\n",
      "  warnings.warn(RuntimeWarning(f'The API did not return data for {date_hour}'))\n",
      "Loading data:  55%|████████████████████████████████████▍                             | 199/360 [15:34<21:12,  7.91s/it]"
     ]
    },
    {
     "name": "stdout",
     "output_type": "stream",
     "text": [
      "System tool failed: Command '['7z', 'e', '-oC:/Users/asus/AppData/Local/pykoda/pykoda/cache/sl-tripupdates-2022-12-10', 'C:/Users/asus/AppData/Local/pykoda/pykoda/cache/sl-tripupdates-2022-12-10.bz2']' returned non-zero exit status 255.\n",
      "None\n",
      "Executing python function, producing output(s): C:/Users/asus/AppData/Local/pykoda/pykoda/cache/sl_TripUpdates_2022_12_10_3.feather.tmp\n",
      "Getting C:/Users/asus/AppData/Local/pykoda/pykoda/cache/sl_TripUpdates_2022_12_10_4.feather\n",
      "File or folder already exists, so skipping task: data (datafolder)\n",
      "File or folder already exists, so skipping task: C:/Users/asus/AppData/Local/pykoda/pykoda/cache/sl-tripupdates-2022-12-10.bz2 (file)\n",
      "System tool failed: Command '['7z', 'e', '-oC:/Users/asus/AppData/Local/pykoda/pykoda/cache/sl-tripupdates-2022-12-10', 'C:/Users/asus/AppData/Local/pykoda/pykoda/cache/sl-tripupdates-2022-12-10.bz2']' returned non-zero exit status 255.\n",
      "None\n",
      "Executing python function, producing output(s): C:/Users/asus/AppData/Local/pykoda/pykoda/cache/sl_TripUpdates_2022_12_10_4.feather.tmp\n",
      "Getting C:/Users/asus/AppData/Local/pykoda/pykoda/cache/sl_TripUpdates_2022_12_10_5.feather\n",
      "File or folder already exists, so skipping task: data (datafolder)\n",
      "File or folder already exists, so skipping task: C:/Users/asus/AppData/Local/pykoda/pykoda/cache/sl-tripupdates-2022-12-10.bz2 (file)\n",
      "System tool failed: Command '['7z', 'e', '-oC:/Users/asus/AppData/Local/pykoda/pykoda/cache/sl-tripupdates-2022-12-10', 'C:/Users/asus/AppData/Local/pykoda/pykoda/cache/sl-tripupdates-2022-12-10.bz2']' returned non-zero exit status 255.\n",
      "None\n",
      "Executing python function, producing output(s): C:/Users/asus/AppData/Local/pykoda/pykoda/cache/sl_TripUpdates_2022_12_10_5.feather.tmp\n",
      "Getting C:/Users/asus/AppData/Local/pykoda/pykoda/cache/sl_TripUpdates_2022_12_10_6.feather\n",
      "File or folder already exists, so skipping task: data (datafolder)\n",
      "File or folder already exists, so skipping task: C:/Users/asus/AppData/Local/pykoda/pykoda/cache/sl-tripupdates-2022-12-10.bz2 (file)\n",
      "System tool failed: Command '['7z', 'e', '-oC:/Users/asus/AppData/Local/pykoda/pykoda/cache/sl-tripupdates-2022-12-10', 'C:/Users/asus/AppData/Local/pykoda/pykoda/cache/sl-tripupdates-2022-12-10.bz2']' returned non-zero exit status 255.\n",
      "None\n",
      "Executing python function, producing output(s): C:/Users/asus/AppData/Local/pykoda/pykoda/cache/sl_TripUpdates_2022_12_10_6.feather.tmp\n"
     ]
    },
    {
     "name": "stderr",
     "output_type": "stream",
     "text": [
      "C:\\Users\\asus\\AppData\\Local\\Programs\\Python\\Python312\\Lib\\site-packages\\pykoda\\data\\datautils.py:90: RuntimeWarning: The API did not return data for 2022-12-10 07:00:00\n",
      "  warnings.warn(RuntimeWarning(f'The API did not return data for {date_hour}'))\n",
      "C:\\Users\\asus\\AppData\\Local\\Programs\\Python\\Python312\\Lib\\site-packages\\pykoda\\data\\datautils.py:90: RuntimeWarning: The API did not return data for 2022-12-10 08:00:00\n",
      "  warnings.warn(RuntimeWarning(f'The API did not return data for {date_hour}'))\n",
      "Loading data:  56%|████████████████████████████████████▊                             | 201/360 [15:34<14:43,  5.56s/it]"
     ]
    },
    {
     "name": "stdout",
     "output_type": "stream",
     "text": [
      "Getting C:/Users/asus/AppData/Local/pykoda/pykoda/cache/sl_TripUpdates_2022_12_10_7.feather\n",
      "File or folder already exists, so skipping task: data (datafolder)\n",
      "File or folder already exists, so skipping task: C:/Users/asus/AppData/Local/pykoda/pykoda/cache/sl-tripupdates-2022-12-10.bz2 (file)\n",
      "System tool failed: Command '['7z', 'e', '-oC:/Users/asus/AppData/Local/pykoda/pykoda/cache/sl-tripupdates-2022-12-10', 'C:/Users/asus/AppData/Local/pykoda/pykoda/cache/sl-tripupdates-2022-12-10.bz2']' returned non-zero exit status 255.\n",
      "None\n",
      "Executing python function, producing output(s): C:/Users/asus/AppData/Local/pykoda/pykoda/cache/sl_TripUpdates_2022_12_10_7.feather.tmp\n",
      "Getting C:/Users/asus/AppData/Local/pykoda/pykoda/cache/sl_TripUpdates_2022_12_10_8.feather\n",
      "File or folder already exists, so skipping task: data (datafolder)\n",
      "File or folder already exists, so skipping task: C:/Users/asus/AppData/Local/pykoda/pykoda/cache/sl-tripupdates-2022-12-10.bz2 (file)\n",
      "System tool failed: Command '['7z', 'e', '-oC:/Users/asus/AppData/Local/pykoda/pykoda/cache/sl-tripupdates-2022-12-10', 'C:/Users/asus/AppData/Local/pykoda/pykoda/cache/sl-tripupdates-2022-12-10.bz2']' returned non-zero exit status 255.\n",
      "None\n",
      "Executing python function, producing output(s): C:/Users/asus/AppData/Local/pykoda/pykoda/cache/sl_TripUpdates_2022_12_10_8.feather.tmp\n",
      "Getting C:/Users/asus/AppData/Local/pykoda/pykoda/cache/sl_TripUpdates_2022_12_10_9.feather\n",
      "File or folder already exists, so skipping task: data (datafolder)\n",
      "File or folder already exists, so skipping task: C:/Users/asus/AppData/Local/pykoda/pykoda/cache/sl-tripupdates-2022-12-10.bz2 (file)\n"
     ]
    },
    {
     "name": "stderr",
     "output_type": "stream",
     "text": [
      "C:\\Users\\asus\\AppData\\Local\\Programs\\Python\\Python312\\Lib\\site-packages\\pykoda\\data\\datautils.py:90: RuntimeWarning: The API did not return data for 2022-12-10 09:00:00\n",
      "  warnings.warn(RuntimeWarning(f'The API did not return data for {date_hour}'))\n",
      "C:\\Users\\asus\\AppData\\Local\\Programs\\Python\\Python312\\Lib\\site-packages\\pykoda\\data\\datautils.py:90: RuntimeWarning: The API did not return data for 2022-12-10 10:00:00\n",
      "  warnings.warn(RuntimeWarning(f'The API did not return data for {date_hour}'))\n",
      "Loading data:  56%|█████████████████████████████████████▏                            | 203/360 [15:34<10:14,  3.91s/it]"
     ]
    },
    {
     "name": "stdout",
     "output_type": "stream",
     "text": [
      "System tool failed: Command '['7z', 'e', '-oC:/Users/asus/AppData/Local/pykoda/pykoda/cache/sl-tripupdates-2022-12-10', 'C:/Users/asus/AppData/Local/pykoda/pykoda/cache/sl-tripupdates-2022-12-10.bz2']' returned non-zero exit status 255.\n",
      "None\n",
      "Executing python function, producing output(s): C:/Users/asus/AppData/Local/pykoda/pykoda/cache/sl_TripUpdates_2022_12_10_9.feather.tmp\n",
      "Getting C:/Users/asus/AppData/Local/pykoda/pykoda/cache/sl_TripUpdates_2022_12_10_10.feather\n",
      "File or folder already exists, so skipping task: data (datafolder)\n",
      "File or folder already exists, so skipping task: C:/Users/asus/AppData/Local/pykoda/pykoda/cache/sl-tripupdates-2022-12-10.bz2 (file)\n",
      "System tool failed: Command '['7z', 'e', '-oC:/Users/asus/AppData/Local/pykoda/pykoda/cache/sl-tripupdates-2022-12-10', 'C:/Users/asus/AppData/Local/pykoda/pykoda/cache/sl-tripupdates-2022-12-10.bz2']' returned non-zero exit status 255.\n",
      "None\n",
      "Executing python function, producing output(s): C:/Users/asus/AppData/Local/pykoda/pykoda/cache/sl_TripUpdates_2022_12_10_10.feather.tmp\n",
      "Getting C:/Users/asus/AppData/Local/pykoda/pykoda/cache/sl_TripUpdates_2022_12_10_11.feather\n",
      "File or folder already exists, so skipping task: data (datafolder)\n",
      "File or folder already exists, so skipping task: C:/Users/asus/AppData/Local/pykoda/pykoda/cache/sl-tripupdates-2022-12-10.bz2 (file)\n",
      "System tool failed: Command '['7z', 'e', '-oC:/Users/asus/AppData/Local/pykoda/pykoda/cache/sl-tripupdates-2022-12-10', 'C:/Users/asus/AppData/Local/pykoda/pykoda/cache/sl-tripupdates-2022-12-10.bz2']' returned non-zero exit status 255.\n",
      "None\n",
      "Executing python function, producing output(s): C:/Users/asus/AppData/Local/pykoda/pykoda/cache/sl_TripUpdates_2022_12_10_11.feather.tmp\n",
      "Getting C:/Users/asus/AppData/Local/pykoda/pykoda/cache/sl_TripUpdates_2022_12_10_12.feather\n",
      "File or folder already exists, so skipping task: data (datafolder)\n",
      "File or folder already exists, so skipping task: C:/Users/asus/AppData/Local/pykoda/pykoda/cache/sl-tripupdates-2022-12-10.bz2 (file)\n"
     ]
    },
    {
     "name": "stderr",
     "output_type": "stream",
     "text": [
      "C:\\Users\\asus\\AppData\\Local\\Programs\\Python\\Python312\\Lib\\site-packages\\pykoda\\data\\datautils.py:90: RuntimeWarning: The API did not return data for 2022-12-10 11:00:00\n",
      "  warnings.warn(RuntimeWarning(f'The API did not return data for {date_hour}'))\n",
      "C:\\Users\\asus\\AppData\\Local\\Programs\\Python\\Python312\\Lib\\site-packages\\pykoda\\data\\datautils.py:90: RuntimeWarning: The API did not return data for 2022-12-10 12:00:00\n",
      "  warnings.warn(RuntimeWarning(f'The API did not return data for {date_hour}'))\n",
      "Loading data:  57%|█████████████████████████████████████▌                            | 205/360 [15:34<07:07,  2.76s/it]C:\\Users\\asus\\AppData\\Local\\Programs\\Python\\Python312\\Lib\\site-packages\\pykoda\\data\\datautils.py:90: RuntimeWarning: The API did not return data for 2022-12-10 13:00:00\n",
      "  warnings.warn(RuntimeWarning(f'The API did not return data for {date_hour}'))\n",
      "C:\\Users\\asus\\AppData\\Local\\Programs\\Python\\Python312\\Lib\\site-packages\\pykoda\\data\\datautils.py:90: RuntimeWarning: The API did not return data for 2022-12-10 14:00:00\n",
      "  warnings.warn(RuntimeWarning(f'The API did not return data for {date_hour}'))\n",
      "Loading data:  57%|█████████████████████████████████████▉                            | 207/360 [15:34<04:58,  1.95s/it]"
     ]
    },
    {
     "name": "stdout",
     "output_type": "stream",
     "text": [
      "System tool failed: Command '['7z', 'e', '-oC:/Users/asus/AppData/Local/pykoda/pykoda/cache/sl-tripupdates-2022-12-10', 'C:/Users/asus/AppData/Local/pykoda/pykoda/cache/sl-tripupdates-2022-12-10.bz2']' returned non-zero exit status 255.\n",
      "None\n",
      "Executing python function, producing output(s): C:/Users/asus/AppData/Local/pykoda/pykoda/cache/sl_TripUpdates_2022_12_10_12.feather.tmp\n",
      "Getting C:/Users/asus/AppData/Local/pykoda/pykoda/cache/sl_TripUpdates_2022_12_10_13.feather\n",
      "File or folder already exists, so skipping task: data (datafolder)\n",
      "File or folder already exists, so skipping task: C:/Users/asus/AppData/Local/pykoda/pykoda/cache/sl-tripupdates-2022-12-10.bz2 (file)\n",
      "System tool failed: Command '['7z', 'e', '-oC:/Users/asus/AppData/Local/pykoda/pykoda/cache/sl-tripupdates-2022-12-10', 'C:/Users/asus/AppData/Local/pykoda/pykoda/cache/sl-tripupdates-2022-12-10.bz2']' returned non-zero exit status 255.\n",
      "None\n",
      "Executing python function, producing output(s): C:/Users/asus/AppData/Local/pykoda/pykoda/cache/sl_TripUpdates_2022_12_10_13.feather.tmp\n",
      "Getting C:/Users/asus/AppData/Local/pykoda/pykoda/cache/sl_TripUpdates_2022_12_10_14.feather\n",
      "File or folder already exists, so skipping task: data (datafolder)\n",
      "File or folder already exists, so skipping task: C:/Users/asus/AppData/Local/pykoda/pykoda/cache/sl-tripupdates-2022-12-10.bz2 (file)\n",
      "System tool failed: Command '['7z', 'e', '-oC:/Users/asus/AppData/Local/pykoda/pykoda/cache/sl-tripupdates-2022-12-10', 'C:/Users/asus/AppData/Local/pykoda/pykoda/cache/sl-tripupdates-2022-12-10.bz2']' returned non-zero exit status 255.\n",
      "None\n",
      "Executing python function, producing output(s): C:/Users/asus/AppData/Local/pykoda/pykoda/cache/sl_TripUpdates_2022_12_10_14.feather.tmp\n",
      "Getting C:/Users/asus/AppData/Local/pykoda/pykoda/cache/sl_TripUpdates_2022_12_10_15.feather\n",
      "File or folder already exists, so skipping task: data (datafolder)\n",
      "File or folder already exists, so skipping task: C:/Users/asus/AppData/Local/pykoda/pykoda/cache/sl-tripupdates-2022-12-10.bz2 (file)\n"
     ]
    },
    {
     "name": "stderr",
     "output_type": "stream",
     "text": [
      "C:\\Users\\asus\\AppData\\Local\\Programs\\Python\\Python312\\Lib\\site-packages\\pykoda\\data\\datautils.py:90: RuntimeWarning: The API did not return data for 2022-12-10 15:00:00\n",
      "  warnings.warn(RuntimeWarning(f'The API did not return data for {date_hour}'))\n",
      "C:\\Users\\asus\\AppData\\Local\\Programs\\Python\\Python312\\Lib\\site-packages\\pykoda\\data\\datautils.py:90: RuntimeWarning: The API did not return data for 2022-12-10 16:00:00\n",
      "  warnings.warn(RuntimeWarning(f'The API did not return data for {date_hour}'))\n",
      "Loading data:  58%|██████████████████████████████████████▎                           | 209/360 [15:35<03:30,  1.39s/it]"
     ]
    },
    {
     "name": "stdout",
     "output_type": "stream",
     "text": [
      "System tool failed: Command '['7z', 'e', '-oC:/Users/asus/AppData/Local/pykoda/pykoda/cache/sl-tripupdates-2022-12-10', 'C:/Users/asus/AppData/Local/pykoda/pykoda/cache/sl-tripupdates-2022-12-10.bz2']' returned non-zero exit status 255.\n",
      "None\n",
      "Executing python function, producing output(s): C:/Users/asus/AppData/Local/pykoda/pykoda/cache/sl_TripUpdates_2022_12_10_15.feather.tmp\n",
      "Getting C:/Users/asus/AppData/Local/pykoda/pykoda/cache/sl_TripUpdates_2022_12_10_16.feather\n",
      "File or folder already exists, so skipping task: data (datafolder)\n",
      "File or folder already exists, so skipping task: C:/Users/asus/AppData/Local/pykoda/pykoda/cache/sl-tripupdates-2022-12-10.bz2 (file)\n",
      "System tool failed: Command '['7z', 'e', '-oC:/Users/asus/AppData/Local/pykoda/pykoda/cache/sl-tripupdates-2022-12-10', 'C:/Users/asus/AppData/Local/pykoda/pykoda/cache/sl-tripupdates-2022-12-10.bz2']' returned non-zero exit status 255.\n",
      "None\n",
      "Executing python function, producing output(s): C:/Users/asus/AppData/Local/pykoda/pykoda/cache/sl_TripUpdates_2022_12_10_16.feather.tmp\n",
      "Getting C:/Users/asus/AppData/Local/pykoda/pykoda/cache/sl_TripUpdates_2022_12_10_17.feather\n",
      "File or folder already exists, so skipping task: data (datafolder)\n",
      "File or folder already exists, so skipping task: C:/Users/asus/AppData/Local/pykoda/pykoda/cache/sl-tripupdates-2022-12-10.bz2 (file)\n",
      "System tool failed: Command '['7z', 'e', '-oC:/Users/asus/AppData/Local/pykoda/pykoda/cache/sl-tripupdates-2022-12-10', 'C:/Users/asus/AppData/Local/pykoda/pykoda/cache/sl-tripupdates-2022-12-10.bz2']' returned non-zero exit status 255.\n",
      "None\n",
      "Executing python function, producing output(s): C:/Users/asus/AppData/Local/pykoda/pykoda/cache/sl_TripUpdates_2022_12_10_17.feather.tmp\n",
      "Getting C:/Users/asus/AppData/Local/pykoda/pykoda/cache/sl_TripUpdates_2022_12_10_18.feather\n",
      "File or folder already exists, so skipping task: data (datafolder)\n",
      "File or folder already exists, so skipping task: C:/Users/asus/AppData/Local/pykoda/pykoda/cache/sl-tripupdates-2022-12-10.bz2 (file)\n"
     ]
    },
    {
     "name": "stderr",
     "output_type": "stream",
     "text": [
      "C:\\Users\\asus\\AppData\\Local\\Programs\\Python\\Python312\\Lib\\site-packages\\pykoda\\data\\datautils.py:90: RuntimeWarning: The API did not return data for 2022-12-10 17:00:00\n",
      "  warnings.warn(RuntimeWarning(f'The API did not return data for {date_hour}'))\n",
      "C:\\Users\\asus\\AppData\\Local\\Programs\\Python\\Python312\\Lib\\site-packages\\pykoda\\data\\datautils.py:90: RuntimeWarning: The API did not return data for 2022-12-10 18:00:00\n",
      "  warnings.warn(RuntimeWarning(f'The API did not return data for {date_hour}'))\n",
      "Loading data:  59%|██████████████████████████████████████▋                           | 211/360 [15:35<02:28,  1.00it/s]C:\\Users\\asus\\AppData\\Local\\Programs\\Python\\Python312\\Lib\\site-packages\\pykoda\\data\\datautils.py:90: RuntimeWarning: The API did not return data for 2022-12-10 19:00:00\n",
      "  warnings.warn(RuntimeWarning(f'The API did not return data for {date_hour}'))\n",
      "C:\\Users\\asus\\AppData\\Local\\Programs\\Python\\Python312\\Lib\\site-packages\\pykoda\\data\\datautils.py:90: RuntimeWarning: The API did not return data for 2022-12-10 20:00:00\n",
      "  warnings.warn(RuntimeWarning(f'The API did not return data for {date_hour}'))\n",
      "Loading data:  59%|███████████████████████████████████████                           | 213/360 [15:35<01:45,  1.39it/s]"
     ]
    },
    {
     "name": "stdout",
     "output_type": "stream",
     "text": [
      "System tool failed: Command '['7z', 'e', '-oC:/Users/asus/AppData/Local/pykoda/pykoda/cache/sl-tripupdates-2022-12-10', 'C:/Users/asus/AppData/Local/pykoda/pykoda/cache/sl-tripupdates-2022-12-10.bz2']' returned non-zero exit status 255.\n",
      "None\n",
      "Executing python function, producing output(s): C:/Users/asus/AppData/Local/pykoda/pykoda/cache/sl_TripUpdates_2022_12_10_18.feather.tmp\n",
      "Getting C:/Users/asus/AppData/Local/pykoda/pykoda/cache/sl_TripUpdates_2022_12_10_19.feather\n",
      "File or folder already exists, so skipping task: data (datafolder)\n",
      "File or folder already exists, so skipping task: C:/Users/asus/AppData/Local/pykoda/pykoda/cache/sl-tripupdates-2022-12-10.bz2 (file)\n",
      "System tool failed: Command '['7z', 'e', '-oC:/Users/asus/AppData/Local/pykoda/pykoda/cache/sl-tripupdates-2022-12-10', 'C:/Users/asus/AppData/Local/pykoda/pykoda/cache/sl-tripupdates-2022-12-10.bz2']' returned non-zero exit status 255.\n",
      "None\n",
      "Executing python function, producing output(s): C:/Users/asus/AppData/Local/pykoda/pykoda/cache/sl_TripUpdates_2022_12_10_19.feather.tmp\n",
      "Getting C:/Users/asus/AppData/Local/pykoda/pykoda/cache/sl_TripUpdates_2022_12_10_20.feather\n",
      "File or folder already exists, so skipping task: data (datafolder)\n",
      "File or folder already exists, so skipping task: C:/Users/asus/AppData/Local/pykoda/pykoda/cache/sl-tripupdates-2022-12-10.bz2 (file)\n",
      "System tool failed: Command '['7z', 'e', '-oC:/Users/asus/AppData/Local/pykoda/pykoda/cache/sl-tripupdates-2022-12-10', 'C:/Users/asus/AppData/Local/pykoda/pykoda/cache/sl-tripupdates-2022-12-10.bz2']' returned non-zero exit status 255.\n",
      "None\n",
      "Executing python function, producing output(s): C:/Users/asus/AppData/Local/pykoda/pykoda/cache/sl_TripUpdates_2022_12_10_20.feather.tmp\n",
      "Getting C:/Users/asus/AppData/Local/pykoda/pykoda/cache/sl_TripUpdates_2022_12_10_21.feather\n",
      "File or folder already exists, so skipping task: data (datafolder)\n",
      "File or folder already exists, so skipping task: C:/Users/asus/AppData/Local/pykoda/pykoda/cache/sl-tripupdates-2022-12-10.bz2 (file)\n"
     ]
    },
    {
     "name": "stderr",
     "output_type": "stream",
     "text": [
      "C:\\Users\\asus\\AppData\\Local\\Programs\\Python\\Python312\\Lib\\site-packages\\pykoda\\data\\datautils.py:90: RuntimeWarning: The API did not return data for 2022-12-10 21:00:00\n",
      "  warnings.warn(RuntimeWarning(f'The API did not return data for {date_hour}'))\n",
      "C:\\Users\\asus\\AppData\\Local\\Programs\\Python\\Python312\\Lib\\site-packages\\pykoda\\data\\datautils.py:90: RuntimeWarning: The API did not return data for 2022-12-10 22:00:00\n",
      "  warnings.warn(RuntimeWarning(f'The API did not return data for {date_hour}'))\n",
      "Loading data:  60%|███████████████████████████████████████▍                          | 215/360 [15:35<01:16,  1.90it/s]"
     ]
    },
    {
     "name": "stdout",
     "output_type": "stream",
     "text": [
      "System tool failed: Command '['7z', 'e', '-oC:/Users/asus/AppData/Local/pykoda/pykoda/cache/sl-tripupdates-2022-12-10', 'C:/Users/asus/AppData/Local/pykoda/pykoda/cache/sl-tripupdates-2022-12-10.bz2']' returned non-zero exit status 255.\n",
      "None\n",
      "Executing python function, producing output(s): C:/Users/asus/AppData/Local/pykoda/pykoda/cache/sl_TripUpdates_2022_12_10_21.feather.tmp\n",
      "Getting C:/Users/asus/AppData/Local/pykoda/pykoda/cache/sl_TripUpdates_2022_12_10_22.feather\n",
      "File or folder already exists, so skipping task: data (datafolder)\n",
      "File or folder already exists, so skipping task: C:/Users/asus/AppData/Local/pykoda/pykoda/cache/sl-tripupdates-2022-12-10.bz2 (file)\n",
      "System tool failed: Command '['7z', 'e', '-oC:/Users/asus/AppData/Local/pykoda/pykoda/cache/sl-tripupdates-2022-12-10', 'C:/Users/asus/AppData/Local/pykoda/pykoda/cache/sl-tripupdates-2022-12-10.bz2']' returned non-zero exit status 255.\n",
      "None\n",
      "Executing python function, producing output(s): C:/Users/asus/AppData/Local/pykoda/pykoda/cache/sl_TripUpdates_2022_12_10_22.feather.tmp\n",
      "Getting C:/Users/asus/AppData/Local/pykoda/pykoda/cache/sl_TripUpdates_2022_12_10_23.feather\n",
      "File or folder already exists, so skipping task: data (datafolder)\n",
      "File or folder already exists, so skipping task: C:/Users/asus/AppData/Local/pykoda/pykoda/cache/sl-tripupdates-2022-12-10.bz2 (file)\n",
      "System tool failed: Command '['7z', 'e', '-oC:/Users/asus/AppData/Local/pykoda/pykoda/cache/sl-tripupdates-2022-12-10', 'C:/Users/asus/AppData/Local/pykoda/pykoda/cache/sl-tripupdates-2022-12-10.bz2']' returned non-zero exit status 255.\n",
      "None\n",
      "Executing python function, producing output(s): C:/Users/asus/AppData/Local/pykoda/pykoda/cache/sl_TripUpdates_2022_12_10_23.feather.tmp\n"
     ]
    },
    {
     "name": "stderr",
     "output_type": "stream",
     "text": [
      "C:\\Users\\asus\\AppData\\Local\\Programs\\Python\\Python312\\Lib\\site-packages\\pykoda\\data\\datautils.py:90: RuntimeWarning: The API did not return data for 2022-12-10 23:00:00\n",
      "  warnings.warn(RuntimeWarning(f'The API did not return data for {date_hour}'))\n"
     ]
    },
    {
     "name": "stdout",
     "output_type": "stream",
     "text": [
      "Getting C:/Users/asus/AppData/Local/pykoda/pykoda/cache/sl_TripUpdates_2022_12_11_0.feather\n",
      "File or folder already exists, so skipping task: data (datafolder)\n",
      "Executing python function, producing output(s): C:/Users/asus/AppData/Local/pykoda/pykoda/cache/sl-tripupdates-2022-12-11.bz2.tmp\n",
      "C:/Users/asus/AppData/Local/pykoda/pykoda/cache/sl-tripupdates-2022-12-11.tar\n",
      "Executing python function, producing output(s): C:/Users/asus/AppData/Local/pykoda/pykoda/cache/sl_TripUpdates_2022_12_11_0.feather.tmp\n",
      "sl-tripupdates-2022-12-01T10\n"
     ]
    },
    {
     "name": "stderr",
     "output_type": "stream",
     "text": [
      "Loading data:  60%|███████████████████████████████████████▊                          | 217/360 [18:07<55:15, 23.18s/it]C:\\Users\\asus\\AppData\\Local\\Programs\\Python\\Python312\\Lib\\site-packages\\pykoda\\data\\datautils.py:90: RuntimeWarning: The API did not return data for 2022-12-11 01:00:00\n",
      "  warnings.warn(RuntimeWarning(f'The API did not return data for {date_hour}'))\n",
      "Loading data:  61%|███████████████████████████████████████▉                          | 218/360 [18:07<45:13, 19.11s/it]C:\\Users\\asus\\AppData\\Local\\Programs\\Python\\Python312\\Lib\\site-packages\\pykoda\\data\\datautils.py:90: RuntimeWarning: The API did not return data for 2022-12-11 02:00:00\n",
      "  warnings.warn(RuntimeWarning(f'The API did not return data for {date_hour}'))\n"
     ]
    },
    {
     "name": "stdout",
     "output_type": "stream",
     "text": [
      "Getting C:/Users/asus/AppData/Local/pykoda/pykoda/cache/sl_TripUpdates_2022_12_11_1.feather\n",
      "File or folder already exists, so skipping task: data (datafolder)\n",
      "File or folder already exists, so skipping task: C:/Users/asus/AppData/Local/pykoda/pykoda/cache/sl-tripupdates-2022-12-11.bz2 (file)\n",
      "System tool failed: Command '['7z', 'e', '-oC:/Users/asus/AppData/Local/pykoda/pykoda/cache/sl-tripupdates-2022-12-11', 'C:/Users/asus/AppData/Local/pykoda/pykoda/cache/sl-tripupdates-2022-12-11.bz2']' returned non-zero exit status 255.\n",
      "None\n",
      "Executing python function, producing output(s): C:/Users/asus/AppData/Local/pykoda/pykoda/cache/sl_TripUpdates_2022_12_11_1.feather.tmp\n",
      "Getting C:/Users/asus/AppData/Local/pykoda/pykoda/cache/sl_TripUpdates_2022_12_11_2.feather\n",
      "File or folder already exists, so skipping task: data (datafolder)\n",
      "File or folder already exists, so skipping task: C:/Users/asus/AppData/Local/pykoda/pykoda/cache/sl-tripupdates-2022-12-11.bz2 (file)\n",
      "System tool failed: Command '['7z', 'e', '-oC:/Users/asus/AppData/Local/pykoda/pykoda/cache/sl-tripupdates-2022-12-11', 'C:/Users/asus/AppData/Local/pykoda/pykoda/cache/sl-tripupdates-2022-12-11.bz2']' returned non-zero exit status 255.\n",
      "None\n",
      "Executing python function, producing output(s): C:/Users/asus/AppData/Local/pykoda/pykoda/cache/sl_TripUpdates_2022_12_11_2.feather.tmp\n",
      "Getting C:/Users/asus/AppData/Local/pykoda/pykoda/cache/sl_TripUpdates_2022_12_11_3.feather\n"
     ]
    },
    {
     "name": "stderr",
     "output_type": "stream",
     "text": [
      "C:\\Users\\asus\\AppData\\Local\\Programs\\Python\\Python312\\Lib\\site-packages\\pykoda\\data\\datautils.py:90: RuntimeWarning: The API did not return data for 2022-12-11 03:00:00\n",
      "  warnings.warn(RuntimeWarning(f'The API did not return data for {date_hour}'))\n",
      "Loading data:  61%|████████████████████████████████████████▎                         | 220/360 [18:07<29:42, 12.73s/it]C:\\Users\\asus\\AppData\\Local\\Programs\\Python\\Python312\\Lib\\site-packages\\pykoda\\data\\datautils.py:90: RuntimeWarning: The API did not return data for 2022-12-11 04:00:00\n",
      "  warnings.warn(RuntimeWarning(f'The API did not return data for {date_hour}'))\n"
     ]
    },
    {
     "name": "stdout",
     "output_type": "stream",
     "text": [
      "File or folder already exists, so skipping task: data (datafolder)\n",
      "File or folder already exists, so skipping task: C:/Users/asus/AppData/Local/pykoda/pykoda/cache/sl-tripupdates-2022-12-11.bz2 (file)\n",
      "System tool failed: Command '['7z', 'e', '-oC:/Users/asus/AppData/Local/pykoda/pykoda/cache/sl-tripupdates-2022-12-11', 'C:/Users/asus/AppData/Local/pykoda/pykoda/cache/sl-tripupdates-2022-12-11.bz2']' returned non-zero exit status 255.\n",
      "None\n",
      "Executing python function, producing output(s): C:/Users/asus/AppData/Local/pykoda/pykoda/cache/sl_TripUpdates_2022_12_11_3.feather.tmp\n",
      "Getting C:/Users/asus/AppData/Local/pykoda/pykoda/cache/sl_TripUpdates_2022_12_11_4.feather\n",
      "File or folder already exists, so skipping task: data (datafolder)\n",
      "File or folder already exists, so skipping task: C:/Users/asus/AppData/Local/pykoda/pykoda/cache/sl-tripupdates-2022-12-11.bz2 (file)\n",
      "System tool failed: Command '['7z', 'e', '-oC:/Users/asus/AppData/Local/pykoda/pykoda/cache/sl-tripupdates-2022-12-11', 'C:/Users/asus/AppData/Local/pykoda/pykoda/cache/sl-tripupdates-2022-12-11.bz2']' returned non-zero exit status 255.\n",
      "None\n",
      "Executing python function, producing output(s): C:/Users/asus/AppData/Local/pykoda/pykoda/cache/sl_TripUpdates_2022_12_11_4.feather.tmp\n",
      "Getting C:/Users/asus/AppData/Local/pykoda/pykoda/cache/sl_TripUpdates_2022_12_11_5.feather\n",
      "File or folder already exists, so skipping task: data (datafolder)\n",
      "File or folder already exists, so skipping task: C:/Users/asus/AppData/Local/pykoda/pykoda/cache/sl-tripupdates-2022-12-11.bz2 (file)\n"
     ]
    },
    {
     "name": "stderr",
     "output_type": "stream",
     "text": [
      "C:\\Users\\asus\\AppData\\Local\\Programs\\Python\\Python312\\Lib\\site-packages\\pykoda\\data\\datautils.py:90: RuntimeWarning: The API did not return data for 2022-12-11 05:00:00\n",
      "  warnings.warn(RuntimeWarning(f'The API did not return data for {date_hour}'))\n",
      "Loading data:  62%|████████████████████████████████████████▋                         | 222/360 [18:08<19:51,  8.63s/it]C:\\Users\\asus\\AppData\\Local\\Programs\\Python\\Python312\\Lib\\site-packages\\pykoda\\data\\datautils.py:90: RuntimeWarning: The API did not return data for 2022-12-11 06:00:00\n",
      "  warnings.warn(RuntimeWarning(f'The API did not return data for {date_hour}'))\n",
      "C:\\Users\\asus\\AppData\\Local\\Programs\\Python\\Python312\\Lib\\site-packages\\pykoda\\data\\datautils.py:90: RuntimeWarning: The API did not return data for 2022-12-11 07:00:00\n",
      "  warnings.warn(RuntimeWarning(f'The API did not return data for {date_hour}'))\n",
      "Loading data:  62%|█████████████████████████████████████████                         | 224/360 [18:08<13:26,  5.93s/it]"
     ]
    },
    {
     "name": "stdout",
     "output_type": "stream",
     "text": [
      "System tool failed: Command '['7z', 'e', '-oC:/Users/asus/AppData/Local/pykoda/pykoda/cache/sl-tripupdates-2022-12-11', 'C:/Users/asus/AppData/Local/pykoda/pykoda/cache/sl-tripupdates-2022-12-11.bz2']' returned non-zero exit status 255.\n",
      "None\n",
      "Executing python function, producing output(s): C:/Users/asus/AppData/Local/pykoda/pykoda/cache/sl_TripUpdates_2022_12_11_5.feather.tmp\n",
      "Getting C:/Users/asus/AppData/Local/pykoda/pykoda/cache/sl_TripUpdates_2022_12_11_6.feather\n",
      "File or folder already exists, so skipping task: data (datafolder)\n",
      "File or folder already exists, so skipping task: C:/Users/asus/AppData/Local/pykoda/pykoda/cache/sl-tripupdates-2022-12-11.bz2 (file)\n",
      "System tool failed: Command '['7z', 'e', '-oC:/Users/asus/AppData/Local/pykoda/pykoda/cache/sl-tripupdates-2022-12-11', 'C:/Users/asus/AppData/Local/pykoda/pykoda/cache/sl-tripupdates-2022-12-11.bz2']' returned non-zero exit status 255.\n",
      "None\n",
      "Executing python function, producing output(s): C:/Users/asus/AppData/Local/pykoda/pykoda/cache/sl_TripUpdates_2022_12_11_6.feather.tmp\n",
      "Getting C:/Users/asus/AppData/Local/pykoda/pykoda/cache/sl_TripUpdates_2022_12_11_7.feather\n",
      "File or folder already exists, so skipping task: data (datafolder)\n",
      "File or folder already exists, so skipping task: C:/Users/asus/AppData/Local/pykoda/pykoda/cache/sl-tripupdates-2022-12-11.bz2 (file)\n",
      "System tool failed: Command '['7z', 'e', '-oC:/Users/asus/AppData/Local/pykoda/pykoda/cache/sl-tripupdates-2022-12-11', 'C:/Users/asus/AppData/Local/pykoda/pykoda/cache/sl-tripupdates-2022-12-11.bz2']' returned non-zero exit status 255.\n",
      "None\n",
      "Executing python function, producing output(s): C:/Users/asus/AppData/Local/pykoda/pykoda/cache/sl_TripUpdates_2022_12_11_7.feather.tmp\n",
      "Getting C:/Users/asus/AppData/Local/pykoda/pykoda/cache/sl_TripUpdates_2022_12_11_8.feather\n",
      "File or folder already exists, so skipping task: data (datafolder)\n",
      "File or folder already exists, so skipping task: C:/Users/asus/AppData/Local/pykoda/pykoda/cache/sl-tripupdates-2022-12-11.bz2 (file)\n"
     ]
    },
    {
     "name": "stderr",
     "output_type": "stream",
     "text": [
      "C:\\Users\\asus\\AppData\\Local\\Programs\\Python\\Python312\\Lib\\site-packages\\pykoda\\data\\datautils.py:90: RuntimeWarning: The API did not return data for 2022-12-11 08:00:00\n",
      "  warnings.warn(RuntimeWarning(f'The API did not return data for {date_hour}'))\n",
      "C:\\Users\\asus\\AppData\\Local\\Programs\\Python\\Python312\\Lib\\site-packages\\pykoda\\data\\datautils.py:90: RuntimeWarning: The API did not return data for 2022-12-11 09:00:00\n",
      "  warnings.warn(RuntimeWarning(f'The API did not return data for {date_hour}'))\n",
      "Loading data:  63%|█████████████████████████████████████████▍                        | 226/360 [18:08<09:10,  4.11s/it]"
     ]
    },
    {
     "name": "stdout",
     "output_type": "stream",
     "text": [
      "System tool failed: Command '['7z', 'e', '-oC:/Users/asus/AppData/Local/pykoda/pykoda/cache/sl-tripupdates-2022-12-11', 'C:/Users/asus/AppData/Local/pykoda/pykoda/cache/sl-tripupdates-2022-12-11.bz2']' returned non-zero exit status 255.\n",
      "None\n",
      "Executing python function, producing output(s): C:/Users/asus/AppData/Local/pykoda/pykoda/cache/sl_TripUpdates_2022_12_11_8.feather.tmp\n",
      "Getting C:/Users/asus/AppData/Local/pykoda/pykoda/cache/sl_TripUpdates_2022_12_11_9.feather\n",
      "File or folder already exists, so skipping task: data (datafolder)\n",
      "File or folder already exists, so skipping task: C:/Users/asus/AppData/Local/pykoda/pykoda/cache/sl-tripupdates-2022-12-11.bz2 (file)\n",
      "System tool failed: Command '['7z', 'e', '-oC:/Users/asus/AppData/Local/pykoda/pykoda/cache/sl-tripupdates-2022-12-11', 'C:/Users/asus/AppData/Local/pykoda/pykoda/cache/sl-tripupdates-2022-12-11.bz2']' returned non-zero exit status 255.\n",
      "None\n",
      "Executing python function, producing output(s): C:/Users/asus/AppData/Local/pykoda/pykoda/cache/sl_TripUpdates_2022_12_11_9.feather.tmp\n",
      "Getting C:/Users/asus/AppData/Local/pykoda/pykoda/cache/sl_TripUpdates_2022_12_11_10.feather\n",
      "File or folder already exists, so skipping task: data (datafolder)\n",
      "File or folder already exists, so skipping task: C:/Users/asus/AppData/Local/pykoda/pykoda/cache/sl-tripupdates-2022-12-11.bz2 (file)\n",
      "System tool failed: Command '['7z', 'e', '-oC:/Users/asus/AppData/Local/pykoda/pykoda/cache/sl-tripupdates-2022-12-11', 'C:/Users/asus/AppData/Local/pykoda/pykoda/cache/sl-tripupdates-2022-12-11.bz2']' returned non-zero exit status 255.\n",
      "None\n",
      "Executing python function, producing output(s): C:/Users/asus/AppData/Local/pykoda/pykoda/cache/sl_TripUpdates_2022_12_11_10.feather.tmp\n",
      "Getting C:/Users/asus/AppData/Local/pykoda/pykoda/cache/sl_TripUpdates_2022_12_11_11.feather\n",
      "File or folder already exists, so skipping task: data (datafolder)\n",
      "File or folder already exists, so skipping task: C:/Users/asus/AppData/Local/pykoda/pykoda/cache/sl-tripupdates-2022-12-11.bz2 (file)\n"
     ]
    },
    {
     "name": "stderr",
     "output_type": "stream",
     "text": [
      "C:\\Users\\asus\\AppData\\Local\\Programs\\Python\\Python312\\Lib\\site-packages\\pykoda\\data\\datautils.py:90: RuntimeWarning: The API did not return data for 2022-12-11 10:00:00\n",
      "  warnings.warn(RuntimeWarning(f'The API did not return data for {date_hour}'))\n",
      "C:\\Users\\asus\\AppData\\Local\\Programs\\Python\\Python312\\Lib\\site-packages\\pykoda\\data\\datautils.py:90: RuntimeWarning: The API did not return data for 2022-12-11 11:00:00\n",
      "  warnings.warn(RuntimeWarning(f'The API did not return data for {date_hour}'))\n",
      "Loading data:  63%|█████████████████████████████████████████▊                        | 228/360 [18:08<06:18,  2.86s/it]C:\\Users\\asus\\AppData\\Local\\Programs\\Python\\Python312\\Lib\\site-packages\\pykoda\\data\\datautils.py:90: RuntimeWarning: The API did not return data for 2022-12-11 12:00:00\n",
      "  warnings.warn(RuntimeWarning(f'The API did not return data for {date_hour}'))\n",
      "C:\\Users\\asus\\AppData\\Local\\Programs\\Python\\Python312\\Lib\\site-packages\\pykoda\\data\\datautils.py:90: RuntimeWarning: The API did not return data for 2022-12-11 13:00:00\n",
      "  warnings.warn(RuntimeWarning(f'The API did not return data for {date_hour}'))\n",
      "Loading data:  64%|██████████████████████████████████████████▏                       | 230/360 [18:08<04:22,  2.02s/it]"
     ]
    },
    {
     "name": "stdout",
     "output_type": "stream",
     "text": [
      "System tool failed: Command '['7z', 'e', '-oC:/Users/asus/AppData/Local/pykoda/pykoda/cache/sl-tripupdates-2022-12-11', 'C:/Users/asus/AppData/Local/pykoda/pykoda/cache/sl-tripupdates-2022-12-11.bz2']' returned non-zero exit status 255.\n",
      "None\n",
      "Executing python function, producing output(s): C:/Users/asus/AppData/Local/pykoda/pykoda/cache/sl_TripUpdates_2022_12_11_11.feather.tmp\n",
      "Getting C:/Users/asus/AppData/Local/pykoda/pykoda/cache/sl_TripUpdates_2022_12_11_12.feather\n",
      "File or folder already exists, so skipping task: data (datafolder)\n",
      "File or folder already exists, so skipping task: C:/Users/asus/AppData/Local/pykoda/pykoda/cache/sl-tripupdates-2022-12-11.bz2 (file)\n",
      "System tool failed: Command '['7z', 'e', '-oC:/Users/asus/AppData/Local/pykoda/pykoda/cache/sl-tripupdates-2022-12-11', 'C:/Users/asus/AppData/Local/pykoda/pykoda/cache/sl-tripupdates-2022-12-11.bz2']' returned non-zero exit status 255.\n",
      "None\n",
      "Executing python function, producing output(s): C:/Users/asus/AppData/Local/pykoda/pykoda/cache/sl_TripUpdates_2022_12_11_12.feather.tmp\n",
      "Getting C:/Users/asus/AppData/Local/pykoda/pykoda/cache/sl_TripUpdates_2022_12_11_13.feather\n",
      "File or folder already exists, so skipping task: data (datafolder)\n",
      "File or folder already exists, so skipping task: C:/Users/asus/AppData/Local/pykoda/pykoda/cache/sl-tripupdates-2022-12-11.bz2 (file)\n",
      "System tool failed: Command '['7z', 'e', '-oC:/Users/asus/AppData/Local/pykoda/pykoda/cache/sl-tripupdates-2022-12-11', 'C:/Users/asus/AppData/Local/pykoda/pykoda/cache/sl-tripupdates-2022-12-11.bz2']' returned non-zero exit status 255.\n",
      "None\n",
      "Executing python function, producing output(s): C:/Users/asus/AppData/Local/pykoda/pykoda/cache/sl_TripUpdates_2022_12_11_13.feather.tmp\n",
      "Getting C:/Users/asus/AppData/Local/pykoda/pykoda/cache/sl_TripUpdates_2022_12_11_14.feather\n",
      "File or folder already exists, so skipping task: data (datafolder)\n",
      "File or folder already exists, so skipping task: C:/Users/asus/AppData/Local/pykoda/pykoda/cache/sl-tripupdates-2022-12-11.bz2 (file)\n"
     ]
    },
    {
     "name": "stderr",
     "output_type": "stream",
     "text": [
      "C:\\Users\\asus\\AppData\\Local\\Programs\\Python\\Python312\\Lib\\site-packages\\pykoda\\data\\datautils.py:90: RuntimeWarning: The API did not return data for 2022-12-11 14:00:00\n",
      "  warnings.warn(RuntimeWarning(f'The API did not return data for {date_hour}'))\n",
      "C:\\Users\\asus\\AppData\\Local\\Programs\\Python\\Python312\\Lib\\site-packages\\pykoda\\data\\datautils.py:90: RuntimeWarning: The API did not return data for 2022-12-11 15:00:00\n",
      "  warnings.warn(RuntimeWarning(f'The API did not return data for {date_hour}'))\n",
      "Loading data:  64%|██████████████████████████████████████████▌                       | 232/360 [18:08<03:02,  1.43s/it]"
     ]
    },
    {
     "name": "stdout",
     "output_type": "stream",
     "text": [
      "System tool failed: Command '['7z', 'e', '-oC:/Users/asus/AppData/Local/pykoda/pykoda/cache/sl-tripupdates-2022-12-11', 'C:/Users/asus/AppData/Local/pykoda/pykoda/cache/sl-tripupdates-2022-12-11.bz2']' returned non-zero exit status 255.\n",
      "None\n",
      "Executing python function, producing output(s): C:/Users/asus/AppData/Local/pykoda/pykoda/cache/sl_TripUpdates_2022_12_11_14.feather.tmp\n",
      "Getting C:/Users/asus/AppData/Local/pykoda/pykoda/cache/sl_TripUpdates_2022_12_11_15.feather\n",
      "File or folder already exists, so skipping task: data (datafolder)\n",
      "File or folder already exists, so skipping task: C:/Users/asus/AppData/Local/pykoda/pykoda/cache/sl-tripupdates-2022-12-11.bz2 (file)\n",
      "System tool failed: Command '['7z', 'e', '-oC:/Users/asus/AppData/Local/pykoda/pykoda/cache/sl-tripupdates-2022-12-11', 'C:/Users/asus/AppData/Local/pykoda/pykoda/cache/sl-tripupdates-2022-12-11.bz2']' returned non-zero exit status 255.\n",
      "None\n",
      "Executing python function, producing output(s): C:/Users/asus/AppData/Local/pykoda/pykoda/cache/sl_TripUpdates_2022_12_11_15.feather.tmp\n",
      "Getting C:/Users/asus/AppData/Local/pykoda/pykoda/cache/sl_TripUpdates_2022_12_11_16.feather\n",
      "File or folder already exists, so skipping task: data (datafolder)\n",
      "File or folder already exists, so skipping task: C:/Users/asus/AppData/Local/pykoda/pykoda/cache/sl-tripupdates-2022-12-11.bz2 (file)\n",
      "System tool failed: Command '['7z', 'e', '-oC:/Users/asus/AppData/Local/pykoda/pykoda/cache/sl-tripupdates-2022-12-11', 'C:/Users/asus/AppData/Local/pykoda/pykoda/cache/sl-tripupdates-2022-12-11.bz2']' returned non-zero exit status 255.\n",
      "None\n",
      "Executing python function, producing output(s): C:/Users/asus/AppData/Local/pykoda/pykoda/cache/sl_TripUpdates_2022_12_11_16.feather.tmp\n",
      "Getting C:/Users/asus/AppData/Local/pykoda/pykoda/cache/sl_TripUpdates_2022_12_11_17.feather\n",
      "File or folder already exists, so skipping task: data (datafolder)\n",
      "File or folder already exists, so skipping task: C:/Users/asus/AppData/Local/pykoda/pykoda/cache/sl-tripupdates-2022-12-11.bz2 (file)\n"
     ]
    },
    {
     "name": "stderr",
     "output_type": "stream",
     "text": [
      "C:\\Users\\asus\\AppData\\Local\\Programs\\Python\\Python312\\Lib\\site-packages\\pykoda\\data\\datautils.py:90: RuntimeWarning: The API did not return data for 2022-12-11 16:00:00\n",
      "  warnings.warn(RuntimeWarning(f'The API did not return data for {date_hour}'))\n",
      "C:\\Users\\asus\\AppData\\Local\\Programs\\Python\\Python312\\Lib\\site-packages\\pykoda\\data\\datautils.py:90: RuntimeWarning: The API did not return data for 2022-12-11 17:00:00\n",
      "  warnings.warn(RuntimeWarning(f'The API did not return data for {date_hour}'))\n",
      "Loading data:  65%|██████████████████████████████████████████▉                       | 234/360 [18:08<02:08,  1.02s/it]C:\\Users\\asus\\AppData\\Local\\Programs\\Python\\Python312\\Lib\\site-packages\\pykoda\\data\\datautils.py:90: RuntimeWarning: The API did not return data for 2022-12-11 18:00:00\n",
      "  warnings.warn(RuntimeWarning(f'The API did not return data for {date_hour}'))\n",
      "C:\\Users\\asus\\AppData\\Local\\Programs\\Python\\Python312\\Lib\\site-packages\\pykoda\\data\\datautils.py:90: RuntimeWarning: The API did not return data for 2022-12-11 19:00:00\n",
      "  warnings.warn(RuntimeWarning(f'The API did not return data for {date_hour}'))\n",
      "Loading data:  66%|███████████████████████████████████████████▎                      | 236/360 [18:09<01:30,  1.37it/s]"
     ]
    },
    {
     "name": "stdout",
     "output_type": "stream",
     "text": [
      "System tool failed: Command '['7z', 'e', '-oC:/Users/asus/AppData/Local/pykoda/pykoda/cache/sl-tripupdates-2022-12-11', 'C:/Users/asus/AppData/Local/pykoda/pykoda/cache/sl-tripupdates-2022-12-11.bz2']' returned non-zero exit status 255.\n",
      "None\n",
      "Executing python function, producing output(s): C:/Users/asus/AppData/Local/pykoda/pykoda/cache/sl_TripUpdates_2022_12_11_17.feather.tmp\n",
      "Getting C:/Users/asus/AppData/Local/pykoda/pykoda/cache/sl_TripUpdates_2022_12_11_18.feather\n",
      "File or folder already exists, so skipping task: data (datafolder)\n",
      "File or folder already exists, so skipping task: C:/Users/asus/AppData/Local/pykoda/pykoda/cache/sl-tripupdates-2022-12-11.bz2 (file)\n",
      "System tool failed: Command '['7z', 'e', '-oC:/Users/asus/AppData/Local/pykoda/pykoda/cache/sl-tripupdates-2022-12-11', 'C:/Users/asus/AppData/Local/pykoda/pykoda/cache/sl-tripupdates-2022-12-11.bz2']' returned non-zero exit status 255.\n",
      "None\n",
      "Executing python function, producing output(s): C:/Users/asus/AppData/Local/pykoda/pykoda/cache/sl_TripUpdates_2022_12_11_18.feather.tmp\n",
      "Getting C:/Users/asus/AppData/Local/pykoda/pykoda/cache/sl_TripUpdates_2022_12_11_19.feather\n",
      "File or folder already exists, so skipping task: data (datafolder)\n",
      "File or folder already exists, so skipping task: C:/Users/asus/AppData/Local/pykoda/pykoda/cache/sl-tripupdates-2022-12-11.bz2 (file)\n",
      "System tool failed: Command '['7z', 'e', '-oC:/Users/asus/AppData/Local/pykoda/pykoda/cache/sl-tripupdates-2022-12-11', 'C:/Users/asus/AppData/Local/pykoda/pykoda/cache/sl-tripupdates-2022-12-11.bz2']' returned non-zero exit status 255.\n",
      "None\n",
      "Executing python function, producing output(s): C:/Users/asus/AppData/Local/pykoda/pykoda/cache/sl_TripUpdates_2022_12_11_19.feather.tmp\n",
      "Getting C:/Users/asus/AppData/Local/pykoda/pykoda/cache/sl_TripUpdates_2022_12_11_20.feather\n",
      "File or folder already exists, so skipping task: data (datafolder)\n",
      "File or folder already exists, so skipping task: C:/Users/asus/AppData/Local/pykoda/pykoda/cache/sl-tripupdates-2022-12-11.bz2 (file)\n"
     ]
    },
    {
     "name": "stderr",
     "output_type": "stream",
     "text": [
      "C:\\Users\\asus\\AppData\\Local\\Programs\\Python\\Python312\\Lib\\site-packages\\pykoda\\data\\datautils.py:90: RuntimeWarning: The API did not return data for 2022-12-11 20:00:00\n",
      "  warnings.warn(RuntimeWarning(f'The API did not return data for {date_hour}'))\n",
      "C:\\Users\\asus\\AppData\\Local\\Programs\\Python\\Python312\\Lib\\site-packages\\pykoda\\data\\datautils.py:90: RuntimeWarning: The API did not return data for 2022-12-11 21:00:00\n",
      "  warnings.warn(RuntimeWarning(f'The API did not return data for {date_hour}'))\n",
      "Loading data:  66%|███████████████████████████████████████████▋                      | 238/360 [18:09<01:04,  1.88it/s]"
     ]
    },
    {
     "name": "stdout",
     "output_type": "stream",
     "text": [
      "System tool failed: Command '['7z', 'e', '-oC:/Users/asus/AppData/Local/pykoda/pykoda/cache/sl-tripupdates-2022-12-11', 'C:/Users/asus/AppData/Local/pykoda/pykoda/cache/sl-tripupdates-2022-12-11.bz2']' returned non-zero exit status 255.\n",
      "None\n",
      "Executing python function, producing output(s): C:/Users/asus/AppData/Local/pykoda/pykoda/cache/sl_TripUpdates_2022_12_11_20.feather.tmp\n",
      "Getting C:/Users/asus/AppData/Local/pykoda/pykoda/cache/sl_TripUpdates_2022_12_11_21.feather\n",
      "File or folder already exists, so skipping task: data (datafolder)\n",
      "File or folder already exists, so skipping task: C:/Users/asus/AppData/Local/pykoda/pykoda/cache/sl-tripupdates-2022-12-11.bz2 (file)\n",
      "System tool failed: Command '['7z', 'e', '-oC:/Users/asus/AppData/Local/pykoda/pykoda/cache/sl-tripupdates-2022-12-11', 'C:/Users/asus/AppData/Local/pykoda/pykoda/cache/sl-tripupdates-2022-12-11.bz2']' returned non-zero exit status 255.\n",
      "None\n",
      "Executing python function, producing output(s): C:/Users/asus/AppData/Local/pykoda/pykoda/cache/sl_TripUpdates_2022_12_11_21.feather.tmp\n",
      "Getting C:/Users/asus/AppData/Local/pykoda/pykoda/cache/sl_TripUpdates_2022_12_11_22.feather\n",
      "File or folder already exists, so skipping task: data (datafolder)\n",
      "File or folder already exists, so skipping task: C:/Users/asus/AppData/Local/pykoda/pykoda/cache/sl-tripupdates-2022-12-11.bz2 (file)\n",
      "System tool failed: Command '['7z', 'e', '-oC:/Users/asus/AppData/Local/pykoda/pykoda/cache/sl-tripupdates-2022-12-11', 'C:/Users/asus/AppData/Local/pykoda/pykoda/cache/sl-tripupdates-2022-12-11.bz2']' returned non-zero exit status 255.\n",
      "None\n",
      "Executing python function, producing output(s): C:/Users/asus/AppData/Local/pykoda/pykoda/cache/sl_TripUpdates_2022_12_11_22.feather.tmp\n",
      "Getting C:/Users/asus/AppData/Local/pykoda/pykoda/cache/sl_TripUpdates_2022_12_11_23.feather\n",
      "File or folder already exists, so skipping task: data (datafolder)\n",
      "File or folder already exists, so skipping task: C:/Users/asus/AppData/Local/pykoda/pykoda/cache/sl-tripupdates-2022-12-11.bz2 (file)\n"
     ]
    },
    {
     "name": "stderr",
     "output_type": "stream",
     "text": [
      "C:\\Users\\asus\\AppData\\Local\\Programs\\Python\\Python312\\Lib\\site-packages\\pykoda\\data\\datautils.py:90: RuntimeWarning: The API did not return data for 2022-12-11 22:00:00\n",
      "  warnings.warn(RuntimeWarning(f'The API did not return data for {date_hour}'))\n",
      "C:\\Users\\asus\\AppData\\Local\\Programs\\Python\\Python312\\Lib\\site-packages\\pykoda\\data\\datautils.py:90: RuntimeWarning: The API did not return data for 2022-12-11 23:00:00\n",
      "  warnings.warn(RuntimeWarning(f'The API did not return data for {date_hour}'))\n",
      "Loading data:  67%|████████████████████████████████████████████                      | 240/360 [18:09<00:47,  2.53it/s]"
     ]
    },
    {
     "name": "stdout",
     "output_type": "stream",
     "text": [
      "System tool failed: Command '['7z', 'e', '-oC:/Users/asus/AppData/Local/pykoda/pykoda/cache/sl-tripupdates-2022-12-11', 'C:/Users/asus/AppData/Local/pykoda/pykoda/cache/sl-tripupdates-2022-12-11.bz2']' returned non-zero exit status 255.\n",
      "None\n",
      "Executing python function, producing output(s): C:/Users/asus/AppData/Local/pykoda/pykoda/cache/sl_TripUpdates_2022_12_11_23.feather.tmp\n",
      "Getting C:/Users/asus/AppData/Local/pykoda/pykoda/cache/sl_TripUpdates_2022_12_12_0.feather\n",
      "File or folder already exists, so skipping task: data (datafolder)\n",
      "Executing python function, producing output(s): C:/Users/asus/AppData/Local/pykoda/pykoda/cache/sl-tripupdates-2022-12-12.bz2.tmp\n",
      "C:/Users/asus/AppData/Local/pykoda/pykoda/cache/sl-tripupdates-2022-12-12.tar\n",
      "Executing python function, producing output(s): C:/Users/asus/AppData/Local/pykoda/pykoda/cache/sl_TripUpdates_2022_12_12_0.feather.tmp\n",
      "sl-tripupdates-2022-12-01T10\n"
     ]
    },
    {
     "name": "stderr",
     "output_type": "stream",
     "text": [
      "Loading data:  67%|████████████████████████████████████████████▏                     | 241/360 [20:12<43:40, 22.02s/it]C:\\Users\\asus\\AppData\\Local\\Programs\\Python\\Python312\\Lib\\site-packages\\pykoda\\data\\datautils.py:90: RuntimeWarning: The API did not return data for 2022-12-12 01:00:00\n",
      "  warnings.warn(RuntimeWarning(f'The API did not return data for {date_hour}'))\n",
      "C:\\Users\\asus\\AppData\\Local\\Programs\\Python\\Python312\\Lib\\site-packages\\pykoda\\data\\datautils.py:90: RuntimeWarning: The API did not return data for 2022-12-12 02:00:00\n",
      "  warnings.warn(RuntimeWarning(f'The API did not return data for {date_hour}'))\n",
      "Loading data:  68%|████████████████████████████████████████████▌                     | 243/360 [20:12<28:34, 14.65s/it]"
     ]
    },
    {
     "name": "stdout",
     "output_type": "stream",
     "text": [
      "Getting C:/Users/asus/AppData/Local/pykoda/pykoda/cache/sl_TripUpdates_2022_12_12_1.feather\n",
      "File or folder already exists, so skipping task: data (datafolder)\n",
      "File or folder already exists, so skipping task: C:/Users/asus/AppData/Local/pykoda/pykoda/cache/sl-tripupdates-2022-12-12.bz2 (file)\n",
      "System tool failed: Command '['7z', 'e', '-oC:/Users/asus/AppData/Local/pykoda/pykoda/cache/sl-tripupdates-2022-12-12', 'C:/Users/asus/AppData/Local/pykoda/pykoda/cache/sl-tripupdates-2022-12-12.bz2']' returned non-zero exit status 255.\n",
      "None\n",
      "Executing python function, producing output(s): C:/Users/asus/AppData/Local/pykoda/pykoda/cache/sl_TripUpdates_2022_12_12_1.feather.tmp\n",
      "Getting C:/Users/asus/AppData/Local/pykoda/pykoda/cache/sl_TripUpdates_2022_12_12_2.feather\n",
      "File or folder already exists, so skipping task: data (datafolder)\n",
      "File or folder already exists, so skipping task: C:/Users/asus/AppData/Local/pykoda/pykoda/cache/sl-tripupdates-2022-12-12.bz2 (file)\n",
      "System tool failed: Command '['7z', 'e', '-oC:/Users/asus/AppData/Local/pykoda/pykoda/cache/sl-tripupdates-2022-12-12', 'C:/Users/asus/AppData/Local/pykoda/pykoda/cache/sl-tripupdates-2022-12-12.bz2']' returned non-zero exit status 255.\n",
      "None\n",
      "Executing python function, producing output(s): C:/Users/asus/AppData/Local/pykoda/pykoda/cache/sl_TripUpdates_2022_12_12_2.feather.tmp\n",
      "Getting C:/Users/asus/AppData/Local/pykoda/pykoda/cache/sl_TripUpdates_2022_12_12_3.feather\n",
      "File or folder already exists, so skipping task: data (datafolder)\n",
      "File or folder already exists, so skipping task: C:/Users/asus/AppData/Local/pykoda/pykoda/cache/sl-tripupdates-2022-12-12.bz2 (file)\n"
     ]
    },
    {
     "name": "stderr",
     "output_type": "stream",
     "text": [
      "C:\\Users\\asus\\AppData\\Local\\Programs\\Python\\Python312\\Lib\\site-packages\\pykoda\\data\\datautils.py:90: RuntimeWarning: The API did not return data for 2022-12-12 03:00:00\n",
      "  warnings.warn(RuntimeWarning(f'The API did not return data for {date_hour}'))\n",
      "C:\\Users\\asus\\AppData\\Local\\Programs\\Python\\Python312\\Lib\\site-packages\\pykoda\\data\\datautils.py:90: RuntimeWarning: The API did not return data for 2022-12-12 04:00:00\n",
      "  warnings.warn(RuntimeWarning(f'The API did not return data for {date_hour}'))\n",
      "Loading data:  68%|████████████████████████████████████████████▉                     | 245/360 [20:12<19:01,  9.93s/it]"
     ]
    },
    {
     "name": "stdout",
     "output_type": "stream",
     "text": [
      "System tool failed: Command '['7z', 'e', '-oC:/Users/asus/AppData/Local/pykoda/pykoda/cache/sl-tripupdates-2022-12-12', 'C:/Users/asus/AppData/Local/pykoda/pykoda/cache/sl-tripupdates-2022-12-12.bz2']' returned non-zero exit status 255.\n",
      "None\n",
      "Executing python function, producing output(s): C:/Users/asus/AppData/Local/pykoda/pykoda/cache/sl_TripUpdates_2022_12_12_3.feather.tmp\n",
      "Getting C:/Users/asus/AppData/Local/pykoda/pykoda/cache/sl_TripUpdates_2022_12_12_4.feather\n",
      "File or folder already exists, so skipping task: data (datafolder)\n",
      "File or folder already exists, so skipping task: C:/Users/asus/AppData/Local/pykoda/pykoda/cache/sl-tripupdates-2022-12-12.bz2 (file)\n",
      "System tool failed: Command '['7z', 'e', '-oC:/Users/asus/AppData/Local/pykoda/pykoda/cache/sl-tripupdates-2022-12-12', 'C:/Users/asus/AppData/Local/pykoda/pykoda/cache/sl-tripupdates-2022-12-12.bz2']' returned non-zero exit status 255.\n",
      "None\n",
      "Executing python function, producing output(s): C:/Users/asus/AppData/Local/pykoda/pykoda/cache/sl_TripUpdates_2022_12_12_4.feather.tmp\n",
      "Getting C:/Users/asus/AppData/Local/pykoda/pykoda/cache/sl_TripUpdates_2022_12_12_5.feather\n",
      "File or folder already exists, so skipping task: data (datafolder)\n",
      "File or folder already exists, so skipping task: C:/Users/asus/AppData/Local/pykoda/pykoda/cache/sl-tripupdates-2022-12-12.bz2 (file)\n",
      "System tool failed: Command '['7z', 'e', '-oC:/Users/asus/AppData/Local/pykoda/pykoda/cache/sl-tripupdates-2022-12-12', 'C:/Users/asus/AppData/Local/pykoda/pykoda/cache/sl-tripupdates-2022-12-12.bz2']' returned non-zero exit status 255.\n",
      "None\n",
      "Executing python function, producing output(s): C:/Users/asus/AppData/Local/pykoda/pykoda/cache/sl_TripUpdates_2022_12_12_5.feather.tmp\n",
      "Getting C:/Users/asus/AppData/Local/pykoda/pykoda/cache/sl_TripUpdates_2022_12_12_6.feather\n",
      "File or folder already exists, so skipping task: data (datafolder)\n",
      "File or folder already exists, so skipping task: C:/Users/asus/AppData/Local/pykoda/pykoda/cache/sl-tripupdates-2022-12-12.bz2 (file)\n"
     ]
    },
    {
     "name": "stderr",
     "output_type": "stream",
     "text": [
      "C:\\Users\\asus\\AppData\\Local\\Programs\\Python\\Python312\\Lib\\site-packages\\pykoda\\data\\datautils.py:90: RuntimeWarning: The API did not return data for 2022-12-12 05:00:00\n",
      "  warnings.warn(RuntimeWarning(f'The API did not return data for {date_hour}'))\n",
      "C:\\Users\\asus\\AppData\\Local\\Programs\\Python\\Python312\\Lib\\site-packages\\pykoda\\data\\datautils.py:90: RuntimeWarning: The API did not return data for 2022-12-12 06:00:00\n",
      "  warnings.warn(RuntimeWarning(f'The API did not return data for {date_hour}'))\n",
      "Loading data:  69%|█████████████████████████████████████████████▎                    | 247/360 [20:12<12:49,  6.81s/it]C:\\Users\\asus\\AppData\\Local\\Programs\\Python\\Python312\\Lib\\site-packages\\pykoda\\data\\datautils.py:90: RuntimeWarning: The API did not return data for 2022-12-12 07:00:00\n",
      "  warnings.warn(RuntimeWarning(f'The API did not return data for {date_hour}'))\n",
      "C:\\Users\\asus\\AppData\\Local\\Programs\\Python\\Python312\\Lib\\site-packages\\pykoda\\data\\datautils.py:90: RuntimeWarning: The API did not return data for 2022-12-12 08:00:00\n",
      "  warnings.warn(RuntimeWarning(f'The API did not return data for {date_hour}'))\n",
      "Loading data:  69%|█████████████████████████████████████████████▋                    | 249/360 [20:12<08:42,  4.71s/it]"
     ]
    },
    {
     "name": "stdout",
     "output_type": "stream",
     "text": [
      "System tool failed: Command '['7z', 'e', '-oC:/Users/asus/AppData/Local/pykoda/pykoda/cache/sl-tripupdates-2022-12-12', 'C:/Users/asus/AppData/Local/pykoda/pykoda/cache/sl-tripupdates-2022-12-12.bz2']' returned non-zero exit status 255.\n",
      "None\n",
      "Executing python function, producing output(s): C:/Users/asus/AppData/Local/pykoda/pykoda/cache/sl_TripUpdates_2022_12_12_6.feather.tmp\n",
      "Getting C:/Users/asus/AppData/Local/pykoda/pykoda/cache/sl_TripUpdates_2022_12_12_7.feather\n",
      "File or folder already exists, so skipping task: data (datafolder)\n",
      "File or folder already exists, so skipping task: C:/Users/asus/AppData/Local/pykoda/pykoda/cache/sl-tripupdates-2022-12-12.bz2 (file)\n",
      "System tool failed: Command '['7z', 'e', '-oC:/Users/asus/AppData/Local/pykoda/pykoda/cache/sl-tripupdates-2022-12-12', 'C:/Users/asus/AppData/Local/pykoda/pykoda/cache/sl-tripupdates-2022-12-12.bz2']' returned non-zero exit status 255.\n",
      "None\n",
      "Executing python function, producing output(s): C:/Users/asus/AppData/Local/pykoda/pykoda/cache/sl_TripUpdates_2022_12_12_7.feather.tmp\n",
      "Getting C:/Users/asus/AppData/Local/pykoda/pykoda/cache/sl_TripUpdates_2022_12_12_8.feather\n",
      "File or folder already exists, so skipping task: data (datafolder)\n",
      "File or folder already exists, so skipping task: C:/Users/asus/AppData/Local/pykoda/pykoda/cache/sl-tripupdates-2022-12-12.bz2 (file)\n",
      "System tool failed: Command '['7z', 'e', '-oC:/Users/asus/AppData/Local/pykoda/pykoda/cache/sl-tripupdates-2022-12-12', 'C:/Users/asus/AppData/Local/pykoda/pykoda/cache/sl-tripupdates-2022-12-12.bz2']' returned non-zero exit status 255.\n",
      "None\n",
      "Executing python function, producing output(s): C:/Users/asus/AppData/Local/pykoda/pykoda/cache/sl_TripUpdates_2022_12_12_8.feather.tmp\n",
      "Getting C:/Users/asus/AppData/Local/pykoda/pykoda/cache/sl_TripUpdates_2022_12_12_9.feather\n",
      "File or folder already exists, so skipping task: data (datafolder)\n",
      "File or folder already exists, so skipping task: C:/Users/asus/AppData/Local/pykoda/pykoda/cache/sl-tripupdates-2022-12-12.bz2 (file)\n"
     ]
    },
    {
     "name": "stderr",
     "output_type": "stream",
     "text": [
      "C:\\Users\\asus\\AppData\\Local\\Programs\\Python\\Python312\\Lib\\site-packages\\pykoda\\data\\datautils.py:90: RuntimeWarning: The API did not return data for 2022-12-12 09:00:00\n",
      "  warnings.warn(RuntimeWarning(f'The API did not return data for {date_hour}'))\n",
      "C:\\Users\\asus\\AppData\\Local\\Programs\\Python\\Python312\\Lib\\site-packages\\pykoda\\data\\datautils.py:90: RuntimeWarning: The API did not return data for 2022-12-12 10:00:00\n",
      "  warnings.warn(RuntimeWarning(f'The API did not return data for {date_hour}'))\n",
      "Loading data:  70%|██████████████████████████████████████████████                    | 251/360 [20:12<05:57,  3.28s/it]"
     ]
    },
    {
     "name": "stdout",
     "output_type": "stream",
     "text": [
      "System tool failed: Command '['7z', 'e', '-oC:/Users/asus/AppData/Local/pykoda/pykoda/cache/sl-tripupdates-2022-12-12', 'C:/Users/asus/AppData/Local/pykoda/pykoda/cache/sl-tripupdates-2022-12-12.bz2']' returned non-zero exit status 255.\n",
      "None\n",
      "Executing python function, producing output(s): C:/Users/asus/AppData/Local/pykoda/pykoda/cache/sl_TripUpdates_2022_12_12_9.feather.tmp\n",
      "Getting C:/Users/asus/AppData/Local/pykoda/pykoda/cache/sl_TripUpdates_2022_12_12_10.feather\n",
      "File or folder already exists, so skipping task: data (datafolder)\n",
      "File or folder already exists, so skipping task: C:/Users/asus/AppData/Local/pykoda/pykoda/cache/sl-tripupdates-2022-12-12.bz2 (file)\n",
      "System tool failed: Command '['7z', 'e', '-oC:/Users/asus/AppData/Local/pykoda/pykoda/cache/sl-tripupdates-2022-12-12', 'C:/Users/asus/AppData/Local/pykoda/pykoda/cache/sl-tripupdates-2022-12-12.bz2']' returned non-zero exit status 255.\n",
      "None\n",
      "Executing python function, producing output(s): C:/Users/asus/AppData/Local/pykoda/pykoda/cache/sl_TripUpdates_2022_12_12_10.feather.tmp\n",
      "Getting C:/Users/asus/AppData/Local/pykoda/pykoda/cache/sl_TripUpdates_2022_12_12_11.feather\n",
      "File or folder already exists, so skipping task: data (datafolder)\n",
      "File or folder already exists, so skipping task: C:/Users/asus/AppData/Local/pykoda/pykoda/cache/sl-tripupdates-2022-12-12.bz2 (file)\n",
      "System tool failed: Command '['7z', 'e', '-oC:/Users/asus/AppData/Local/pykoda/pykoda/cache/sl-tripupdates-2022-12-12', 'C:/Users/asus/AppData/Local/pykoda/pykoda/cache/sl-tripupdates-2022-12-12.bz2']' returned non-zero exit status 255.\n",
      "None\n",
      "Executing python function, producing output(s): C:/Users/asus/AppData/Local/pykoda/pykoda/cache/sl_TripUpdates_2022_12_12_11.feather.tmp\n",
      "Getting C:/Users/asus/AppData/Local/pykoda/pykoda/cache/sl_TripUpdates_2022_12_12_12.feather\n",
      "File or folder already exists, so skipping task: data (datafolder)\n",
      "File or folder already exists, so skipping task: C:/Users/asus/AppData/Local/pykoda/pykoda/cache/sl-tripupdates-2022-12-12.bz2 (file)\n",
      "System tool failed: Command '['7z', 'e', '-oC:/Users/asus/AppData/Local/pykoda/pykoda/cache/sl-tripupdates-2022-12-12', 'C:/Users/asus/AppData/Local/pykoda/pykoda/cache/sl-tripupdates-2022-12-12.bz2']' returned non-zero exit status 255.\n",
      "None\n"
     ]
    },
    {
     "name": "stderr",
     "output_type": "stream",
     "text": [
      "C:\\Users\\asus\\AppData\\Local\\Programs\\Python\\Python312\\Lib\\site-packages\\pykoda\\data\\datautils.py:90: RuntimeWarning: The API did not return data for 2022-12-12 11:00:00\n",
      "  warnings.warn(RuntimeWarning(f'The API did not return data for {date_hour}'))\n",
      "C:\\Users\\asus\\AppData\\Local\\Programs\\Python\\Python312\\Lib\\site-packages\\pykoda\\data\\datautils.py:90: RuntimeWarning: The API did not return data for 2022-12-12 12:00:00\n",
      "  warnings.warn(RuntimeWarning(f'The API did not return data for {date_hour}'))\n",
      "Loading data:  70%|██████████████████████████████████████████████▍                   | 253/360 [20:12<04:06,  2.30s/it]C:\\Users\\asus\\AppData\\Local\\Programs\\Python\\Python312\\Lib\\site-packages\\pykoda\\data\\datautils.py:90: RuntimeWarning: The API did not return data for 2022-12-12 13:00:00\n",
      "  warnings.warn(RuntimeWarning(f'The API did not return data for {date_hour}'))\n",
      "C:\\Users\\asus\\AppData\\Local\\Programs\\Python\\Python312\\Lib\\site-packages\\pykoda\\data\\datautils.py:90: RuntimeWarning: The API did not return data for 2022-12-12 14:00:00\n",
      "  warnings.warn(RuntimeWarning(f'The API did not return data for {date_hour}'))\n",
      "Loading data:  71%|██████████████████████████████████████████████▊                   | 255/360 [20:13<02:50,  1.62s/it]"
     ]
    },
    {
     "name": "stdout",
     "output_type": "stream",
     "text": [
      "Executing python function, producing output(s): C:/Users/asus/AppData/Local/pykoda/pykoda/cache/sl_TripUpdates_2022_12_12_12.feather.tmp\n",
      "Getting C:/Users/asus/AppData/Local/pykoda/pykoda/cache/sl_TripUpdates_2022_12_12_13.feather\n",
      "File or folder already exists, so skipping task: data (datafolder)\n",
      "File or folder already exists, so skipping task: C:/Users/asus/AppData/Local/pykoda/pykoda/cache/sl-tripupdates-2022-12-12.bz2 (file)\n",
      "System tool failed: Command '['7z', 'e', '-oC:/Users/asus/AppData/Local/pykoda/pykoda/cache/sl-tripupdates-2022-12-12', 'C:/Users/asus/AppData/Local/pykoda/pykoda/cache/sl-tripupdates-2022-12-12.bz2']' returned non-zero exit status 255.\n",
      "None\n",
      "Executing python function, producing output(s): C:/Users/asus/AppData/Local/pykoda/pykoda/cache/sl_TripUpdates_2022_12_12_13.feather.tmp\n",
      "Getting C:/Users/asus/AppData/Local/pykoda/pykoda/cache/sl_TripUpdates_2022_12_12_14.feather\n",
      "File or folder already exists, so skipping task: data (datafolder)\n",
      "File or folder already exists, so skipping task: C:/Users/asus/AppData/Local/pykoda/pykoda/cache/sl-tripupdates-2022-12-12.bz2 (file)\n",
      "System tool failed: Command '['7z', 'e', '-oC:/Users/asus/AppData/Local/pykoda/pykoda/cache/sl-tripupdates-2022-12-12', 'C:/Users/asus/AppData/Local/pykoda/pykoda/cache/sl-tripupdates-2022-12-12.bz2']' returned non-zero exit status 255.\n",
      "None\n",
      "Executing python function, producing output(s): C:/Users/asus/AppData/Local/pykoda/pykoda/cache/sl_TripUpdates_2022_12_12_14.feather.tmp\n",
      "Getting C:/Users/asus/AppData/Local/pykoda/pykoda/cache/sl_TripUpdates_2022_12_12_15.feather\n",
      "File or folder already exists, so skipping task: data (datafolder)\n",
      "File or folder already exists, so skipping task: C:/Users/asus/AppData/Local/pykoda/pykoda/cache/sl-tripupdates-2022-12-12.bz2 (file)\n",
      "System tool failed: Command '['7z', 'e', '-oC:/Users/asus/AppData/Local/pykoda/pykoda/cache/sl-tripupdates-2022-12-12', 'C:/Users/asus/AppData/Local/pykoda/pykoda/cache/sl-tripupdates-2022-12-12.bz2']' returned non-zero exit status 255.\n",
      "None\n",
      "Executing python function, producing output(s): C:/Users/asus/AppData/Local/pykoda/pykoda/cache/sl_TripUpdates_2022_12_12_15.feather.tmp\n"
     ]
    },
    {
     "name": "stderr",
     "output_type": "stream",
     "text": [
      "C:\\Users\\asus\\AppData\\Local\\Programs\\Python\\Python312\\Lib\\site-packages\\pykoda\\data\\datautils.py:90: RuntimeWarning: The API did not return data for 2022-12-12 15:00:00\n",
      "  warnings.warn(RuntimeWarning(f'The API did not return data for {date_hour}'))\n",
      "C:\\Users\\asus\\AppData\\Local\\Programs\\Python\\Python312\\Lib\\site-packages\\pykoda\\data\\datautils.py:90: RuntimeWarning: The API did not return data for 2022-12-12 16:00:00\n",
      "  warnings.warn(RuntimeWarning(f'The API did not return data for {date_hour}'))\n",
      "Loading data:  71%|███████████████████████████████████████████████                   | 257/360 [20:13<01:58,  1.15s/it]C:\\Users\\asus\\AppData\\Local\\Programs\\Python\\Python312\\Lib\\site-packages\\pykoda\\data\\datautils.py:90: RuntimeWarning: The API did not return data for 2022-12-12 17:00:00\n",
      "  warnings.warn(RuntimeWarning(f'The API did not return data for {date_hour}'))\n"
     ]
    },
    {
     "name": "stdout",
     "output_type": "stream",
     "text": [
      "Getting C:/Users/asus/AppData/Local/pykoda/pykoda/cache/sl_TripUpdates_2022_12_12_16.feather\n",
      "File or folder already exists, so skipping task: data (datafolder)\n",
      "File or folder already exists, so skipping task: C:/Users/asus/AppData/Local/pykoda/pykoda/cache/sl-tripupdates-2022-12-12.bz2 (file)\n",
      "System tool failed: Command '['7z', 'e', '-oC:/Users/asus/AppData/Local/pykoda/pykoda/cache/sl-tripupdates-2022-12-12', 'C:/Users/asus/AppData/Local/pykoda/pykoda/cache/sl-tripupdates-2022-12-12.bz2']' returned non-zero exit status 255.\n",
      "None\n",
      "Executing python function, producing output(s): C:/Users/asus/AppData/Local/pykoda/pykoda/cache/sl_TripUpdates_2022_12_12_16.feather.tmp\n",
      "Getting C:/Users/asus/AppData/Local/pykoda/pykoda/cache/sl_TripUpdates_2022_12_12_17.feather\n",
      "File or folder already exists, so skipping task: data (datafolder)\n",
      "File or folder already exists, so skipping task: C:/Users/asus/AppData/Local/pykoda/pykoda/cache/sl-tripupdates-2022-12-12.bz2 (file)\n",
      "System tool failed: Command '['7z', 'e', '-oC:/Users/asus/AppData/Local/pykoda/pykoda/cache/sl-tripupdates-2022-12-12', 'C:/Users/asus/AppData/Local/pykoda/pykoda/cache/sl-tripupdates-2022-12-12.bz2']' returned non-zero exit status 255.\n",
      "None\n",
      "Executing python function, producing output(s): C:/Users/asus/AppData/Local/pykoda/pykoda/cache/sl_TripUpdates_2022_12_12_17.feather.tmp\n",
      "Getting C:/Users/asus/AppData/Local/pykoda/pykoda/cache/sl_TripUpdates_2022_12_12_18.feather\n",
      "File or folder already exists, so skipping task: data (datafolder)\n",
      "File or folder already exists, so skipping task: C:/Users/asus/AppData/Local/pykoda/pykoda/cache/sl-tripupdates-2022-12-12.bz2 (file)\n"
     ]
    },
    {
     "name": "stderr",
     "output_type": "stream",
     "text": [
      "C:\\Users\\asus\\AppData\\Local\\Programs\\Python\\Python312\\Lib\\site-packages\\pykoda\\data\\datautils.py:90: RuntimeWarning: The API did not return data for 2022-12-12 18:00:00\n",
      "  warnings.warn(RuntimeWarning(f'The API did not return data for {date_hour}'))\n",
      "Loading data:  72%|███████████████████████████████████████████████▍                  | 259/360 [20:13<01:23,  1.21it/s]C:\\Users\\asus\\AppData\\Local\\Programs\\Python\\Python312\\Lib\\site-packages\\pykoda\\data\\datautils.py:90: RuntimeWarning: The API did not return data for 2022-12-12 19:00:00\n",
      "  warnings.warn(RuntimeWarning(f'The API did not return data for {date_hour}'))\n",
      "C:\\Users\\asus\\AppData\\Local\\Programs\\Python\\Python312\\Lib\\site-packages\\pykoda\\data\\datautils.py:90: RuntimeWarning: The API did not return data for 2022-12-12 20:00:00\n",
      "  warnings.warn(RuntimeWarning(f'The API did not return data for {date_hour}'))\n",
      "Loading data:  72%|███████████████████████████████████████████████▊                  | 261/360 [20:13<00:59,  1.67it/s]"
     ]
    },
    {
     "name": "stdout",
     "output_type": "stream",
     "text": [
      "System tool failed: Command '['7z', 'e', '-oC:/Users/asus/AppData/Local/pykoda/pykoda/cache/sl-tripupdates-2022-12-12', 'C:/Users/asus/AppData/Local/pykoda/pykoda/cache/sl-tripupdates-2022-12-12.bz2']' returned non-zero exit status 255.\n",
      "None\n",
      "Executing python function, producing output(s): C:/Users/asus/AppData/Local/pykoda/pykoda/cache/sl_TripUpdates_2022_12_12_18.feather.tmp\n",
      "Getting C:/Users/asus/AppData/Local/pykoda/pykoda/cache/sl_TripUpdates_2022_12_12_19.feather\n",
      "File or folder already exists, so skipping task: data (datafolder)\n",
      "File or folder already exists, so skipping task: C:/Users/asus/AppData/Local/pykoda/pykoda/cache/sl-tripupdates-2022-12-12.bz2 (file)\n",
      "System tool failed: Command '['7z', 'e', '-oC:/Users/asus/AppData/Local/pykoda/pykoda/cache/sl-tripupdates-2022-12-12', 'C:/Users/asus/AppData/Local/pykoda/pykoda/cache/sl-tripupdates-2022-12-12.bz2']' returned non-zero exit status 255.\n",
      "None\n",
      "Executing python function, producing output(s): C:/Users/asus/AppData/Local/pykoda/pykoda/cache/sl_TripUpdates_2022_12_12_19.feather.tmp\n",
      "Getting C:/Users/asus/AppData/Local/pykoda/pykoda/cache/sl_TripUpdates_2022_12_12_20.feather\n",
      "File or folder already exists, so skipping task: data (datafolder)\n",
      "File or folder already exists, so skipping task: C:/Users/asus/AppData/Local/pykoda/pykoda/cache/sl-tripupdates-2022-12-12.bz2 (file)\n",
      "System tool failed: Command '['7z', 'e', '-oC:/Users/asus/AppData/Local/pykoda/pykoda/cache/sl-tripupdates-2022-12-12', 'C:/Users/asus/AppData/Local/pykoda/pykoda/cache/sl-tripupdates-2022-12-12.bz2']' returned non-zero exit status 255.\n",
      "None\n",
      "Executing python function, producing output(s): C:/Users/asus/AppData/Local/pykoda/pykoda/cache/sl_TripUpdates_2022_12_12_20.feather.tmp\n",
      "Getting C:/Users/asus/AppData/Local/pykoda/pykoda/cache/sl_TripUpdates_2022_12_12_21.feather\n",
      "File or folder already exists, so skipping task: data (datafolder)\n",
      "File or folder already exists, so skipping task: C:/Users/asus/AppData/Local/pykoda/pykoda/cache/sl-tripupdates-2022-12-12.bz2 (file)\n"
     ]
    },
    {
     "name": "stderr",
     "output_type": "stream",
     "text": [
      "C:\\Users\\asus\\AppData\\Local\\Programs\\Python\\Python312\\Lib\\site-packages\\pykoda\\data\\datautils.py:90: RuntimeWarning: The API did not return data for 2022-12-12 21:00:00\n",
      "  warnings.warn(RuntimeWarning(f'The API did not return data for {date_hour}'))\n",
      "C:\\Users\\asus\\AppData\\Local\\Programs\\Python\\Python312\\Lib\\site-packages\\pykoda\\data\\datautils.py:90: RuntimeWarning: The API did not return data for 2022-12-12 22:00:00\n",
      "  warnings.warn(RuntimeWarning(f'The API did not return data for {date_hour}'))\n",
      "Loading data:  73%|████████████████████████████████████████████████▏                 | 263/360 [20:13<00:42,  2.28it/s]"
     ]
    },
    {
     "name": "stdout",
     "output_type": "stream",
     "text": [
      "System tool failed: Command '['7z', 'e', '-oC:/Users/asus/AppData/Local/pykoda/pykoda/cache/sl-tripupdates-2022-12-12', 'C:/Users/asus/AppData/Local/pykoda/pykoda/cache/sl-tripupdates-2022-12-12.bz2']' returned non-zero exit status 255.\n",
      "None\n",
      "Executing python function, producing output(s): C:/Users/asus/AppData/Local/pykoda/pykoda/cache/sl_TripUpdates_2022_12_12_21.feather.tmp\n",
      "Getting C:/Users/asus/AppData/Local/pykoda/pykoda/cache/sl_TripUpdates_2022_12_12_22.feather\n",
      "File or folder already exists, so skipping task: data (datafolder)\n",
      "File or folder already exists, so skipping task: C:/Users/asus/AppData/Local/pykoda/pykoda/cache/sl-tripupdates-2022-12-12.bz2 (file)\n",
      "System tool failed: Command '['7z', 'e', '-oC:/Users/asus/AppData/Local/pykoda/pykoda/cache/sl-tripupdates-2022-12-12', 'C:/Users/asus/AppData/Local/pykoda/pykoda/cache/sl-tripupdates-2022-12-12.bz2']' returned non-zero exit status 255.\n",
      "None\n",
      "Executing python function, producing output(s): C:/Users/asus/AppData/Local/pykoda/pykoda/cache/sl_TripUpdates_2022_12_12_22.feather.tmp\n",
      "Getting C:/Users/asus/AppData/Local/pykoda/pykoda/cache/sl_TripUpdates_2022_12_12_23.feather\n",
      "File or folder already exists, so skipping task: data (datafolder)\n",
      "File or folder already exists, so skipping task: C:/Users/asus/AppData/Local/pykoda/pykoda/cache/sl-tripupdates-2022-12-12.bz2 (file)\n",
      "System tool failed: Command '['7z', 'e', '-oC:/Users/asus/AppData/Local/pykoda/pykoda/cache/sl-tripupdates-2022-12-12', 'C:/Users/asus/AppData/Local/pykoda/pykoda/cache/sl-tripupdates-2022-12-12.bz2']' returned non-zero exit status 255.\n",
      "None\n",
      "Executing python function, producing output(s): C:/Users/asus/AppData/Local/pykoda/pykoda/cache/sl_TripUpdates_2022_12_12_23.feather.tmp\n",
      "Getting C:/Users/asus/AppData/Local/pykoda/pykoda/cache/sl_TripUpdates_2022_12_13_0.feather\n",
      "File or folder already exists, so skipping task: data (datafolder)\n",
      "Executing python function, producing output(s): C:/Users/asus/AppData/Local/pykoda/pykoda/cache/sl-tripupdates-2022-12-13.bz2.tmp\n"
     ]
    },
    {
     "name": "stderr",
     "output_type": "stream",
     "text": [
      "C:\\Users\\asus\\AppData\\Local\\Programs\\Python\\Python312\\Lib\\site-packages\\pykoda\\data\\datautils.py:90: RuntimeWarning: The API did not return data for 2022-12-12 23:00:00\n",
      "  warnings.warn(RuntimeWarning(f'The API did not return data for {date_hour}'))\n"
     ]
    },
    {
     "name": "stdout",
     "output_type": "stream",
     "text": [
      "C:/Users/asus/AppData/Local/pykoda/pykoda/cache/sl-tripupdates-2022-12-13.tar\n",
      "Executing python function, producing output(s): C:/Users/asus/AppData/Local/pykoda/pykoda/cache/sl_TripUpdates_2022_12_13_0.feather.tmp\n",
      "sl-tripupdates-2022-12-01T10\n"
     ]
    },
    {
     "name": "stderr",
     "output_type": "stream",
     "text": [
      "Loading data:  74%|████████████████████████████████████████████████▌                 | 265/360 [22:20<30:47, 19.45s/it]C:\\Users\\asus\\AppData\\Local\\Programs\\Python\\Python312\\Lib\\site-packages\\pykoda\\data\\datautils.py:90: RuntimeWarning: The API did not return data for 2022-12-13 01:00:00\n",
      "  warnings.warn(RuntimeWarning(f'The API did not return data for {date_hour}'))\n",
      "C:\\Users\\asus\\AppData\\Local\\Programs\\Python\\Python312\\Lib\\site-packages\\pykoda\\data\\datautils.py:90: RuntimeWarning: The API did not return data for 2022-12-13 02:00:00\n",
      "  warnings.warn(RuntimeWarning(f'The API did not return data for {date_hour}'))\n",
      "Loading data:  74%|████████████████████████████████████████████████▉                 | 267/360 [22:21<21:07, 13.63s/it]"
     ]
    },
    {
     "name": "stdout",
     "output_type": "stream",
     "text": [
      "Getting C:/Users/asus/AppData/Local/pykoda/pykoda/cache/sl_TripUpdates_2022_12_13_1.feather\n",
      "File or folder already exists, so skipping task: data (datafolder)\n",
      "File or folder already exists, so skipping task: C:/Users/asus/AppData/Local/pykoda/pykoda/cache/sl-tripupdates-2022-12-13.bz2 (file)\n",
      "System tool failed: Command '['7z', 'e', '-oC:/Users/asus/AppData/Local/pykoda/pykoda/cache/sl-tripupdates-2022-12-13', 'C:/Users/asus/AppData/Local/pykoda/pykoda/cache/sl-tripupdates-2022-12-13.bz2']' returned non-zero exit status 255.\n",
      "None\n",
      "Executing python function, producing output(s): C:/Users/asus/AppData/Local/pykoda/pykoda/cache/sl_TripUpdates_2022_12_13_1.feather.tmp\n",
      "Getting C:/Users/asus/AppData/Local/pykoda/pykoda/cache/sl_TripUpdates_2022_12_13_2.feather\n",
      "File or folder already exists, so skipping task: data (datafolder)\n",
      "File or folder already exists, so skipping task: C:/Users/asus/AppData/Local/pykoda/pykoda/cache/sl-tripupdates-2022-12-13.bz2 (file)\n",
      "System tool failed: Command '['7z', 'e', '-oC:/Users/asus/AppData/Local/pykoda/pykoda/cache/sl-tripupdates-2022-12-13', 'C:/Users/asus/AppData/Local/pykoda/pykoda/cache/sl-tripupdates-2022-12-13.bz2']' returned non-zero exit status 255.\n",
      "None\n",
      "Executing python function, producing output(s): C:/Users/asus/AppData/Local/pykoda/pykoda/cache/sl_TripUpdates_2022_12_13_2.feather.tmp\n",
      "Getting C:/Users/asus/AppData/Local/pykoda/pykoda/cache/sl_TripUpdates_2022_12_13_3.feather\n",
      "File or folder already exists, so skipping task: data (datafolder)\n",
      "File or folder already exists, so skipping task: C:/Users/asus/AppData/Local/pykoda/pykoda/cache/sl-tripupdates-2022-12-13.bz2 (file)\n"
     ]
    },
    {
     "name": "stderr",
     "output_type": "stream",
     "text": [
      "C:\\Users\\asus\\AppData\\Local\\Programs\\Python\\Python312\\Lib\\site-packages\\pykoda\\data\\datautils.py:90: RuntimeWarning: The API did not return data for 2022-12-13 03:00:00\n",
      "  warnings.warn(RuntimeWarning(f'The API did not return data for {date_hour}'))\n",
      "C:\\Users\\asus\\AppData\\Local\\Programs\\Python\\Python312\\Lib\\site-packages\\pykoda\\data\\datautils.py:90: RuntimeWarning: The API did not return data for 2022-12-13 04:00:00\n",
      "  warnings.warn(RuntimeWarning(f'The API did not return data for {date_hour}'))\n",
      "Loading data:  75%|█████████████████████████████████████████████████▎                | 269/360 [22:21<14:29,  9.56s/it]"
     ]
    },
    {
     "name": "stdout",
     "output_type": "stream",
     "text": [
      "System tool failed: Command '['7z', 'e', '-oC:/Users/asus/AppData/Local/pykoda/pykoda/cache/sl-tripupdates-2022-12-13', 'C:/Users/asus/AppData/Local/pykoda/pykoda/cache/sl-tripupdates-2022-12-13.bz2']' returned non-zero exit status 255.\n",
      "None\n",
      "Executing python function, producing output(s): C:/Users/asus/AppData/Local/pykoda/pykoda/cache/sl_TripUpdates_2022_12_13_3.feather.tmp\n",
      "Getting C:/Users/asus/AppData/Local/pykoda/pykoda/cache/sl_TripUpdates_2022_12_13_4.feather\n",
      "File or folder already exists, so skipping task: data (datafolder)\n",
      "File or folder already exists, so skipping task: C:/Users/asus/AppData/Local/pykoda/pykoda/cache/sl-tripupdates-2022-12-13.bz2 (file)\n",
      "System tool failed: Command '['7z', 'e', '-oC:/Users/asus/AppData/Local/pykoda/pykoda/cache/sl-tripupdates-2022-12-13', 'C:/Users/asus/AppData/Local/pykoda/pykoda/cache/sl-tripupdates-2022-12-13.bz2']' returned non-zero exit status 255.\n",
      "None\n",
      "Executing python function, producing output(s): C:/Users/asus/AppData/Local/pykoda/pykoda/cache/sl_TripUpdates_2022_12_13_4.feather.tmp\n",
      "Getting C:/Users/asus/AppData/Local/pykoda/pykoda/cache/sl_TripUpdates_2022_12_13_5.feather\n",
      "File or folder already exists, so skipping task: data (datafolder)\n",
      "File or folder already exists, so skipping task: C:/Users/asus/AppData/Local/pykoda/pykoda/cache/sl-tripupdates-2022-12-13.bz2 (file)\n",
      "System tool failed: Command '['7z', 'e', '-oC:/Users/asus/AppData/Local/pykoda/pykoda/cache/sl-tripupdates-2022-12-13', 'C:/Users/asus/AppData/Local/pykoda/pykoda/cache/sl-tripupdates-2022-12-13.bz2']' returned non-zero exit status 255.\n",
      "None\n",
      "Executing python function, producing output(s): C:/Users/asus/AppData/Local/pykoda/pykoda/cache/sl_TripUpdates_2022_12_13_5.feather.tmp\n",
      "Getting C:/Users/asus/AppData/Local/pykoda/pykoda/cache/sl_TripUpdates_2022_12_13_6.feather\n",
      "File or folder already exists, so skipping task: data (datafolder)\n",
      "File or folder already exists, so skipping task: C:/Users/asus/AppData/Local/pykoda/pykoda/cache/sl-tripupdates-2022-12-13.bz2 (file)\n"
     ]
    },
    {
     "name": "stderr",
     "output_type": "stream",
     "text": [
      "C:\\Users\\asus\\AppData\\Local\\Programs\\Python\\Python312\\Lib\\site-packages\\pykoda\\data\\datautils.py:90: RuntimeWarning: The API did not return data for 2022-12-13 05:00:00\n",
      "  warnings.warn(RuntimeWarning(f'The API did not return data for {date_hour}'))\n",
      "C:\\Users\\asus\\AppData\\Local\\Programs\\Python\\Python312\\Lib\\site-packages\\pykoda\\data\\datautils.py:90: RuntimeWarning: The API did not return data for 2022-12-13 06:00:00\n",
      "  warnings.warn(RuntimeWarning(f'The API did not return data for {date_hour}'))\n",
      "Loading data:  75%|█████████████████████████████████████████████████▋                | 271/360 [22:21<09:57,  6.71s/it]C:\\Users\\asus\\AppData\\Local\\Programs\\Python\\Python312\\Lib\\site-packages\\pykoda\\data\\datautils.py:90: RuntimeWarning: The API did not return data for 2022-12-13 07:00:00\n",
      "  warnings.warn(RuntimeWarning(f'The API did not return data for {date_hour}'))\n",
      "C:\\Users\\asus\\AppData\\Local\\Programs\\Python\\Python312\\Lib\\site-packages\\pykoda\\data\\datautils.py:90: RuntimeWarning: The API did not return data for 2022-12-13 08:00:00\n",
      "  warnings.warn(RuntimeWarning(f'The API did not return data for {date_hour}'))\n",
      "Loading data:  76%|██████████████████████████████████████████████████                | 273/360 [22:21<06:50,  4.72s/it]"
     ]
    },
    {
     "name": "stdout",
     "output_type": "stream",
     "text": [
      "System tool failed: Command '['7z', 'e', '-oC:/Users/asus/AppData/Local/pykoda/pykoda/cache/sl-tripupdates-2022-12-13', 'C:/Users/asus/AppData/Local/pykoda/pykoda/cache/sl-tripupdates-2022-12-13.bz2']' returned non-zero exit status 255.\n",
      "None\n",
      "Executing python function, producing output(s): C:/Users/asus/AppData/Local/pykoda/pykoda/cache/sl_TripUpdates_2022_12_13_6.feather.tmp\n",
      "Getting C:/Users/asus/AppData/Local/pykoda/pykoda/cache/sl_TripUpdates_2022_12_13_7.feather\n",
      "File or folder already exists, so skipping task: data (datafolder)\n",
      "File or folder already exists, so skipping task: C:/Users/asus/AppData/Local/pykoda/pykoda/cache/sl-tripupdates-2022-12-13.bz2 (file)\n",
      "System tool failed: Command '['7z', 'e', '-oC:/Users/asus/AppData/Local/pykoda/pykoda/cache/sl-tripupdates-2022-12-13', 'C:/Users/asus/AppData/Local/pykoda/pykoda/cache/sl-tripupdates-2022-12-13.bz2']' returned non-zero exit status 255.\n",
      "None\n",
      "Executing python function, producing output(s): C:/Users/asus/AppData/Local/pykoda/pykoda/cache/sl_TripUpdates_2022_12_13_7.feather.tmp\n",
      "Getting C:/Users/asus/AppData/Local/pykoda/pykoda/cache/sl_TripUpdates_2022_12_13_8.feather\n",
      "File or folder already exists, so skipping task: data (datafolder)\n",
      "File or folder already exists, so skipping task: C:/Users/asus/AppData/Local/pykoda/pykoda/cache/sl-tripupdates-2022-12-13.bz2 (file)\n",
      "System tool failed: Command '['7z', 'e', '-oC:/Users/asus/AppData/Local/pykoda/pykoda/cache/sl-tripupdates-2022-12-13', 'C:/Users/asus/AppData/Local/pykoda/pykoda/cache/sl-tripupdates-2022-12-13.bz2']' returned non-zero exit status 255.\n",
      "None\n",
      "Executing python function, producing output(s): C:/Users/asus/AppData/Local/pykoda/pykoda/cache/sl_TripUpdates_2022_12_13_8.feather.tmp\n",
      "Getting C:/Users/asus/AppData/Local/pykoda/pykoda/cache/sl_TripUpdates_2022_12_13_9.feather\n",
      "File or folder already exists, so skipping task: data (datafolder)\n",
      "File or folder already exists, so skipping task: C:/Users/asus/AppData/Local/pykoda/pykoda/cache/sl-tripupdates-2022-12-13.bz2 (file)\n"
     ]
    },
    {
     "name": "stderr",
     "output_type": "stream",
     "text": [
      "C:\\Users\\asus\\AppData\\Local\\Programs\\Python\\Python312\\Lib\\site-packages\\pykoda\\data\\datautils.py:90: RuntimeWarning: The API did not return data for 2022-12-13 09:00:00\n",
      "  warnings.warn(RuntimeWarning(f'The API did not return data for {date_hour}'))\n",
      "C:\\Users\\asus\\AppData\\Local\\Programs\\Python\\Python312\\Lib\\site-packages\\pykoda\\data\\datautils.py:90: RuntimeWarning: The API did not return data for 2022-12-13 10:00:00\n",
      "  warnings.warn(RuntimeWarning(f'The API did not return data for {date_hour}'))\n",
      "Loading data:  76%|██████████████████████████████████████████████████▍               | 275/360 [22:21<04:42,  3.32s/it]"
     ]
    },
    {
     "name": "stdout",
     "output_type": "stream",
     "text": [
      "System tool failed: Command '['7z', 'e', '-oC:/Users/asus/AppData/Local/pykoda/pykoda/cache/sl-tripupdates-2022-12-13', 'C:/Users/asus/AppData/Local/pykoda/pykoda/cache/sl-tripupdates-2022-12-13.bz2']' returned non-zero exit status 255.\n",
      "None\n",
      "Executing python function, producing output(s): C:/Users/asus/AppData/Local/pykoda/pykoda/cache/sl_TripUpdates_2022_12_13_9.feather.tmp\n",
      "Getting C:/Users/asus/AppData/Local/pykoda/pykoda/cache/sl_TripUpdates_2022_12_13_10.feather\n",
      "File or folder already exists, so skipping task: data (datafolder)\n",
      "File or folder already exists, so skipping task: C:/Users/asus/AppData/Local/pykoda/pykoda/cache/sl-tripupdates-2022-12-13.bz2 (file)\n",
      "System tool failed: Command '['7z', 'e', '-oC:/Users/asus/AppData/Local/pykoda/pykoda/cache/sl-tripupdates-2022-12-13', 'C:/Users/asus/AppData/Local/pykoda/pykoda/cache/sl-tripupdates-2022-12-13.bz2']' returned non-zero exit status 255.\n",
      "None\n",
      "Executing python function, producing output(s): C:/Users/asus/AppData/Local/pykoda/pykoda/cache/sl_TripUpdates_2022_12_13_10.feather.tmp\n",
      "Getting C:/Users/asus/AppData/Local/pykoda/pykoda/cache/sl_TripUpdates_2022_12_13_11.feather\n",
      "File or folder already exists, so skipping task: data (datafolder)\n",
      "File or folder already exists, so skipping task: C:/Users/asus/AppData/Local/pykoda/pykoda/cache/sl-tripupdates-2022-12-13.bz2 (file)\n",
      "System tool failed: Command '['7z', 'e', '-oC:/Users/asus/AppData/Local/pykoda/pykoda/cache/sl-tripupdates-2022-12-13', 'C:/Users/asus/AppData/Local/pykoda/pykoda/cache/sl-tripupdates-2022-12-13.bz2']' returned non-zero exit status 255.\n",
      "None\n",
      "Executing python function, producing output(s): C:/Users/asus/AppData/Local/pykoda/pykoda/cache/sl_TripUpdates_2022_12_13_11.feather.tmp\n",
      "Getting C:/Users/asus/AppData/Local/pykoda/pykoda/cache/sl_TripUpdates_2022_12_13_12.feather\n",
      "File or folder already exists, so skipping task: data (datafolder)\n",
      "File or folder already exists, so skipping task: C:/Users/asus/AppData/Local/pykoda/pykoda/cache/sl-tripupdates-2022-12-13.bz2 (file)\n"
     ]
    },
    {
     "name": "stderr",
     "output_type": "stream",
     "text": [
      "C:\\Users\\asus\\AppData\\Local\\Programs\\Python\\Python312\\Lib\\site-packages\\pykoda\\data\\datautils.py:90: RuntimeWarning: The API did not return data for 2022-12-13 11:00:00\n",
      "  warnings.warn(RuntimeWarning(f'The API did not return data for {date_hour}'))\n",
      "C:\\Users\\asus\\AppData\\Local\\Programs\\Python\\Python312\\Lib\\site-packages\\pykoda\\data\\datautils.py:90: RuntimeWarning: The API did not return data for 2022-12-13 12:00:00\n",
      "  warnings.warn(RuntimeWarning(f'The API did not return data for {date_hour}'))\n",
      "Loading data:  77%|██████████████████████████████████████████████████▊               | 277/360 [22:21<03:14,  2.35s/it]C:\\Users\\asus\\AppData\\Local\\Programs\\Python\\Python312\\Lib\\site-packages\\pykoda\\data\\datautils.py:90: RuntimeWarning: The API did not return data for 2022-12-13 13:00:00\n",
      "  warnings.warn(RuntimeWarning(f'The API did not return data for {date_hour}'))\n",
      "C:\\Users\\asus\\AppData\\Local\\Programs\\Python\\Python312\\Lib\\site-packages\\pykoda\\data\\datautils.py:90: RuntimeWarning: The API did not return data for 2022-12-13 14:00:00\n",
      "  warnings.warn(RuntimeWarning(f'The API did not return data for {date_hour}'))\n",
      "Loading data:  78%|███████████████████████████████████████████████████▏              | 279/360 [22:22<02:14,  1.67s/it]"
     ]
    },
    {
     "name": "stdout",
     "output_type": "stream",
     "text": [
      "System tool failed: Command '['7z', 'e', '-oC:/Users/asus/AppData/Local/pykoda/pykoda/cache/sl-tripupdates-2022-12-13', 'C:/Users/asus/AppData/Local/pykoda/pykoda/cache/sl-tripupdates-2022-12-13.bz2']' returned non-zero exit status 255.\n",
      "None\n",
      "Executing python function, producing output(s): C:/Users/asus/AppData/Local/pykoda/pykoda/cache/sl_TripUpdates_2022_12_13_12.feather.tmp\n",
      "Getting C:/Users/asus/AppData/Local/pykoda/pykoda/cache/sl_TripUpdates_2022_12_13_13.feather\n",
      "File or folder already exists, so skipping task: data (datafolder)\n",
      "File or folder already exists, so skipping task: C:/Users/asus/AppData/Local/pykoda/pykoda/cache/sl-tripupdates-2022-12-13.bz2 (file)\n",
      "System tool failed: Command '['7z', 'e', '-oC:/Users/asus/AppData/Local/pykoda/pykoda/cache/sl-tripupdates-2022-12-13', 'C:/Users/asus/AppData/Local/pykoda/pykoda/cache/sl-tripupdates-2022-12-13.bz2']' returned non-zero exit status 255.\n",
      "None\n",
      "Executing python function, producing output(s): C:/Users/asus/AppData/Local/pykoda/pykoda/cache/sl_TripUpdates_2022_12_13_13.feather.tmp\n",
      "Getting C:/Users/asus/AppData/Local/pykoda/pykoda/cache/sl_TripUpdates_2022_12_13_14.feather\n",
      "File or folder already exists, so skipping task: data (datafolder)\n",
      "File or folder already exists, so skipping task: C:/Users/asus/AppData/Local/pykoda/pykoda/cache/sl-tripupdates-2022-12-13.bz2 (file)\n",
      "System tool failed: Command '['7z', 'e', '-oC:/Users/asus/AppData/Local/pykoda/pykoda/cache/sl-tripupdates-2022-12-13', 'C:/Users/asus/AppData/Local/pykoda/pykoda/cache/sl-tripupdates-2022-12-13.bz2']' returned non-zero exit status 255.\n",
      "None\n",
      "Executing python function, producing output(s): C:/Users/asus/AppData/Local/pykoda/pykoda/cache/sl_TripUpdates_2022_12_13_14.feather.tmp\n",
      "Getting C:/Users/asus/AppData/Local/pykoda/pykoda/cache/sl_TripUpdates_2022_12_13_15.feather\n",
      "File or folder already exists, so skipping task: data (datafolder)\n",
      "File or folder already exists, so skipping task: C:/Users/asus/AppData/Local/pykoda/pykoda/cache/sl-tripupdates-2022-12-13.bz2 (file)\n"
     ]
    },
    {
     "name": "stderr",
     "output_type": "stream",
     "text": [
      "C:\\Users\\asus\\AppData\\Local\\Programs\\Python\\Python312\\Lib\\site-packages\\pykoda\\data\\datautils.py:90: RuntimeWarning: The API did not return data for 2022-12-13 15:00:00\n",
      "  warnings.warn(RuntimeWarning(f'The API did not return data for {date_hour}'))\n",
      "C:\\Users\\asus\\AppData\\Local\\Programs\\Python\\Python312\\Lib\\site-packages\\pykoda\\data\\datautils.py:90: RuntimeWarning: The API did not return data for 2022-12-13 16:00:00\n",
      "  warnings.warn(RuntimeWarning(f'The API did not return data for {date_hour}'))\n",
      "Loading data:  78%|███████████████████████████████████████████████████▌              | 281/360 [22:22<01:33,  1.19s/it]"
     ]
    },
    {
     "name": "stdout",
     "output_type": "stream",
     "text": [
      "System tool failed: Command '['7z', 'e', '-oC:/Users/asus/AppData/Local/pykoda/pykoda/cache/sl-tripupdates-2022-12-13', 'C:/Users/asus/AppData/Local/pykoda/pykoda/cache/sl-tripupdates-2022-12-13.bz2']' returned non-zero exit status 255.\n",
      "None\n",
      "Executing python function, producing output(s): C:/Users/asus/AppData/Local/pykoda/pykoda/cache/sl_TripUpdates_2022_12_13_15.feather.tmp\n",
      "Getting C:/Users/asus/AppData/Local/pykoda/pykoda/cache/sl_TripUpdates_2022_12_13_16.feather\n",
      "File or folder already exists, so skipping task: data (datafolder)\n",
      "File or folder already exists, so skipping task: C:/Users/asus/AppData/Local/pykoda/pykoda/cache/sl-tripupdates-2022-12-13.bz2 (file)\n",
      "System tool failed: Command '['7z', 'e', '-oC:/Users/asus/AppData/Local/pykoda/pykoda/cache/sl-tripupdates-2022-12-13', 'C:/Users/asus/AppData/Local/pykoda/pykoda/cache/sl-tripupdates-2022-12-13.bz2']' returned non-zero exit status 255.\n",
      "None\n",
      "Executing python function, producing output(s): C:/Users/asus/AppData/Local/pykoda/pykoda/cache/sl_TripUpdates_2022_12_13_16.feather.tmp\n",
      "Getting C:/Users/asus/AppData/Local/pykoda/pykoda/cache/sl_TripUpdates_2022_12_13_17.feather\n",
      "File or folder already exists, so skipping task: data (datafolder)\n",
      "File or folder already exists, so skipping task: C:/Users/asus/AppData/Local/pykoda/pykoda/cache/sl-tripupdates-2022-12-13.bz2 (file)\n",
      "System tool failed: Command '['7z', 'e', '-oC:/Users/asus/AppData/Local/pykoda/pykoda/cache/sl-tripupdates-2022-12-13', 'C:/Users/asus/AppData/Local/pykoda/pykoda/cache/sl-tripupdates-2022-12-13.bz2']' returned non-zero exit status 255.\n",
      "None\n",
      "Executing python function, producing output(s): C:/Users/asus/AppData/Local/pykoda/pykoda/cache/sl_TripUpdates_2022_12_13_17.feather.tmp\n",
      "Getting C:/Users/asus/AppData/Local/pykoda/pykoda/cache/sl_TripUpdates_2022_12_13_18.feather\n",
      "File or folder already exists, so skipping task: data (datafolder)\n",
      "File or folder already exists, so skipping task: C:/Users/asus/AppData/Local/pykoda/pykoda/cache/sl-tripupdates-2022-12-13.bz2 (file)\n"
     ]
    },
    {
     "name": "stderr",
     "output_type": "stream",
     "text": [
      "C:\\Users\\asus\\AppData\\Local\\Programs\\Python\\Python312\\Lib\\site-packages\\pykoda\\data\\datautils.py:90: RuntimeWarning: The API did not return data for 2022-12-13 17:00:00\n",
      "  warnings.warn(RuntimeWarning(f'The API did not return data for {date_hour}'))\n",
      "C:\\Users\\asus\\AppData\\Local\\Programs\\Python\\Python312\\Lib\\site-packages\\pykoda\\data\\datautils.py:90: RuntimeWarning: The API did not return data for 2022-12-13 18:00:00\n",
      "  warnings.warn(RuntimeWarning(f'The API did not return data for {date_hour}'))\n",
      "Loading data:  79%|███████████████████████████████████████████████████▉              | 283/360 [22:22<01:05,  1.17it/s]C:\\Users\\asus\\AppData\\Local\\Programs\\Python\\Python312\\Lib\\site-packages\\pykoda\\data\\datautils.py:90: RuntimeWarning: The API did not return data for 2022-12-13 19:00:00\n",
      "  warnings.warn(RuntimeWarning(f'The API did not return data for {date_hour}'))\n",
      "C:\\Users\\asus\\AppData\\Local\\Programs\\Python\\Python312\\Lib\\site-packages\\pykoda\\data\\datautils.py:90: RuntimeWarning: The API did not return data for 2022-12-13 20:00:00\n",
      "  warnings.warn(RuntimeWarning(f'The API did not return data for {date_hour}'))\n",
      "Loading data:  79%|████████████████████████████████████████████████████▎             | 285/360 [22:22<00:46,  1.62it/s]"
     ]
    },
    {
     "name": "stdout",
     "output_type": "stream",
     "text": [
      "System tool failed: Command '['7z', 'e', '-oC:/Users/asus/AppData/Local/pykoda/pykoda/cache/sl-tripupdates-2022-12-13', 'C:/Users/asus/AppData/Local/pykoda/pykoda/cache/sl-tripupdates-2022-12-13.bz2']' returned non-zero exit status 255.\n",
      "None\n",
      "Executing python function, producing output(s): C:/Users/asus/AppData/Local/pykoda/pykoda/cache/sl_TripUpdates_2022_12_13_18.feather.tmp\n",
      "Getting C:/Users/asus/AppData/Local/pykoda/pykoda/cache/sl_TripUpdates_2022_12_13_19.feather\n",
      "File or folder already exists, so skipping task: data (datafolder)\n",
      "File or folder already exists, so skipping task: C:/Users/asus/AppData/Local/pykoda/pykoda/cache/sl-tripupdates-2022-12-13.bz2 (file)\n",
      "System tool failed: Command '['7z', 'e', '-oC:/Users/asus/AppData/Local/pykoda/pykoda/cache/sl-tripupdates-2022-12-13', 'C:/Users/asus/AppData/Local/pykoda/pykoda/cache/sl-tripupdates-2022-12-13.bz2']' returned non-zero exit status 255.\n",
      "None\n",
      "Executing python function, producing output(s): C:/Users/asus/AppData/Local/pykoda/pykoda/cache/sl_TripUpdates_2022_12_13_19.feather.tmp\n",
      "Getting C:/Users/asus/AppData/Local/pykoda/pykoda/cache/sl_TripUpdates_2022_12_13_20.feather\n",
      "File or folder already exists, so skipping task: data (datafolder)\n",
      "File or folder already exists, so skipping task: C:/Users/asus/AppData/Local/pykoda/pykoda/cache/sl-tripupdates-2022-12-13.bz2 (file)\n",
      "System tool failed: Command '['7z', 'e', '-oC:/Users/asus/AppData/Local/pykoda/pykoda/cache/sl-tripupdates-2022-12-13', 'C:/Users/asus/AppData/Local/pykoda/pykoda/cache/sl-tripupdates-2022-12-13.bz2']' returned non-zero exit status 255.\n",
      "None\n",
      "Executing python function, producing output(s): C:/Users/asus/AppData/Local/pykoda/pykoda/cache/sl_TripUpdates_2022_12_13_20.feather.tmp\n",
      "Getting C:/Users/asus/AppData/Local/pykoda/pykoda/cache/sl_TripUpdates_2022_12_13_21.feather\n",
      "File or folder already exists, so skipping task: data (datafolder)\n",
      "File or folder already exists, so skipping task: C:/Users/asus/AppData/Local/pykoda/pykoda/cache/sl-tripupdates-2022-12-13.bz2 (file)\n"
     ]
    },
    {
     "name": "stderr",
     "output_type": "stream",
     "text": [
      "C:\\Users\\asus\\AppData\\Local\\Programs\\Python\\Python312\\Lib\\site-packages\\pykoda\\data\\datautils.py:90: RuntimeWarning: The API did not return data for 2022-12-13 21:00:00\n",
      "  warnings.warn(RuntimeWarning(f'The API did not return data for {date_hour}'))\n",
      "C:\\Users\\asus\\AppData\\Local\\Programs\\Python\\Python312\\Lib\\site-packages\\pykoda\\data\\datautils.py:90: RuntimeWarning: The API did not return data for 2022-12-13 22:00:00\n",
      "  warnings.warn(RuntimeWarning(f'The API did not return data for {date_hour}'))\n",
      "Loading data:  80%|████████████████████████████████████████████████████▌             | 287/360 [22:22<00:33,  2.17it/s]"
     ]
    },
    {
     "name": "stdout",
     "output_type": "stream",
     "text": [
      "System tool failed: Command '['7z', 'e', '-oC:/Users/asus/AppData/Local/pykoda/pykoda/cache/sl-tripupdates-2022-12-13', 'C:/Users/asus/AppData/Local/pykoda/pykoda/cache/sl-tripupdates-2022-12-13.bz2']' returned non-zero exit status 255.\n",
      "None\n",
      "Executing python function, producing output(s): C:/Users/asus/AppData/Local/pykoda/pykoda/cache/sl_TripUpdates_2022_12_13_21.feather.tmp\n",
      "Getting C:/Users/asus/AppData/Local/pykoda/pykoda/cache/sl_TripUpdates_2022_12_13_22.feather\n",
      "File or folder already exists, so skipping task: data (datafolder)\n",
      "File or folder already exists, so skipping task: C:/Users/asus/AppData/Local/pykoda/pykoda/cache/sl-tripupdates-2022-12-13.bz2 (file)\n",
      "System tool failed: Command '['7z', 'e', '-oC:/Users/asus/AppData/Local/pykoda/pykoda/cache/sl-tripupdates-2022-12-13', 'C:/Users/asus/AppData/Local/pykoda/pykoda/cache/sl-tripupdates-2022-12-13.bz2']' returned non-zero exit status 255.\n",
      "None\n",
      "Executing python function, producing output(s): C:/Users/asus/AppData/Local/pykoda/pykoda/cache/sl_TripUpdates_2022_12_13_22.feather.tmp\n",
      "Getting C:/Users/asus/AppData/Local/pykoda/pykoda/cache/sl_TripUpdates_2022_12_13_23.feather\n",
      "File or folder already exists, so skipping task: data (datafolder)\n",
      "File or folder already exists, so skipping task: C:/Users/asus/AppData/Local/pykoda/pykoda/cache/sl-tripupdates-2022-12-13.bz2 (file)\n",
      "System tool failed: Command '['7z', 'e', '-oC:/Users/asus/AppData/Local/pykoda/pykoda/cache/sl-tripupdates-2022-12-13', 'C:/Users/asus/AppData/Local/pykoda/pykoda/cache/sl-tripupdates-2022-12-13.bz2']' returned non-zero exit status 255.\n",
      "None\n",
      "Executing python function, producing output(s): C:/Users/asus/AppData/Local/pykoda/pykoda/cache/sl_TripUpdates_2022_12_13_23.feather.tmp\n",
      "Getting C:/Users/asus/AppData/Local/pykoda/pykoda/cache/sl_TripUpdates_2022_12_14_0.feather\n",
      "File or folder already exists, so skipping task: data (datafolder)\n",
      "Executing python function, producing output(s): C:/Users/asus/AppData/Local/pykoda/pykoda/cache/sl-tripupdates-2022-12-14.bz2.tmp\n"
     ]
    },
    {
     "name": "stderr",
     "output_type": "stream",
     "text": [
      "C:\\Users\\asus\\AppData\\Local\\Programs\\Python\\Python312\\Lib\\site-packages\\pykoda\\data\\datautils.py:90: RuntimeWarning: The API did not return data for 2022-12-13 23:00:00\n",
      "  warnings.warn(RuntimeWarning(f'The API did not return data for {date_hour}'))\n"
     ]
    },
    {
     "name": "stdout",
     "output_type": "stream",
     "text": [
      "C:/Users/asus/AppData/Local/pykoda/pykoda/cache/sl-tripupdates-2022-12-14.tar\n",
      "Executing python function, producing output(s): C:/Users/asus/AppData/Local/pykoda/pykoda/cache/sl_TripUpdates_2022_12_14_0.feather.tmp\n",
      "sl-tripupdates-2022-12-01T10\n"
     ]
    },
    {
     "name": "stderr",
     "output_type": "stream",
     "text": [
      "Loading data:  80%|████████████████████████████████████████████████████▉             | 289/360 [24:32<23:23, 19.76s/it]C:\\Users\\asus\\AppData\\Local\\Programs\\Python\\Python312\\Lib\\site-packages\\pykoda\\data\\datautils.py:90: RuntimeWarning: The API did not return data for 2022-12-14 01:00:00\n",
      "  warnings.warn(RuntimeWarning(f'The API did not return data for {date_hour}'))\n",
      "C:\\Users\\asus\\AppData\\Local\\Programs\\Python\\Python312\\Lib\\site-packages\\pykoda\\data\\datautils.py:90: RuntimeWarning: The API did not return data for 2022-12-14 02:00:00\n",
      "  warnings.warn(RuntimeWarning(f'The API did not return data for {date_hour}'))\n",
      "Loading data:  81%|█████████████████████████████████████████████████████▎            | 291/360 [24:32<15:56, 13.86s/it]"
     ]
    },
    {
     "name": "stdout",
     "output_type": "stream",
     "text": [
      "Getting C:/Users/asus/AppData/Local/pykoda/pykoda/cache/sl_TripUpdates_2022_12_14_1.feather\n",
      "File or folder already exists, so skipping task: data (datafolder)\n",
      "File or folder already exists, so skipping task: C:/Users/asus/AppData/Local/pykoda/pykoda/cache/sl-tripupdates-2022-12-14.bz2 (file)\n",
      "System tool failed: Command '['7z', 'e', '-oC:/Users/asus/AppData/Local/pykoda/pykoda/cache/sl-tripupdates-2022-12-14', 'C:/Users/asus/AppData/Local/pykoda/pykoda/cache/sl-tripupdates-2022-12-14.bz2']' returned non-zero exit status 255.\n",
      "None\n",
      "Executing python function, producing output(s): C:/Users/asus/AppData/Local/pykoda/pykoda/cache/sl_TripUpdates_2022_12_14_1.feather.tmp\n",
      "Getting C:/Users/asus/AppData/Local/pykoda/pykoda/cache/sl_TripUpdates_2022_12_14_2.feather\n",
      "File or folder already exists, so skipping task: data (datafolder)\n",
      "File or folder already exists, so skipping task: C:/Users/asus/AppData/Local/pykoda/pykoda/cache/sl-tripupdates-2022-12-14.bz2 (file)\n",
      "System tool failed: Command '['7z', 'e', '-oC:/Users/asus/AppData/Local/pykoda/pykoda/cache/sl-tripupdates-2022-12-14', 'C:/Users/asus/AppData/Local/pykoda/pykoda/cache/sl-tripupdates-2022-12-14.bz2']' returned non-zero exit status 255.\n",
      "None\n",
      "Executing python function, producing output(s): C:/Users/asus/AppData/Local/pykoda/pykoda/cache/sl_TripUpdates_2022_12_14_2.feather.tmp\n",
      "Getting C:/Users/asus/AppData/Local/pykoda/pykoda/cache/sl_TripUpdates_2022_12_14_3.feather\n",
      "File or folder already exists, so skipping task: data (datafolder)\n",
      "File or folder already exists, so skipping task: C:/Users/asus/AppData/Local/pykoda/pykoda/cache/sl-tripupdates-2022-12-14.bz2 (file)\n"
     ]
    },
    {
     "name": "stderr",
     "output_type": "stream",
     "text": [
      "C:\\Users\\asus\\AppData\\Local\\Programs\\Python\\Python312\\Lib\\site-packages\\pykoda\\data\\datautils.py:90: RuntimeWarning: The API did not return data for 2022-12-14 03:00:00\n",
      "  warnings.warn(RuntimeWarning(f'The API did not return data for {date_hour}'))\n",
      "C:\\Users\\asus\\AppData\\Local\\Programs\\Python\\Python312\\Lib\\site-packages\\pykoda\\data\\datautils.py:90: RuntimeWarning: The API did not return data for 2022-12-14 04:00:00\n",
      "  warnings.warn(RuntimeWarning(f'The API did not return data for {date_hour}'))\n",
      "Loading data:  81%|█████████████████████████████████████████████████████▋            | 293/360 [24:32<10:51,  9.72s/it]"
     ]
    },
    {
     "name": "stdout",
     "output_type": "stream",
     "text": [
      "System tool failed: Command '['7z', 'e', '-oC:/Users/asus/AppData/Local/pykoda/pykoda/cache/sl-tripupdates-2022-12-14', 'C:/Users/asus/AppData/Local/pykoda/pykoda/cache/sl-tripupdates-2022-12-14.bz2']' returned non-zero exit status 255.\n",
      "None\n",
      "Executing python function, producing output(s): C:/Users/asus/AppData/Local/pykoda/pykoda/cache/sl_TripUpdates_2022_12_14_3.feather.tmp\n",
      "Getting C:/Users/asus/AppData/Local/pykoda/pykoda/cache/sl_TripUpdates_2022_12_14_4.feather\n",
      "File or folder already exists, so skipping task: data (datafolder)\n",
      "File or folder already exists, so skipping task: C:/Users/asus/AppData/Local/pykoda/pykoda/cache/sl-tripupdates-2022-12-14.bz2 (file)\n",
      "System tool failed: Command '['7z', 'e', '-oC:/Users/asus/AppData/Local/pykoda/pykoda/cache/sl-tripupdates-2022-12-14', 'C:/Users/asus/AppData/Local/pykoda/pykoda/cache/sl-tripupdates-2022-12-14.bz2']' returned non-zero exit status 255.\n",
      "None\n",
      "Executing python function, producing output(s): C:/Users/asus/AppData/Local/pykoda/pykoda/cache/sl_TripUpdates_2022_12_14_4.feather.tmp\n",
      "Getting C:/Users/asus/AppData/Local/pykoda/pykoda/cache/sl_TripUpdates_2022_12_14_5.feather\n",
      "File or folder already exists, so skipping task: data (datafolder)\n",
      "File or folder already exists, so skipping task: C:/Users/asus/AppData/Local/pykoda/pykoda/cache/sl-tripupdates-2022-12-14.bz2 (file)\n",
      "System tool failed: Command '['7z', 'e', '-oC:/Users/asus/AppData/Local/pykoda/pykoda/cache/sl-tripupdates-2022-12-14', 'C:/Users/asus/AppData/Local/pykoda/pykoda/cache/sl-tripupdates-2022-12-14.bz2']' returned non-zero exit status 255.\n",
      "None\n",
      "Executing python function, producing output(s): C:/Users/asus/AppData/Local/pykoda/pykoda/cache/sl_TripUpdates_2022_12_14_5.feather.tmp\n",
      "Getting C:/Users/asus/AppData/Local/pykoda/pykoda/cache/sl_TripUpdates_2022_12_14_6.feather\n",
      "File or folder already exists, so skipping task: data (datafolder)\n",
      "File or folder already exists, so skipping task: C:/Users/asus/AppData/Local/pykoda/pykoda/cache/sl-tripupdates-2022-12-14.bz2 (file)\n"
     ]
    },
    {
     "name": "stderr",
     "output_type": "stream",
     "text": [
      "C:\\Users\\asus\\AppData\\Local\\Programs\\Python\\Python312\\Lib\\site-packages\\pykoda\\data\\datautils.py:90: RuntimeWarning: The API did not return data for 2022-12-14 05:00:00\n",
      "  warnings.warn(RuntimeWarning(f'The API did not return data for {date_hour}'))\n",
      "C:\\Users\\asus\\AppData\\Local\\Programs\\Python\\Python312\\Lib\\site-packages\\pykoda\\data\\datautils.py:90: RuntimeWarning: The API did not return data for 2022-12-14 06:00:00\n",
      "  warnings.warn(RuntimeWarning(f'The API did not return data for {date_hour}'))\n",
      "Loading data:  82%|██████████████████████████████████████████████████████            | 295/360 [24:32<07:23,  6.83s/it]C:\\Users\\asus\\AppData\\Local\\Programs\\Python\\Python312\\Lib\\site-packages\\pykoda\\data\\datautils.py:90: RuntimeWarning: The API did not return data for 2022-12-14 07:00:00\n",
      "  warnings.warn(RuntimeWarning(f'The API did not return data for {date_hour}'))\n",
      "C:\\Users\\asus\\AppData\\Local\\Programs\\Python\\Python312\\Lib\\site-packages\\pykoda\\data\\datautils.py:90: RuntimeWarning: The API did not return data for 2022-12-14 08:00:00\n",
      "  warnings.warn(RuntimeWarning(f'The API did not return data for {date_hour}'))\n",
      "Loading data:  82%|██████████████████████████████████████████████████████▍           | 297/360 [24:32<05:02,  4.80s/it]"
     ]
    },
    {
     "name": "stdout",
     "output_type": "stream",
     "text": [
      "System tool failed: Command '['7z', 'e', '-oC:/Users/asus/AppData/Local/pykoda/pykoda/cache/sl-tripupdates-2022-12-14', 'C:/Users/asus/AppData/Local/pykoda/pykoda/cache/sl-tripupdates-2022-12-14.bz2']' returned non-zero exit status 255.\n",
      "None\n",
      "Executing python function, producing output(s): C:/Users/asus/AppData/Local/pykoda/pykoda/cache/sl_TripUpdates_2022_12_14_6.feather.tmp\n",
      "Getting C:/Users/asus/AppData/Local/pykoda/pykoda/cache/sl_TripUpdates_2022_12_14_7.feather\n",
      "File or folder already exists, so skipping task: data (datafolder)\n",
      "File or folder already exists, so skipping task: C:/Users/asus/AppData/Local/pykoda/pykoda/cache/sl-tripupdates-2022-12-14.bz2 (file)\n",
      "System tool failed: Command '['7z', 'e', '-oC:/Users/asus/AppData/Local/pykoda/pykoda/cache/sl-tripupdates-2022-12-14', 'C:/Users/asus/AppData/Local/pykoda/pykoda/cache/sl-tripupdates-2022-12-14.bz2']' returned non-zero exit status 255.\n",
      "None\n",
      "Executing python function, producing output(s): C:/Users/asus/AppData/Local/pykoda/pykoda/cache/sl_TripUpdates_2022_12_14_7.feather.tmp\n",
      "Getting C:/Users/asus/AppData/Local/pykoda/pykoda/cache/sl_TripUpdates_2022_12_14_8.feather\n",
      "File or folder already exists, so skipping task: data (datafolder)\n",
      "File or folder already exists, so skipping task: C:/Users/asus/AppData/Local/pykoda/pykoda/cache/sl-tripupdates-2022-12-14.bz2 (file)\n",
      "System tool failed: Command '['7z', 'e', '-oC:/Users/asus/AppData/Local/pykoda/pykoda/cache/sl-tripupdates-2022-12-14', 'C:/Users/asus/AppData/Local/pykoda/pykoda/cache/sl-tripupdates-2022-12-14.bz2']' returned non-zero exit status 255.\n",
      "None\n",
      "Executing python function, producing output(s): C:/Users/asus/AppData/Local/pykoda/pykoda/cache/sl_TripUpdates_2022_12_14_8.feather.tmp\n",
      "Getting C:/Users/asus/AppData/Local/pykoda/pykoda/cache/sl_TripUpdates_2022_12_14_9.feather\n",
      "File or folder already exists, so skipping task: data (datafolder)\n",
      "File or folder already exists, so skipping task: C:/Users/asus/AppData/Local/pykoda/pykoda/cache/sl-tripupdates-2022-12-14.bz2 (file)\n"
     ]
    },
    {
     "name": "stderr",
     "output_type": "stream",
     "text": [
      "C:\\Users\\asus\\AppData\\Local\\Programs\\Python\\Python312\\Lib\\site-packages\\pykoda\\data\\datautils.py:90: RuntimeWarning: The API did not return data for 2022-12-14 09:00:00\n",
      "  warnings.warn(RuntimeWarning(f'The API did not return data for {date_hour}'))\n",
      "C:\\Users\\asus\\AppData\\Local\\Programs\\Python\\Python312\\Lib\\site-packages\\pykoda\\data\\datautils.py:90: RuntimeWarning: The API did not return data for 2022-12-14 10:00:00\n",
      "  warnings.warn(RuntimeWarning(f'The API did not return data for {date_hour}'))\n",
      "Loading data:  83%|██████████████████████████████████████████████████████▊           | 299/360 [24:33<03:26,  3.39s/it]"
     ]
    },
    {
     "name": "stdout",
     "output_type": "stream",
     "text": [
      "System tool failed: Command '['7z', 'e', '-oC:/Users/asus/AppData/Local/pykoda/pykoda/cache/sl-tripupdates-2022-12-14', 'C:/Users/asus/AppData/Local/pykoda/pykoda/cache/sl-tripupdates-2022-12-14.bz2']' returned non-zero exit status 255.\n",
      "None\n",
      "Executing python function, producing output(s): C:/Users/asus/AppData/Local/pykoda/pykoda/cache/sl_TripUpdates_2022_12_14_9.feather.tmp\n",
      "Getting C:/Users/asus/AppData/Local/pykoda/pykoda/cache/sl_TripUpdates_2022_12_14_10.feather\n",
      "File or folder already exists, so skipping task: data (datafolder)\n",
      "File or folder already exists, so skipping task: C:/Users/asus/AppData/Local/pykoda/pykoda/cache/sl-tripupdates-2022-12-14.bz2 (file)\n",
      "System tool failed: Command '['7z', 'e', '-oC:/Users/asus/AppData/Local/pykoda/pykoda/cache/sl-tripupdates-2022-12-14', 'C:/Users/asus/AppData/Local/pykoda/pykoda/cache/sl-tripupdates-2022-12-14.bz2']' returned non-zero exit status 255.\n",
      "None\n",
      "Executing python function, producing output(s): C:/Users/asus/AppData/Local/pykoda/pykoda/cache/sl_TripUpdates_2022_12_14_10.feather.tmp\n",
      "Getting C:/Users/asus/AppData/Local/pykoda/pykoda/cache/sl_TripUpdates_2022_12_14_11.feather\n",
      "File or folder already exists, so skipping task: data (datafolder)\n",
      "File or folder already exists, so skipping task: C:/Users/asus/AppData/Local/pykoda/pykoda/cache/sl-tripupdates-2022-12-14.bz2 (file)\n",
      "System tool failed: Command '['7z', 'e', '-oC:/Users/asus/AppData/Local/pykoda/pykoda/cache/sl-tripupdates-2022-12-14', 'C:/Users/asus/AppData/Local/pykoda/pykoda/cache/sl-tripupdates-2022-12-14.bz2']' returned non-zero exit status 255.\n",
      "None\n",
      "Executing python function, producing output(s): C:/Users/asus/AppData/Local/pykoda/pykoda/cache/sl_TripUpdates_2022_12_14_11.feather.tmp\n"
     ]
    },
    {
     "name": "stderr",
     "output_type": "stream",
     "text": [
      "C:\\Users\\asus\\AppData\\Local\\Programs\\Python\\Python312\\Lib\\site-packages\\pykoda\\data\\datautils.py:90: RuntimeWarning: The API did not return data for 2022-12-14 11:00:00\n",
      "  warnings.warn(RuntimeWarning(f'The API did not return data for {date_hour}'))\n",
      "C:\\Users\\asus\\AppData\\Local\\Programs\\Python\\Python312\\Lib\\site-packages\\pykoda\\data\\datautils.py:90: RuntimeWarning: The API did not return data for 2022-12-14 12:00:00\n",
      "  warnings.warn(RuntimeWarning(f'The API did not return data for {date_hour}'))\n",
      "Loading data:  84%|███████████████████████████████████████████████████████▏          | 301/360 [24:33<02:21,  2.40s/it]C:\\Users\\asus\\AppData\\Local\\Programs\\Python\\Python312\\Lib\\site-packages\\pykoda\\data\\datautils.py:90: RuntimeWarning: The API did not return data for 2022-12-14 13:00:00\n",
      "  warnings.warn(RuntimeWarning(f'The API did not return data for {date_hour}'))\n"
     ]
    },
    {
     "name": "stdout",
     "output_type": "stream",
     "text": [
      "Getting C:/Users/asus/AppData/Local/pykoda/pykoda/cache/sl_TripUpdates_2022_12_14_12.feather\n",
      "File or folder already exists, so skipping task: data (datafolder)\n",
      "File or folder already exists, so skipping task: C:/Users/asus/AppData/Local/pykoda/pykoda/cache/sl-tripupdates-2022-12-14.bz2 (file)\n",
      "System tool failed: Command '['7z', 'e', '-oC:/Users/asus/AppData/Local/pykoda/pykoda/cache/sl-tripupdates-2022-12-14', 'C:/Users/asus/AppData/Local/pykoda/pykoda/cache/sl-tripupdates-2022-12-14.bz2']' returned non-zero exit status 255.\n",
      "None\n",
      "Executing python function, producing output(s): C:/Users/asus/AppData/Local/pykoda/pykoda/cache/sl_TripUpdates_2022_12_14_12.feather.tmp\n",
      "Getting C:/Users/asus/AppData/Local/pykoda/pykoda/cache/sl_TripUpdates_2022_12_14_13.feather\n",
      "File or folder already exists, so skipping task: data (datafolder)\n",
      "File or folder already exists, so skipping task: C:/Users/asus/AppData/Local/pykoda/pykoda/cache/sl-tripupdates-2022-12-14.bz2 (file)\n",
      "System tool failed: Command '['7z', 'e', '-oC:/Users/asus/AppData/Local/pykoda/pykoda/cache/sl-tripupdates-2022-12-14', 'C:/Users/asus/AppData/Local/pykoda/pykoda/cache/sl-tripupdates-2022-12-14.bz2']' returned non-zero exit status 255.\n",
      "None\n",
      "Executing python function, producing output(s): C:/Users/asus/AppData/Local/pykoda/pykoda/cache/sl_TripUpdates_2022_12_14_13.feather.tmp\n",
      "Getting C:/Users/asus/AppData/Local/pykoda/pykoda/cache/sl_TripUpdates_2022_12_14_14.feather\n",
      "File or folder already exists, so skipping task: data (datafolder)\n",
      "File or folder already exists, so skipping task: C:/Users/asus/AppData/Local/pykoda/pykoda/cache/sl-tripupdates-2022-12-14.bz2 (file)\n"
     ]
    },
    {
     "name": "stderr",
     "output_type": "stream",
     "text": [
      "C:\\Users\\asus\\AppData\\Local\\Programs\\Python\\Python312\\Lib\\site-packages\\pykoda\\data\\datautils.py:90: RuntimeWarning: The API did not return data for 2022-12-14 14:00:00\n",
      "  warnings.warn(RuntimeWarning(f'The API did not return data for {date_hour}'))\n",
      "Loading data:  84%|███████████████████████████████████████████████████████▌          | 303/360 [24:33<01:36,  1.70s/it]C:\\Users\\asus\\AppData\\Local\\Programs\\Python\\Python312\\Lib\\site-packages\\pykoda\\data\\datautils.py:90: RuntimeWarning: The API did not return data for 2022-12-14 15:00:00\n",
      "  warnings.warn(RuntimeWarning(f'The API did not return data for {date_hour}'))\n",
      "C:\\Users\\asus\\AppData\\Local\\Programs\\Python\\Python312\\Lib\\site-packages\\pykoda\\data\\datautils.py:90: RuntimeWarning: The API did not return data for 2022-12-14 16:00:00\n",
      "  warnings.warn(RuntimeWarning(f'The API did not return data for {date_hour}'))\n",
      "Loading data:  85%|███████████████████████████████████████████████████████▉          | 305/360 [24:33<01:06,  1.21s/it]"
     ]
    },
    {
     "name": "stdout",
     "output_type": "stream",
     "text": [
      "System tool failed: Command '['7z', 'e', '-oC:/Users/asus/AppData/Local/pykoda/pykoda/cache/sl-tripupdates-2022-12-14', 'C:/Users/asus/AppData/Local/pykoda/pykoda/cache/sl-tripupdates-2022-12-14.bz2']' returned non-zero exit status 255.\n",
      "None\n",
      "Executing python function, producing output(s): C:/Users/asus/AppData/Local/pykoda/pykoda/cache/sl_TripUpdates_2022_12_14_14.feather.tmp\n",
      "Getting C:/Users/asus/AppData/Local/pykoda/pykoda/cache/sl_TripUpdates_2022_12_14_15.feather\n",
      "File or folder already exists, so skipping task: data (datafolder)\n",
      "File or folder already exists, so skipping task: C:/Users/asus/AppData/Local/pykoda/pykoda/cache/sl-tripupdates-2022-12-14.bz2 (file)\n",
      "System tool failed: Command '['7z', 'e', '-oC:/Users/asus/AppData/Local/pykoda/pykoda/cache/sl-tripupdates-2022-12-14', 'C:/Users/asus/AppData/Local/pykoda/pykoda/cache/sl-tripupdates-2022-12-14.bz2']' returned non-zero exit status 255.\n",
      "None\n",
      "Executing python function, producing output(s): C:/Users/asus/AppData/Local/pykoda/pykoda/cache/sl_TripUpdates_2022_12_14_15.feather.tmp\n",
      "Getting C:/Users/asus/AppData/Local/pykoda/pykoda/cache/sl_TripUpdates_2022_12_14_16.feather\n",
      "File or folder already exists, so skipping task: data (datafolder)\n",
      "File or folder already exists, so skipping task: C:/Users/asus/AppData/Local/pykoda/pykoda/cache/sl-tripupdates-2022-12-14.bz2 (file)\n",
      "System tool failed: Command '['7z', 'e', '-oC:/Users/asus/AppData/Local/pykoda/pykoda/cache/sl-tripupdates-2022-12-14', 'C:/Users/asus/AppData/Local/pykoda/pykoda/cache/sl-tripupdates-2022-12-14.bz2']' returned non-zero exit status 255.\n",
      "None\n",
      "Executing python function, producing output(s): C:/Users/asus/AppData/Local/pykoda/pykoda/cache/sl_TripUpdates_2022_12_14_16.feather.tmp\n",
      "Getting C:/Users/asus/AppData/Local/pykoda/pykoda/cache/sl_TripUpdates_2022_12_14_17.feather\n",
      "File or folder already exists, so skipping task: data (datafolder)\n",
      "File or folder already exists, so skipping task: C:/Users/asus/AppData/Local/pykoda/pykoda/cache/sl-tripupdates-2022-12-14.bz2 (file)\n"
     ]
    },
    {
     "name": "stderr",
     "output_type": "stream",
     "text": [
      "C:\\Users\\asus\\AppData\\Local\\Programs\\Python\\Python312\\Lib\\site-packages\\pykoda\\data\\datautils.py:90: RuntimeWarning: The API did not return data for 2022-12-14 17:00:00\n",
      "  warnings.warn(RuntimeWarning(f'The API did not return data for {date_hour}'))\n",
      "C:\\Users\\asus\\AppData\\Local\\Programs\\Python\\Python312\\Lib\\site-packages\\pykoda\\data\\datautils.py:90: RuntimeWarning: The API did not return data for 2022-12-14 18:00:00\n",
      "  warnings.warn(RuntimeWarning(f'The API did not return data for {date_hour}'))\n",
      "Loading data:  85%|████████████████████████████████████████████████████████▎         | 307/360 [24:33<00:46,  1.15it/s]"
     ]
    },
    {
     "name": "stdout",
     "output_type": "stream",
     "text": [
      "System tool failed: Command '['7z', 'e', '-oC:/Users/asus/AppData/Local/pykoda/pykoda/cache/sl-tripupdates-2022-12-14', 'C:/Users/asus/AppData/Local/pykoda/pykoda/cache/sl-tripupdates-2022-12-14.bz2']' returned non-zero exit status 255.\n",
      "None\n",
      "Executing python function, producing output(s): C:/Users/asus/AppData/Local/pykoda/pykoda/cache/sl_TripUpdates_2022_12_14_17.feather.tmp\n",
      "Getting C:/Users/asus/AppData/Local/pykoda/pykoda/cache/sl_TripUpdates_2022_12_14_18.feather\n",
      "File or folder already exists, so skipping task: data (datafolder)\n",
      "File or folder already exists, so skipping task: C:/Users/asus/AppData/Local/pykoda/pykoda/cache/sl-tripupdates-2022-12-14.bz2 (file)\n",
      "System tool failed: Command '['7z', 'e', '-oC:/Users/asus/AppData/Local/pykoda/pykoda/cache/sl-tripupdates-2022-12-14', 'C:/Users/asus/AppData/Local/pykoda/pykoda/cache/sl-tripupdates-2022-12-14.bz2']' returned non-zero exit status 255.\n",
      "None\n",
      "Executing python function, producing output(s): C:/Users/asus/AppData/Local/pykoda/pykoda/cache/sl_TripUpdates_2022_12_14_18.feather.tmp\n",
      "Getting C:/Users/asus/AppData/Local/pykoda/pykoda/cache/sl_TripUpdates_2022_12_14_19.feather\n",
      "File or folder already exists, so skipping task: data (datafolder)\n",
      "File or folder already exists, so skipping task: C:/Users/asus/AppData/Local/pykoda/pykoda/cache/sl-tripupdates-2022-12-14.bz2 (file)\n",
      "System tool failed: Command '['7z', 'e', '-oC:/Users/asus/AppData/Local/pykoda/pykoda/cache/sl-tripupdates-2022-12-14', 'C:/Users/asus/AppData/Local/pykoda/pykoda/cache/sl-tripupdates-2022-12-14.bz2']' returned non-zero exit status 255.\n",
      "None\n",
      "Executing python function, producing output(s): C:/Users/asus/AppData/Local/pykoda/pykoda/cache/sl_TripUpdates_2022_12_14_19.feather.tmp\n",
      "Getting C:/Users/asus/AppData/Local/pykoda/pykoda/cache/sl_TripUpdates_2022_12_14_20.feather\n",
      "File or folder already exists, so skipping task: data (datafolder)\n",
      "File or folder already exists, so skipping task: C:/Users/asus/AppData/Local/pykoda/pykoda/cache/sl-tripupdates-2022-12-14.bz2 (file)\n"
     ]
    },
    {
     "name": "stderr",
     "output_type": "stream",
     "text": [
      "C:\\Users\\asus\\AppData\\Local\\Programs\\Python\\Python312\\Lib\\site-packages\\pykoda\\data\\datautils.py:90: RuntimeWarning: The API did not return data for 2022-12-14 19:00:00\n",
      "  warnings.warn(RuntimeWarning(f'The API did not return data for {date_hour}'))\n",
      "C:\\Users\\asus\\AppData\\Local\\Programs\\Python\\Python312\\Lib\\site-packages\\pykoda\\data\\datautils.py:90: RuntimeWarning: The API did not return data for 2022-12-14 20:00:00\n",
      "  warnings.warn(RuntimeWarning(f'The API did not return data for {date_hour}'))\n",
      "Loading data:  86%|████████████████████████████████████████████████████████▋         | 309/360 [24:33<00:32,  1.58it/s]C:\\Users\\asus\\AppData\\Local\\Programs\\Python\\Python312\\Lib\\site-packages\\pykoda\\data\\datautils.py:90: RuntimeWarning: The API did not return data for 2022-12-14 21:00:00\n",
      "  warnings.warn(RuntimeWarning(f'The API did not return data for {date_hour}'))\n",
      "C:\\Users\\asus\\AppData\\Local\\Programs\\Python\\Python312\\Lib\\site-packages\\pykoda\\data\\datautils.py:90: RuntimeWarning: The API did not return data for 2022-12-14 22:00:00\n",
      "  warnings.warn(RuntimeWarning(f'The API did not return data for {date_hour}'))\n",
      "Loading data:  86%|█████████████████████████████████████████████████████████         | 311/360 [24:33<00:22,  2.16it/s]"
     ]
    },
    {
     "name": "stdout",
     "output_type": "stream",
     "text": [
      "System tool failed: Command '['7z', 'e', '-oC:/Users/asus/AppData/Local/pykoda/pykoda/cache/sl-tripupdates-2022-12-14', 'C:/Users/asus/AppData/Local/pykoda/pykoda/cache/sl-tripupdates-2022-12-14.bz2']' returned non-zero exit status 255.\n",
      "None\n",
      "Executing python function, producing output(s): C:/Users/asus/AppData/Local/pykoda/pykoda/cache/sl_TripUpdates_2022_12_14_20.feather.tmp\n",
      "Getting C:/Users/asus/AppData/Local/pykoda/pykoda/cache/sl_TripUpdates_2022_12_14_21.feather\n",
      "File or folder already exists, so skipping task: data (datafolder)\n",
      "File or folder already exists, so skipping task: C:/Users/asus/AppData/Local/pykoda/pykoda/cache/sl-tripupdates-2022-12-14.bz2 (file)\n",
      "System tool failed: Command '['7z', 'e', '-oC:/Users/asus/AppData/Local/pykoda/pykoda/cache/sl-tripupdates-2022-12-14', 'C:/Users/asus/AppData/Local/pykoda/pykoda/cache/sl-tripupdates-2022-12-14.bz2']' returned non-zero exit status 255.\n",
      "None\n",
      "Executing python function, producing output(s): C:/Users/asus/AppData/Local/pykoda/pykoda/cache/sl_TripUpdates_2022_12_14_21.feather.tmp\n",
      "Getting C:/Users/asus/AppData/Local/pykoda/pykoda/cache/sl_TripUpdates_2022_12_14_22.feather\n",
      "File or folder already exists, so skipping task: data (datafolder)\n",
      "File or folder already exists, so skipping task: C:/Users/asus/AppData/Local/pykoda/pykoda/cache/sl-tripupdates-2022-12-14.bz2 (file)\n",
      "System tool failed: Command '['7z', 'e', '-oC:/Users/asus/AppData/Local/pykoda/pykoda/cache/sl-tripupdates-2022-12-14', 'C:/Users/asus/AppData/Local/pykoda/pykoda/cache/sl-tripupdates-2022-12-14.bz2']' returned non-zero exit status 255.\n",
      "None\n",
      "Executing python function, producing output(s): C:/Users/asus/AppData/Local/pykoda/pykoda/cache/sl_TripUpdates_2022_12_14_22.feather.tmp\n",
      "Getting C:/Users/asus/AppData/Local/pykoda/pykoda/cache/sl_TripUpdates_2022_12_14_23.feather\n",
      "File or folder already exists, so skipping task: data (datafolder)\n",
      "File or folder already exists, so skipping task: C:/Users/asus/AppData/Local/pykoda/pykoda/cache/sl-tripupdates-2022-12-14.bz2 (file)\n",
      "System tool failed: Command '['7z', 'e', '-oC:/Users/asus/AppData/Local/pykoda/pykoda/cache/sl-tripupdates-2022-12-14', 'C:/Users/asus/AppData/Local/pykoda/pykoda/cache/sl-tripupdates-2022-12-14.bz2']' returned non-zero exit status 255.\n",
      "None\n",
      "Executing python function, producing output(s): C:/Users/asus/AppData/Local/pykoda/pykoda/cache/sl_TripUpdates_2022_12_14_23.feather.tmp\n"
     ]
    },
    {
     "name": "stderr",
     "output_type": "stream",
     "text": [
      "C:\\Users\\asus\\AppData\\Local\\Programs\\Python\\Python312\\Lib\\site-packages\\pykoda\\data\\datautils.py:90: RuntimeWarning: The API did not return data for 2022-12-14 23:00:00\n",
      "  warnings.warn(RuntimeWarning(f'The API did not return data for {date_hour}'))\n"
     ]
    },
    {
     "name": "stdout",
     "output_type": "stream",
     "text": [
      "Getting C:/Users/asus/AppData/Local/pykoda/pykoda/cache/sl_TripUpdates_2022_12_15_0.feather\n",
      "File or folder already exists, so skipping task: data (datafolder)\n",
      "Executing python function, producing output(s): C:/Users/asus/AppData/Local/pykoda/pykoda/cache/sl-tripupdates-2022-12-15.bz2.tmp\n"
     ]
    },
    {
     "name": "stderr",
     "output_type": "stream",
     "text": [
      "Loading data:  86%|█████████████████████████████████████████████████████████         | 311/360 [24:46<00:22,  2.16it/s]"
     ]
    },
    {
     "name": "stdout",
     "output_type": "stream",
     "text": [
      "C:/Users/asus/AppData/Local/pykoda/pykoda/cache/sl-tripupdates-2022-12-15.tar\n",
      "Executing python function, producing output(s): C:/Users/asus/AppData/Local/pykoda/pykoda/cache/sl_TripUpdates_2022_12_15_0.feather.tmp\n",
      "sl-tripupdates-2022-12-01T10\n"
     ]
    },
    {
     "name": "stderr",
     "output_type": "stream",
     "text": [
      "Loading data:  87%|█████████████████████████████████████████████████████████▍        | 313/360 [27:12<18:54, 24.14s/it]C:\\Users\\asus\\AppData\\Local\\Programs\\Python\\Python312\\Lib\\site-packages\\pykoda\\data\\datautils.py:90: RuntimeWarning: The API did not return data for 2022-12-15 01:00:00\n",
      "  warnings.warn(RuntimeWarning(f'The API did not return data for {date_hour}'))\n",
      "C:\\Users\\asus\\AppData\\Local\\Programs\\Python\\Python312\\Lib\\site-packages\\pykoda\\data\\datautils.py:90: RuntimeWarning: The API did not return data for 2022-12-15 02:00:00\n",
      "  warnings.warn(RuntimeWarning(f'The API did not return data for {date_hour}'))\n",
      "Loading data:  88%|█████████████████████████████████████████████████████████▊        | 315/360 [27:12<12:41, 16.92s/it]"
     ]
    },
    {
     "name": "stdout",
     "output_type": "stream",
     "text": [
      "Getting C:/Users/asus/AppData/Local/pykoda/pykoda/cache/sl_TripUpdates_2022_12_15_1.feather\n",
      "File or folder already exists, so skipping task: data (datafolder)\n",
      "File or folder already exists, so skipping task: C:/Users/asus/AppData/Local/pykoda/pykoda/cache/sl-tripupdates-2022-12-15.bz2 (file)\n",
      "System tool failed: Command '['7z', 'e', '-oC:/Users/asus/AppData/Local/pykoda/pykoda/cache/sl-tripupdates-2022-12-15', 'C:/Users/asus/AppData/Local/pykoda/pykoda/cache/sl-tripupdates-2022-12-15.bz2']' returned non-zero exit status 255.\n",
      "None\n",
      "Executing python function, producing output(s): C:/Users/asus/AppData/Local/pykoda/pykoda/cache/sl_TripUpdates_2022_12_15_1.feather.tmp\n",
      "Getting C:/Users/asus/AppData/Local/pykoda/pykoda/cache/sl_TripUpdates_2022_12_15_2.feather\n",
      "File or folder already exists, so skipping task: data (datafolder)\n",
      "File or folder already exists, so skipping task: C:/Users/asus/AppData/Local/pykoda/pykoda/cache/sl-tripupdates-2022-12-15.bz2 (file)\n",
      "System tool failed: Command '['7z', 'e', '-oC:/Users/asus/AppData/Local/pykoda/pykoda/cache/sl-tripupdates-2022-12-15', 'C:/Users/asus/AppData/Local/pykoda/pykoda/cache/sl-tripupdates-2022-12-15.bz2']' returned non-zero exit status 255.\n",
      "None\n",
      "Executing python function, producing output(s): C:/Users/asus/AppData/Local/pykoda/pykoda/cache/sl_TripUpdates_2022_12_15_2.feather.tmp\n",
      "Getting C:/Users/asus/AppData/Local/pykoda/pykoda/cache/sl_TripUpdates_2022_12_15_3.feather\n",
      "File or folder already exists, so skipping task: data (datafolder)\n",
      "File or folder already exists, so skipping task: C:/Users/asus/AppData/Local/pykoda/pykoda/cache/sl-tripupdates-2022-12-15.bz2 (file)\n"
     ]
    },
    {
     "name": "stderr",
     "output_type": "stream",
     "text": [
      "C:\\Users\\asus\\AppData\\Local\\Programs\\Python\\Python312\\Lib\\site-packages\\pykoda\\data\\datautils.py:90: RuntimeWarning: The API did not return data for 2022-12-15 03:00:00\n",
      "  warnings.warn(RuntimeWarning(f'The API did not return data for {date_hour}'))\n",
      "C:\\Users\\asus\\AppData\\Local\\Programs\\Python\\Python312\\Lib\\site-packages\\pykoda\\data\\datautils.py:90: RuntimeWarning: The API did not return data for 2022-12-15 04:00:00\n",
      "  warnings.warn(RuntimeWarning(f'The API did not return data for {date_hour}'))\n",
      "Loading data:  88%|██████████████████████████████████████████████████████████        | 317/360 [27:12<08:30, 11.87s/it]"
     ]
    },
    {
     "name": "stdout",
     "output_type": "stream",
     "text": [
      "System tool failed: Command '['7z', 'e', '-oC:/Users/asus/AppData/Local/pykoda/pykoda/cache/sl-tripupdates-2022-12-15', 'C:/Users/asus/AppData/Local/pykoda/pykoda/cache/sl-tripupdates-2022-12-15.bz2']' returned non-zero exit status 255.\n",
      "None\n",
      "Executing python function, producing output(s): C:/Users/asus/AppData/Local/pykoda/pykoda/cache/sl_TripUpdates_2022_12_15_3.feather.tmp\n",
      "Getting C:/Users/asus/AppData/Local/pykoda/pykoda/cache/sl_TripUpdates_2022_12_15_4.feather\n",
      "File or folder already exists, so skipping task: data (datafolder)\n",
      "File or folder already exists, so skipping task: C:/Users/asus/AppData/Local/pykoda/pykoda/cache/sl-tripupdates-2022-12-15.bz2 (file)\n",
      "System tool failed: Command '['7z', 'e', '-oC:/Users/asus/AppData/Local/pykoda/pykoda/cache/sl-tripupdates-2022-12-15', 'C:/Users/asus/AppData/Local/pykoda/pykoda/cache/sl-tripupdates-2022-12-15.bz2']' returned non-zero exit status 255.\n",
      "None\n",
      "Executing python function, producing output(s): C:/Users/asus/AppData/Local/pykoda/pykoda/cache/sl_TripUpdates_2022_12_15_4.feather.tmp\n",
      "Getting C:/Users/asus/AppData/Local/pykoda/pykoda/cache/sl_TripUpdates_2022_12_15_5.feather\n",
      "File or folder already exists, so skipping task: data (datafolder)\n",
      "File or folder already exists, so skipping task: C:/Users/asus/AppData/Local/pykoda/pykoda/cache/sl-tripupdates-2022-12-15.bz2 (file)\n",
      "System tool failed: Command '['7z', 'e', '-oC:/Users/asus/AppData/Local/pykoda/pykoda/cache/sl-tripupdates-2022-12-15', 'C:/Users/asus/AppData/Local/pykoda/pykoda/cache/sl-tripupdates-2022-12-15.bz2']' returned non-zero exit status 255.\n",
      "None\n",
      "Executing python function, producing output(s): C:/Users/asus/AppData/Local/pykoda/pykoda/cache/sl_TripUpdates_2022_12_15_5.feather.tmp\n",
      "Getting C:/Users/asus/AppData/Local/pykoda/pykoda/cache/sl_TripUpdates_2022_12_15_6.feather\n",
      "File or folder already exists, so skipping task: data (datafolder)\n",
      "File or folder already exists, so skipping task: C:/Users/asus/AppData/Local/pykoda/pykoda/cache/sl-tripupdates-2022-12-15.bz2 (file)\n"
     ]
    },
    {
     "name": "stderr",
     "output_type": "stream",
     "text": [
      "C:\\Users\\asus\\AppData\\Local\\Programs\\Python\\Python312\\Lib\\site-packages\\pykoda\\data\\datautils.py:90: RuntimeWarning: The API did not return data for 2022-12-15 05:00:00\n",
      "  warnings.warn(RuntimeWarning(f'The API did not return data for {date_hour}'))\n",
      "C:\\Users\\asus\\AppData\\Local\\Programs\\Python\\Python312\\Lib\\site-packages\\pykoda\\data\\datautils.py:90: RuntimeWarning: The API did not return data for 2022-12-15 06:00:00\n",
      "  warnings.warn(RuntimeWarning(f'The API did not return data for {date_hour}'))\n",
      "Loading data:  89%|██████████████████████████████████████████████████████████▍       | 319/360 [27:13<05:41,  8.33s/it]C:\\Users\\asus\\AppData\\Local\\Programs\\Python\\Python312\\Lib\\site-packages\\pykoda\\data\\datautils.py:90: RuntimeWarning: The API did not return data for 2022-12-15 07:00:00\n",
      "  warnings.warn(RuntimeWarning(f'The API did not return data for {date_hour}'))\n",
      "C:\\Users\\asus\\AppData\\Local\\Programs\\Python\\Python312\\Lib\\site-packages\\pykoda\\data\\datautils.py:90: RuntimeWarning: The API did not return data for 2022-12-15 08:00:00\n",
      "  warnings.warn(RuntimeWarning(f'The API did not return data for {date_hour}'))\n",
      "Loading data:  89%|██████████████████████████████████████████████████████████▊       | 321/360 [27:13<03:48,  5.86s/it]"
     ]
    },
    {
     "name": "stdout",
     "output_type": "stream",
     "text": [
      "System tool failed: Command '['7z', 'e', '-oC:/Users/asus/AppData/Local/pykoda/pykoda/cache/sl-tripupdates-2022-12-15', 'C:/Users/asus/AppData/Local/pykoda/pykoda/cache/sl-tripupdates-2022-12-15.bz2']' returned non-zero exit status 255.\n",
      "None\n",
      "Executing python function, producing output(s): C:/Users/asus/AppData/Local/pykoda/pykoda/cache/sl_TripUpdates_2022_12_15_6.feather.tmp\n",
      "Getting C:/Users/asus/AppData/Local/pykoda/pykoda/cache/sl_TripUpdates_2022_12_15_7.feather\n",
      "File or folder already exists, so skipping task: data (datafolder)\n",
      "File or folder already exists, so skipping task: C:/Users/asus/AppData/Local/pykoda/pykoda/cache/sl-tripupdates-2022-12-15.bz2 (file)\n",
      "System tool failed: Command '['7z', 'e', '-oC:/Users/asus/AppData/Local/pykoda/pykoda/cache/sl-tripupdates-2022-12-15', 'C:/Users/asus/AppData/Local/pykoda/pykoda/cache/sl-tripupdates-2022-12-15.bz2']' returned non-zero exit status 255.\n",
      "None\n",
      "Executing python function, producing output(s): C:/Users/asus/AppData/Local/pykoda/pykoda/cache/sl_TripUpdates_2022_12_15_7.feather.tmp\n",
      "Getting C:/Users/asus/AppData/Local/pykoda/pykoda/cache/sl_TripUpdates_2022_12_15_8.feather\n",
      "File or folder already exists, so skipping task: data (datafolder)\n",
      "File or folder already exists, so skipping task: C:/Users/asus/AppData/Local/pykoda/pykoda/cache/sl-tripupdates-2022-12-15.bz2 (file)\n",
      "System tool failed: Command '['7z', 'e', '-oC:/Users/asus/AppData/Local/pykoda/pykoda/cache/sl-tripupdates-2022-12-15', 'C:/Users/asus/AppData/Local/pykoda/pykoda/cache/sl-tripupdates-2022-12-15.bz2']' returned non-zero exit status 255.\n",
      "None\n",
      "Executing python function, producing output(s): C:/Users/asus/AppData/Local/pykoda/pykoda/cache/sl_TripUpdates_2022_12_15_8.feather.tmp\n",
      "Getting C:/Users/asus/AppData/Local/pykoda/pykoda/cache/sl_TripUpdates_2022_12_15_9.feather\n",
      "File or folder already exists, so skipping task: data (datafolder)\n",
      "File or folder already exists, so skipping task: C:/Users/asus/AppData/Local/pykoda/pykoda/cache/sl-tripupdates-2022-12-15.bz2 (file)\n"
     ]
    },
    {
     "name": "stderr",
     "output_type": "stream",
     "text": [
      "C:\\Users\\asus\\AppData\\Local\\Programs\\Python\\Python312\\Lib\\site-packages\\pykoda\\data\\datautils.py:90: RuntimeWarning: The API did not return data for 2022-12-15 09:00:00\n",
      "  warnings.warn(RuntimeWarning(f'The API did not return data for {date_hour}'))\n",
      "C:\\Users\\asus\\AppData\\Local\\Programs\\Python\\Python312\\Lib\\site-packages\\pykoda\\data\\datautils.py:90: RuntimeWarning: The API did not return data for 2022-12-15 10:00:00\n",
      "  warnings.warn(RuntimeWarning(f'The API did not return data for {date_hour}'))\n",
      "Loading data:  90%|███████████████████████████████████████████████████████████▏      | 323/360 [27:13<02:32,  4.12s/it]"
     ]
    },
    {
     "name": "stdout",
     "output_type": "stream",
     "text": [
      "System tool failed: Command '['7z', 'e', '-oC:/Users/asus/AppData/Local/pykoda/pykoda/cache/sl-tripupdates-2022-12-15', 'C:/Users/asus/AppData/Local/pykoda/pykoda/cache/sl-tripupdates-2022-12-15.bz2']' returned non-zero exit status 255.\n",
      "None\n",
      "Executing python function, producing output(s): C:/Users/asus/AppData/Local/pykoda/pykoda/cache/sl_TripUpdates_2022_12_15_9.feather.tmp\n",
      "Getting C:/Users/asus/AppData/Local/pykoda/pykoda/cache/sl_TripUpdates_2022_12_15_10.feather\n",
      "File or folder already exists, so skipping task: data (datafolder)\n",
      "File or folder already exists, so skipping task: C:/Users/asus/AppData/Local/pykoda/pykoda/cache/sl-tripupdates-2022-12-15.bz2 (file)\n",
      "System tool failed: Command '['7z', 'e', '-oC:/Users/asus/AppData/Local/pykoda/pykoda/cache/sl-tripupdates-2022-12-15', 'C:/Users/asus/AppData/Local/pykoda/pykoda/cache/sl-tripupdates-2022-12-15.bz2']' returned non-zero exit status 255.\n",
      "None\n",
      "Executing python function, producing output(s): C:/Users/asus/AppData/Local/pykoda/pykoda/cache/sl_TripUpdates_2022_12_15_10.feather.tmp\n",
      "Getting C:/Users/asus/AppData/Local/pykoda/pykoda/cache/sl_TripUpdates_2022_12_15_11.feather\n",
      "File or folder already exists, so skipping task: data (datafolder)\n",
      "File or folder already exists, so skipping task: C:/Users/asus/AppData/Local/pykoda/pykoda/cache/sl-tripupdates-2022-12-15.bz2 (file)\n",
      "System tool failed: Command '['7z', 'e', '-oC:/Users/asus/AppData/Local/pykoda/pykoda/cache/sl-tripupdates-2022-12-15', 'C:/Users/asus/AppData/Local/pykoda/pykoda/cache/sl-tripupdates-2022-12-15.bz2']' returned non-zero exit status 255.\n",
      "None\n",
      "Executing python function, producing output(s): C:/Users/asus/AppData/Local/pykoda/pykoda/cache/sl_TripUpdates_2022_12_15_11.feather.tmp\n",
      "Getting C:/Users/asus/AppData/Local/pykoda/pykoda/cache/sl_TripUpdates_2022_12_15_12.feather\n",
      "File or folder already exists, so skipping task: data (datafolder)\n",
      "File or folder already exists, so skipping task: C:/Users/asus/AppData/Local/pykoda/pykoda/cache/sl-tripupdates-2022-12-15.bz2 (file)\n"
     ]
    },
    {
     "name": "stderr",
     "output_type": "stream",
     "text": [
      "C:\\Users\\asus\\AppData\\Local\\Programs\\Python\\Python312\\Lib\\site-packages\\pykoda\\data\\datautils.py:90: RuntimeWarning: The API did not return data for 2022-12-15 11:00:00\n",
      "  warnings.warn(RuntimeWarning(f'The API did not return data for {date_hour}'))\n",
      "C:\\Users\\asus\\AppData\\Local\\Programs\\Python\\Python312\\Lib\\site-packages\\pykoda\\data\\datautils.py:90: RuntimeWarning: The API did not return data for 2022-12-15 12:00:00\n",
      "  warnings.warn(RuntimeWarning(f'The API did not return data for {date_hour}'))\n",
      "Loading data:  90%|███████████████████████████████████████████████████████████▌      | 325/360 [27:13<01:41,  2.91s/it]C:\\Users\\asus\\AppData\\Local\\Programs\\Python\\Python312\\Lib\\site-packages\\pykoda\\data\\datautils.py:90: RuntimeWarning: The API did not return data for 2022-12-15 13:00:00\n",
      "  warnings.warn(RuntimeWarning(f'The API did not return data for {date_hour}'))\n",
      "C:\\Users\\asus\\AppData\\Local\\Programs\\Python\\Python312\\Lib\\site-packages\\pykoda\\data\\datautils.py:90: RuntimeWarning: The API did not return data for 2022-12-15 14:00:00\n",
      "  warnings.warn(RuntimeWarning(f'The API did not return data for {date_hour}'))\n",
      "Loading data:  91%|███████████████████████████████████████████████████████████▉      | 327/360 [27:13<01:07,  2.06s/it]"
     ]
    },
    {
     "name": "stdout",
     "output_type": "stream",
     "text": [
      "System tool failed: Command '['7z', 'e', '-oC:/Users/asus/AppData/Local/pykoda/pykoda/cache/sl-tripupdates-2022-12-15', 'C:/Users/asus/AppData/Local/pykoda/pykoda/cache/sl-tripupdates-2022-12-15.bz2']' returned non-zero exit status 255.\n",
      "None\n",
      "Executing python function, producing output(s): C:/Users/asus/AppData/Local/pykoda/pykoda/cache/sl_TripUpdates_2022_12_15_12.feather.tmp\n",
      "Getting C:/Users/asus/AppData/Local/pykoda/pykoda/cache/sl_TripUpdates_2022_12_15_13.feather\n",
      "File or folder already exists, so skipping task: data (datafolder)\n",
      "File or folder already exists, so skipping task: C:/Users/asus/AppData/Local/pykoda/pykoda/cache/sl-tripupdates-2022-12-15.bz2 (file)\n",
      "System tool failed: Command '['7z', 'e', '-oC:/Users/asus/AppData/Local/pykoda/pykoda/cache/sl-tripupdates-2022-12-15', 'C:/Users/asus/AppData/Local/pykoda/pykoda/cache/sl-tripupdates-2022-12-15.bz2']' returned non-zero exit status 255.\n",
      "None\n",
      "Executing python function, producing output(s): C:/Users/asus/AppData/Local/pykoda/pykoda/cache/sl_TripUpdates_2022_12_15_13.feather.tmp\n",
      "Getting C:/Users/asus/AppData/Local/pykoda/pykoda/cache/sl_TripUpdates_2022_12_15_14.feather\n",
      "File or folder already exists, so skipping task: data (datafolder)\n",
      "File or folder already exists, so skipping task: C:/Users/asus/AppData/Local/pykoda/pykoda/cache/sl-tripupdates-2022-12-15.bz2 (file)\n",
      "System tool failed: Command '['7z', 'e', '-oC:/Users/asus/AppData/Local/pykoda/pykoda/cache/sl-tripupdates-2022-12-15', 'C:/Users/asus/AppData/Local/pykoda/pykoda/cache/sl-tripupdates-2022-12-15.bz2']' returned non-zero exit status 255.\n",
      "None\n",
      "Executing python function, producing output(s): C:/Users/asus/AppData/Local/pykoda/pykoda/cache/sl_TripUpdates_2022_12_15_14.feather.tmp\n",
      "Getting C:/Users/asus/AppData/Local/pykoda/pykoda/cache/sl_TripUpdates_2022_12_15_15.feather\n",
      "File or folder already exists, so skipping task: data (datafolder)\n",
      "File or folder already exists, so skipping task: C:/Users/asus/AppData/Local/pykoda/pykoda/cache/sl-tripupdates-2022-12-15.bz2 (file)\n"
     ]
    },
    {
     "name": "stderr",
     "output_type": "stream",
     "text": [
      "C:\\Users\\asus\\AppData\\Local\\Programs\\Python\\Python312\\Lib\\site-packages\\pykoda\\data\\datautils.py:90: RuntimeWarning: The API did not return data for 2022-12-15 15:00:00\n",
      "  warnings.warn(RuntimeWarning(f'The API did not return data for {date_hour}'))\n",
      "C:\\Users\\asus\\AppData\\Local\\Programs\\Python\\Python312\\Lib\\site-packages\\pykoda\\data\\datautils.py:90: RuntimeWarning: The API did not return data for 2022-12-15 16:00:00\n",
      "  warnings.warn(RuntimeWarning(f'The API did not return data for {date_hour}'))\n",
      "Loading data:  91%|████████████████████████████████████████████████████████████▎     | 329/360 [27:13<00:45,  1.46s/it]"
     ]
    },
    {
     "name": "stdout",
     "output_type": "stream",
     "text": [
      "System tool failed: Command '['7z', 'e', '-oC:/Users/asus/AppData/Local/pykoda/pykoda/cache/sl-tripupdates-2022-12-15', 'C:/Users/asus/AppData/Local/pykoda/pykoda/cache/sl-tripupdates-2022-12-15.bz2']' returned non-zero exit status 255.\n",
      "None\n",
      "Executing python function, producing output(s): C:/Users/asus/AppData/Local/pykoda/pykoda/cache/sl_TripUpdates_2022_12_15_15.feather.tmp\n",
      "Getting C:/Users/asus/AppData/Local/pykoda/pykoda/cache/sl_TripUpdates_2022_12_15_16.feather\n",
      "File or folder already exists, so skipping task: data (datafolder)\n",
      "File or folder already exists, so skipping task: C:/Users/asus/AppData/Local/pykoda/pykoda/cache/sl-tripupdates-2022-12-15.bz2 (file)\n",
      "System tool failed: Command '['7z', 'e', '-oC:/Users/asus/AppData/Local/pykoda/pykoda/cache/sl-tripupdates-2022-12-15', 'C:/Users/asus/AppData/Local/pykoda/pykoda/cache/sl-tripupdates-2022-12-15.bz2']' returned non-zero exit status 255.\n",
      "None\n",
      "Executing python function, producing output(s): C:/Users/asus/AppData/Local/pykoda/pykoda/cache/sl_TripUpdates_2022_12_15_16.feather.tmp\n",
      "Getting C:/Users/asus/AppData/Local/pykoda/pykoda/cache/sl_TripUpdates_2022_12_15_17.feather\n",
      "File or folder already exists, so skipping task: data (datafolder)\n",
      "File or folder already exists, so skipping task: C:/Users/asus/AppData/Local/pykoda/pykoda/cache/sl-tripupdates-2022-12-15.bz2 (file)\n",
      "System tool failed: Command '['7z', 'e', '-oC:/Users/asus/AppData/Local/pykoda/pykoda/cache/sl-tripupdates-2022-12-15', 'C:/Users/asus/AppData/Local/pykoda/pykoda/cache/sl-tripupdates-2022-12-15.bz2']' returned non-zero exit status 255.\n",
      "None\n",
      "Executing python function, producing output(s): C:/Users/asus/AppData/Local/pykoda/pykoda/cache/sl_TripUpdates_2022_12_15_17.feather.tmp\n",
      "Getting C:/Users/asus/AppData/Local/pykoda/pykoda/cache/sl_TripUpdates_2022_12_15_18.feather\n",
      "File or folder already exists, so skipping task: data (datafolder)\n",
      "File or folder already exists, so skipping task: C:/Users/asus/AppData/Local/pykoda/pykoda/cache/sl-tripupdates-2022-12-15.bz2 (file)\n"
     ]
    },
    {
     "name": "stderr",
     "output_type": "stream",
     "text": [
      "C:\\Users\\asus\\AppData\\Local\\Programs\\Python\\Python312\\Lib\\site-packages\\pykoda\\data\\datautils.py:90: RuntimeWarning: The API did not return data for 2022-12-15 17:00:00\n",
      "  warnings.warn(RuntimeWarning(f'The API did not return data for {date_hour}'))\n",
      "C:\\Users\\asus\\AppData\\Local\\Programs\\Python\\Python312\\Lib\\site-packages\\pykoda\\data\\datautils.py:90: RuntimeWarning: The API did not return data for 2022-12-15 18:00:00\n",
      "  warnings.warn(RuntimeWarning(f'The API did not return data for {date_hour}'))\n",
      "Loading data:  92%|████████████████████████████████████████████████████████████▋     | 331/360 [27:14<00:30,  1.04s/it]C:\\Users\\asus\\AppData\\Local\\Programs\\Python\\Python312\\Lib\\site-packages\\pykoda\\data\\datautils.py:90: RuntimeWarning: The API did not return data for 2022-12-15 19:00:00\n",
      "  warnings.warn(RuntimeWarning(f'The API did not return data for {date_hour}'))\n",
      "C:\\Users\\asus\\AppData\\Local\\Programs\\Python\\Python312\\Lib\\site-packages\\pykoda\\data\\datautils.py:90: RuntimeWarning: The API did not return data for 2022-12-15 20:00:00\n",
      "  warnings.warn(RuntimeWarning(f'The API did not return data for {date_hour}'))\n",
      "Loading data:  92%|█████████████████████████████████████████████████████████████     | 333/360 [27:14<00:20,  1.33it/s]"
     ]
    },
    {
     "name": "stdout",
     "output_type": "stream",
     "text": [
      "System tool failed: Command '['7z', 'e', '-oC:/Users/asus/AppData/Local/pykoda/pykoda/cache/sl-tripupdates-2022-12-15', 'C:/Users/asus/AppData/Local/pykoda/pykoda/cache/sl-tripupdates-2022-12-15.bz2']' returned non-zero exit status 255.\n",
      "None\n",
      "Executing python function, producing output(s): C:/Users/asus/AppData/Local/pykoda/pykoda/cache/sl_TripUpdates_2022_12_15_18.feather.tmp\n",
      "Getting C:/Users/asus/AppData/Local/pykoda/pykoda/cache/sl_TripUpdates_2022_12_15_19.feather\n",
      "File or folder already exists, so skipping task: data (datafolder)\n",
      "File or folder already exists, so skipping task: C:/Users/asus/AppData/Local/pykoda/pykoda/cache/sl-tripupdates-2022-12-15.bz2 (file)\n",
      "System tool failed: Command '['7z', 'e', '-oC:/Users/asus/AppData/Local/pykoda/pykoda/cache/sl-tripupdates-2022-12-15', 'C:/Users/asus/AppData/Local/pykoda/pykoda/cache/sl-tripupdates-2022-12-15.bz2']' returned non-zero exit status 255.\n",
      "None\n",
      "Executing python function, producing output(s): C:/Users/asus/AppData/Local/pykoda/pykoda/cache/sl_TripUpdates_2022_12_15_19.feather.tmp\n",
      "Getting C:/Users/asus/AppData/Local/pykoda/pykoda/cache/sl_TripUpdates_2022_12_15_20.feather\n",
      "File or folder already exists, so skipping task: data (datafolder)\n",
      "File or folder already exists, so skipping task: C:/Users/asus/AppData/Local/pykoda/pykoda/cache/sl-tripupdates-2022-12-15.bz2 (file)\n",
      "System tool failed: Command '['7z', 'e', '-oC:/Users/asus/AppData/Local/pykoda/pykoda/cache/sl-tripupdates-2022-12-15', 'C:/Users/asus/AppData/Local/pykoda/pykoda/cache/sl-tripupdates-2022-12-15.bz2']' returned non-zero exit status 255.\n",
      "None\n",
      "Executing python function, producing output(s): C:/Users/asus/AppData/Local/pykoda/pykoda/cache/sl_TripUpdates_2022_12_15_20.feather.tmp\n",
      "Getting C:/Users/asus/AppData/Local/pykoda/pykoda/cache/sl_TripUpdates_2022_12_15_21.feather\n",
      "File or folder already exists, so skipping task: data (datafolder)\n",
      "File or folder already exists, so skipping task: C:/Users/asus/AppData/Local/pykoda/pykoda/cache/sl-tripupdates-2022-12-15.bz2 (file)\n"
     ]
    },
    {
     "name": "stderr",
     "output_type": "stream",
     "text": [
      "C:\\Users\\asus\\AppData\\Local\\Programs\\Python\\Python312\\Lib\\site-packages\\pykoda\\data\\datautils.py:90: RuntimeWarning: The API did not return data for 2022-12-15 21:00:00\n",
      "  warnings.warn(RuntimeWarning(f'The API did not return data for {date_hour}'))\n",
      "C:\\Users\\asus\\AppData\\Local\\Programs\\Python\\Python312\\Lib\\site-packages\\pykoda\\data\\datautils.py:90: RuntimeWarning: The API did not return data for 2022-12-15 22:00:00\n",
      "  warnings.warn(RuntimeWarning(f'The API did not return data for {date_hour}'))\n",
      "Loading data:  93%|█████████████████████████████████████████████████████████████▍    | 335/360 [27:14<00:13,  1.80it/s]"
     ]
    },
    {
     "name": "stdout",
     "output_type": "stream",
     "text": [
      "System tool failed: Command '['7z', 'e', '-oC:/Users/asus/AppData/Local/pykoda/pykoda/cache/sl-tripupdates-2022-12-15', 'C:/Users/asus/AppData/Local/pykoda/pykoda/cache/sl-tripupdates-2022-12-15.bz2']' returned non-zero exit status 255.\n",
      "None\n",
      "Executing python function, producing output(s): C:/Users/asus/AppData/Local/pykoda/pykoda/cache/sl_TripUpdates_2022_12_15_21.feather.tmp\n",
      "Getting C:/Users/asus/AppData/Local/pykoda/pykoda/cache/sl_TripUpdates_2022_12_15_22.feather\n",
      "File or folder already exists, so skipping task: data (datafolder)\n",
      "File or folder already exists, so skipping task: C:/Users/asus/AppData/Local/pykoda/pykoda/cache/sl-tripupdates-2022-12-15.bz2 (file)\n",
      "System tool failed: Command '['7z', 'e', '-oC:/Users/asus/AppData/Local/pykoda/pykoda/cache/sl-tripupdates-2022-12-15', 'C:/Users/asus/AppData/Local/pykoda/pykoda/cache/sl-tripupdates-2022-12-15.bz2']' returned non-zero exit status 255.\n",
      "None\n",
      "Executing python function, producing output(s): C:/Users/asus/AppData/Local/pykoda/pykoda/cache/sl_TripUpdates_2022_12_15_22.feather.tmp\n",
      "Getting C:/Users/asus/AppData/Local/pykoda/pykoda/cache/sl_TripUpdates_2022_12_15_23.feather\n",
      "File or folder already exists, so skipping task: data (datafolder)\n",
      "File or folder already exists, so skipping task: C:/Users/asus/AppData/Local/pykoda/pykoda/cache/sl-tripupdates-2022-12-15.bz2 (file)\n",
      "System tool failed: Command '['7z', 'e', '-oC:/Users/asus/AppData/Local/pykoda/pykoda/cache/sl-tripupdates-2022-12-15', 'C:/Users/asus/AppData/Local/pykoda/pykoda/cache/sl-tripupdates-2022-12-15.bz2']' returned non-zero exit status 255.\n",
      "None\n",
      "Executing python function, producing output(s): C:/Users/asus/AppData/Local/pykoda/pykoda/cache/sl_TripUpdates_2022_12_15_23.feather.tmp\n"
     ]
    },
    {
     "name": "stderr",
     "output_type": "stream",
     "text": [
      "C:\\Users\\asus\\AppData\\Local\\Programs\\Python\\Python312\\Lib\\site-packages\\pykoda\\data\\datautils.py:90: RuntimeWarning: The API did not return data for 2022-12-15 23:00:00\n",
      "  warnings.warn(RuntimeWarning(f'The API did not return data for {date_hour}'))\n"
     ]
    },
    {
     "name": "stdout",
     "output_type": "stream",
     "text": [
      "Getting C:/Users/asus/AppData/Local/pykoda/pykoda/cache/sl_TripUpdates_2022_12_16_0.feather\n",
      "File or folder already exists, so skipping task: data (datafolder)\n",
      "Executing python function, producing output(s): C:/Users/asus/AppData/Local/pykoda/pykoda/cache/sl-tripupdates-2022-12-16.bz2.tmp\n"
     ]
    },
    {
     "name": "stderr",
     "output_type": "stream",
     "text": [
      "Loading data:  93%|█████████████████████████████████████████████████████████████▍    | 335/360 [27:27<00:13,  1.80it/s]"
     ]
    },
    {
     "name": "stdout",
     "output_type": "stream",
     "text": [
      "C:/Users/asus/AppData/Local/pykoda/pykoda/cache/sl-tripupdates-2022-12-16.tar\n",
      "Executing python function, producing output(s): C:/Users/asus/AppData/Local/pykoda/pykoda/cache/sl_TripUpdates_2022_12_16_0.feather.tmp\n",
      "sl-tripupdates-2022-12-01T10\n"
     ]
    },
    {
     "name": "stderr",
     "output_type": "stream",
     "text": [
      "Loading data:  94%|█████████████████████████████████████████████████████████████▊    | 337/360 [29:43<08:44, 22.82s/it]C:\\Users\\asus\\AppData\\Local\\Programs\\Python\\Python312\\Lib\\site-packages\\pykoda\\data\\datautils.py:90: RuntimeWarning: The API did not return data for 2022-12-16 01:00:00\n",
      "  warnings.warn(RuntimeWarning(f'The API did not return data for {date_hour}'))\n",
      "C:\\Users\\asus\\AppData\\Local\\Programs\\Python\\Python312\\Lib\\site-packages\\pykoda\\data\\datautils.py:90: RuntimeWarning: The API did not return data for 2022-12-16 02:00:00\n",
      "  warnings.warn(RuntimeWarning(f'The API did not return data for {date_hour}'))\n",
      "Loading data:  94%|██████████████████████████████████████████████████████████████▏   | 339/360 [29:44<05:35, 15.99s/it]C:\\Users\\asus\\AppData\\Local\\Programs\\Python\\Python312\\Lib\\site-packages\\pykoda\\data\\datautils.py:90: RuntimeWarning: The API did not return data for 2022-12-16 03:00:00\n",
      "  warnings.warn(RuntimeWarning(f'The API did not return data for {date_hour}'))\n"
     ]
    },
    {
     "name": "stdout",
     "output_type": "stream",
     "text": [
      "Getting C:/Users/asus/AppData/Local/pykoda/pykoda/cache/sl_TripUpdates_2022_12_16_1.feather\n",
      "File or folder already exists, so skipping task: data (datafolder)\n",
      "File or folder already exists, so skipping task: C:/Users/asus/AppData/Local/pykoda/pykoda/cache/sl-tripupdates-2022-12-16.bz2 (file)\n",
      "System tool failed: Command '['7z', 'e', '-oC:/Users/asus/AppData/Local/pykoda/pykoda/cache/sl-tripupdates-2022-12-16', 'C:/Users/asus/AppData/Local/pykoda/pykoda/cache/sl-tripupdates-2022-12-16.bz2']' returned non-zero exit status 255.\n",
      "None\n",
      "Executing python function, producing output(s): C:/Users/asus/AppData/Local/pykoda/pykoda/cache/sl_TripUpdates_2022_12_16_1.feather.tmp\n",
      "Getting C:/Users/asus/AppData/Local/pykoda/pykoda/cache/sl_TripUpdates_2022_12_16_2.feather\n",
      "File or folder already exists, so skipping task: data (datafolder)\n",
      "File or folder already exists, so skipping task: C:/Users/asus/AppData/Local/pykoda/pykoda/cache/sl-tripupdates-2022-12-16.bz2 (file)\n",
      "System tool failed: Command '['7z', 'e', '-oC:/Users/asus/AppData/Local/pykoda/pykoda/cache/sl-tripupdates-2022-12-16', 'C:/Users/asus/AppData/Local/pykoda/pykoda/cache/sl-tripupdates-2022-12-16.bz2']' returned non-zero exit status 255.\n",
      "None\n",
      "Executing python function, producing output(s): C:/Users/asus/AppData/Local/pykoda/pykoda/cache/sl_TripUpdates_2022_12_16_2.feather.tmp\n",
      "Getting C:/Users/asus/AppData/Local/pykoda/pykoda/cache/sl_TripUpdates_2022_12_16_3.feather\n",
      "File or folder already exists, so skipping task: data (datafolder)\n",
      "File or folder already exists, so skipping task: C:/Users/asus/AppData/Local/pykoda/pykoda/cache/sl-tripupdates-2022-12-16.bz2 (file)\n",
      "System tool failed: Command '['7z', 'e', '-oC:/Users/asus/AppData/Local/pykoda/pykoda/cache/sl-tripupdates-2022-12-16', 'C:/Users/asus/AppData/Local/pykoda/pykoda/cache/sl-tripupdates-2022-12-16.bz2']' returned non-zero exit status 255.\n",
      "None\n",
      "Executing python function, producing output(s): C:/Users/asus/AppData/Local/pykoda/pykoda/cache/sl_TripUpdates_2022_12_16_3.feather.tmp\n",
      "Getting C:/Users/asus/AppData/Local/pykoda/pykoda/cache/sl_TripUpdates_2022_12_16_4.feather\n",
      "File or folder already exists, so skipping task: data (datafolder)\n",
      "File or folder already exists, so skipping task: C:/Users/asus/AppData/Local/pykoda/pykoda/cache/sl-tripupdates-2022-12-16.bz2 (file)\n"
     ]
    },
    {
     "name": "stderr",
     "output_type": "stream",
     "text": [
      "C:\\Users\\asus\\AppData\\Local\\Programs\\Python\\Python312\\Lib\\site-packages\\pykoda\\data\\datautils.py:90: RuntimeWarning: The API did not return data for 2022-12-16 04:00:00\n",
      "  warnings.warn(RuntimeWarning(f'The API did not return data for {date_hour}'))\n",
      "Loading data:  95%|██████████████████████████████████████████████████████████████▌   | 341/360 [29:44<03:33, 11.22s/it]C:\\Users\\asus\\AppData\\Local\\Programs\\Python\\Python312\\Lib\\site-packages\\pykoda\\data\\datautils.py:90: RuntimeWarning: The API did not return data for 2022-12-16 05:00:00\n",
      "  warnings.warn(RuntimeWarning(f'The API did not return data for {date_hour}'))\n",
      "C:\\Users\\asus\\AppData\\Local\\Programs\\Python\\Python312\\Lib\\site-packages\\pykoda\\data\\datautils.py:90: RuntimeWarning: The API did not return data for 2022-12-16 06:00:00\n",
      "  warnings.warn(RuntimeWarning(f'The API did not return data for {date_hour}'))\n",
      "Loading data:  95%|██████████████████████████████████████████████████████████████▉   | 343/360 [29:44<02:13,  7.87s/it]"
     ]
    },
    {
     "name": "stdout",
     "output_type": "stream",
     "text": [
      "System tool failed: Command '['7z', 'e', '-oC:/Users/asus/AppData/Local/pykoda/pykoda/cache/sl-tripupdates-2022-12-16', 'C:/Users/asus/AppData/Local/pykoda/pykoda/cache/sl-tripupdates-2022-12-16.bz2']' returned non-zero exit status 255.\n",
      "None\n",
      "Executing python function, producing output(s): C:/Users/asus/AppData/Local/pykoda/pykoda/cache/sl_TripUpdates_2022_12_16_4.feather.tmp\n",
      "Getting C:/Users/asus/AppData/Local/pykoda/pykoda/cache/sl_TripUpdates_2022_12_16_5.feather\n",
      "File or folder already exists, so skipping task: data (datafolder)\n",
      "File or folder already exists, so skipping task: C:/Users/asus/AppData/Local/pykoda/pykoda/cache/sl-tripupdates-2022-12-16.bz2 (file)\n",
      "System tool failed: Command '['7z', 'e', '-oC:/Users/asus/AppData/Local/pykoda/pykoda/cache/sl-tripupdates-2022-12-16', 'C:/Users/asus/AppData/Local/pykoda/pykoda/cache/sl-tripupdates-2022-12-16.bz2']' returned non-zero exit status 255.\n",
      "None\n",
      "Executing python function, producing output(s): C:/Users/asus/AppData/Local/pykoda/pykoda/cache/sl_TripUpdates_2022_12_16_5.feather.tmp\n",
      "Getting C:/Users/asus/AppData/Local/pykoda/pykoda/cache/sl_TripUpdates_2022_12_16_6.feather\n",
      "File or folder already exists, so skipping task: data (datafolder)\n",
      "File or folder already exists, so skipping task: C:/Users/asus/AppData/Local/pykoda/pykoda/cache/sl-tripupdates-2022-12-16.bz2 (file)\n",
      "System tool failed: Command '['7z', 'e', '-oC:/Users/asus/AppData/Local/pykoda/pykoda/cache/sl-tripupdates-2022-12-16', 'C:/Users/asus/AppData/Local/pykoda/pykoda/cache/sl-tripupdates-2022-12-16.bz2']' returned non-zero exit status 255.\n",
      "None\n",
      "Executing python function, producing output(s): C:/Users/asus/AppData/Local/pykoda/pykoda/cache/sl_TripUpdates_2022_12_16_6.feather.tmp\n",
      "Getting C:/Users/asus/AppData/Local/pykoda/pykoda/cache/sl_TripUpdates_2022_12_16_7.feather\n",
      "File or folder already exists, so skipping task: data (datafolder)\n",
      "File or folder already exists, so skipping task: C:/Users/asus/AppData/Local/pykoda/pykoda/cache/sl-tripupdates-2022-12-16.bz2 (file)\n"
     ]
    },
    {
     "name": "stderr",
     "output_type": "stream",
     "text": [
      "C:\\Users\\asus\\AppData\\Local\\Programs\\Python\\Python312\\Lib\\site-packages\\pykoda\\data\\datautils.py:90: RuntimeWarning: The API did not return data for 2022-12-16 07:00:00\n",
      "  warnings.warn(RuntimeWarning(f'The API did not return data for {date_hour}'))\n",
      "C:\\Users\\asus\\AppData\\Local\\Programs\\Python\\Python312\\Lib\\site-packages\\pykoda\\data\\datautils.py:90: RuntimeWarning: The API did not return data for 2022-12-16 08:00:00\n",
      "  warnings.warn(RuntimeWarning(f'The API did not return data for {date_hour}'))\n",
      "Loading data:  96%|███████████████████████████████████████████████████████████████▎  | 345/360 [29:44<01:23,  5.53s/it]C:\\Users\\asus\\AppData\\Local\\Programs\\Python\\Python312\\Lib\\site-packages\\pykoda\\data\\datautils.py:90: RuntimeWarning: The API did not return data for 2022-12-16 09:00:00\n",
      "  warnings.warn(RuntimeWarning(f'The API did not return data for {date_hour}'))\n",
      "C:\\Users\\asus\\AppData\\Local\\Programs\\Python\\Python312\\Lib\\site-packages\\pykoda\\data\\datautils.py:90: RuntimeWarning: The API did not return data for 2022-12-16 10:00:00\n",
      "  warnings.warn(RuntimeWarning(f'The API did not return data for {date_hour}'))\n",
      "Loading data:  96%|███████████████████████████████████████████████████████████████▌  | 347/360 [29:44<00:50,  3.89s/it]"
     ]
    },
    {
     "name": "stdout",
     "output_type": "stream",
     "text": [
      "System tool failed: Command '['7z', 'e', '-oC:/Users/asus/AppData/Local/pykoda/pykoda/cache/sl-tripupdates-2022-12-16', 'C:/Users/asus/AppData/Local/pykoda/pykoda/cache/sl-tripupdates-2022-12-16.bz2']' returned non-zero exit status 255.\n",
      "None\n",
      "Executing python function, producing output(s): C:/Users/asus/AppData/Local/pykoda/pykoda/cache/sl_TripUpdates_2022_12_16_7.feather.tmp\n",
      "Getting C:/Users/asus/AppData/Local/pykoda/pykoda/cache/sl_TripUpdates_2022_12_16_8.feather\n",
      "File or folder already exists, so skipping task: data (datafolder)\n",
      "File or folder already exists, so skipping task: C:/Users/asus/AppData/Local/pykoda/pykoda/cache/sl-tripupdates-2022-12-16.bz2 (file)\n",
      "System tool failed: Command '['7z', 'e', '-oC:/Users/asus/AppData/Local/pykoda/pykoda/cache/sl-tripupdates-2022-12-16', 'C:/Users/asus/AppData/Local/pykoda/pykoda/cache/sl-tripupdates-2022-12-16.bz2']' returned non-zero exit status 255.\n",
      "None\n",
      "Executing python function, producing output(s): C:/Users/asus/AppData/Local/pykoda/pykoda/cache/sl_TripUpdates_2022_12_16_8.feather.tmp\n",
      "Getting C:/Users/asus/AppData/Local/pykoda/pykoda/cache/sl_TripUpdates_2022_12_16_9.feather\n",
      "File or folder already exists, so skipping task: data (datafolder)\n",
      "File or folder already exists, so skipping task: C:/Users/asus/AppData/Local/pykoda/pykoda/cache/sl-tripupdates-2022-12-16.bz2 (file)\n",
      "System tool failed: Command '['7z', 'e', '-oC:/Users/asus/AppData/Local/pykoda/pykoda/cache/sl-tripupdates-2022-12-16', 'C:/Users/asus/AppData/Local/pykoda/pykoda/cache/sl-tripupdates-2022-12-16.bz2']' returned non-zero exit status 255.\n",
      "None\n",
      "Executing python function, producing output(s): C:/Users/asus/AppData/Local/pykoda/pykoda/cache/sl_TripUpdates_2022_12_16_9.feather.tmp\n",
      "Getting C:/Users/asus/AppData/Local/pykoda/pykoda/cache/sl_TripUpdates_2022_12_16_10.feather\n",
      "File or folder already exists, so skipping task: data (datafolder)\n",
      "File or folder already exists, so skipping task: C:/Users/asus/AppData/Local/pykoda/pykoda/cache/sl-tripupdates-2022-12-16.bz2 (file)\n",
      "System tool failed: Command '['7z', 'e', '-oC:/Users/asus/AppData/Local/pykoda/pykoda/cache/sl-tripupdates-2022-12-16', 'C:/Users/asus/AppData/Local/pykoda/pykoda/cache/sl-tripupdates-2022-12-16.bz2']' returned non-zero exit status 255.\n",
      "None\n",
      "Executing python function, producing output(s): C:/Users/asus/AppData/Local/pykoda/pykoda/cache/sl_TripUpdates_2022_12_16_10.feather.tmp\n"
     ]
    },
    {
     "name": "stderr",
     "output_type": "stream",
     "text": [
      "C:\\Users\\asus\\AppData\\Local\\Programs\\Python\\Python312\\Lib\\site-packages\\pykoda\\data\\datautils.py:90: RuntimeWarning: The API did not return data for 2022-12-16 11:00:00\n",
      "  warnings.warn(RuntimeWarning(f'The API did not return data for {date_hour}'))\n",
      "C:\\Users\\asus\\AppData\\Local\\Programs\\Python\\Python312\\Lib\\site-packages\\pykoda\\data\\datautils.py:90: RuntimeWarning: The API did not return data for 2022-12-16 12:00:00\n",
      "  warnings.warn(RuntimeWarning(f'The API did not return data for {date_hour}'))\n",
      "Loading data:  97%|███████████████████████████████████████████████████████████████▉  | 349/360 [29:44<00:30,  2.75s/it]"
     ]
    },
    {
     "name": "stdout",
     "output_type": "stream",
     "text": [
      "Getting C:/Users/asus/AppData/Local/pykoda/pykoda/cache/sl_TripUpdates_2022_12_16_11.feather\n",
      "File or folder already exists, so skipping task: data (datafolder)\n",
      "File or folder already exists, so skipping task: C:/Users/asus/AppData/Local/pykoda/pykoda/cache/sl-tripupdates-2022-12-16.bz2 (file)\n",
      "System tool failed: Command '['7z', 'e', '-oC:/Users/asus/AppData/Local/pykoda/pykoda/cache/sl-tripupdates-2022-12-16', 'C:/Users/asus/AppData/Local/pykoda/pykoda/cache/sl-tripupdates-2022-12-16.bz2']' returned non-zero exit status 255.\n",
      "None\n",
      "Executing python function, producing output(s): C:/Users/asus/AppData/Local/pykoda/pykoda/cache/sl_TripUpdates_2022_12_16_11.feather.tmp\n",
      "Getting C:/Users/asus/AppData/Local/pykoda/pykoda/cache/sl_TripUpdates_2022_12_16_12.feather\n",
      "File or folder already exists, so skipping task: data (datafolder)\n",
      "File or folder already exists, so skipping task: C:/Users/asus/AppData/Local/pykoda/pykoda/cache/sl-tripupdates-2022-12-16.bz2 (file)\n",
      "System tool failed: Command '['7z', 'e', '-oC:/Users/asus/AppData/Local/pykoda/pykoda/cache/sl-tripupdates-2022-12-16', 'C:/Users/asus/AppData/Local/pykoda/pykoda/cache/sl-tripupdates-2022-12-16.bz2']' returned non-zero exit status 255.\n",
      "None\n",
      "Executing python function, producing output(s): C:/Users/asus/AppData/Local/pykoda/pykoda/cache/sl_TripUpdates_2022_12_16_12.feather.tmp\n",
      "Getting C:/Users/asus/AppData/Local/pykoda/pykoda/cache/sl_TripUpdates_2022_12_16_13.feather\n",
      "File or folder already exists, so skipping task: data (datafolder)\n",
      "File or folder already exists, so skipping task: C:/Users/asus/AppData/Local/pykoda/pykoda/cache/sl-tripupdates-2022-12-16.bz2 (file)\n"
     ]
    },
    {
     "name": "stderr",
     "output_type": "stream",
     "text": [
      "C:\\Users\\asus\\AppData\\Local\\Programs\\Python\\Python312\\Lib\\site-packages\\pykoda\\data\\datautils.py:90: RuntimeWarning: The API did not return data for 2022-12-16 13:00:00\n",
      "  warnings.warn(RuntimeWarning(f'The API did not return data for {date_hour}'))\n",
      "C:\\Users\\asus\\AppData\\Local\\Programs\\Python\\Python312\\Lib\\site-packages\\pykoda\\data\\datautils.py:90: RuntimeWarning: The API did not return data for 2022-12-16 14:00:00\n",
      "  warnings.warn(RuntimeWarning(f'The API did not return data for {date_hour}'))\n",
      "Loading data:  98%|████████████████████████████████████████████████████████████████▎ | 351/360 [29:44<00:17,  1.95s/it]C:\\Users\\asus\\AppData\\Local\\Programs\\Python\\Python312\\Lib\\site-packages\\pykoda\\data\\datautils.py:90: RuntimeWarning: The API did not return data for 2022-12-16 15:00:00\n",
      "  warnings.warn(RuntimeWarning(f'The API did not return data for {date_hour}'))\n"
     ]
    },
    {
     "name": "stdout",
     "output_type": "stream",
     "text": [
      "System tool failed: Command '['7z', 'e', '-oC:/Users/asus/AppData/Local/pykoda/pykoda/cache/sl-tripupdates-2022-12-16', 'C:/Users/asus/AppData/Local/pykoda/pykoda/cache/sl-tripupdates-2022-12-16.bz2']' returned non-zero exit status 255.\n",
      "None\n",
      "Executing python function, producing output(s): C:/Users/asus/AppData/Local/pykoda/pykoda/cache/sl_TripUpdates_2022_12_16_13.feather.tmp\n",
      "Getting C:/Users/asus/AppData/Local/pykoda/pykoda/cache/sl_TripUpdates_2022_12_16_14.feather\n",
      "File or folder already exists, so skipping task: data (datafolder)\n",
      "File or folder already exists, so skipping task: C:/Users/asus/AppData/Local/pykoda/pykoda/cache/sl-tripupdates-2022-12-16.bz2 (file)\n",
      "System tool failed: Command '['7z', 'e', '-oC:/Users/asus/AppData/Local/pykoda/pykoda/cache/sl-tripupdates-2022-12-16', 'C:/Users/asus/AppData/Local/pykoda/pykoda/cache/sl-tripupdates-2022-12-16.bz2']' returned non-zero exit status 255.\n",
      "None\n",
      "Executing python function, producing output(s): C:/Users/asus/AppData/Local/pykoda/pykoda/cache/sl_TripUpdates_2022_12_16_14.feather.tmp\n",
      "Getting C:/Users/asus/AppData/Local/pykoda/pykoda/cache/sl_TripUpdates_2022_12_16_15.feather\n",
      "File or folder already exists, so skipping task: data (datafolder)\n",
      "File or folder already exists, so skipping task: C:/Users/asus/AppData/Local/pykoda/pykoda/cache/sl-tripupdates-2022-12-16.bz2 (file)\n",
      "System tool failed: Command '['7z', 'e', '-oC:/Users/asus/AppData/Local/pykoda/pykoda/cache/sl-tripupdates-2022-12-16', 'C:/Users/asus/AppData/Local/pykoda/pykoda/cache/sl-tripupdates-2022-12-16.bz2']' returned non-zero exit status 255.\n",
      "None\n",
      "Executing python function, producing output(s): C:/Users/asus/AppData/Local/pykoda/pykoda/cache/sl_TripUpdates_2022_12_16_15.feather.tmp\n",
      "Getting C:/Users/asus/AppData/Local/pykoda/pykoda/cache/sl_TripUpdates_2022_12_16_16.feather\n",
      "File or folder already exists, so skipping task: data (datafolder)\n",
      "File or folder already exists, so skipping task: C:/Users/asus/AppData/Local/pykoda/pykoda/cache/sl-tripupdates-2022-12-16.bz2 (file)\n"
     ]
    },
    {
     "name": "stderr",
     "output_type": "stream",
     "text": [
      "C:\\Users\\asus\\AppData\\Local\\Programs\\Python\\Python312\\Lib\\site-packages\\pykoda\\data\\datautils.py:90: RuntimeWarning: The API did not return data for 2022-12-16 16:00:00\n",
      "  warnings.warn(RuntimeWarning(f'The API did not return data for {date_hour}'))\n",
      "Loading data:  98%|████████████████████████████████████████████████████████████████▋ | 353/360 [29:45<00:09,  1.38s/it]C:\\Users\\asus\\AppData\\Local\\Programs\\Python\\Python312\\Lib\\site-packages\\pykoda\\data\\datautils.py:90: RuntimeWarning: The API did not return data for 2022-12-16 17:00:00\n",
      "  warnings.warn(RuntimeWarning(f'The API did not return data for {date_hour}'))\n",
      "C:\\Users\\asus\\AppData\\Local\\Programs\\Python\\Python312\\Lib\\site-packages\\pykoda\\data\\datautils.py:90: RuntimeWarning: The API did not return data for 2022-12-16 18:00:00\n",
      "  warnings.warn(RuntimeWarning(f'The API did not return data for {date_hour}'))\n",
      "Loading data:  99%|█████████████████████████████████████████████████████████████████ | 355/360 [29:45<00:04,  1.01it/s]"
     ]
    },
    {
     "name": "stdout",
     "output_type": "stream",
     "text": [
      "System tool failed: Command '['7z', 'e', '-oC:/Users/asus/AppData/Local/pykoda/pykoda/cache/sl-tripupdates-2022-12-16', 'C:/Users/asus/AppData/Local/pykoda/pykoda/cache/sl-tripupdates-2022-12-16.bz2']' returned non-zero exit status 255.\n",
      "None\n",
      "Executing python function, producing output(s): C:/Users/asus/AppData/Local/pykoda/pykoda/cache/sl_TripUpdates_2022_12_16_16.feather.tmp\n",
      "Getting C:/Users/asus/AppData/Local/pykoda/pykoda/cache/sl_TripUpdates_2022_12_16_17.feather\n",
      "File or folder already exists, so skipping task: data (datafolder)\n",
      "File or folder already exists, so skipping task: C:/Users/asus/AppData/Local/pykoda/pykoda/cache/sl-tripupdates-2022-12-16.bz2 (file)\n",
      "System tool failed: Command '['7z', 'e', '-oC:/Users/asus/AppData/Local/pykoda/pykoda/cache/sl-tripupdates-2022-12-16', 'C:/Users/asus/AppData/Local/pykoda/pykoda/cache/sl-tripupdates-2022-12-16.bz2']' returned non-zero exit status 255.\n",
      "None\n",
      "Executing python function, producing output(s): C:/Users/asus/AppData/Local/pykoda/pykoda/cache/sl_TripUpdates_2022_12_16_17.feather.tmp\n",
      "Getting C:/Users/asus/AppData/Local/pykoda/pykoda/cache/sl_TripUpdates_2022_12_16_18.feather\n",
      "File or folder already exists, so skipping task: data (datafolder)\n",
      "File or folder already exists, so skipping task: C:/Users/asus/AppData/Local/pykoda/pykoda/cache/sl-tripupdates-2022-12-16.bz2 (file)\n",
      "System tool failed: Command '['7z', 'e', '-oC:/Users/asus/AppData/Local/pykoda/pykoda/cache/sl-tripupdates-2022-12-16', 'C:/Users/asus/AppData/Local/pykoda/pykoda/cache/sl-tripupdates-2022-12-16.bz2']' returned non-zero exit status 255.\n",
      "None\n",
      "Executing python function, producing output(s): C:/Users/asus/AppData/Local/pykoda/pykoda/cache/sl_TripUpdates_2022_12_16_18.feather.tmp\n",
      "Getting C:/Users/asus/AppData/Local/pykoda/pykoda/cache/sl_TripUpdates_2022_12_16_19.feather\n",
      "File or folder already exists, so skipping task: data (datafolder)\n",
      "File or folder already exists, so skipping task: C:/Users/asus/AppData/Local/pykoda/pykoda/cache/sl-tripupdates-2022-12-16.bz2 (file)\n",
      "System tool failed: Command '['7z', 'e', '-oC:/Users/asus/AppData/Local/pykoda/pykoda/cache/sl-tripupdates-2022-12-16', 'C:/Users/asus/AppData/Local/pykoda/pykoda/cache/sl-tripupdates-2022-12-16.bz2']' returned non-zero exit status 255.\n",
      "None\n",
      "Executing python function, producing output(s): C:/Users/asus/AppData/Local/pykoda/pykoda/cache/sl_TripUpdates_2022_12_16_19.feather.tmp\n"
     ]
    },
    {
     "name": "stderr",
     "output_type": "stream",
     "text": [
      "C:\\Users\\asus\\AppData\\Local\\Programs\\Python\\Python312\\Lib\\site-packages\\pykoda\\data\\datautils.py:90: RuntimeWarning: The API did not return data for 2022-12-16 19:00:00\n",
      "  warnings.warn(RuntimeWarning(f'The API did not return data for {date_hour}'))\n",
      "C:\\Users\\asus\\AppData\\Local\\Programs\\Python\\Python312\\Lib\\site-packages\\pykoda\\data\\datautils.py:90: RuntimeWarning: The API did not return data for 2022-12-16 20:00:00\n",
      "  warnings.warn(RuntimeWarning(f'The API did not return data for {date_hour}'))\n",
      "Loading data:  99%|█████████████████████████████████████████████████████████████████▍| 357/360 [29:45<00:02,  1.40it/s]C:\\Users\\asus\\AppData\\Local\\Programs\\Python\\Python312\\Lib\\site-packages\\pykoda\\data\\datautils.py:90: RuntimeWarning: The API did not return data for 2022-12-16 21:00:00\n",
      "  warnings.warn(RuntimeWarning(f'The API did not return data for {date_hour}'))\n",
      "C:\\Users\\asus\\AppData\\Local\\Programs\\Python\\Python312\\Lib\\site-packages\\pykoda\\data\\datautils.py:90: RuntimeWarning: The API did not return data for 2022-12-16 22:00:00\n",
      "  warnings.warn(RuntimeWarning(f'The API did not return data for {date_hour}'))\n",
      "Loading data: 100%|█████████████████████████████████████████████████████████████████▊| 359/360 [29:45<00:00,  1.92it/s]"
     ]
    },
    {
     "name": "stdout",
     "output_type": "stream",
     "text": [
      "Getting C:/Users/asus/AppData/Local/pykoda/pykoda/cache/sl_TripUpdates_2022_12_16_20.feather\n",
      "File or folder already exists, so skipping task: data (datafolder)\n",
      "File or folder already exists, so skipping task: C:/Users/asus/AppData/Local/pykoda/pykoda/cache/sl-tripupdates-2022-12-16.bz2 (file)\n",
      "System tool failed: Command '['7z', 'e', '-oC:/Users/asus/AppData/Local/pykoda/pykoda/cache/sl-tripupdates-2022-12-16', 'C:/Users/asus/AppData/Local/pykoda/pykoda/cache/sl-tripupdates-2022-12-16.bz2']' returned non-zero exit status 255.\n",
      "None\n",
      "Executing python function, producing output(s): C:/Users/asus/AppData/Local/pykoda/pykoda/cache/sl_TripUpdates_2022_12_16_20.feather.tmp\n",
      "Getting C:/Users/asus/AppData/Local/pykoda/pykoda/cache/sl_TripUpdates_2022_12_16_21.feather\n",
      "File or folder already exists, so skipping task: data (datafolder)\n",
      "File or folder already exists, so skipping task: C:/Users/asus/AppData/Local/pykoda/pykoda/cache/sl-tripupdates-2022-12-16.bz2 (file)\n",
      "System tool failed: Command '['7z', 'e', '-oC:/Users/asus/AppData/Local/pykoda/pykoda/cache/sl-tripupdates-2022-12-16', 'C:/Users/asus/AppData/Local/pykoda/pykoda/cache/sl-tripupdates-2022-12-16.bz2']' returned non-zero exit status 255.\n",
      "None\n",
      "Executing python function, producing output(s): C:/Users/asus/AppData/Local/pykoda/pykoda/cache/sl_TripUpdates_2022_12_16_21.feather.tmp\n",
      "Getting C:/Users/asus/AppData/Local/pykoda/pykoda/cache/sl_TripUpdates_2022_12_16_22.feather\n",
      "File or folder already exists, so skipping task: data (datafolder)\n",
      "File or folder already exists, so skipping task: C:/Users/asus/AppData/Local/pykoda/pykoda/cache/sl-tripupdates-2022-12-16.bz2 (file)\n",
      "System tool failed: Command '['7z', 'e', '-oC:/Users/asus/AppData/Local/pykoda/pykoda/cache/sl-tripupdates-2022-12-16', 'C:/Users/asus/AppData/Local/pykoda/pykoda/cache/sl-tripupdates-2022-12-16.bz2']' returned non-zero exit status 255.\n",
      "None\n",
      "Executing python function, producing output(s): C:/Users/asus/AppData/Local/pykoda/pykoda/cache/sl_TripUpdates_2022_12_16_22.feather.tmp\n"
     ]
    },
    {
     "name": "stderr",
     "output_type": "stream",
     "text": [
      "C:\\Users\\asus\\AppData\\Local\\Programs\\Python\\Python312\\Lib\\site-packages\\pykoda\\data\\datautils.py:90: RuntimeWarning: The API did not return data for 2022-12-16 23:00:00\n",
      "  warnings.warn(RuntimeWarning(f'The API did not return data for {date_hour}'))\n",
      "Loading data: 100%|██████████████████████████████████████████████████████████████████| 360/360 [29:45<00:00,  4.96s/it]\n"
     ]
    },
    {
     "name": "stdout",
     "output_type": "stream",
     "text": [
      "Getting C:/Users/asus/AppData/Local/pykoda/pykoda/cache/sl_TripUpdates_2022_12_16_23.feather\n",
      "File or folder already exists, so skipping task: data (datafolder)\n",
      "File or folder already exists, so skipping task: C:/Users/asus/AppData/Local/pykoda/pykoda/cache/sl-tripupdates-2022-12-16.bz2 (file)\n",
      "System tool failed: Command '['7z', 'e', '-oC:/Users/asus/AppData/Local/pykoda/pykoda/cache/sl-tripupdates-2022-12-16', 'C:/Users/asus/AppData/Local/pykoda/pykoda/cache/sl-tripupdates-2022-12-16.bz2']' returned non-zero exit status 255.\n",
      "None\n",
      "Executing python function, producing output(s): C:/Users/asus/AppData/Local/pykoda/pykoda/cache/sl_TripUpdates_2022_12_16_23.feather.tmp\n",
      "成功加载实时数据！\n",
      "                  id            trip_id start_date schedule_relationship  \\\n",
      "0  14010514477669955  14010000556727164   20221202             SCHEDULED   \n",
      "2  14010514476255669  14010000595668543   20221202             SCHEDULED   \n",
      "3  14010514538271681  14010000607261807   20221202             SCHEDULED   \n",
      "4  14010514466618061  14010000603268833   20221202             SCHEDULED   \n",
      "5  14010514567942996  14010000604634236   20221202             SCHEDULED   \n",
      "\n",
      "         vehicle_id   timestamp start_time route_id  direction_id  \\\n",
      "0  9031001004002277  1670021896       None     None           NaN   \n",
      "2  9031001004302576  1670021619       None     None           NaN   \n",
      "3  9031001000105786  1670021938       None     None           NaN   \n",
      "4  9031001002500049  1670021936       None     None           NaN   \n",
      "5  9031001001004813  1670021952       None     None           NaN   \n",
      "\n",
      "   stop_sequence           stop_id  \\\n",
      "0             21  9022001005191001   \n",
      "2             17  9022001006071004   \n",
      "3             40  9022001041437001   \n",
      "4             28  9022001001251001   \n",
      "5             27  9022001010369008   \n",
      "\n",
      "  tripUpdate_stopTimeUpdate_scheduleRelationship  arrival_delay arrival_time  \\\n",
      "0                                           None          -78.0   1670021322   \n",
      "2                                           None          -86.0   1670021314   \n",
      "3                                           None          145.0   1670021401   \n",
      "4                                           None            0.0   1670021370   \n",
      "5                                           None          642.0   1670021382   \n",
      "\n",
      "   arrival_uncertainty  departure_delay departure_time  departure_uncertainty  \\\n",
      "0                  0.0             13.0     1670021413                    0.0   \n",
      "2                  0.0              6.0     1670021406                    0.0   \n",
      "3                  0.0            145.0     1670021401                    0.0   \n",
      "4                  0.0             44.0     1670021414                    0.0   \n",
      "5                  0.0            657.0     1670021397                    0.0   \n",
      "\n",
      "             datetime  \n",
      "0 2022-12-02 22:58:16  \n",
      "2 2022-12-02 22:53:39  \n",
      "3 2022-12-02 22:58:58  \n",
      "4 2022-12-02 22:58:56  \n",
      "5 2022-12-02 22:59:12  \n",
      "成功加载实时数据，正在保存为 CSV 文件...\n",
      "数据已保存至 ./output_csv/sl_TripUpdates_2weeks_data.csv\n"
     ]
    },
    {
     "name": "stderr",
     "output_type": "stream",
     "text": [
      "C:\\Users\\asus\\AppData\\Local\\Temp\\ipykernel_25984\\1665804797.py:47: DtypeWarning: Columns (11) have mixed types. Specify dtype option on import or set low_memory=False.\n",
      "  data = pd.read_csv(file_path)\n"
     ]
    },
    {
     "name": "stdout",
     "output_type": "stream",
     "text": [
      "CSV 文件读取成功！\n"
     ]
    },
    {
     "data": {
      "text/html": [
       "<div>\n",
       "<style scoped>\n",
       "    .dataframe tbody tr th:only-of-type {\n",
       "        vertical-align: middle;\n",
       "    }\n",
       "\n",
       "    .dataframe tbody tr th {\n",
       "        vertical-align: top;\n",
       "    }\n",
       "\n",
       "    .dataframe thead th {\n",
       "        text-align: right;\n",
       "    }\n",
       "</style>\n",
       "<table border=\"1\" class=\"dataframe\">\n",
       "  <thead>\n",
       "    <tr style=\"text-align: right;\">\n",
       "      <th></th>\n",
       "      <th>id</th>\n",
       "      <th>trip_id</th>\n",
       "      <th>stop_sequence</th>\n",
       "      <th>stop_id</th>\n",
       "      <th>arrival_delay</th>\n",
       "      <th>arrival_time</th>\n",
       "      <th>departure_delay</th>\n",
       "      <th>departure_time</th>\n",
       "      <th>datetime</th>\n",
       "    </tr>\n",
       "  </thead>\n",
       "  <tbody>\n",
       "    <tr>\n",
       "      <th>0</th>\n",
       "      <td>14010514477669955</td>\n",
       "      <td>14010000556727164</td>\n",
       "      <td>21</td>\n",
       "      <td>9022001005191001</td>\n",
       "      <td>-78.0</td>\n",
       "      <td>2022-12-02 22:48:42</td>\n",
       "      <td>13.0</td>\n",
       "      <td>2022-12-02 22:50:13</td>\n",
       "      <td>2022-12-02 22:58:16</td>\n",
       "    </tr>\n",
       "    <tr>\n",
       "      <th>1</th>\n",
       "      <td>14010514476255669</td>\n",
       "      <td>14010000595668544</td>\n",
       "      <td>17</td>\n",
       "      <td>9022001006071004</td>\n",
       "      <td>-86.0</td>\n",
       "      <td>2022-12-02 22:48:34</td>\n",
       "      <td>6.0</td>\n",
       "      <td>2022-12-02 22:50:06</td>\n",
       "      <td>2022-12-02 22:53:39</td>\n",
       "    </tr>\n",
       "    <tr>\n",
       "      <th>2</th>\n",
       "      <td>14010514538271681</td>\n",
       "      <td>14010000607261808</td>\n",
       "      <td>40</td>\n",
       "      <td>9022001041437001</td>\n",
       "      <td>145.0</td>\n",
       "      <td>2022-12-02 22:50:01</td>\n",
       "      <td>145.0</td>\n",
       "      <td>2022-12-02 22:50:01</td>\n",
       "      <td>2022-12-02 22:58:58</td>\n",
       "    </tr>\n",
       "    <tr>\n",
       "      <th>3</th>\n",
       "      <td>14010514466618061</td>\n",
       "      <td>14010000603268832</td>\n",
       "      <td>28</td>\n",
       "      <td>9022001001251001</td>\n",
       "      <td>0.0</td>\n",
       "      <td>2022-12-02 22:49:30</td>\n",
       "      <td>44.0</td>\n",
       "      <td>2022-12-02 22:50:14</td>\n",
       "      <td>2022-12-02 22:58:56</td>\n",
       "    </tr>\n",
       "    <tr>\n",
       "      <th>4</th>\n",
       "      <td>14010514567942996</td>\n",
       "      <td>14010000604634236</td>\n",
       "      <td>27</td>\n",
       "      <td>9022001010369008</td>\n",
       "      <td>642.0</td>\n",
       "      <td>2022-12-02 22:49:42</td>\n",
       "      <td>657.0</td>\n",
       "      <td>2022-12-02 22:49:57</td>\n",
       "      <td>2022-12-02 22:59:12</td>\n",
       "    </tr>\n",
       "  </tbody>\n",
       "</table>\n",
       "</div>"
      ],
      "text/plain": [
       "                  id            trip_id  stop_sequence           stop_id  \\\n",
       "0  14010514477669955  14010000556727164             21  9022001005191001   \n",
       "1  14010514476255669  14010000595668544             17  9022001006071004   \n",
       "2  14010514538271681  14010000607261808             40  9022001041437001   \n",
       "3  14010514466618061  14010000603268832             28  9022001001251001   \n",
       "4  14010514567942996  14010000604634236             27  9022001010369008   \n",
       "\n",
       "   arrival_delay        arrival_time  departure_delay      departure_time  \\\n",
       "0          -78.0 2022-12-02 22:48:42             13.0 2022-12-02 22:50:13   \n",
       "1          -86.0 2022-12-02 22:48:34              6.0 2022-12-02 22:50:06   \n",
       "2          145.0 2022-12-02 22:50:01            145.0 2022-12-02 22:50:01   \n",
       "3            0.0 2022-12-02 22:49:30             44.0 2022-12-02 22:50:14   \n",
       "4          642.0 2022-12-02 22:49:42            657.0 2022-12-02 22:49:57   \n",
       "\n",
       "              datetime  \n",
       "0  2022-12-02 22:58:16  \n",
       "1  2022-12-02 22:53:39  \n",
       "2  2022-12-02 22:58:58  \n",
       "3  2022-12-02 22:58:56  \n",
       "4  2022-12-02 22:59:12  "
      ]
     },
     "execution_count": 3,
     "metadata": {},
     "output_type": "execute_result"
    }
   ],
   "source": [
    "# 加载实时数据\n",
    "realtime_data = pykoda.datautils.get_data_range(\n",
    "    feed=feed,\n",
    "    company=company,\n",
    "    start_date=start_date,\n",
    "    start_hour=start_hour,\n",
    "    end_date=end_date,\n",
    "    end_hour=end_hour,\n",
    "    merge_static=False  # 是否合并静态数据\n",
    ")\n",
    "\n",
    "# 检查和显示结果\n",
    "if not realtime_data.empty:\n",
    "    print(\"成功加载实时数据！\")\n",
    "    print(realtime_data.head())\n",
    "else:\n",
    "    print(\"实时数据加载失败或数据为空。\")\n",
    "\n",
    "import os\n",
    "\n",
    "# 定义输出目录和文件名\n",
    "output_dir = \"./output_csv\"\n",
    "output_file = os.path.join(output_dir, f\"{company}_{feed}_2weeks_data.csv\")\n",
    "output_file = output_file.replace(\"\\\\\", \"/\")\n",
    "\n",
    "# 创建输出目录（如果不存在）\n",
    "os.makedirs(output_dir, exist_ok=True)\n",
    "\n",
    "# 检查和保存实时数据到 CSV 文件\n",
    "if not realtime_data.empty:\n",
    "    print(\"成功加载实时数据，正在保存为 CSV 文件...\")\n",
    "    realtime_data.to_csv(output_file, index=False, encoding='utf-8')\n",
    "    print(f\"数据已保存至 {output_file}\")\n",
    "else:\n",
    "    print(\"实时数据加载失败或数据为空，未生成 CSV 文件。\")\n",
    "\n",
    "\n",
    "\n",
    "# 定义 CSV 文件路径\n",
    "file_path = output_file  # \"./output_csv/sl_TripUpdates_2022-12-05_data.csv\"\n",
    "\n",
    "# 初始化 data 变量\n",
    "data = None\n",
    "\n",
    "# 读取 CSV 文件\n",
    "try:\n",
    "    data = pd.read_csv(file_path)\n",
    "    print(\"CSV 文件读取成功！\")\n",
    "except FileNotFoundError:\n",
    "    print(f\"文件未找到：{file_path}\")\n",
    "except Exception as e:\n",
    "    print(f\"读取 CSV 文件时出错: {e}\")\n",
    "\n",
    "\n",
    "\n",
    "# 检查是否有时间戳列需要转换\n",
    "if \"timestamp\" in data.columns:\n",
    "    data['timestamp'] = pd.to_datetime(data['timestamp'], unit='s')\n",
    "if 'arrival_time' in data.columns:\n",
    "    data['arrival_time'] = pd.to_datetime(data['arrival_time'], unit='s')\n",
    "if 'departure_time' in data.columns:\n",
    "    data['departure_time'] = pd.to_datetime(data['departure_time'], unit='s')\n",
    "if 'vehicle_id' in data.columns:\n",
    "    data['vehicle_id'] = data['vehicle_id'].astype(str)\n",
    "\n",
    "# 将 trip_id 转换为字符串格式\n",
    "if 'trip_id' in data.columns:\n",
    "    data['trip_id'] = data['trip_id'].apply(lambda x: str(int(float(x))) if pd.notna(x) else None)\n",
    "\n",
    "# 删除不需要的列\n",
    "columns_to_remove = [\n",
    "    'start_time', 'schedule_relationship','route_id','direction_id',\n",
    "    'arrival_uncertainty', 'departure_uncertainty', 'tripUpdate_stopTimeUpdate_scheduleRelationship','start_date','timestamp',\n",
    "    'vehicle_id'\n",
    "]\n",
    "cleaned_data = data.drop(columns=columns_to_remove)\n",
    "cleaned_data.to_csv(file_path, index=False)\n",
    "cleaned_data.head()"
   ]
  },
  {
   "cell_type": "code",
   "execution_count": 4,
   "id": "698f7afa",
   "metadata": {
    "scrolled": true
   },
   "outputs": [
    {
     "name": "stderr",
     "output_type": "stream",
     "text": [
      "C:\\Users\\asus\\AppData\\Local\\Programs\\Python\\Python312\\Lib\\site-packages\\pykoda\\data\\datautils.py:187: FutureWarning: The argument 'date_parser' is deprecated and will be removed in a future version. Please use 'date_format' instead, or read your data in as 'object' dtype and then call 'to_datetime'.\n",
      "  stops_times = pd.read_csv(os.path.join(output_folder, 'stop_times.txt'), dtype={'trip_id': 'str', 'stop_id': 'str'},\n"
     ]
    }
   ],
   "source": [
    "# 因为这玩意（stop_id和stop经纬度）不随时间变化\n",
    "static_data = pykoda.datautils.load_static_data(\n",
    "    company = company,\n",
    "    date = start_date,\n",
    "    remove_unused_stations = True)"
   ]
  },
  {
   "cell_type": "code",
   "execution_count": 5,
   "id": "8a7fd943",
   "metadata": {},
   "outputs": [
    {
     "name": "stdout",
     "output_type": "stream",
     "text": [
      "Index(['stop_id', 'stop_name', 'stop_lat', 'stop_lon', 'location_type',\n",
      "       'parent_station', 'platform_code'],\n",
      "      dtype='object')\n",
      "            stop_id  stop_name   stop_lat   stop_lon  group_id\n",
      "0  9021001000101000   Stavsnäs  59.286405  18.704700         0\n",
      "1  9021001000102000   Styrsvik  59.280184  18.731426         1\n",
      "2  9021001000103000  Nämdöböte  59.208731  18.740060         2\n",
      "3  9021001000104000       Aspö  59.215843  18.753410         3\n",
      "4  9021001000105000    Idöborg  59.204309  18.757769         4\n",
      "Index(['stop_id', 'stop_name', 'stop_lat', 'stop_lon', 'group_id'], dtype='object')\n"
     ]
    },
    {
     "name": "stderr",
     "output_type": "stream",
     "text": [
      "C:\\Users\\asus\\AppData\\Local\\Temp\\ipykernel_25984\\1550102468.py:16: SettingWithCopyWarning: \n",
      "A value is trying to be set on a copy of a slice from a DataFrame.\n",
      "Try using .loc[row_indexer,col_indexer] = value instead\n",
      "\n",
      "See the caveats in the documentation: https://pandas.pydata.org/pandas-docs/stable/user_guide/indexing.html#returning-a-view-versus-a-copy\n",
      "  stops_data['group_id'] = db.labels_\n"
     ]
    }
   ],
   "source": [
    "from sklearn.cluster import DBSCAN\n",
    "\"\"\"下载\"\"\"\n",
    "# static_data.stops\n",
    "stops_data = static_data.stops\n",
    "stops_data.reset_index(inplace=True)\n",
    "print(stops_data.columns)\n",
    "\n",
    "# 提取 stop_id, stop_lat, stop_lon\n",
    "stops_data = stops_data[['stop_id', 'stop_name', 'stop_lat', 'stop_lon']]\n",
    "\n",
    "# 使用 DBSCAN 聚类算法按经纬度分组\n",
    "coords = stops_data[['stop_lat', 'stop_lon']].values\n",
    "db = DBSCAN(eps=0.01, min_samples=1, metric='euclidean').fit(coords)\n",
    "\n",
    "# 将分组标签添加到 stops_data\n",
    "stops_data['group_id'] = db.labels_\n",
    "\n",
    "# 查看分组结果\n",
    "print(stops_data.head())\n",
    "print(stops_data.columns)"
   ]
  },
  {
   "cell_type": "code",
   "execution_count": 6,
   "id": "f7933e2d-82c4-47db-aef0-6fe1770f5a3d",
   "metadata": {},
   "outputs": [
    {
     "name": "stdout",
     "output_type": "stream",
     "text": [
      "数据共有 18806 行\n",
      "一共有 861 个 group_id\n"
     ]
    }
   ],
   "source": [
    "# 查看数据行数\n",
    "num_rows = stops_data.shape[0]\n",
    "\n",
    "# 打印结果\n",
    "print(f\"数据共有 {num_rows} 行\")\n",
    "\n",
    "group_count = stops_data['group_id'].nunique()\n",
    "print(f\"一共有 {group_count} 个 group_id\")"
   ]
  },
  {
   "cell_type": "code",
   "execution_count": 7,
   "id": "0b4a9c04-cc99-4cbd-a3e9-33d52a43f8f0",
   "metadata": {},
   "outputs": [
    {
     "name": "stderr",
     "output_type": "stream",
     "text": [
      "C:\\Users\\asus\\AppData\\Local\\Temp\\ipykernel_25984\\3975352137.py:41: FutureWarning: The behavior of DataFrame concatenation with empty or all-NA entries is deprecated. In a future version, this will no longer exclude empty or all-NA columns when determining the result dtypes. To retain the old behavior, exclude the relevant entries before the concat operation.\n",
      "  group_weather_data = pd.concat(group_weather_data, ignore_index=True)\n"
     ]
    },
    {
     "name": "stdout",
     "output_type": "stream",
     "text": [
      "            stop_id stop_name   stop_lat  stop_lon  group_id  \\\n",
      "0  9021001000101000  Stavsnäs  59.286405   18.7047         0   \n",
      "1  9021001000101000  Stavsnäs  59.286405   18.7047         0   \n",
      "2  9021001000101000  Stavsnäs  59.286405   18.7047         0   \n",
      "3  9021001000101000  Stavsnäs  59.286405   18.7047         0   \n",
      "4  9021001000101000  Stavsnäs  59.286405   18.7047         0   \n",
      "\n",
      "           datetime  temperature  precipitation  snowfall  snow_depth  \\\n",
      "0  2022-12-02T00:00          3.2            0.0       0.0         0.0   \n",
      "1  2022-12-02T01:00          3.3            0.1       0.0         0.0   \n",
      "2  2022-12-02T02:00          3.2            0.2       0.0         0.0   \n",
      "3  2022-12-02T03:00          3.1            0.2       0.0         0.0   \n",
      "4  2022-12-02T04:00          3.2            0.2       0.0         0.0   \n",
      "\n",
      "   wind_speed  cloud_cover  \n",
      "0        18.8          100  \n",
      "1        19.7          100  \n",
      "2        21.1          100  \n",
      "3        21.3          100  \n",
      "4        20.9          100  \n"
     ]
    }
   ],
   "source": [
    "import requests\n",
    "\n",
    "# 定义函数，获取天气数据\n",
    "def get_historical_weather(lat, lon, start_date, end_date):\n",
    "    variables = \"temperature_2m,precipitation,snowfall,snow_depth,wind_speed_10m,cloud_cover_low\"\n",
    "    url = f\"https://archive-api.open-meteo.com/v1/era5?latitude={lat}&longitude={lon}&start_date={start_date}&end_date={end_date}&hourly={variables}\"\n",
    "    response = requests.get(url)\n",
    "    if response.status_code == 200:\n",
    "        data = response.json()\n",
    "        return pd.DataFrame({\n",
    "            'datetime': data['hourly']['time'],\n",
    "            'temperature': data['hourly']['temperature_2m'],\n",
    "            'precipitation': data['hourly']['precipitation'],\n",
    "            'snowfall': data['hourly']['snowfall'],\n",
    "            'snow_depth': data['hourly']['snow_depth'],\n",
    "            'wind_speed': data['hourly']['wind_speed_10m'],\n",
    "            'cloud_cover': data['hourly']['cloud_cover_low'],\n",
    "        })\n",
    "    else:\n",
    "        print(f\"Error fetching weather data for {lat}, {lon}: {response.status_code}\")\n",
    "        return pd.DataFrame()\n",
    "\n",
    "# 查询日期\n",
    "#query_date = date\n",
    "\n",
    "# 查询每个分组的天气\n",
    "group_weather_data = []\n",
    "group_centers = stops_data.groupby('group_id')[['stop_lat', 'stop_lon']].mean().reset_index()\n",
    "\n",
    "\n",
    "for _, row in group_centers.iterrows():\n",
    "    group_id = row['group_id']\n",
    "    lat = row['stop_lat']\n",
    "    lon = row['stop_lon']\n",
    "    #print(f\"Fetching weather data for group_id={group_id}...\")\n",
    "    weather = get_historical_weather(lat, lon, start_date, end_date)\n",
    "    weather['group_id'] = group_id  # 添加 group_id 到结果中\n",
    "    group_weather_data.append(weather)\n",
    "\n",
    "# 合并所有分组的天气数据\n",
    "group_weather_data = pd.concat(group_weather_data, ignore_index=True)\n",
    "\n",
    "\n",
    "\n",
    "# 合并天气数据到 stops_data\n",
    "stops_weather = stops_data.merge(group_weather_data, on='group_id', how='left')\n",
    "\n",
    "# 保存结果\n",
    "stops_weather.to_csv(\"stops_weather_data_grouped.csv\", index=False)\n",
    "\n",
    "# 显示结果\n",
    "print(stops_weather.head())"
   ]
  },
  {
   "cell_type": "code",
   "execution_count": 8,
   "id": "72e46092-38cb-4aad-9705-eed2e04458e7",
   "metadata": {
    "scrolled": true
   },
   "outputs": [
    {
     "name": "stdout",
     "output_type": "stream",
     "text": [
      "<bound method NDFrame.head of                        id       trip_id  stop_sequence           stop_id  \\\n",
      "0       14010514477669955  1.401000e+16             21  9022001005191001   \n",
      "1       14010514476255669  1.401000e+16             17  9022001006071004   \n",
      "2       14010514538271681  1.401000e+16             40  9022001041437001   \n",
      "3       14010514466618061  1.401000e+16             28  9022001001251001   \n",
      "4       14010514567942996  1.401000e+16             27  9022001010369008   \n",
      "...                   ...           ...            ...               ...   \n",
      "232741  14010514918361963  1.401000e+16             19  9022001075368001   \n",
      "232742  14010514918361963  1.401000e+16             20  9022001075366001   \n",
      "232743  14010514918361963  1.401000e+16             21  9022001075249001   \n",
      "232744  14010514918361963  1.401000e+16             22  9022001075741002   \n",
      "232745  14010514918361963  1.401000e+16             23  9022001075743002   \n",
      "\n",
      "        arrival_delay         arrival_time  departure_delay  \\\n",
      "0               -78.0  2022-12-02 22:48:42             13.0   \n",
      "1               -86.0  2022-12-02 22:48:34              6.0   \n",
      "2               145.0  2022-12-02 22:50:01            145.0   \n",
      "3                 0.0  2022-12-02 22:49:30             44.0   \n",
      "4               642.0  2022-12-02 22:49:42            657.0   \n",
      "...               ...                  ...              ...   \n",
      "232741            0.0  2022-12-16 00:37:06              0.0   \n",
      "232742            0.0  2022-12-16 00:37:32              0.0   \n",
      "232743            0.0  2022-12-16 00:39:00              0.0   \n",
      "232744            0.0  2022-12-16 00:41:05              0.0   \n",
      "232745            0.0  2022-12-16 00:44:00              0.0   \n",
      "\n",
      "             departure_time          datetime_x      date_hour  \\\n",
      "0       2022-12-02 22:50:13 2022-12-02 22:58:16  2022-12-02 22   \n",
      "1       2022-12-02 22:50:06 2022-12-02 22:53:39  2022-12-02 22   \n",
      "2       2022-12-02 22:50:01 2022-12-02 22:58:58  2022-12-02 22   \n",
      "3       2022-12-02 22:50:14 2022-12-02 22:58:56  2022-12-02 22   \n",
      "4       2022-12-02 22:49:57 2022-12-02 22:59:12  2022-12-02 22   \n",
      "...                     ...                 ...            ...   \n",
      "232741  2022-12-16 00:37:06 2022-12-15 23:29:08  2022-12-15 23   \n",
      "232742  2022-12-16 00:37:32 2022-12-15 23:29:08  2022-12-15 23   \n",
      "232743  2022-12-16 00:39:00 2022-12-15 23:29:08  2022-12-15 23   \n",
      "232744  2022-12-16 00:41:05 2022-12-15 23:29:08  2022-12-15 23   \n",
      "232745  2022-12-16 00:44:00 2022-12-15 23:29:08  2022-12-15 23   \n",
      "\n",
      "               stop_name   stop_lat   stop_lon  group_id  temperature  \\\n",
      "0                  Tumba  59.199676  17.836424      90.0         -0.1   \n",
      "1               Kallhäll  59.452625  17.806729      90.0         -0.1   \n",
      "2            Djurö skola  59.310970  18.697475     267.0          1.0   \n",
      "3              Ängbyplan  59.341956  17.907087      90.0         -0.1   \n",
      "4           Fridhemsplan  59.332163  18.029220      90.0         -0.1   \n",
      "...                  ...        ...        ...       ...          ...   \n",
      "232741    Vandringsvägen  59.172104  17.437934     727.0        -14.5   \n",
      "232742         Björkesta  59.175089  17.436849     727.0        -14.5   \n",
      "232743  Nykvarns station  59.178964  17.431359     727.0        -14.5   \n",
      "232744       Eldarevägen  59.182308  17.421743     727.0        -14.5   \n",
      "232745          Bärvägen  59.184947  17.411443     727.0        -14.5   \n",
      "\n",
      "        precipitation  snowfall  snow_depth  wind_speed  cloud_cover  \n",
      "0                 0.0       0.0        0.01        11.5        100.0  \n",
      "1                 0.0       0.0        0.01        11.5        100.0  \n",
      "2                 0.0       0.0        0.00        18.9         98.0  \n",
      "3                 0.0       0.0        0.01        11.5        100.0  \n",
      "4                 0.0       0.0        0.01        11.5        100.0  \n",
      "...               ...       ...         ...         ...          ...  \n",
      "232741            0.0       0.0        0.08         6.6          1.0  \n",
      "232742            0.0       0.0        0.08         6.6          1.0  \n",
      "232743            0.0       0.0        0.08         6.6          1.0  \n",
      "232744            0.0       0.0        0.08         6.6          1.0  \n",
      "232745            0.0       0.0        0.08         6.6          1.0  \n",
      "\n",
      "[232746 rows x 20 columns]>\n"
     ]
    }
   ],
   "source": [
    "file1 = pd.read_csv(\"./output_csv/sl_TripUpdates_2weeks_data.csv\")  # 包含图1内容\n",
    "file2 = pd.read_csv(\"./stops_weather_data_grouped.csv\")  # 包含图2内容\n",
    "\n",
    "file1['datetime'] = pd.to_datetime(file1['datetime'])\n",
    "file2['datetime'] = pd.to_datetime(file2['datetime'])\n",
    "# 提取小时信息\n",
    "file1['date_hour'] = file1['datetime'].dt.strftime('%Y-%m-%d %H')  # 提取年月日和小时\n",
    "file2['date_hour'] = file2['datetime'].dt.strftime('%Y-%m-%d %H')  # 提取年月日和小时\n",
    "\n",
    "# 根据 stop_id 和 hour 进行匹配并合并\n",
    "merged = pd.merge(file1, file2, on=['stop_id', 'date_hour'], how='left')\n",
    "\n",
    "# 去除文件2的时间戳列\n",
    "merged.drop(columns=['datetime_y'], inplace=True)\n",
    "print(merged.head)\n",
    "# 保存结果\n",
    "merged.to_csv(\"merged_output.csv\", index=False)"
   ]
  },
  {
   "cell_type": "code",
   "execution_count": 9,
   "id": "45936dee-19ed-4a75-926a-2bd0042d3c26",
   "metadata": {},
   "outputs": [
    {
     "name": "stdout",
     "output_type": "stream",
     "text": [
      "该列有 2987 种唯一值\n"
     ]
    }
   ],
   "source": [
    "unique_count = merged[\"trip_id\"].nunique()\n",
    "print(f\"该列有 {unique_count} 种唯一值\")"
   ]
  },
  {
   "cell_type": "markdown",
   "id": "b0563208-85a5-40b3-a3c7-d3d2a1c40956",
   "metadata": {},
   "source": [
    "data_path = \"./merged_output.csv\"  # 替换为实际文件路径\n",
    "data = pd.read_csv(data_path)"
   ]
  },
  {
   "cell_type": "code",
   "execution_count": 10,
   "id": "1e2e1772-5681-4631-9e0c-a1dd12e67fc8",
   "metadata": {},
   "outputs": [],
   "source": [
    "data_path = \"./merged_output.csv\"  # 替换为实际文件路径\n",
    "data = pd.read_csv(data_path)"
   ]
  },
  {
   "cell_type": "code",
   "execution_count": 11,
   "id": "431e1acc-f30d-4820-a587-27adfe630edd",
   "metadata": {},
   "outputs": [
    {
     "name": "stdout",
     "output_type": "stream",
     "text": [
      "该列有 2987 种唯一值\n"
     ]
    }
   ],
   "source": [
    "unique_count = data[\"trip_id\"].nunique()\n",
    "print(f\"该列有 {unique_count} 种唯一值\")"
   ]
  },
  {
   "cell_type": "code",
   "execution_count": 12,
   "id": "1630479b-d41c-42c3-9ab8-180abbe14dba",
   "metadata": {},
   "outputs": [
    {
     "data": {
      "text/html": [
       "<div>\n",
       "<style scoped>\n",
       "    .dataframe tbody tr th:only-of-type {\n",
       "        vertical-align: middle;\n",
       "    }\n",
       "\n",
       "    .dataframe tbody tr th {\n",
       "        vertical-align: top;\n",
       "    }\n",
       "\n",
       "    .dataframe thead th {\n",
       "        text-align: right;\n",
       "    }\n",
       "</style>\n",
       "<table border=\"1\" class=\"dataframe\">\n",
       "  <thead>\n",
       "    <tr style=\"text-align: right;\">\n",
       "      <th></th>\n",
       "      <th>id</th>\n",
       "      <th>trip_id</th>\n",
       "      <th>stop_sequence</th>\n",
       "      <th>stop_id</th>\n",
       "      <th>arrival_delay</th>\n",
       "      <th>arrival_time</th>\n",
       "      <th>departure_delay</th>\n",
       "      <th>departure_time</th>\n",
       "      <th>datetime_x</th>\n",
       "      <th>date_hour</th>\n",
       "      <th>stop_name</th>\n",
       "      <th>stop_lat</th>\n",
       "      <th>stop_lon</th>\n",
       "      <th>group_id</th>\n",
       "      <th>temperature</th>\n",
       "      <th>precipitation</th>\n",
       "      <th>snowfall</th>\n",
       "      <th>snow_depth</th>\n",
       "      <th>wind_speed</th>\n",
       "      <th>cloud_cover</th>\n",
       "    </tr>\n",
       "  </thead>\n",
       "  <tbody>\n",
       "    <tr>\n",
       "      <th>0</th>\n",
       "      <td>14010514477669955</td>\n",
       "      <td>1.401000e+16</td>\n",
       "      <td>21</td>\n",
       "      <td>9022001005191001</td>\n",
       "      <td>-78.0</td>\n",
       "      <td>2022-12-02 22:48:42</td>\n",
       "      <td>13.0</td>\n",
       "      <td>2022-12-02 22:50:13</td>\n",
       "      <td>2022-12-02 22:58:16</td>\n",
       "      <td>2022-12-02 22</td>\n",
       "      <td>Tumba</td>\n",
       "      <td>59.199676</td>\n",
       "      <td>17.836424</td>\n",
       "      <td>90.0</td>\n",
       "      <td>-0.1</td>\n",
       "      <td>0.0</td>\n",
       "      <td>0.0</td>\n",
       "      <td>0.01</td>\n",
       "      <td>11.5</td>\n",
       "      <td>100.0</td>\n",
       "    </tr>\n",
       "    <tr>\n",
       "      <th>1</th>\n",
       "      <td>14010514476255669</td>\n",
       "      <td>1.401000e+16</td>\n",
       "      <td>17</td>\n",
       "      <td>9022001006071004</td>\n",
       "      <td>-86.0</td>\n",
       "      <td>2022-12-02 22:48:34</td>\n",
       "      <td>6.0</td>\n",
       "      <td>2022-12-02 22:50:06</td>\n",
       "      <td>2022-12-02 22:53:39</td>\n",
       "      <td>2022-12-02 22</td>\n",
       "      <td>Kallhäll</td>\n",
       "      <td>59.452625</td>\n",
       "      <td>17.806729</td>\n",
       "      <td>90.0</td>\n",
       "      <td>-0.1</td>\n",
       "      <td>0.0</td>\n",
       "      <td>0.0</td>\n",
       "      <td>0.01</td>\n",
       "      <td>11.5</td>\n",
       "      <td>100.0</td>\n",
       "    </tr>\n",
       "    <tr>\n",
       "      <th>2</th>\n",
       "      <td>14010514538271681</td>\n",
       "      <td>1.401000e+16</td>\n",
       "      <td>40</td>\n",
       "      <td>9022001041437001</td>\n",
       "      <td>145.0</td>\n",
       "      <td>2022-12-02 22:50:01</td>\n",
       "      <td>145.0</td>\n",
       "      <td>2022-12-02 22:50:01</td>\n",
       "      <td>2022-12-02 22:58:58</td>\n",
       "      <td>2022-12-02 22</td>\n",
       "      <td>Djurö skola</td>\n",
       "      <td>59.310970</td>\n",
       "      <td>18.697475</td>\n",
       "      <td>267.0</td>\n",
       "      <td>1.0</td>\n",
       "      <td>0.0</td>\n",
       "      <td>0.0</td>\n",
       "      <td>0.00</td>\n",
       "      <td>18.9</td>\n",
       "      <td>98.0</td>\n",
       "    </tr>\n",
       "    <tr>\n",
       "      <th>3</th>\n",
       "      <td>14010514466618061</td>\n",
       "      <td>1.401000e+16</td>\n",
       "      <td>28</td>\n",
       "      <td>9022001001251001</td>\n",
       "      <td>0.0</td>\n",
       "      <td>2022-12-02 22:49:30</td>\n",
       "      <td>44.0</td>\n",
       "      <td>2022-12-02 22:50:14</td>\n",
       "      <td>2022-12-02 22:58:56</td>\n",
       "      <td>2022-12-02 22</td>\n",
       "      <td>Ängbyplan</td>\n",
       "      <td>59.341956</td>\n",
       "      <td>17.907087</td>\n",
       "      <td>90.0</td>\n",
       "      <td>-0.1</td>\n",
       "      <td>0.0</td>\n",
       "      <td>0.0</td>\n",
       "      <td>0.01</td>\n",
       "      <td>11.5</td>\n",
       "      <td>100.0</td>\n",
       "    </tr>\n",
       "    <tr>\n",
       "      <th>4</th>\n",
       "      <td>14010514567942996</td>\n",
       "      <td>1.401000e+16</td>\n",
       "      <td>27</td>\n",
       "      <td>9022001010369008</td>\n",
       "      <td>642.0</td>\n",
       "      <td>2022-12-02 22:49:42</td>\n",
       "      <td>657.0</td>\n",
       "      <td>2022-12-02 22:49:57</td>\n",
       "      <td>2022-12-02 22:59:12</td>\n",
       "      <td>2022-12-02 22</td>\n",
       "      <td>Fridhemsplan</td>\n",
       "      <td>59.332163</td>\n",
       "      <td>18.029220</td>\n",
       "      <td>90.0</td>\n",
       "      <td>-0.1</td>\n",
       "      <td>0.0</td>\n",
       "      <td>0.0</td>\n",
       "      <td>0.01</td>\n",
       "      <td>11.5</td>\n",
       "      <td>100.0</td>\n",
       "    </tr>\n",
       "  </tbody>\n",
       "</table>\n",
       "</div>"
      ],
      "text/plain": [
       "                  id       trip_id  stop_sequence           stop_id  \\\n",
       "0  14010514477669955  1.401000e+16             21  9022001005191001   \n",
       "1  14010514476255669  1.401000e+16             17  9022001006071004   \n",
       "2  14010514538271681  1.401000e+16             40  9022001041437001   \n",
       "3  14010514466618061  1.401000e+16             28  9022001001251001   \n",
       "4  14010514567942996  1.401000e+16             27  9022001010369008   \n",
       "\n",
       "   arrival_delay         arrival_time  departure_delay       departure_time  \\\n",
       "0          -78.0  2022-12-02 22:48:42             13.0  2022-12-02 22:50:13   \n",
       "1          -86.0  2022-12-02 22:48:34              6.0  2022-12-02 22:50:06   \n",
       "2          145.0  2022-12-02 22:50:01            145.0  2022-12-02 22:50:01   \n",
       "3            0.0  2022-12-02 22:49:30             44.0  2022-12-02 22:50:14   \n",
       "4          642.0  2022-12-02 22:49:42            657.0  2022-12-02 22:49:57   \n",
       "\n",
       "            datetime_x      date_hour     stop_name   stop_lat   stop_lon  \\\n",
       "0  2022-12-02 22:58:16  2022-12-02 22         Tumba  59.199676  17.836424   \n",
       "1  2022-12-02 22:53:39  2022-12-02 22      Kallhäll  59.452625  17.806729   \n",
       "2  2022-12-02 22:58:58  2022-12-02 22   Djurö skola  59.310970  18.697475   \n",
       "3  2022-12-02 22:58:56  2022-12-02 22     Ängbyplan  59.341956  17.907087   \n",
       "4  2022-12-02 22:59:12  2022-12-02 22  Fridhemsplan  59.332163  18.029220   \n",
       "\n",
       "   group_id  temperature  precipitation  snowfall  snow_depth  wind_speed  \\\n",
       "0      90.0         -0.1            0.0       0.0        0.01        11.5   \n",
       "1      90.0         -0.1            0.0       0.0        0.01        11.5   \n",
       "2     267.0          1.0            0.0       0.0        0.00        18.9   \n",
       "3      90.0         -0.1            0.0       0.0        0.01        11.5   \n",
       "4      90.0         -0.1            0.0       0.0        0.01        11.5   \n",
       "\n",
       "   cloud_cover  \n",
       "0        100.0  \n",
       "1        100.0  \n",
       "2         98.0  \n",
       "3        100.0  \n",
       "4        100.0  "
      ]
     },
     "execution_count": 12,
     "metadata": {},
     "output_type": "execute_result"
    }
   ],
   "source": [
    "data.head()"
   ]
  }
 ],
 "metadata": {
  "kernelspec": {
   "display_name": "Python 3 (ipykernel)",
   "language": "python",
   "name": "python3"
  },
  "language_info": {
   "codemirror_mode": {
    "name": "ipython",
    "version": 3
   },
   "file_extension": ".py",
   "mimetype": "text/x-python",
   "name": "python",
   "nbconvert_exporter": "python",
   "pygments_lexer": "ipython3",
   "version": "3.12.1"
  }
 },
 "nbformat": 4,
 "nbformat_minor": 5
}
